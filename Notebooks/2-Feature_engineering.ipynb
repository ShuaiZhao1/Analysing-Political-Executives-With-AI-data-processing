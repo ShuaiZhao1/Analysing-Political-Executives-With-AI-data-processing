{
 "cells": [
  {
   "attachments": {},
   "cell_type": "markdown",
   "metadata": {},
   "source": [
    "## Feature engineering, Feature creation and feature storage\n",
    "\n",
    "- Date normalization\n"
   ]
  },
  {
   "cell_type": "code",
   "execution_count": 2,
   "metadata": {},
   "outputs": [],
   "source": [
    "import numpy as np\n",
    "import pandas as pd\n",
    "import matplotlib.pyplot as plt\n",
    "import seaborn as sns\n",
    "\n",
    "# Alternative to set svg for newer versions\n",
    "%matplotlib inline\n",
    "\n",
    "\n",
    "# Showing all the details of results\n",
    "from IPython.core.interactiveshell import InteractiveShell\n",
    "InteractiveShell.ast_node_interactivity = \"all\""
   ]
  },
  {
   "cell_type": "code",
   "execution_count": 3,
   "metadata": {},
   "outputs": [
    {
     "data": {
      "text/plain": [
       "(1445, 23)"
      ]
     },
     "execution_count": 3,
     "metadata": {},
     "output_type": "execute_result"
    }
   ],
   "source": [
    "# for shap value display feature engineering will be less.\n",
    "\n",
    "data_all = pd.read_csv('./../Data/data_AutoGluon.csv')\n",
    "\n",
    "# entry, regular 1...\n",
    "data_all['entry'] = data_all['entry'].replace({'Regular': 1,'Irregular': 2, 'Foreign Imposition': 3})\n",
    "data_all['entry']=data_all['entry'].astype(float, errors='raise')\n",
    "\n",
    "# exit, regular 1...\n",
    "data_all['exit'] = data_all['exit'].replace({'Regular': 1, 'Irregular': 2, 'Foreign': 3,'Natural Death': 4, \n",
    "                                    'Retired Due to Ill Health': 5, 'Suicide': 6, 'Still in Office': 7}) \n",
    "                                    \n",
    "data_all['exit']=data_all['exit'].astype(float, errors='raise')\n",
    "\n",
    "# exitcode, regular 1...\n",
    "data_all['exitcode'] = data_all['exitcode'].replace({'Assassination by Unsupported Individual': 1,'Irregular, Other': 2,\n",
    "                                             'Popular Protest, with Foreign Support': 3, \n",
    "                                             'Popular Protest, without Foreign Support': 4,\n",
    "                                             'Regular': 5, 'Removed by Military, with Foreign Support': 6,\n",
    "                                             'Removed by Military, without Foreign Support': 7, \n",
    "                                             'Removed by Other Government Actors, with Foreign Support': 8,\n",
    "                                             'Removed by Other Government Actors, without Foreign Support': 9,\n",
    "                                             'Removed by Rebels, with Foreign Support': 10,\n",
    "                                             'Removed by Rebels, without Foreign Support': 11,\n",
    "                                             'Removed in Military Power Struggle Short of Coup': 12,\n",
    "                                             'Removed through Threat of Foreign Force': 13, 'Unknown': 14,\n",
    "                                             'Still in Office': 15}) \n",
    "data_all['exitcode']=data_all['exitcode'].astype(float, errors='raise')\n",
    "\n",
    "# posttenurefate\n",
    "data_all['posttenurefate'] = data_all['posttenurefate'].replace({'Death': 1, 'Exile': 2, 'Imprisonment': 3, \n",
    "                                     'Missing: Natural Death within Six Months of Losing Office': 4, \n",
    "                                     'Missing: No Information Found': 5, 'OK': 6, 'Suicide': 7, \n",
    "                                     'Leader Still in Office': 8, 'Missing: Left Office after*': 9}, regex=True) \n",
    "data_all['posttenurefate']=data_all['posttenurefate'].astype(float, errors='raise')\n",
    "\n",
    "data_all.dropna(subset = ['growth_rate'], inplace=True)\n",
    "data_all.shape\n",
    "\n",
    "# delete unused data\n",
    "del data_all['end_gdppc']\n",
    "del data_all['country']"
   ]
  },
  {
   "cell_type": "code",
   "execution_count": 2,
   "metadata": {},
   "outputs": [],
   "source": [
    "data_all = pd.read_csv('./../Data/data_AutoGluon.csv')\n",
    "\n",
    "# ccode int\n",
    "min, max = data_all['ccode'].min(), data_all['ccode'].max()\n",
    "data_all['ccode'] = (data_all['ccode']-min)/(max-min)\n",
    "\n",
    "# entry, regular 1...\n",
    "data_all['entry'] = data_all['entry'].replace({'Regular': 1,'Irregular': 2, 'Foreign Imposition': 3})\n",
    "data_all['entry']=data_all['entry'].astype(float, errors='raise')\n",
    "min, max = data_all['entry'].min(), data_all['entry'].max()\n",
    "data_all['entry']= (data_all['entry']-min)/(max-min)\n",
    "\n",
    "# exit, regular 1...\n",
    "data_all['exit'] = data_all['exit'].replace({'Regular': 1, 'Irregular': 2, 'Foreign': 3,'Natural Death': 4, \n",
    "                                    'Retired Due to Ill Health': 5, 'Suicide': 6, 'Still in Office': 7}) \n",
    "                                    \n",
    "data_all['exit']=data_all['exit'].astype(float, errors='raise')\n",
    "min, max = data_all['exit'].min(), data_all['exit'].max()\n",
    "data_all['exit']= (data_all['exit']-min)/(max-min)\n",
    "\n",
    "# exitcode, regular 1...\n",
    "data_all['exitcode'] = data_all['exitcode'].replace({'Assassination by Unsupported Individual': 1,'Irregular, Other': 2,\n",
    "                                             'Popular Protest, with Foreign Support': 3, \n",
    "                                             'Popular Protest, without Foreign Support': 4,\n",
    "                                             'Regular': 5, 'Removed by Military, with Foreign Support': 6,\n",
    "                                             'Removed by Military, without Foreign Support': 7, \n",
    "                                             'Removed by Other Government Actors, with Foreign Support': 8,\n",
    "                                             'Removed by Other Government Actors, without Foreign Support': 9,\n",
    "                                             'Removed by Rebels, with Foreign Support': 10,\n",
    "                                             'Removed by Rebels, without Foreign Support': 11,\n",
    "                                             'Removed in Military Power Struggle Short of Coup': 12,\n",
    "                                             'Removed through Threat of Foreign Force': 13, 'Unknown': 14,\n",
    "                                             'Still in Office': 15}) \n",
    "data_all['exitcode']=data_all['exitcode'].astype(float, errors='raise')\n",
    "min, max = data_all['exitcode'].min(), data_all['exitcode'].max()\n",
    "data_all['exitcode']= (data_all['exitcode']-min)/(max-min)"
   ]
  },
  {
   "cell_type": "code",
   "execution_count": 3,
   "metadata": {},
   "outputs": [
    {
     "data": {
      "text/plain": [
       "(1445, 23)"
      ]
     },
     "execution_count": 3,
     "metadata": {},
     "output_type": "execute_result"
    }
   ],
   "source": [
    "# posttenurefate\n",
    "data_all['posttenurefate'] = data_all['posttenurefate'].replace({'Death': 1, 'Exile': 2, 'Imprisonment': 3, \n",
    "                                     'Missing: Natural Death within Six Months of Losing Office': 4, \n",
    "                                     'Missing: No Information Found': 5, 'OK': 6, 'Suicide': 7, \n",
    "                                     'Leader Still in Office': 8, 'Missing: Left Office after*': 9}, regex=True) \n",
    "data_all['posttenurefate']=data_all['posttenurefate'].astype(float, errors='raise')\n",
    "min, max = data_all['posttenurefate'].min(), data_all['posttenurefate'].max()\n",
    "data_all['posttenurefate']= (data_all['posttenurefate']-min)/(max-min)\n",
    "\n",
    "# prevtimesinoffice\n",
    "min, max = data_all['prevtimesinoffice'].min(), data_all['prevtimesinoffice'].max()\n",
    "data_all['prevtimesinoffice']= (data_all['prevtimesinoffice']-min)/(max-min)\n",
    "\n",
    "# yrborn\n",
    "min, max = data_all['yrborn'].min(), data_all['yrborn'].max()\n",
    "data_all['yrborn']= (data_all['yrborn']-min)/(max-min)\n",
    "\n",
    "# yrdied\n",
    "min, max = data_all['yrdied'].min(), data_all['yrdied'].max()\n",
    "data_all['yrdied']= (data_all['yrdied']-min)/(max-min)\n",
    "\n",
    "# numentry\n",
    "min, max = data_all['numentry'].min(), data_all['numentry'].max()\n",
    "data_all['numentry']= (data_all['numentry']-min)/(max-min)\n",
    "\n",
    "# numexit\n",
    "min, max = data_all['numexit'].min(), data_all['numexit'].max()\n",
    "data_all['numexit']= (data_all['numexit']-min)/(max-min)\n",
    "\n",
    "# yrbegin\n",
    "min, max = data_all['yrbegin'].min(), data_all['yrbegin'].max()\n",
    "data_all['yrbegin']= (data_all['yrbegin']-min)/(max-min)\n",
    "\n",
    "# yrend\n",
    "min, max = data_all['yrend'].min(), data_all['yrend'].max()\n",
    "data_all['yrend']= (data_all['yrend']-min)/(max-min)\n",
    "\n",
    "# age\n",
    "min, max = data_all['age'].min(), data_all['age'].max()\n",
    "data_all['age']= (data_all['age']-min)/(max-min)\n",
    "\n",
    "# tenure\n",
    "min, max = data_all['tenure'].min(), data_all['tenure'].max()\n",
    "data_all['tenure']= (data_all['tenure']-min)/(max-min)\n",
    "\n",
    "# end_gdppc\n",
    "min, max = data_all['end_gdppc'].min(), data_all['end_gdppc'].max()\n",
    "data_all['end_gdppc']= (data_all['end_gdppc']-min)/(max-min)\n",
    "\n",
    "# pop_x\n",
    "min, max = data_all['pop_x'].min(), data_all['pop_x'].max()\n",
    "data_all['pop_x']= (data_all['pop_x']-min)/(max-min)\n",
    "\n",
    "# begin_gdppc\n",
    "min, max = data_all['begin_gdppc'].min(), data_all['begin_gdppc'].max()\n",
    "data_all['begin_gdppc']= (data_all['begin_gdppc']-min)/(max-min)\n",
    "\n",
    "# pop_y\n",
    "min, max = data_all['pop_y'].min(), data_all['pop_y'].max()\n",
    "data_all['pop_y']= (data_all['pop_y']-min)/(max-min)\n",
    "\n",
    "data_all.dropna(subset = ['growth_rate'], inplace=True)\n",
    "data_all.shape"
   ]
  },
  {
   "cell_type": "code",
   "execution_count": 4,
   "metadata": {},
   "outputs": [
    {
     "name": "stderr",
     "output_type": "stream",
     "text": [
      "C:\\Users\\DELL\\AppData\\Local\\Temp\\ipykernel_19988\\722402110.py:7: FutureWarning: The default value of numeric_only in DataFrame.corr is deprecated. In a future version, it will default to False. Select only valid columns or specify the value of numeric_only to silence this warning.\n",
      "  corr= data_all.corr()\n"
     ]
    },
    {
     "data": {
      "text/plain": [
       "<matplotlib.colorbar.Colorbar at 0x1b2b607fac0>"
      ]
     },
     "execution_count": 4,
     "metadata": {},
     "output_type": "execute_result"
    },
    {
     "data": {
      "text/plain": [
       "([<matplotlib.axis.XTick at 0x1b2b609ed90>,\n",
       "  <matplotlib.axis.XTick at 0x1b2b609e5b0>,\n",
       "  <matplotlib.axis.XTick at 0x1b2b61830a0>,\n",
       "  <matplotlib.axis.XTick at 0x1b2b61f9fa0>,\n",
       "  <matplotlib.axis.XTick at 0x1b2b621ca90>,\n",
       "  <matplotlib.axis.XTick at 0x1b2b621cca0>,\n",
       "  <matplotlib.axis.XTick at 0x1b2b6220970>,\n",
       "  <matplotlib.axis.XTick at 0x1b2b6227460>,\n",
       "  <matplotlib.axis.XTick at 0x1b2b6227f10>,\n",
       "  <matplotlib.axis.XTick at 0x1b2b622ba00>,\n",
       "  <matplotlib.axis.XTick at 0x1b2b62200a0>,\n",
       "  <matplotlib.axis.XTick at 0x1b2b6234490>,\n",
       "  <matplotlib.axis.XTick at 0x1b2b6234f40>,\n",
       "  <matplotlib.axis.XTick at 0x1b2b623aa30>,\n",
       "  <matplotlib.axis.XTick at 0x1b2b6240520>,\n",
       "  <matplotlib.axis.XTick at 0x1b2b622b1c0>,\n",
       "  <matplotlib.axis.XTick at 0x1b2b6240d90>,\n",
       "  <matplotlib.axis.XTick at 0x1b2b6246880>,\n",
       "  <matplotlib.axis.XTick at 0x1b2b624c370>,\n",
       "  <matplotlib.axis.XTick at 0x1b2b62461f0>],\n",
       " [Text(0, 1, 'ccode'),\n",
       "  Text(1, 1, 'entry'),\n",
       "  Text(2, 1, 'exit'),\n",
       "  Text(3, 1, 'exitcode'),\n",
       "  Text(4, 1, 'prevtimesinoffice'),\n",
       "  Text(5, 1, 'posttenurefate'),\n",
       "  Text(6, 1, 'gender'),\n",
       "  Text(7, 1, 'yrborn'),\n",
       "  Text(8, 1, 'yrdied'),\n",
       "  Text(9, 1, 'numentry'),\n",
       "  Text(10, 1, 'numexit'),\n",
       "  Text(11, 1, 'yrbegin'),\n",
       "  Text(12, 1, 'yrend'),\n",
       "  Text(13, 1, 'pop_x'),\n",
       "  Text(14, 1, 'begin_gdppc'),\n",
       "  Text(15, 1, 'pop_y'),\n",
       "  Text(16, 1, 'age'),\n",
       "  Text(17, 1, 'tenure'),\n",
       "  Text(18, 1, 'growth_rate'),\n",
       "  Text(19, 1, 'fties_range')])"
      ]
     },
     "execution_count": 4,
     "metadata": {},
     "output_type": "execute_result"
    },
    {
     "data": {
      "text/plain": [
       "([<matplotlib.axis.YTick at 0x1b2b60307c0>,\n",
       "  <matplotlib.axis.YTick at 0x1b2b609eb80>,\n",
       "  <matplotlib.axis.YTick at 0x1b2e4b70460>,\n",
       "  <matplotlib.axis.YTick at 0x1b2b6254730>,\n",
       "  <matplotlib.axis.YTick at 0x1b2b6257220>,\n",
       "  <matplotlib.axis.YTick at 0x1b2b6257cd0>,\n",
       "  <matplotlib.axis.YTick at 0x1b2b6257ee0>,\n",
       "  <matplotlib.axis.YTick at 0x1b2b62200d0>,\n",
       "  <matplotlib.axis.YTick at 0x1b2b625e8e0>,\n",
       "  <matplotlib.axis.YTick at 0x1b2b62653d0>,\n",
       "  <matplotlib.axis.YTick at 0x1b2b6265e80>,\n",
       "  <matplotlib.axis.YTick at 0x1b2b62344c0>,\n",
       "  <matplotlib.axis.YTick at 0x1b2b6257430>,\n",
       "  <matplotlib.axis.YTick at 0x1b2b621c1f0>,\n",
       "  <matplotlib.axis.YTick at 0x1b2b6265e50>,\n",
       "  <matplotlib.axis.YTick at 0x1b2b6257a60>,\n",
       "  <matplotlib.axis.YTick at 0x1b2b6227a30>,\n",
       "  <matplotlib.axis.YTick at 0x1b2b624cfa0>,\n",
       "  <matplotlib.axis.YTick at 0x1b2b625eb20>,\n",
       "  <matplotlib.axis.YTick at 0x1b2b625e160>],\n",
       " [Text(0, 0, 'ccode'),\n",
       "  Text(0, 1, 'entry'),\n",
       "  Text(0, 2, 'exit'),\n",
       "  Text(0, 3, 'exitcode'),\n",
       "  Text(0, 4, 'prevtimesinoffice'),\n",
       "  Text(0, 5, 'posttenurefate'),\n",
       "  Text(0, 6, 'gender'),\n",
       "  Text(0, 7, 'yrborn'),\n",
       "  Text(0, 8, 'yrdied'),\n",
       "  Text(0, 9, 'numentry'),\n",
       "  Text(0, 10, 'numexit'),\n",
       "  Text(0, 11, 'yrbegin'),\n",
       "  Text(0, 12, 'yrend'),\n",
       "  Text(0, 13, 'pop_x'),\n",
       "  Text(0, 14, 'begin_gdppc'),\n",
       "  Text(0, 15, 'pop_y'),\n",
       "  Text(0, 16, 'age'),\n",
       "  Text(0, 17, 'tenure'),\n",
       "  Text(0, 18, 'growth_rate'),\n",
       "  Text(0, 19, 'fties_range')])"
      ]
     },
     "execution_count": 4,
     "metadata": {},
     "output_type": "execute_result"
    },
    {
     "data": {
      "image/png": "[encoded data removed]",
      "text/plain": [
       "<Figure size 800x800 with 2 Axes>"
      ]
     },
     "metadata": {},
     "output_type": "display_data"
    }
   ],
   "source": [
    "# delete unused data\n",
    "del data_all['end_gdppc']\n",
    "del data_all['country']\n",
    "\n",
    "# Fig.2 of the correlations plot\n",
    "# The correlations of all the variables used in this study sample: leaders' age, leaders' tenure\n",
    "corr= data_all.corr()\n",
    "\n",
    "# Visualize the corelation between each column\n",
    "fig = plt.figure(figsize =(8,8))\n",
    "corr_plot = plt.matshow(corr, cmap='RdBu', fignum = fig.number)\n",
    "fig.colorbar(corr_plot)\n",
    "plt.xticks(range(len(corr.columns)), corr.columns, rotation = 'vertical')\n",
    "plt.yticks(range(len(corr.columns)), corr.columns)"
   ]
  },
  {
   "attachments": {},
   "cell_type": "markdown",
   "metadata": {},
   "source": [
    "### Group the tenure into five possible values\n",
    "\n",
    "- 1 for single term - equal to or less than 4 years; \n",
    "- 2 for two terms - between 5 and 8 years;\n",
    "- 3 for three terms -  between 9 and 12 years;\n",
    "- 4 for four terms - between 13 and 16 years;\n",
    "- 5 for five or more terms"
   ]
  },
  {
   "cell_type": "code",
   "execution_count": null,
   "metadata": {},
   "outputs": [],
   "source": [
    "# data.dtypes\n",
    "\n",
    "# Visualize the differences about leaders' gender for the whole data set\n",
    "# ax= sns.histplot(data.gender, shrink = 0.8, bins=10, color='grey') \n",
    "# import numpy as np\n",
    "# data['fties_range'] = np.where(data['fties'].isnull(), 0.5, 1)\n",
    "# data['gender'] = np.where(data['gender']=='M', 0.5, 1)\n",
    "#data['logarithm_gdppc'] = np.log(data['gdppc'])\n",
    "#data['normal_tenure'] = (data['tenure'] - data['tenure'].mean()) / data['tenure'].std()#normalize tenure with z-score\n",
    "# corr= data.corr()\n",
    "\n",
    "# #visualize the corelation between each column\n",
    "# fig = plt.figure(figsize =(8,8))\n",
    "# #plt.matshow(corr, cmap='RdBu', fignum = fig.number)\n",
    "# plt.xticks(range(len(corr.columns)), corr.columns, rotation = 'vertical');\n",
    "# sns.heatmap(corr, cmap='RdBu')\n",
    "# plt.yticks(range(len(corr.columns)), corr.columns)\n",
    "# fig.savefig('heatmap.png',dpi=600)"
   ]
  },
  {
   "cell_type": "code",
   "execution_count": 5,
   "metadata": {},
   "outputs": [],
   "source": [
    "from scipy.stats import norm\n",
    "\n",
    "# Group growth_rate into seven groups according to the central limit theorem\n",
    "mu, std = norm.fit(data_all['growth_rate'])\n",
    "conditions = [\n",
    "    (data_all['growth_rate'] < -mu-3*std),\n",
    "    (data_all['growth_rate'] >= -mu-3*std) & (data_all['growth_rate'] < -mu-2*std),\n",
    "    (data_all['growth_rate'] >= -mu-2*std) & (data_all['growth_rate'] < -mu-std),\n",
    "    (data_all['growth_rate'] >= -mu-std) & (data_all['growth_rate'] < mu+std),\n",
    "    (data_all['growth_rate'] >= mu+std) & (data_all['growth_rate'] < mu+2*std),\n",
    "    (data_all['growth_rate'] >= mu+2*std) & (data_all['growth_rate'] < mu+3*std),\n",
    "    (data_all['growth_rate'] >= mu+3*std)\n",
    "]\n",
    "\n",
    "values = [7, 6, 5, 4, 3, 2, 1]\n",
    "\n",
    "data_all['growth_rate_normgroup'] = np.select(conditions, values)"
   ]
  },
  {
   "cell_type": "code",
   "execution_count": 6,
   "metadata": {},
   "outputs": [],
   "source": [
    "# Group growth_rate into seven groups according to min and max\n",
    "min, max = data_all['growth_rate'].min(), data_all['growth_rate'].max()\n",
    "conditions = [\n",
    "    (data_all['growth_rate'] < min+1/7*(max-min)),\n",
    "    (data_all['growth_rate'] >= min+1/7*(max-min)) & (data_all['growth_rate'] < min+2/7*(max-min)),\n",
    "    (data_all['growth_rate'] >= min+2/7*(max-min)) & (data_all['growth_rate'] < min+3/7*(max-min)),\n",
    "    (data_all['growth_rate'] >= min+3/7*(max-min)) & (data_all['growth_rate'] < min+4/7*(max-min)),\n",
    "    (data_all['growth_rate'] >= min+4/7*(max-min)) & (data_all['growth_rate'] < min+5/7*(max-min)),\n",
    "    (data_all['growth_rate'] >= min+5/7*(max-min)) & (data_all['growth_rate'] < min+6/7*(max-min)),\n",
    "    (data_all['growth_rate'] >= min+6/7*(max-min))\n",
    "]\n",
    "    \n",
    "values = [7, 6, 5, 4, 3, 2, 1]\n",
    "\n",
    "data_all['growth_rate_avggrp'] = np.select(conditions, values)"
   ]
  },
  {
   "cell_type": "code",
   "execution_count": 7,
   "metadata": {},
   "outputs": [],
   "source": [
    "# Save dataset to CSV file\n",
    "data_all.to_csv(r'./../Data/data_AutoGluon_final.csv', index = False)"
   ]
  }
 ],
 "metadata": {
  "kernelspec": {
   "display_name": "test",
   "language": "python",
   "name": "python3"
  },
  "language_info": {
   "codemirror_mode": {
    "name": "ipython",
    "version": 3
   },
   "file_extension": ".py",
   "mimetype": "text/x-python",
   "name": "python",
   "nbconvert_exporter": "python",
   "pygments_lexer": "ipython3",
   "version": "3.9.16"
  },
  "orig_nbformat": 4
 },
 "nbformat": 4,
 "nbformat_minor": 2
}
