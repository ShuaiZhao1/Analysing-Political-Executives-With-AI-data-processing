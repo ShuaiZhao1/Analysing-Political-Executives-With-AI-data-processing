{
 "cells": [
  {
   "attachments": {},
   "cell_type": "markdown",
   "metadata": {},
   "source": [
    "## Data extraction and visualizing\n",
    "\n",
    "- Merging data from other files\n",
    "- Read the data from Archigos excel document/dta data"
   ]
  },
  {
   "cell_type": "code",
   "execution_count": 1,
   "metadata": {},
   "outputs": [],
   "source": [
    "import numpy as np\n",
    "import pandas as pd\n",
    "import matplotlib.pyplot as plt\n",
    "import seaborn as sns\n",
    "\n",
    "# Alternative to set svg for newer versions\n",
    "%matplotlib inline\n",
    "\n",
    "\n",
    "# Showing all the details of results\n",
    "from IPython.core.interactiveshell import InteractiveShell\n",
    "InteractiveShell.ast_node_interactivity = \"all\"\n",
    "\n",
    "# %matplotlib qt"
   ]
  },
  {
   "cell_type": "code",
   "execution_count": 2,
   "metadata": {},
   "outputs": [
    {
     "name": "stderr",
     "output_type": "stream",
     "text": [
      "C:\\Users\\DELL\\AppData\\Local\\Temp\\ipykernel_10128\\1545136275.py:4: UnicodeWarning: \n",
      "One or more strings in the dta file could not be decoded using utf-8, and\n",
      "so the fallback encoding of latin-1 is being used.  This can happen when a file\n",
      "has been incorrectly encoded by Stata or some other software. You should verify\n",
      "the string values returned are correct.\n",
      "  data = pd.read_stata(datafile)\n"
     ]
    }
   ],
   "source": [
    "# Read the original dta(Stata) data download from Archigos website.\n",
    "# load the data\n",
    "datafile = './../Data/Archigos_4.1_stata14.dta'\n",
    "data = pd.read_stata(datafile)\n",
    "\n",
    "# Startdate is better than eindate, enddate is better than eoutdate\n",
    "# Change the data type of startdate and enddate to datatime\n",
    "data['startdate'] = data['startdate'].astype('datetime64[ns]')\n",
    "data['enddate'] = data['enddate'].astype('datetime64[ns]')\n",
    "data['yrbegin'] = pd.DatetimeIndex(data['startdate']).year\n",
    "data['yrend'] = pd.DatetimeIndex(data['enddate']).year\n",
    "\n",
    "data['yrend'] = np.where(data['yrbegin']==data['yrend'], data['yrend'] + 1, data['yrend'])\n",
    "\n",
    "# Import the data about countries grouped by three categories: Autocracy, Anocracy, Democracy\n",
    "data_deau = pd.read_excel('./../Data/DeorAu_group.xlsx')\n",
    "\n",
    "# load another excel file mpd2020 with gdppc and pop\n",
    "data_mpd2020 = pd.read_excel('./../Data/mpd2020.xlsx', 'Full data')\n",
    "\n",
    "# Combine data_deau with data_leader with key id=countries\n",
    "# Rename the Country-id to idacr in data_deau\n",
    "data_deau = data_deau.rename({'Country-id': 'idacr'}, axis='columns')\n",
    "data_leader_deau = pd.merge(data, data_deau, how ='left', on ='idacr')\n",
    "\n",
    "# Rename the countrycode to idacr in data_mpd2020\n",
    "# Rename the year in gdppc to yrend to merge data\n",
    "data_mpd2020 = data_mpd2020.rename({'countrycode': 'idacr', 'year': 'yrend'}, axis='columns')\n",
    "\n",
    "# Change the float to int\n",
    "data_leader_deau['yrend'] = data_leader_deau['yrend'].fillna(0.0).astype(int)\n",
    "data_leader_deau['yrbegin'] = data_leader_deau['yrbegin'].fillna(0.0).astype(int)\n",
    "\n",
    "# Combine data_leaders_deau with data_mpd2020 with key idacr and year\n",
    "data_leader_deau_gdp = pd.merge(data_leader_deau, data_mpd2020, how ='left', on =['idacr', 'yrend'])\n",
    "\n",
    "# Rename the gdppc to end_gdppc in data_leaders_deau_gdp\n",
    "data_leader_deau_gdp = data_leader_deau_gdp.rename({'gdppc': 'end_gdppc'}, axis='columns')\n",
    "\n",
    "data_gdp = pd.read_excel('./../Data/data_gdp.xlsx')\n",
    "data_gdp = data_gdp.rename({'year': 'yrbegin'}, axis='columns')\n",
    "data_all = pd.merge(data_leader_deau_gdp, data_gdp, how ='left', on =['idacr', 'yrbegin'])\n",
    "\n",
    "# Rename the gdppc to begin_gdppc in data_all\n",
    "data_all = data_all.rename({'gdppc': 'begin_gdppc'}, axis='columns')\n",
    "\n",
    "# Calculate the leaders' age, when they first into power\n",
    "# See the characteristics of yrborn, there is something wrong in the data. \n",
    "# Because I change the data type of yrborn, from int to datetime.\n",
    "\n",
    "# age= yrbegin- yrborn\n",
    "data_all['age'] = data_all['yrbegin'] - data_all['yrborn']\n",
    "\n",
    "# See the distribution of age\n",
    "# data_all.groupby(['age']).mean()"
   ]
  },
  {
   "attachments": {},
   "cell_type": "markdown",
   "metadata": {},
   "source": [
    "## Calculate their tenure\n",
    " \n",
    "- Calculate the tenure\n",
    "- Check the data about our data about tenure \n",
    "- Delete tenure < 1\n",
    "- Group the data by leaders and sum their tenure together ？？"
   ]
  },
  {
   "cell_type": "code",
   "execution_count": 3,
   "metadata": {},
   "outputs": [],
   "source": [
    "import datetime\n",
    "\n",
    "# tenure= enddate or eoutdate - startdate  or  eindate (Unit: years)\n",
    "# if enddate is null, it has two possibilities: \n",
    "# 1. leader is still in office, use the date now; 2. not available.  \n",
    "\n",
    "data_all['startdate'] = pd.to_datetime(data_all['startdate']).dt.date\n",
    "data_all['enddate'] = pd.to_datetime(data_all['enddate']).dt.date\n",
    "\n",
    "data_all['enddate'] = np.where(data_all['enddate'].isnull(),\n",
    "                                datetime.datetime.now().date(),\n",
    "                                data_all['enddate'])\n",
    "\n",
    "data_all['tenure'] = (data_all['enddate'] - data_all['startdate'])/np.timedelta64(1, 'Y')\n",
    "\n",
    "# Add tenure to the excel grouped by leaders\n",
    "# Some leaders may have more than one term\n",
    "# Tenure: merge the duplicates and sum the tenure.\n",
    "# data_all=data_all.groupby(['leader']).sum()"
   ]
  },
  {
   "cell_type": "code",
   "execution_count": 4,
   "metadata": {},
   "outputs": [
    {
     "data": {
      "text/plain": [
       "count    3409.000000\n",
       "mean        4.252607\n",
       "std         6.437821\n",
       "min         0.000000\n",
       "25%         0.714594\n",
       "50%         2.042479\n",
       "75%         4.999418\n",
       "max        67.968541\n",
       "Name: tenure, dtype: float64"
      ]
     },
     "execution_count": 4,
     "metadata": {},
     "output_type": "execute_result"
    }
   ],
   "source": [
    "data_all['tenure'].describe()"
   ]
  },
  {
   "cell_type": "code",
   "execution_count": 5,
   "metadata": {},
   "outputs": [
    {
     "data": {
      "text/plain": [
       "count    1448.000000\n",
       "mean        0.020958\n",
       "std         0.069219\n",
       "min        -0.314587\n",
       "25%         0.000000\n",
       "50%         0.017443\n",
       "75%         0.038417\n",
       "max         0.794453\n",
       "Name: growth_rate, dtype: float64"
      ]
     },
     "execution_count": 5,
     "metadata": {},
     "output_type": "execute_result"
    }
   ],
   "source": [
    "# calulate the growth rate\n",
    "\n",
    "\n",
    "data_all['growth_rate'] = (data_all['end_gdppc'] / data_all['begin_gdppc'] - 1) / np.trunc(data_all['tenure'] + 1)\n",
    "\n",
    "data_all.dropna(subset = ['growth_rate'], inplace=True)\n",
    "\n",
    "data_all['growth_rate'].describe()"
   ]
  },
  {
   "attachments": {},
   "cell_type": "markdown",
   "metadata": {},
   "source": [
    "## Data cleaning\n",
    "\n",
    "### Delete the irrelevant data with irrelevant columns"
   ]
  },
  {
   "cell_type": "code",
   "execution_count": 8,
   "metadata": {},
   "outputs": [
    {
     "data": {
      "text/plain": [
       "Index(['ccode', 'leader', 'entry', 'exit', 'exitcode', 'prevtimesinoffice',\n",
       "       'posttenurefate', 'gender', 'yrborn', 'yrdied', 'numentry', 'numexit',\n",
       "       'yrbegin', 'yrend', 'country', 'end_gdppc', 'pop_x', 'begin_gdppc',\n",
       "       'pop_y', 'age', 'tenure', 'growth_rate', 'fties_range'],\n",
       "      dtype='object')"
      ]
     },
     "execution_count": 8,
     "metadata": {},
     "output_type": "execute_result"
    }
   ],
   "source": [
    "# 'country_x','country_y'\n",
    "data_all.drop(columns=['obsid',\n",
    "                   'leadid',\n",
    "                   'idacr',\n",
    "                   'startdate',\n",
    "                   'eindate',\n",
    "                   'enddate',\n",
    "                   'eoutdate',\n",
    "                   'borndate',\n",
    "                   'ebirthdate',\n",
    "                   'deathdate',\n",
    "                   'edeathdate',\n",
    "                   'dbpediauri',\n",
    "                  'numexitcode',\n",
    "                  'numposttenurefate',\n",
    "                  'ftcur',\n",
    "                  'Country',\n",
    "                  'Polity datasets IV number[11][12]',\n",
    "                  'Polity datasets IV category'], inplace=True)\n",
    "\n",
    "# Deal with family ties and gender \n",
    "data_all['fties_range'] = np.where(data_all['fties'].isnull(), 0.5, 1)\n",
    "data_all['gender'] = np.where(data_all['gender']=='M', 0.5, 1)\n",
    "\n",
    "\n",
    "data_all.drop(columns=['fties',\n",
    "                       'Democracy',\n",
    "                       'Autocracy'], inplace=True)\n",
    "                       \n",
    "# Delete the columns that more than 30% is null \n",
    "# Delete the column >= 30% is null, we can see the remaining column names.\n",
    "null_sum=data_all.isnull().sum()\n",
    "data_all.columns[null_sum<len(data_all)*0.3] # columns will keep\n",
    "\n",
    "# Drop the columns that at least 30% values are null\n",
    "data_all.drop(columns=data_all.columns[null_sum > len(data_all)*0.3], inplace=True)\n",
    "\n",
    "# Check if there are any abnormal values, we need to pay attention to the negative numbers. \n",
    "# Some leaders are still alive, so the yrdied is negative number, etc.\n",
    "# print(data.describe())"
   ]
  },
  {
   "cell_type": "code",
   "execution_count": 9,
   "metadata": {},
   "outputs": [],
   "source": [
    "data_all.dropna(subset = ['leader'], inplace=True)\n",
    "\n",
    "# Delete if yrbegin > yrend, age < 0\n",
    "# print(data_all[data_all['yrbegin'] > data_all['yrend']]) #age < 0\n",
    "data_all.drop(data_all[data_all['yrbegin'] > data_all['yrend']].index, inplace=True)\n",
    "\n",
    "# Delete the data_all yrbegin < 0, yrend < 0, yrborn<0, yrdied<0\n",
    "data_all.drop(data_all[data_all['yrborn']<0].index , inplace=True) \n",
    "# data_all.drop(data_all[data_all['yrdied']<0].index, inplace=True)\n",
    "data_all.drop(data_all[data_all['yrbegin']<0].index , inplace=True) \n",
    "data_all.drop(data_all[data_all['yrend']<0].index, inplace=True)\n",
    "# print(data_all.shape)\n",
    "\n",
    "# Find if yrbegin > yrdied, lifespan < 0 \n",
    "# print(data_all[data_all['yrbegin'] > data_all['yrdied']]) # begin to come into power after the leader is died.\n",
    "\n",
    "# Delete the data_all yrbegin > yrdied\n",
    "# data_all.drop(data_all[data_all['yrbegin'] > data_all['yrdied']].index, inplace=True) "
   ]
  },
  {
   "cell_type": "code",
   "execution_count": 10,
   "metadata": {},
   "outputs": [
    {
     "data": {
      "text/plain": [
       "Index(['ccode', 'leader', 'entry', 'exit', 'exitcode', 'prevtimesinoffice',\n",
       "       'posttenurefate', 'gender', 'yrborn', 'yrdied', 'numentry', 'numexit',\n",
       "       'yrbegin', 'yrend', 'country', 'end_gdppc', 'pop_x', 'begin_gdppc',\n",
       "       'pop_y', 'age', 'tenure', 'growth_rate', 'fties_range'],\n",
       "      dtype='object')"
      ]
     },
     "execution_count": 10,
     "metadata": {},
     "output_type": "execute_result"
    }
   ],
   "source": [
    "data_all.columns"
   ]
  },
  {
   "attachments": {},
   "cell_type": "markdown",
   "metadata": {},
   "source": [
    "## Visualizing results"
   ]
  },
  {
   "cell_type": "code",
   "execution_count": 26,
   "metadata": {},
   "outputs": [
    {
     "ename": "ValueError",
     "evalue": "Could not interpret value `test` for parameter `x`",
     "output_type": "error",
     "traceback": [
      "\u001b[1;31m---------------------------------------------------------------------------\u001b[0m",
      "\u001b[1;31mValueError\u001b[0m                                Traceback (most recent call last)",
      "\u001b[1;32mc:\\Users\\DELL\\Documents\\Personal\\Analysing-Political-Executives-With-AI-data-processing\\Notebooks\\1-Data_extraction_and_visualizing.ipynb Cell 13\u001b[0m in \u001b[0;36m2\n\u001b[0;32m      <a href='vscode-notebook-cell:/c%3A/Users/DELL/Documents/Personal/Analysing-Political-Executives-With-AI-data-processing/Notebooks/1-Data_extraction_and_visualizing.ipynb#X15sZmlsZQ%3D%3D?line=0'>1</a>\u001b[0m \u001b[39m# fig.3\u001b[39;00m\n\u001b[1;32m----> <a href='vscode-notebook-cell:/c%3A/Users/DELL/Documents/Personal/Analysing-Political-Executives-With-AI-data-processing/Notebooks/1-Data_extraction_and_visualizing.ipynb#X15sZmlsZQ%3D%3D?line=1'>2</a>\u001b[0m sns\u001b[39m.\u001b[39;49mhistplot(data_all\u001b[39m.\u001b[39;49mentry, color\u001b[39m=\u001b[39;49m\u001b[39m'\u001b[39;49m\u001b[39mred\u001b[39;49m\u001b[39m'\u001b[39;49m, x\u001b[39m=\u001b[39;49m\u001b[39m\"\u001b[39;49m\u001b[39mtest\u001b[39;49m\u001b[39m\"\u001b[39;49m, y\u001b[39m=\u001b[39;49m\u001b[39m\"\u001b[39;49m\u001b[39mCount\u001b[39;49m\u001b[39m\"\u001b[39;49m)\n",
      "File \u001b[1;32mc:\\Users\\DELL\\miniconda3\\envs\\test\\lib\\site-packages\\seaborn\\distributions.py:1395\u001b[0m, in \u001b[0;36mhistplot\u001b[1;34m(data, x, y, hue, weights, stat, bins, binwidth, binrange, discrete, cumulative, common_bins, common_norm, multiple, element, fill, shrink, kde, kde_kws, line_kws, thresh, pthresh, pmax, cbar, cbar_ax, cbar_kws, palette, hue_order, hue_norm, color, log_scale, legend, ax, **kwargs)\u001b[0m\n\u001b[0;32m   1374\u001b[0m \u001b[39mdef\u001b[39;00m \u001b[39mhistplot\u001b[39m(\n\u001b[0;32m   1375\u001b[0m     data\u001b[39m=\u001b[39m\u001b[39mNone\u001b[39;00m, \u001b[39m*\u001b[39m,\n\u001b[0;32m   1376\u001b[0m     \u001b[39m# Vector variables\u001b[39;00m\n\u001b[1;32m   (...)\u001b[0m\n\u001b[0;32m   1392\u001b[0m     \u001b[39m*\u001b[39m\u001b[39m*\u001b[39mkwargs,\n\u001b[0;32m   1393\u001b[0m ):\n\u001b[1;32m-> 1395\u001b[0m     p \u001b[39m=\u001b[39m _DistributionPlotter(\n\u001b[0;32m   1396\u001b[0m         data\u001b[39m=\u001b[39;49mdata,\n\u001b[0;32m   1397\u001b[0m         variables\u001b[39m=\u001b[39;49m_DistributionPlotter\u001b[39m.\u001b[39;49mget_semantics(\u001b[39mlocals\u001b[39;49m())\n\u001b[0;32m   1398\u001b[0m     )\n\u001b[0;32m   1400\u001b[0m     p\u001b[39m.\u001b[39mmap_hue(palette\u001b[39m=\u001b[39mpalette, order\u001b[39m=\u001b[39mhue_order, norm\u001b[39m=\u001b[39mhue_norm)\n\u001b[0;32m   1402\u001b[0m     \u001b[39mif\u001b[39;00m ax \u001b[39mis\u001b[39;00m \u001b[39mNone\u001b[39;00m:\n",
      "File \u001b[1;32mc:\\Users\\DELL\\miniconda3\\envs\\test\\lib\\site-packages\\seaborn\\distributions.py:113\u001b[0m, in \u001b[0;36m_DistributionPlotter.__init__\u001b[1;34m(self, data, variables)\u001b[0m\n\u001b[0;32m    107\u001b[0m \u001b[39mdef\u001b[39;00m \u001b[39m__init__\u001b[39m(\n\u001b[0;32m    108\u001b[0m     \u001b[39mself\u001b[39m,\n\u001b[0;32m    109\u001b[0m     data\u001b[39m=\u001b[39m\u001b[39mNone\u001b[39;00m,\n\u001b[0;32m    110\u001b[0m     variables\u001b[39m=\u001b[39m{},\n\u001b[0;32m    111\u001b[0m ):\n\u001b[1;32m--> 113\u001b[0m     \u001b[39msuper\u001b[39;49m()\u001b[39m.\u001b[39;49m\u001b[39m__init__\u001b[39;49m(data\u001b[39m=\u001b[39;49mdata, variables\u001b[39m=\u001b[39;49mvariables)\n",
      "File \u001b[1;32mc:\\Users\\DELL\\miniconda3\\envs\\test\\lib\\site-packages\\seaborn\\_oldcore.py:640\u001b[0m, in \u001b[0;36mVectorPlotter.__init__\u001b[1;34m(self, data, variables)\u001b[0m\n\u001b[0;32m    635\u001b[0m \u001b[39m# var_ordered is relevant only for categorical axis variables, and may\u001b[39;00m\n\u001b[0;32m    636\u001b[0m \u001b[39m# be better handled by an internal axis information object that tracks\u001b[39;00m\n\u001b[0;32m    637\u001b[0m \u001b[39m# such information and is set up by the scale_* methods. The analogous\u001b[39;00m\n\u001b[0;32m    638\u001b[0m \u001b[39m# information for numeric axes would be information about log scales.\u001b[39;00m\n\u001b[0;32m    639\u001b[0m \u001b[39mself\u001b[39m\u001b[39m.\u001b[39m_var_ordered \u001b[39m=\u001b[39m {\u001b[39m\"\u001b[39m\u001b[39mx\u001b[39m\u001b[39m\"\u001b[39m: \u001b[39mFalse\u001b[39;00m, \u001b[39m\"\u001b[39m\u001b[39my\u001b[39m\u001b[39m\"\u001b[39m: \u001b[39mFalse\u001b[39;00m}  \u001b[39m# alt., used DefaultDict\u001b[39;00m\n\u001b[1;32m--> 640\u001b[0m \u001b[39mself\u001b[39;49m\u001b[39m.\u001b[39;49massign_variables(data, variables)\n\u001b[0;32m    642\u001b[0m \u001b[39mfor\u001b[39;00m var, \u001b[39mcls\u001b[39m \u001b[39min\u001b[39;00m \u001b[39mself\u001b[39m\u001b[39m.\u001b[39m_semantic_mappings\u001b[39m.\u001b[39mitems():\n\u001b[0;32m    643\u001b[0m \n\u001b[0;32m    644\u001b[0m     \u001b[39m# Create the mapping function\u001b[39;00m\n\u001b[0;32m    645\u001b[0m     map_func \u001b[39m=\u001b[39m partial(\u001b[39mcls\u001b[39m\u001b[39m.\u001b[39mmap, plotter\u001b[39m=\u001b[39m\u001b[39mself\u001b[39m)\n",
      "File \u001b[1;32mc:\\Users\\DELL\\miniconda3\\envs\\test\\lib\\site-packages\\seaborn\\_oldcore.py:701\u001b[0m, in \u001b[0;36mVectorPlotter.assign_variables\u001b[1;34m(self, data, variables)\u001b[0m\n\u001b[0;32m    699\u001b[0m \u001b[39melse\u001b[39;00m:\n\u001b[0;32m    700\u001b[0m     \u001b[39mself\u001b[39m\u001b[39m.\u001b[39minput_format \u001b[39m=\u001b[39m \u001b[39m\"\u001b[39m\u001b[39mlong\u001b[39m\u001b[39m\"\u001b[39m\n\u001b[1;32m--> 701\u001b[0m     plot_data, variables \u001b[39m=\u001b[39m \u001b[39mself\u001b[39m\u001b[39m.\u001b[39m_assign_variables_longform(\n\u001b[0;32m    702\u001b[0m         data, \u001b[39m*\u001b[39m\u001b[39m*\u001b[39mvariables,\n\u001b[0;32m    703\u001b[0m     )\n\u001b[0;32m    705\u001b[0m \u001b[39mself\u001b[39m\u001b[39m.\u001b[39mplot_data \u001b[39m=\u001b[39m plot_data\n\u001b[0;32m    706\u001b[0m \u001b[39mself\u001b[39m\u001b[39m.\u001b[39mvariables \u001b[39m=\u001b[39m variables\n",
      "File \u001b[1;32mc:\\Users\\DELL\\miniconda3\\envs\\test\\lib\\site-packages\\seaborn\\_oldcore.py:938\u001b[0m, in \u001b[0;36mVectorPlotter._assign_variables_longform\u001b[1;34m(self, data, **kwargs)\u001b[0m\n\u001b[0;32m    933\u001b[0m \u001b[39melif\u001b[39;00m \u001b[39misinstance\u001b[39m(val, (\u001b[39mstr\u001b[39m, \u001b[39mbytes\u001b[39m)):\n\u001b[0;32m    934\u001b[0m \n\u001b[0;32m    935\u001b[0m     \u001b[39m# This looks like a column name but we don't know what it means!\u001b[39;00m\n\u001b[0;32m    937\u001b[0m     err \u001b[39m=\u001b[39m \u001b[39mf\u001b[39m\u001b[39m\"\u001b[39m\u001b[39mCould not interpret value `\u001b[39m\u001b[39m{\u001b[39;00mval\u001b[39m}\u001b[39;00m\u001b[39m` for parameter `\u001b[39m\u001b[39m{\u001b[39;00mkey\u001b[39m}\u001b[39;00m\u001b[39m`\u001b[39m\u001b[39m\"\u001b[39m\n\u001b[1;32m--> 938\u001b[0m     \u001b[39mraise\u001b[39;00m \u001b[39mValueError\u001b[39;00m(err)\n\u001b[0;32m    940\u001b[0m \u001b[39melse\u001b[39;00m:\n\u001b[0;32m    941\u001b[0m \n\u001b[0;32m    942\u001b[0m     \u001b[39m# Otherwise, assume the value is itself data\u001b[39;00m\n\u001b[0;32m    943\u001b[0m \n\u001b[0;32m    944\u001b[0m     \u001b[39m# Raise when data object is present and a vector can't matched\u001b[39;00m\n\u001b[0;32m    945\u001b[0m     \u001b[39mif\u001b[39;00m \u001b[39misinstance\u001b[39m(data, pd\u001b[39m.\u001b[39mDataFrame) \u001b[39mand\u001b[39;00m \u001b[39mnot\u001b[39;00m \u001b[39misinstance\u001b[39m(val, pd\u001b[39m.\u001b[39mSeries):\n",
      "\u001b[1;31mValueError\u001b[0m: Could not interpret value `test` for parameter `x`"
     ]
    }
   ],
   "source": [
    "# fig.3\n",
    "sns.histplot(data_all.entry, color='red')"
   ]
  },
  {
   "cell_type": "code",
   "execution_count": 13,
   "metadata": {},
   "outputs": [
    {
     "data": {
      "text/plain": [
       "<AxesSubplot: xlabel='Count', ylabel='exit'>"
      ]
     },
     "execution_count": 13,
     "metadata": {},
     "output_type": "execute_result"
    },
    {
     "data": {
      "image/png": "[encoded data removed]",
      "text/plain": [
       "<Figure size 640x480 with 1 Axes>"
      ]
     },
     "metadata": {},
     "output_type": "display_data"
    }
   ],
   "source": [
    "# fig.4\n",
    "sns.histplot(data_all.exit, y = data_all.exit, color='blue')"
   ]
  },
  {
   "cell_type": "code",
   "execution_count": 18,
   "metadata": {},
   "outputs": [
    {
     "data": {
      "text/plain": [
       "<AxesSubplot: xlabel='age', ylabel='Count'>"
      ]
     },
     "execution_count": 18,
     "metadata": {},
     "output_type": "execute_result"
    },
    {
     "data": {
      "image/png": "[encoded data removed]",
      "text/plain": [
       "<Figure size 640x480 with 1 Axes>"
      ]
     },
     "metadata": {},
     "output_type": "display_data"
    }
   ],
   "source": [
    "# See the distribution of age on Fig. 5\n",
    "sns.histplot(data_all.age ,color = 'orange', shrink=.9, binwidth=2)"
   ]
  },
  {
   "cell_type": "code",
   "execution_count": 19,
   "metadata": {},
   "outputs": [
    {
     "data": {
      "text/plain": [
       "<AxesSubplot: xlabel='tenure', ylabel='Count'>"
      ]
     },
     "execution_count": 19,
     "metadata": {},
     "output_type": "execute_result"
    },
    {
     "data": {
      "image/png": "[encoded data removed]",
      "text/plain": [
       "<Figure size 640x480 with 1 Axes>"
      ]
     },
     "metadata": {},
     "output_type": "display_data"
    }
   ],
   "source": [
    "# See the distribution of tenure on fig. 6\n",
    "sns.histplot(data_all.tenure, color = 'green', shrink=.9, binwidth=0.2)"
   ]
  },
  {
   "cell_type": "code",
   "execution_count": 6,
   "metadata": {},
   "outputs": [
    {
     "name": "stdout",
     "output_type": "stream",
     "text": [
      "0.0209578410719988\n",
      "0.06921861457986947\n"
     ]
    },
    {
     "data": {
      "image/png": "[encoded data removed]",
      "text/plain": [
       "<Figure size 640x480 with 1 Axes>"
      ]
     },
     "metadata": {},
     "output_type": "display_data"
    }
   ],
   "source": [
    "# Fig.7\n",
    "# Look at the distribution of the data_all put into the model\n",
    "ax = sns.histplot(data_all['growth_rate'])\n",
    "\n",
    "mean = data_all['growth_rate'].mean()\n",
    "std = data_all['growth_rate'].std()\n",
    "print(mean)\n",
    "print(std)"
   ]
  }
 ],
 "metadata": {
  "kernelspec": {
   "display_name": "test",
   "language": "python",
   "name": "python3"
  },
  "language_info": {
   "codemirror_mode": {
    "name": "ipython",
    "version": 3
   },
   "file_extension": ".py",
   "mimetype": "text/x-python",
   "name": "python",
   "nbconvert_exporter": "python",
   "pygments_lexer": "ipython3",
   "version": "3.9.16"
  },
  "orig_nbformat": 4
 },
 "nbformat": 4,
 "nbformat_minor": 2
}
