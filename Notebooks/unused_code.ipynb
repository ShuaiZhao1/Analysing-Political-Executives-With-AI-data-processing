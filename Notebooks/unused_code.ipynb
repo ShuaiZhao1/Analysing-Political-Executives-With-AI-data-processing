{
 "cells": [
  {
   "attachments": {},
   "cell_type": "markdown",
   "metadata": {},
   "source": [
    "### Group the tenure into five possible values\n",
    "\n",
    "- 1 for single term - equal to or less than 4 years; \n",
    "- 2 for two terms - between 5 and 8 years;\n",
    "- 3 for three terms -  between 9 and 12 years;\n",
    "- 4 for four terms - between 13 and 16 years;\n",
    "- 5 for five or more terms"
   ]
  },
  {
   "cell_type": "code",
   "execution_count": null,
   "metadata": {
    "vscode": {
     "languageId": "plaintext"
    }
   },
   "outputs": [],
   "source": [
    "# data.dtypes\n",
    "\n",
    "# Visualize the differences about leaders' gender for the whole data set\n",
    "# ax= sns.histplot(data.gender, shrink = 0.8, bins=10, color='grey') \n",
    "# import numpy as np\n",
    "# data['fties_range'] = np.where(data['fties'].isnull(), 0.5, 1)\n",
    "# data['gender'] = np.where(data['gender']=='M', 0.5, 1)\n",
    "#data['logarithm_gdppc'] = np.log(data['gdppc'])\n",
    "#data['normal_tenure'] = (data['tenure'] - data['tenure'].mean()) / data['tenure'].std()#normalize tenure with z-score\n",
    "# corr= data.corr()\n",
    "\n",
    "# #visualize the corelation between each column\n",
    "# fig = plt.figure(figsize =(8,8))\n",
    "# #plt.matshow(corr, cmap='RdBu', fignum = fig.number)\n",
    "# plt.xticks(range(len(corr.columns)), corr.columns, rotation = 'vertical');\n",
    "# sns.heatmap(corr, cmap='RdBu')\n",
    "# plt.yticks(range(len(corr.columns)), corr.columns)\n",
    "# fig.savefig('heatmap.png',dpi=600)"
   ]
  },
  {
   "cell_type": "code",
   "execution_count": null,
   "metadata": {
    "vscode": {
     "languageId": "plaintext"
    }
   },
   "outputs": [],
   "source": [
    "from scipy.stats import norm\n",
    "\n",
    "# Group growth_rate into seven groups according to the central limit theorem\n",
    "mu, std = norm.fit(data_all['growth_rate'])\n",
    "conditions = [\n",
    "    (data_all['growth_rate'] < -mu-3*std),\n",
    "    (data_all['growth_rate'] >= -mu-3*std) & (data_all['growth_rate'] < -mu-2*std),\n",
    "    (data_all['growth_rate'] >= -mu-2*std) & (data_all['growth_rate'] < -mu-std),\n",
    "    (data_all['growth_rate'] >= -mu-std) & (data_all['growth_rate'] < mu+std),\n",
    "    (data_all['growth_rate'] >= mu+std) & (data_all['growth_rate'] < mu+2*std),\n",
    "    (data_all['growth_rate'] >= mu+2*std) & (data_all['growth_rate'] < mu+3*std),\n",
    "    (data_all['growth_rate'] >= mu+3*std)\n",
    "]\n",
    "\n",
    "values = [7, 6, 5, 4, 3, 2, 1]\n",
    "\n",
    "data_all['growth_rate_normgroup'] = np.select(conditions, values)\n",
    "\n",
    "sns.histplot(data_all.growth_rate_normgroup)"
   ]
  },
  {
   "cell_type": "code",
   "execution_count": null,
   "metadata": {
    "vscode": {
     "languageId": "plaintext"
    }
   },
   "outputs": [],
   "source": [
    "# Group growth_rate into seven groups according to min and max\n",
    "min, max = data_all['growth_rate'].min(), data_all['growth_rate'].max()\n",
    "conditions = [\n",
    "    (data_all['growth_rate'] < min+1/7*(max-min)),\n",
    "    (data_all['growth_rate'] >= min+1/7*(max-min)) & (data_all['growth_rate'] < min+2/7*(max-min)),\n",
    "    (data_all['growth_rate'] >= min+2/7*(max-min)) & (data_all['growth_rate'] < min+3/7*(max-min)),\n",
    "    (data_all['growth_rate'] >= min+3/7*(max-min)) & (data_all['growth_rate'] < min+4/7*(max-min)),\n",
    "    (data_all['growth_rate'] >= min+4/7*(max-min)) & (data_all['growth_rate'] < min+5/7*(max-min)),\n",
    "    (data_all['growth_rate'] >= min+5/7*(max-min)) & (data_all['growth_rate'] < min+6/7*(max-min)),\n",
    "    (data_all['growth_rate'] >= min+6/7*(max-min))\n",
    "]\n",
    "    \n",
    "values = [7, 6, 5, 4, 3, 2, 1]\n",
    "\n",
    "data_all['growth_rate_avggrp'] = np.select(conditions, values)\n",
    "\n",
    "sns.histplot(data_all.growth_rate_avggrp)"
   ]
  }
 ],
 "metadata": {
  "language_info": {
   "name": "python"
  },
  "orig_nbformat": 4
 },
 "nbformat": 4,
 "nbformat_minor": 2
}
