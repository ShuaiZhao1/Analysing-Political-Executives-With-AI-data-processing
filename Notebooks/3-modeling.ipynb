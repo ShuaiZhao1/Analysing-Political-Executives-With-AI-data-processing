{
 "cells": [
  {
   "attachments": {},
   "cell_type": "markdown",
   "metadata": {},
   "source": [
    "# Analysing Political Executives with AI\n",
    "\n",
    "## Using AutoGluon to processing the data\n",
    "\n",
    "\n",
    "```shell\n",
    "# Link for how to install autogluon on Windows system\n",
    "# https://auto.gluon.ai/stable/index.html\n",
    "# For other operation systems, please also check this link for latest news. \n",
    "\n",
    "# test automl model\n",
    "# install autogluon\n",
    "!pip3 install -U pip\n",
    "!pip3 install -U setuptools wheel\n",
    "\n",
    "# CPU version of pytorch has smaller footprint - see installation instructions in\n",
    "# pytorch documentation - https://pytorch.org/get-started/locally/\n",
    "!pip3 install torch==1.10.1+cpu -f https://download.pytorch.org/whl/cpu/torch_stable.html\n",
    "\n",
    "!pip3 install autogluon\n",
    "```"
   ]
  },
  {
   "cell_type": "code",
   "execution_count": null,
   "metadata": {},
   "outputs": [],
   "source": [
    "from autogluon.tabular import TabularDataset, TabularPredictor\n",
    "from sklearn.model_selection import train_test_split #splitting the dataset\n",
    "import numpy as np\n",
    "\n",
    "# Showing all the details of results\n",
    "from IPython.core.interactiveshell import InteractiveShell\n",
    "InteractiveShell.ast_node_interactivity = \"all\"\n",
    "\n",
    "%matplotlib inline"
   ]
  },
  {
   "cell_type": "code",
   "execution_count": null,
   "metadata": {},
   "outputs": [],
   "source": [
    "# Import the data file\n",
    "train_data = TabularDataset('./../Data/data_AutoGluon.csv')"
   ]
  },
  {
   "cell_type": "code",
   "execution_count": null,
   "metadata": {},
   "outputs": [],
   "source": [
    "type(train_data)\n",
    "\n",
    "train_data.columns\n",
    "\n",
    "train_data.head()\n",
    "\n",
    "train_data.describe()"
   ]
  },
  {
   "cell_type": "code",
   "execution_count": null,
   "metadata": {},
   "outputs": [],
   "source": [
    "# delete other irrelevant columns\n",
    "del train_data['growth_rate_normgroup']\n",
    "# del train_data['growth_rate_avggrp']\n",
    "del train_data['growth_rate']\n",
    "train_data.columns\n",
    "\n",
    "# change label into growth_rate\n",
    "# id, label = 'leader', 'growth_rate'\n",
    "\n",
    "# change label into growth_rate_normgroup\n",
    "# id, label = 'leader', 'growth_rate_normgroup'\n",
    "\n",
    "# change label into growth_rate group\n",
    "id, label = 'leader', 'growth_rate_avggrp'\n",
    "df_train = train_data"
   ]
  },
  {
   "cell_type": "code",
   "execution_count": null,
   "metadata": {},
   "outputs": [],
   "source": [
    "df_train.dtypes"
   ]
  },
  {
   "cell_type": "code",
   "execution_count": null,
   "metadata": {},
   "outputs": [],
   "source": [
    "#split train data and test data\n",
    "# df_train, df_test=train_test_split(train_data, test_size=0.33, random_state=1)\n",
    "# df_train.shape, df_test.shape"
   ]
  }
 ],
 "metadata": {
  "language_info": {
   "name": "python"
  },
  "orig_nbformat": 4
 },
 "nbformat": 4,
 "nbformat_minor": 2
}
