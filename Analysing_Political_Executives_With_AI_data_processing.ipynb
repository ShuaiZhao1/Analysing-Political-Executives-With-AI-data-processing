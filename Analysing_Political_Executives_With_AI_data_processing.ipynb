{
 "cells": [
  {
   "cell_type": "markdown",
   "id": "963d0e0f",
   "metadata": {},
   "source": [
    "# Analysing Political Executives with AI"
   ]
  },
  {
   "cell_type": "code",
   "execution_count": 1,
   "id": "66fa3c5c",
   "metadata": {},
   "outputs": [],
   "source": [
    "# Install the packages for data anlysis in Python\n",
    "# Install the packages for data analysis and visualisation\n",
    "# !pip install seaborn pandas matplotlib numpy IPython openpyxl"
   ]
  },
  {
   "cell_type": "code",
   "execution_count": 2,
   "id": "c525d831",
   "metadata": {
    "collapsed": true
   },
   "outputs": [],
   "source": [
    "import numpy as np\n",
    "import pandas as pd\n",
    "import matplotlib.pyplot as plt\n",
    "import seaborn as sns\n",
    "\n",
    "# Alternative to set svg for newer versions\n",
    "import matplotlib_inline\n",
    "matplotlib_inline.backend_inline.set_matplotlib_formats('svg')\n",
    "\n",
    "# Showing all the details of results\n",
    "from IPython.core.interactiveshell import InteractiveShell\n",
    "InteractiveShell.ast_node_interactivity = \"all\""
   ]
  },
  {
   "cell_type": "markdown",
   "id": "12988d58",
   "metadata": {},
   "source": [
    "## Built a total dataset\n",
    "\n",
    "- Merging data from other files\n",
    "- Read the data from Archigos excel document/dta data\n"
   ]
  },
  {
   "cell_type": "code",
   "execution_count": 3,
   "id": "63434b50",
   "metadata": {},
   "outputs": [
    {
     "name": "stderr",
     "output_type": "stream",
     "text": [
      "C:\\Users\\my\\miniconda3\\envs\\DS\\lib\\site-packages\\pandas\\io\\stata.py:1457: UnicodeWarning: \n",
      "One or more strings in the dta file could not be decoded using utf-8, and\n",
      "so the fallback encoding of latin-1 is being used.  This can happen when a file\n",
      "has been incorrectly encoded by Stata or some other software. You should verify\n",
      "the string values returned are correct.\n",
      "  warnings.warn(msg, UnicodeWarning)\n"
     ]
    }
   ],
   "source": [
    "# Read the original dta(Stata) data download from Archigos website.\n",
    "# load the data\n",
    "datafile = 'Archigos_4.1_stata14.dta'\n",
    "data = pd.read_stata(datafile)\n",
    "\n",
    "# Startdate is better than eindate, enddate is better than eoutdate\n",
    "# Change the data type of startdate and enddate to datatime\n",
    "data['startdate'] = data['startdate'].astype('datetime64[ns]')\n",
    "data['enddate'] = data['enddate'].astype('datetime64[ns]')\n",
    "data['yrbegin'] = pd.DatetimeIndex(data['startdate']).year\n",
    "data['yrend'] = pd.DatetimeIndex(data['enddate']).year\n",
    "\n",
    "# Import the data about countries grouped by three categories: Autocracy, Anocracy, Democracy\n",
    "data_deau = pd.read_excel('DeorAu_group.xlsx')\n",
    "\n",
    "# load another excel file mpd2020 with gdppc and pop\n",
    "data_mpd2020 = pd.read_excel('mpd2020.xlsx', 'Full data')\n",
    "\n",
    "# Combine data_deau with data_leader with key id=countries\n",
    "# Rename the Country-id to idacr in data_deau\n",
    "data_deau = data_deau.rename({'Country-id': 'idacr'}, axis='columns')\n",
    "data_leader_deau = pd.merge(data, data_deau, how ='left', on ='idacr')\n",
    "\n",
    "# Rename the countrycode to idacr in data_mpd2020\n",
    "# Rename the year in gdppc to yrend to merge data\n",
    "data_mpd2020 = data_mpd2020.rename({'countrycode': 'idacr', 'year': 'yrend'}, axis='columns')\n",
    "\n",
    "# Change the float to int\n",
    "data_leader_deau['yrend'] = data_leader_deau['yrend'].fillna(0.0).astype(int)\n",
    "data_leader_deau['yrbegin'] = data_leader_deau['yrbegin'].fillna(0.0).astype(int)\n",
    "\n",
    "# Combine data_leaders_deau with data_mpd2020 with key idacr and year\n",
    "data_leader_deau_gdp = pd.merge(data_leader_deau, data_mpd2020, how ='left', on =['idacr', 'yrend'])\n",
    "\n",
    "# Rename the gdppc to end_gdppc in data_leaders_deau_gdp\n",
    "data_leader_deau_gdp = data_leader_deau_gdp.rename({'gdppc': 'end_gdppc'}, axis='columns')\n",
    "\n",
    "data_gdp = pd.read_excel('data_gdp.xlsx')\n",
    "data_gdp = data_gdp.rename({'year': 'yrbegin'}, axis='columns')\n",
    "data_all = pd.merge(data_leader_deau_gdp, data_gdp, how ='left', on =['idacr', 'yrbegin'])\n",
    "\n",
    "# Rename the gdppc to begin_gdppc in data_all\n",
    "data_all = data_all.rename({'gdppc': 'begin_gdppc'}, axis='columns')\n",
    "\n",
    "# Calculate the leaders' age, when they first into power\n",
    "# See the characteristics of yrborn, there is something wrong in the data. \n",
    "# Because I change the data type of yrborn, from int to datetime.\n",
    "\n",
    "# age= yrbegin- yrborn\n",
    "data_all['age'] = data_all['yrbegin'] - data_all['yrborn']\n",
    "\n",
    "# See the distribution of age\n",
    "# data_all.groupby(['age']).mean()"
   ]
  },
  {
   "cell_type": "markdown",
   "id": "eed4b4fa",
   "metadata": {},
   "source": [
    "## Calculate their tenure\n",
    " \n",
    "- Calculate the tenure\n",
    "- Check the data about our data about tenure \n",
    "- Delete tenure < 1\n",
    "- Group the data by leaders and sum their tenure together ？？"
   ]
  },
  {
   "cell_type": "code",
   "execution_count": 4,
   "id": "51493fe6",
   "metadata": {},
   "outputs": [],
   "source": [
    "# tenure= enddate or eoutdate - startdate  or  eindate (Unit: years)\n",
    "# if enddate is null, it has two possibilities: \n",
    "# 1. leader is still in office, use the date now; 2. not available.  \n",
    "\n",
    "import datetime\n",
    "\n",
    "data_all['startdate'] = pd.to_datetime(data_all['startdate']).dt.date\n",
    "data_all['enddate'] = pd.to_datetime(data_all['enddate']).dt.date\n",
    "\n",
    "data_all['enddate'] = np.where(data_all['enddate'].isnull(),\n",
    "                                datetime.datetime.now().date(),\n",
    "                                data_all['enddate'])\n",
    "\n",
    "data_all['tenure'] = (data_all['enddate'] - data_all['startdate'])/np.timedelta64(1, 'Y')\n",
    "\n",
    "# data_all.groupby(['tenure']).mean()\n",
    "\n",
    "data_all.drop(data_all[data_all['tenure'] < 1].index , inplace=True)\n",
    "\n",
    "# Add tenure to the excel grouped by leaders\n",
    "# Some leaders may have more than one term\n",
    "# Tenure: merge the duplicates and sum the tenure.\n",
    "# data_all=data_all.groupby(['leader']).sum()\n",
    "\n",
    "# Check if there are any abonormal data_all.\n",
    "# data_all.groupby(['tenure']).mean()"
   ]
  },
  {
   "cell_type": "code",
   "execution_count": 5,
   "id": "b1fb259d",
   "metadata": {},
   "outputs": [],
   "source": [
    "\n",
    "# calulate the growth rate\n",
    "data_all['growth_rate'] = (data_all['end_gdppc'] / data_all['begin_gdppc'] - 1) / data_all['tenure']\n",
    "\n",
    "# data_all.describe()\n",
    "\n",
    "data_all.dropna(subset = ['growth_rate'], inplace=True)"
   ]
  },
  {
   "cell_type": "code",
   "execution_count": 6,
   "id": "7817f876",
   "metadata": {},
   "outputs": [
    {
     "data": {
      "text/plain": [
       "obsid                                        object\n",
       "leadid                                       object\n",
       "ccode                                         int16\n",
       "idacr                                        object\n",
       "leader                                       object\n",
       "startdate                                    object\n",
       "eindate                              datetime64[ns]\n",
       "enddate                                      object\n",
       "eoutdate                             datetime64[ns]\n",
       "entry                                        object\n",
       "exit                                         object\n",
       "exitcode                                     object\n",
       "prevtimesinoffice                              int8\n",
       "posttenurefate                               object\n",
       "gender                                       object\n",
       "yrborn                                        int16\n",
       "yrdied                                        int16\n",
       "borndate                                     object\n",
       "ebirthdate                           datetime64[ns]\n",
       "deathdate                                    object\n",
       "edeathdate                           datetime64[ns]\n",
       "dbpediauri                                   object\n",
       "numentry                                      int16\n",
       "numexit                                     float32\n",
       "numexitcode                                   int16\n",
       "numposttenurefate                           float32\n",
       "fties                                        object\n",
       "ftcur                                        object\n",
       "yrbegin                                       int32\n",
       "yrend                                         int32\n",
       "Country                                      object\n",
       "Democracy                                   float64\n",
       "Autocracy                                   float64\n",
       "Polity datasets IV number[11][12]           float64\n",
       "Polity datasets IV category                  object\n",
       "country                                      object\n",
       "end_gdppc                                   float64\n",
       "pop_x                                       float64\n",
       "begin_gdppc                                 float64\n",
       "pop_y                                       float64\n",
       "age                                           int32\n",
       "tenure                                      float64\n",
       "growth_rate                                 float64\n",
       "dtype: object"
      ]
     },
     "execution_count": 6,
     "metadata": {},
     "output_type": "execute_result"
    }
   ],
   "source": [
    "data_all.dtypes"
   ]
  },
  {
   "cell_type": "markdown",
   "id": "e983705d",
   "metadata": {},
   "source": [
    "## Data cleaning\n",
    "\n",
    "### Delete the irrelevant data with irrelevant columns"
   ]
  },
  {
   "cell_type": "code",
   "execution_count": 7,
   "id": "0a6ac00d",
   "metadata": {},
   "outputs": [
    {
     "data": {
      "text/plain": [
       "Index(['ccode', 'leader', 'entry', 'exit', 'exitcode', 'prevtimesinoffice',\n",
       "       'posttenurefate', 'gender', 'yrborn', 'yrdied', 'numentry', 'numexit',\n",
       "       'yrbegin', 'yrend', 'country', 'end_gdppc', 'pop_x', 'begin_gdppc',\n",
       "       'pop_y', 'age', 'tenure', 'growth_rate', 'fties_range'],\n",
       "      dtype='object')"
      ]
     },
     "execution_count": 7,
     "metadata": {},
     "output_type": "execute_result"
    }
   ],
   "source": [
    "# 'country_x','country_y'\n",
    "data_all.drop(columns=['obsid',\n",
    "                   'leadid',\n",
    "                   'idacr',\n",
    "                   'startdate',\n",
    "                   'eindate',\n",
    "                   'enddate',\n",
    "                   'eoutdate',\n",
    "                   'borndate',\n",
    "                   'ebirthdate',\n",
    "                   'deathdate',\n",
    "                   'edeathdate',\n",
    "                   'dbpediauri',\n",
    "                  'numexitcode',\n",
    "                  'numposttenurefate',\n",
    "                  'ftcur',\n",
    "                  'Country',\n",
    "                  'Polity datasets IV number[11][12]',\n",
    "                  'Polity datasets IV category'], inplace=True)\n",
    "\n",
    "# Deal with family ties and gender \n",
    "data_all['fties_range'] = np.where(data_all['fties'].isnull(), 0.5, 1)\n",
    "data_all['gender'] = np.where(data_all['gender']=='M', 0.5, 1)\n",
    "\n",
    "\n",
    "data_all.drop(columns=['fties',\n",
    "                       'Democracy',\n",
    "                       'Autocracy'], inplace=True)\n",
    "                       \n",
    "# Delete the columns that more than 30% is null \n",
    "# Delete the column >= 30% is null, we can see the remaining column names.\n",
    "null_sum=data_all.isnull().sum()\n",
    "data_all.columns[null_sum<len(data_all)*0.3] # columns will keep\n",
    "\n",
    "# Drop the columns that at least 30% values are null\n",
    "data_all.drop(columns=data_all.columns[null_sum > len(data_all)*0.3], inplace=True)\n",
    "\n",
    "# Check if there are any abnormal values, we need to pay attention to the negative numbers. \n",
    "# Some leaders are still alive, so the yrdied is negative number, etc.\n",
    "# print(data.describe())"
   ]
  },
  {
   "cell_type": "code",
   "execution_count": 8,
   "id": "805f6673",
   "metadata": {},
   "outputs": [],
   "source": [
    "data_all.dropna(subset = ['leader'], inplace=True)"
   ]
  },
  {
   "cell_type": "code",
   "execution_count": null,
   "id": "42fa2d7f",
   "metadata": {},
   "outputs": [],
   "source": [
    "# First we see the characteristics of entry, there are four different kinds of types.\n",
    "# data.groupby(['entry']).mean()\n",
    "\n",
    "# Group the leaders by entry, see the compare between each group.\n",
    "# ax= sns.histplot(data['entry'])\n",
    "\n",
    "# Second we see the characteristics of exit, there are eight different kinds of types.\n",
    "# data.groupby(['exit']).mean()\n",
    "\n",
    "# Group the leaders by exit, see the compare between each group.\n",
    "# sns.countplot(y='exit',data=data)"
   ]
  },
  {
   "cell_type": "code",
   "execution_count": 9,
   "id": "918fdda1",
   "metadata": {},
   "outputs": [
    {
     "data": {
      "text/plain": [
       "922"
      ]
     },
     "execution_count": 9,
     "metadata": {},
     "output_type": "execute_result"
    }
   ],
   "source": [
    "# Delete if yrbegin > yrend, age < 0\n",
    "# print(data_all[data_all['yrbegin'] > data_all['yrend']]) #age < 0\n",
    "data_all.drop(data_all[data_all['yrbegin'] > data_all['yrend']].index, inplace=True)\n",
    "\n",
    "(data_all['yrbegin'] < 0).count() #yrbegin > 0\n",
    "\n",
    "# Delete the data_all yrbegin < 0, yrend < 0, yrborn<0, yrdied<0\n",
    "data_all.drop(data_all[data_all['yrborn']<0].index , inplace=True) \n",
    "data_all.drop(data_all[data_all['yrdied']<0].index, inplace=True)\n",
    "data_all.drop(data_all[data_all['yrbegin']<0].index , inplace=True) \n",
    "data_all.drop(data_all[data_all['yrend']<0].index, inplace=True)\n",
    "# print(data_all.shape)\n",
    "\n",
    "# Find if yrbegin > yrdied, lifespan < 0 \n",
    "# print(data_all[data_all['yrbegin'] > data_all['yrdied']]) # begin to come into power after the leader is died.\n",
    "\n",
    "# Delete the data_all yrbegin > yrdied\n",
    "data_all.drop(data_all[data_all['yrbegin'] > data_all['yrdied']].index, inplace=True) "
   ]
  },
  {
   "cell_type": "markdown",
   "id": "84f2057c",
   "metadata": {},
   "source": [
    "### Duplicated leader with more than one age, we pick up the first??"
   ]
  },
  {
   "cell_type": "code",
   "execution_count": null,
   "id": "d38e62b3",
   "metadata": {},
   "outputs": [],
   "source": [
    "# # Find duplicates and sum the duplicates.\n",
    "# print(data.leader.duplicated().sum())\n",
    "\n",
    "# # Sum the non-duplicates.\n",
    "# print((~data.leader.duplicated()).sum())\n",
    "\n",
    "# # The first occurrence gets kept, and all others get identified as duplicates\n",
    "# data.leader=data.leader.drop_duplicates(keep='first')\n",
    "\n",
    "# # Save the groupby leader dataframe\n",
    "# data_leader = data.groupby(['leader'])\n",
    "# data.to_excel(r'data_all_leaders_group.xlsx', index = False)\n",
    "\n",
    "# print(data_leader.dtypes)\n",
    "\n",
    "# data_leader.describe()"
   ]
  },
  {
   "cell_type": "markdown",
   "id": "23db6b63",
   "metadata": {},
   "source": [
    "### Draw a figure about age"
   ]
  },
  {
   "cell_type": "code",
   "execution_count": null,
   "id": "19d26f65",
   "metadata": {},
   "outputs": [],
   "source": [
    "# # See the distribution of age\n",
    "# import seaborn as sns\n",
    "# ax = sns.histplot(data.age, kde=True)\n",
    "\n",
    "# import seaborn as sns\n",
    "# sns.histplot(data.age,bins=[1, 30, 40, 50, 60, 70, 80, 90] ,color = 'orange', shrink=.9)"
   ]
  },
  {
   "cell_type": "markdown",
   "id": "1a53cbd8",
   "metadata": {},
   "source": [
    "### Group the tenure into five possible values\n",
    "\n",
    "- 1 for single term - equal to or less than 4 years; \n",
    "- 2 for two terms - between 5 and 8 years;\n",
    "- 3 for three terms -  between 9 and 12 years;\n",
    "- 4 for four terms - between 13 and 16 years;\n",
    "- 5 for five or more terms)</font> "
   ]
  },
  {
   "cell_type": "code",
   "execution_count": null,
   "id": "f10ae2b5",
   "metadata": {
    "scrolled": true
   },
   "outputs": [],
   "source": [
    "# Divied tenure group to five groups\n",
    "# tenure_groups= pd.cut(data['tenure'], bins=[1, 4, 8, 12, 16, 20, np.inf])\n",
    "# data.groupby(tenure_groups).mean()\n",
    "\n",
    "# See the distribution of tenure\n",
    "# ax = sns.histplot(data.tenure,kde=True, shrink = 0.8, bins=20) \n",
    "\n",
    "                 #, element=\"step\", fill=False)"
   ]
  },
  {
   "cell_type": "code",
   "execution_count": null,
   "id": "ba58738b",
   "metadata": {},
   "outputs": [],
   "source": [
    "# See the distribution of tenure\n",
    "# sns.histplot(data.tenure,bins=[0, 4, 8, 12, 16, 20, np.inf], color = 'pink', shrink=.9)"
   ]
  },
  {
   "cell_type": "code",
   "execution_count": null,
   "id": "62b4f642",
   "metadata": {},
   "outputs": [],
   "source": [
    "# data.dtypes\n",
    "\n",
    "# Visualize the differences about leaders' gender for the whole data set\n",
    "# ax= sns.histplot(data.gender, shrink = 0.8, bins=10, color='grey') "
   ]
  },
  {
   "cell_type": "code",
   "execution_count": null,
   "id": "f313e95d",
   "metadata": {},
   "outputs": [],
   "source": [
    "# # The correlations of all the variables used in this study sample: leaders' age, leaders' tenure\n",
    "# corr= data.corr()\n",
    "# corr\n",
    "\n",
    "# # Visualize the corelation between each column\n",
    "# fig = plt.figure(figsize =(8,8))\n",
    "# plt.matshow(corr, cmap='RdBu', fignum = fig.number)\n",
    "# plt.xticks(range(len(corr.columns)), corr.columns, rotation = 'vertical');\n",
    "# plt.yticks(range(len(corr.columns)), corr.columns);"
   ]
  },
  {
   "cell_type": "code",
   "execution_count": null,
   "id": "bb1ae4f3",
   "metadata": {},
   "outputs": [],
   "source": [
    "# The relationship between age and tenure\n",
    "# data.plot(kind = 'scatter', x = 'age', y = 'tenure', figsize = (6,6))\n",
    "\n",
    "# Save the py file to excel\n",
    "# data.to_excel('data_all_leaders_group.xlsx', index = False)\n",
    "# Tranfert the .py file to excel"
   ]
  },
  {
   "cell_type": "code",
   "execution_count": null,
   "id": "b579dfc7",
   "metadata": {},
   "outputs": [],
   "source": [
    "# import seaborn as sns\n",
    "# ax= sns.histplot(data_all['growth_rate'])"
   ]
  },
  {
   "cell_type": "code",
   "execution_count": null,
   "id": "371c4518",
   "metadata": {},
   "outputs": [],
   "source": [
    "# import numpy as np\n",
    "# data['fties_range'] = np.where(data['fties'].isnull(), 0.5, 1)\n",
    "# data['gender'] = np.where(data['gender']=='M', 0.5, 1)\n",
    "#data['logarithm_gdppc'] = np.log(data['gdppc'])\n",
    "#data['normal_tenure'] = (data['tenure'] - data['tenure'].mean()) / data['tenure'].std()#normalize tenure with z-score"
   ]
  },
  {
   "cell_type": "code",
   "execution_count": null,
   "id": "6ce4cbda",
   "metadata": {},
   "outputs": [],
   "source": [
    "# corr= data.corr()\n",
    "\n",
    "# #visualize the corelation between each column\n",
    "# fig = plt.figure(figsize =(8,8))\n",
    "# #plt.matshow(corr, cmap='RdBu', fignum = fig.number)\n",
    "# plt.xticks(range(len(corr.columns)), corr.columns, rotation = 'vertical');\n",
    "# sns.heatmap(corr, cmap='RdBu')\n",
    "# plt.yticks(range(len(corr.columns)), corr.columns)\n",
    "# fig.savefig('heatmap.png',dpi=600)"
   ]
  },
  {
   "cell_type": "markdown",
   "id": "62b95cc1",
   "metadata": {},
   "source": [
    "### Normalization"
   ]
  },
  {
   "cell_type": "code",
   "execution_count": 11,
   "id": "ebe7c578",
   "metadata": {},
   "outputs": [],
   "source": [
    "#ccode int\n",
    "min, max = data_all['ccode'].min(), data_all['ccode'].max()\n",
    "data_all['ccode'] = (data_all['ccode']-min)/(max-min)\n",
    "\n",
    "#entry, regular 1...\n",
    "data_all['entry'] = data_all['entry'].replace({'Regular': 1,'Irregular': 2, 'Foreign Imposition': 3})\n",
    "data_all['entry']=data_all['entry'].astype(float, errors='raise')\n",
    "min, max = data_all['entry'].min(), data_all['entry'].max()\n",
    "data_all['entry']= (data_all['entry']-min)/(max-min)\n",
    "\n",
    "#exit, regular 1...\n",
    "data_all['exit'] = data_all['exit'].replace({'Regular': 1, 'Irregular': 2, 'Foreign': 3,'Natural Death': 4, \n",
    "                                    'Retired Due to Ill Health': 5, 'Suicide': 6}) \n",
    "data_all['exit']=data_all['exit'].astype(float, errors='raise')\n",
    "min, max = data_all['exit'].min(), data_all['exit'].max()\n",
    "data_all['exit']= (data_all['exit']-min)/(max-min)\n",
    "\n",
    "#exitcode, regular 1...\n",
    "data_all['exitcode'] = data_all['exitcode'].replace({'Assassination by Unsupported Individual': 1,'Irregular, Other': 2,\n",
    "                                             'Popular Protest, with Foreign Support': 3, \n",
    "                                             'Popular Protest, without Foreign Support': 4,\n",
    "                                             'Regular': 5, 'Removed by Military, with Foreign Support': 6,\n",
    "                                             'Removed by Military, without Foreign Support': 7, \n",
    "                                             'Removed by Other Government Actors, with Foreign Support': 8,\n",
    "                                             'Removed by Other Government Actors, without Foreign Support': 9,\n",
    "                                             'Removed by Rebels, with Foreign Support': 10,\n",
    "                                             'Removed by Rebels, without Foreign Support': 11,\n",
    "                                             'Removed in Military Power Struggle Short of Coup': 12,\n",
    "                                             'Removed through Threat of Foreign Force': 13, 'Unknown':14}) \n",
    "data_all['exitcode']=data_all['exitcode'].astype(float, errors='raise')\n",
    "min, max = data_all['exitcode'].min(), data_all['exitcode'].max()\n",
    "data_all['exitcode']= (data_all['exitcode']-min)/(max-min)"
   ]
  },
  {
   "cell_type": "code",
   "execution_count": null,
   "id": "121b748e",
   "metadata": {},
   "outputs": [],
   "source": [
    "#posttenurefate\n",
    "data_all['posttenurefate'] = data_all['posttenurefate'].replace({'Death': 1, 'Exile': 2, 'Imprisonment': 3, \n",
    "                                     'Missing: Natural Death within Six Months of Losing Office': 4,\n",
    "                                     'Missing: No Information Found': 5, 'OK': 6, 'Suicide': 7}) \n",
    "data_all['posttenurefate']=data_all['posttenurefate'].astype(float, errors='raise')\n",
    "min, max = data_all['posttenurefate'].min(), data_all['posttenurefate'].max()\n",
    "data_all['posttenurefate']= (data_all['posttenurefate']-min)/(max-min)\n",
    "\n",
    "#prevtimesinoffice\n",
    "min, max = data_all['prevtimesinoffice'].min(), data_all['prevtimesinoffice'].max()\n",
    "data_all['prevtimesinoffice']= (data_all['prevtimesinoffice']-min)/(max-min)\n",
    "\n",
    "#yrborn\n",
    "min, max = data_all['yrborn'].min(), data_all['yrborn'].max()\n",
    "data_all['yrborn']= (data_all['yrborn']-min)/(max-min)\n",
    "\n",
    "#yrdied\n",
    "min, max = data_all['yrdied'].min(), data_all['yrdied'].max()\n",
    "data_all['yrdied']= (data_all['yrdied']-min)/(max-min)\n",
    "\n",
    "#numentry\n",
    "min, max = data_all['numentry'].min(), data_all['numentry'].max()\n",
    "data_all['numentry']= (data_all['numentry']-min)/(max-min)\n",
    "\n",
    "#numexit\n",
    "min, max = data_all['numexit'].min(), data_all['numexit'].max()\n",
    "data_all['numexit']= (data_all['numexit']-min)/(max-min)\n",
    "\n",
    "#delete numexitcode, numposttenurefate\n",
    "data_all.drop([  \n",
    "'numexitcode',\n",
    "'numposttenurefate',\n",
    "    'fties',\n",
    "    'ftcur',\n",
    "    'Polity datasets IV category'\n",
    "], axis=1, inplace=True)\n",
    "\n",
    "#yrbegin\n",
    "min, max = data_all['yrbegin'].min(), data_all['yrbegin'].max()\n",
    "data_all['yrbegin']= (data_all['yrbegin']-min)/(max-min)\n",
    "\n",
    "#yrend\n",
    "min, max = data_all['yrend'].min(), data_all['yrend'].max()\n",
    "data_all['yrend']= (data_all['yrend']-min)/(max-min)\n",
    "\n",
    "#age\n",
    "min, max = data_all['age'].min(), data_all['age'].max()\n",
    "data_all['age']= (data_all['age']-min)/(max-min)\n",
    "\n",
    "#tenure\n",
    "min, max = data_all['tenure'].min(), data_all['tenure'].max()\n",
    "data_all['tenure']= (data_all['tenure']-min)/(max-min)\n",
    "\n",
    "#end_gdppc\n",
    "min, max = data_all['end_gdppc'].min(), data_all['end_gdppc'].max()\n",
    "data_all['end_gdppc']= (data_all['end_gdppc']-min)/(max-min)\n",
    "\n",
    "#pop_x\n",
    "min, max = data_all['pop_x'].min(), data_all['pop_x'].max()\n",
    "data_all['pop_x']= (data_all['pop_x']-min)/(max-min)\n",
    "\n",
    "#begin_gdppc\n",
    "min, max = data_all['begin_gdppc'].min(), data_all['begin_gdppc'].max()\n",
    "data_all['begin_gdppc']= (data_all['begin_gdppc']-min)/(max-min)\n",
    "\n",
    "#pop_y\n",
    "min, max = data_all['pop_y'].min(), data_all['pop_y'].max()\n",
    "data_all['pop_y']= (data_all['pop_y']-min)/(max-min)\n",
    "\n",
    "data_all.dropna(subset = ['growth_rate'], inplace=True)\n",
    "data_all.shape\n",
    "\n",
    "# Look at the distribution of the data_all put into the model\n",
    "ax = sns.histplot(data_all['growth_rate'])\n",
    "\n",
    "mean = data_all['growth_rate'].mean()\n",
    "std = data_all['growth_rate'].std()\n",
    "print(mean)\n",
    "print(std)"
   ]
  },
  {
   "cell_type": "code",
   "execution_count": null,
   "id": "6dacddc1",
   "metadata": {},
   "outputs": [],
   "source": [
    "import numpy as np\n",
    "from scipy.stats import norm\n",
    "import matplotlib.pyplot as plt\n",
    "\n",
    "# Generate some data for this\n",
    "# demonstration.\n",
    "dta = data['growth_rate']\n",
    "\n",
    "# Fit a normal distribution to\n",
    "# the data:\n",
    "# mean and standard deviation\n",
    "mu, std = norm.fit(dta)\n",
    "\n",
    "# Plot the histogram.\n",
    "plt.hist(dta, bins=100, density=True, alpha=0.6)\n",
    "\n",
    "# Plot the PDF.\n",
    "xmin, xmax = plt.xlim()\n",
    "x = np.linspace(xmin, xmax, 100)\n",
    "p = norm.pdf(x, mu, std)\n",
    "\n",
    "plt.plot(x, p, 'k', linewidth=2)\n",
    "# title = \"Fit Values: {:.2f} and {:.2f}\".format(mu, std)\n",
    "# plt.title(title)\n",
    "\n",
    "plt.show()\n"
   ]
  },
  {
   "cell_type": "code",
   "execution_count": null,
   "id": "bed3231f",
   "metadata": {},
   "outputs": [],
   "source": [
    "data['growth_rate'] = data['growth_rate']*10\n",
    "\n",
    "ax = sns.histplot(data.growth_rate,bins=[-0.4, -0.05, 0, 0.05, 0.15, 0.5], color ='pink', shrink=.9)"
   ]
  },
  {
   "cell_type": "code",
   "execution_count": null,
   "id": "18a00bd5",
   "metadata": {},
   "outputs": [],
   "source": [
    "x = data['growth_rate']\n",
    "y = np.histogram(data['growth_rate'])\n",
    "print(x)\n",
    "print(y)\n",
    "\n",
    "plt.hist(data['growth_rate'], bins=100, density=True, alpha=0.5, histtype='stepfilled' )"
   ]
  },
  {
   "cell_type": "code",
   "execution_count": null,
   "id": "867eeda2",
   "metadata": {},
   "outputs": [],
   "source": [
    "# group growth_rate into seven groups according to the central limit theorem\n",
    "mu, std = norm.fit(data['growth_rate'])\n",
    "conditions = [\n",
    "    (data['growth_rate'] < -mu-3*std),\n",
    "    (data['growth_rate'] >= -mu-3*std) & (data['growth_rate'] < -mu-2*std),\n",
    "    (data['growth_rate'] >= -mu-2*std) & (data['growth_rate'] < -mu-std),\n",
    "    (data['growth_rate'] >= -mu-std) & (data['growth_rate'] < mu+std),\n",
    "    (data['growth_rate'] >= mu+std) & (data['growth_rate'] < mu+2*std),\n",
    "    (data['growth_rate'] >= mu+2*std) & (data['growth_rate'] < mu+3*std),\n",
    "    (data['growth_rate'] >= mu+3*std)\n",
    "]\n",
    "\n",
    "values = [7, 6, 5, 4, 3, 2, 1]\n",
    "\n",
    "data['growth_rate_normgroup'] = np.select(conditions, values)"
   ]
  },
  {
   "cell_type": "code",
   "execution_count": null,
   "id": "d0d8d0ec",
   "metadata": {},
   "outputs": [],
   "source": [
    "# group growth_rate into seven groups according to min and max\n",
    "min, max = data['growth_rate'].min(), data['growth_rate'].max()\n",
    "conditions = [\n",
    "    (data['growth_rate'] < min+1/7*(max-min)),\n",
    "    (data['growth_rate'] >= min+1/7*(max-min)) & (data['growth_rate'] < min+2/7*(max-min)),\n",
    "    (data['growth_rate'] >= min+2/7*(max-min)) & (data['growth_rate'] < min+3/7*(max-min)),\n",
    "    (data['growth_rate'] >= min+3/7*(max-min)) & (data['growth_rate'] < min+4/7*(max-min)),\n",
    "    (data['growth_rate'] >= min+4/7*(max-min)) & (data['growth_rate'] < min+5/7*(max-min)),\n",
    "    (data['growth_rate'] >= min+5/7*(max-min)) & (data['growth_rate'] < min+6/7*(max-min)),\n",
    "    (data['growth_rate'] >= min+6/7*(max-min))\n",
    "]\n",
    "    \n",
    "values = [7, 6, 5, 4, 3, 2, 1]\n",
    "\n",
    "data['growth_rate_avggrp'] = np.select(conditions, values)"
   ]
  },
  {
   "cell_type": "code",
   "execution_count": null,
   "id": "3110dce5",
   "metadata": {},
   "outputs": [],
   "source": [
    "# group growth_rate in desc\n",
    "sorted_data = data.sort_values(\"growth_rate\", ascending=False)"
   ]
  },
  {
   "cell_type": "code",
   "execution_count": null,
   "id": "e86e5e43",
   "metadata": {},
   "outputs": [],
   "source": [
    "print(sorted_data)"
   ]
  },
  {
   "cell_type": "code",
   "execution_count": null,
   "id": "d42fd3a3",
   "metadata": {},
   "outputs": [],
   "source": [
    "# Group leaders into seven groups each group with approximately same leaders, the rest is placed in the last group\n",
    "groups = range(1,8)\n",
    "data['growth_rate_avggrp'] = np.concatenate(\n",
    "                [np.repeat(groups,int(len(data)/7)), \n",
    "                 np.repeat([7],int(len(data)%7))])"
   ]
  },
  {
   "cell_type": "code",
   "execution_count": null,
   "id": "0aed2c5b",
   "metadata": {},
   "outputs": [],
   "source": [
    "ax = sns.histplot(data['growth_rate_avggrp'])"
   ]
  },
  {
   "cell_type": "code",
   "execution_count": null,
   "id": "114251ad",
   "metadata": {},
   "outputs": [],
   "source": [
    "# print(data['growth_rate_avggrp'])"
   ]
  },
  {
   "cell_type": "code",
   "execution_count": null,
   "id": "3885e4a0",
   "metadata": {},
   "outputs": [],
   "source": [
    "data.describe()"
   ]
  },
  {
   "cell_type": "code",
   "execution_count": null,
   "id": "456d5d11",
   "metadata": {},
   "outputs": [],
   "source": [
    "ax = sns.histplot(data['age'])"
   ]
  },
  {
   "cell_type": "code",
   "execution_count": null,
   "id": "6886b4c2",
   "metadata": {},
   "outputs": [],
   "source": [
    "ax = sns.histplot(data['tenure'])"
   ]
  },
  {
   "cell_type": "code",
   "execution_count": null,
   "id": "4f5f29b5",
   "metadata": {},
   "outputs": [],
   "source": [
    "ax = sns.histplot(data_com3['gender'])"
   ]
  },
  {
   "cell_type": "code",
   "execution_count": null,
   "id": "670edc8e",
   "metadata": {},
   "outputs": [],
   "source": [
    "ax = sns.histplot(data['normal_tenure'])"
   ]
  },
  {
   "cell_type": "code",
   "execution_count": null,
   "id": "2b7428f5",
   "metadata": {
    "scrolled": true
   },
   "outputs": [],
   "source": [
    "#drop growth_rate\n",
    "data.drop(['growth_rate'], axis=1, inplace=True)"
   ]
  },
  {
   "cell_type": "code",
   "execution_count": null,
   "id": "797475b7",
   "metadata": {},
   "outputs": [],
   "source": [
    "#delete growth_rate\n",
    "data.drop([  \n",
    "'growth_rate'\n",
    "], axis=1, inplace=True)"
   ]
  },
  {
   "cell_type": "code",
   "execution_count": null,
   "id": "fa951583",
   "metadata": {},
   "outputs": [],
   "source": [
    "#data.to_csv(r'/Users/zhaoshuai/Desktop/DA/Data/Data-2016/data_group_nd.csv', index = False)\n",
    "data.to_csv(r'/Users/zhaoshuai/Desktop/DA/Data/Data-2016/data_norm_avggrp.csv', index = False)\n",
    "# tranfert the .py file to excel/csv"
   ]
  },
  {
   "cell_type": "code",
   "execution_count": null,
   "id": "f4bf16e8",
   "metadata": {
    "scrolled": true
   },
   "outputs": [],
   "source": [
    "#test automl model\n",
    "#install autogluon\n",
    "!pip install autogluon\n",
    "!pip install \"mxnet<2.0.0\""
   ]
  },
  {
   "cell_type": "code",
   "execution_count": null,
   "id": "5ba2fcf9",
   "metadata": {},
   "outputs": [],
   "source": [
    "#train data\n",
    "from autogluon.tabular import TabularDataset, TabularPredictor\n",
    "from sklearn.model_selection import train_test_split #splitting the dataset"
   ]
  },
  {
   "cell_type": "code",
   "execution_count": null,
   "id": "6ca59687",
   "metadata": {},
   "outputs": [],
   "source": [
    "import numpy as np"
   ]
  },
  {
   "cell_type": "code",
   "execution_count": null,
   "id": "42720e0a",
   "metadata": {},
   "outputs": [],
   "source": [
    "train_data = TabularDataset('/Users/zhaoshuai/Desktop/DA/Data/Data-2016/data_normgroup.csv')"
   ]
  },
  {
   "cell_type": "code",
   "execution_count": null,
   "id": "21b22b41",
   "metadata": {},
   "outputs": [],
   "source": [
    "train_data = TabularDataset('/Users/zhaoshuai/Desktop/DA/Data/Data-2016/data_norm_avggrp.csv')"
   ]
  },
  {
   "cell_type": "code",
   "execution_count": null,
   "id": "95f7c9b1",
   "metadata": {},
   "outputs": [],
   "source": [
    "train_data = TabularDataset('/Users/zhaoshuai/Desktop/DA/Data/Data-2016/data_allvar.csv')"
   ]
  },
  {
   "cell_type": "code",
   "execution_count": null,
   "id": "11d2195d",
   "metadata": {},
   "outputs": [],
   "source": [
    "type(train_data)"
   ]
  },
  {
   "cell_type": "code",
   "execution_count": null,
   "id": "e05a8c67",
   "metadata": {},
   "outputs": [],
   "source": [
    "id, label = 'leader', 'growth_rate'\n",
    "#data cleaning\n",
    "#large_val_cols = ['age','tenure']\n",
    "#for c in large_val_cols:\n",
    "#    train_data[c] = np.log(train_data[c]+1)"
   ]
  },
  {
   "cell_type": "code",
   "execution_count": null,
   "id": "bfcdb526",
   "metadata": {},
   "outputs": [],
   "source": [
    "#change label into growth_rate group\n",
    "id, label = 'leader', 'growth_rate_arggrp'\n",
    "#data cleaning\n",
    "#large_val_cols = ['age','tenure']\n",
    "#for c in large_val_cols:\n",
    "#    train_data[c] = np.log(train_data[c]+1)"
   ]
  },
  {
   "cell_type": "code",
   "execution_count": null,
   "id": "2fff409c",
   "metadata": {},
   "outputs": [],
   "source": [
    "train_data.columns"
   ]
  },
  {
   "cell_type": "code",
   "execution_count": null,
   "id": "c6131538",
   "metadata": {},
   "outputs": [],
   "source": [
    "train_data.head()"
   ]
  },
  {
   "cell_type": "code",
   "execution_count": null,
   "id": "08d67b5a",
   "metadata": {},
   "outputs": [],
   "source": [
    "train_data.describe()"
   ]
  },
  {
   "cell_type": "code",
   "execution_count": null,
   "id": "768e3a9b",
   "metadata": {},
   "outputs": [],
   "source": [
    "#split train data and test data\n",
    "df_train,df_test=train_test_split(train_data, test_size=0.33, random_state=1)\n",
    "df_train.shape, df_test.shape"
   ]
  },
  {
   "cell_type": "code",
   "execution_count": null,
   "id": "d646a5ae",
   "metadata": {},
   "outputs": [],
   "source": [
    "predictor = TabularPredictor(label=label).fit(\n",
    "    df_train.drop(columns=[id, 'leader']))"
   ]
  },
  {
   "cell_type": "code",
   "execution_count": null,
   "id": "5e89213f",
   "metadata": {
    "scrolled": true
   },
   "outputs": [],
   "source": [
    "predictor.leaderboard(df_test.drop(columns=[id, 'leader']), silent=True)"
   ]
  },
  {
   "cell_type": "code",
   "execution_count": null,
   "id": "2ab18d4f",
   "metadata": {
    "scrolled": true
   },
   "outputs": [],
   "source": [
    "predictor.feature_importance(df_test, subsample_size=None)"
   ]
  },
  {
   "cell_type": "code",
   "execution_count": null,
   "id": "da9f6ce0",
   "metadata": {},
   "outputs": [],
   "source": [
    "predictor.evaluate(df_test.drop(columns=[id, 'leader']))"
   ]
  },
  {
   "cell_type": "code",
   "execution_count": null,
   "id": "8cd6fb33",
   "metadata": {},
   "outputs": [],
   "source": [
    "#better model with GPU, data contain large amout of text, use multimodal to transform characteristics,\n",
    "#multi-model fusion\n",
    "#hyperparameters='multimodal',\n",
    "#num_stack_levels=1, num_bag_folds=5"
   ]
  },
  {
   "cell_type": "markdown",
   "id": "da1145ab",
   "metadata": {},
   "source": [
    "<font color='red' size=0>7.4 Group the data by Polity datasets IV category</font> "
   ]
  },
  {
   "cell_type": "code",
   "execution_count": null,
   "id": "c1e9c126",
   "metadata": {},
   "outputs": [],
   "source": [
    "#Group by the three types, and count the number of each group of the three\n",
    "df1.groupby(['Polity datasets IV category']).count()"
   ]
  },
  {
   "cell_type": "markdown",
   "id": "5ec60e10",
   "metadata": {},
   "source": [
    "<font color='red' size=0>7.5 Draw a figure to see the difference between each group in Polity datasets</font> "
   ]
  },
  {
   "cell_type": "code",
   "execution_count": null,
   "id": "6a55521e",
   "metadata": {},
   "outputs": [],
   "source": [
    "#Use seaborn package to visualize the difference between the three types\n",
    "import seaborn as sns\n",
    "ax= sns.histplot(df1['Polity datasets IV category'])"
   ]
  },
  {
   "cell_type": "markdown",
   "id": "7fb8e36a",
   "metadata": {},
   "source": [
    "<font color='red' size=0>7.6 Group the data by countries</font> "
   ]
  },
  {
   "cell_type": "code",
   "execution_count": null,
   "id": "2021efb4",
   "metadata": {},
   "outputs": [],
   "source": [
    "df1.groupby(['Country-id']).mean()"
   ]
  },
  {
   "cell_type": "code",
   "execution_count": null,
   "id": "6fda3e16",
   "metadata": {},
   "outputs": [],
   "source": [
    "print(df1)"
   ]
  },
  {
   "cell_type": "markdown",
   "id": "cde28b02",
   "metadata": {},
   "source": [
    "<font color='blue' size=2> Deal with the dataset with the name df2(Countries vs gdppc)</font> "
   ]
  },
  {
   "cell_type": "markdown",
   "id": "49ded0da",
   "metadata": {},
   "source": [
    "<font color='red' size= 2>8. Read the data about gdppc from excel with the name df2</font> "
   ]
  },
  {
   "cell_type": "code",
   "execution_count": null,
   "id": "994b340d",
   "metadata": {},
   "outputs": [],
   "source": [
    "#Import the data about countries with yearly Real GDP per capita in 2011$\n",
    "df2 = pd.read_excel (r'D:/Zhao Shuai/phd/lingnan/literature/Data/mpd2020.xlsx', sheet_name='Full data')"
   ]
  },
  {
   "cell_type": "markdown",
   "id": "8ade57b2",
   "metadata": {},
   "source": [
    "<font color='red' size=0>8.1 Summary about df2</font> "
   ]
  },
  {
   "cell_type": "code",
   "execution_count": null,
   "id": "30853d40",
   "metadata": {},
   "outputs": [],
   "source": [
    "df2.dtypes"
   ]
  },
  {
   "cell_type": "code",
   "execution_count": null,
   "id": "49121815",
   "metadata": {},
   "outputs": [],
   "source": [
    "#See the overall head of df2\n",
    "df2.head"
   ]
  },
  {
   "cell_type": "code",
   "execution_count": null,
   "id": "6033cca3",
   "metadata": {},
   "outputs": [],
   "source": [
    "#Shows the rows count and the types\n",
    "df2.info()"
   ]
  },
  {
   "cell_type": "code",
   "execution_count": null,
   "id": "562b3400",
   "metadata": {},
   "outputs": [],
   "source": [
    "df2.describe()"
   ]
  },
  {
   "cell_type": "markdown",
   "id": "8891cd9a",
   "metadata": {},
   "source": [
    "<font color='red' size=0>8.2 Choose the data after 1945</font>"
   ]
  },
  {
   "cell_type": "code",
   "execution_count": null,
   "id": "80cb2d22",
   "metadata": {},
   "outputs": [],
   "source": [
    "df2.drop( df2[ df2['year'] < 1945 ].index , inplace=True) \n",
    "print(df2)"
   ]
  },
  {
   "cell_type": "markdown",
   "id": "7f3263b4",
   "metadata": {},
   "source": [
    "<font color='red' size=0>8.3 Delete the NaN and  Null value and abnormal data</font> "
   ]
  },
  {
   "cell_type": "code",
   "execution_count": null,
   "id": "b5d87141",
   "metadata": {},
   "outputs": [],
   "source": [
    "#Check all the data\n",
    "#Delete the NaN and  Null value and abnormal data\n",
    "df2.describe(include = 'all')"
   ]
  },
  {
   "cell_type": "code",
   "execution_count": null,
   "id": "e53fc2d0",
   "metadata": {},
   "outputs": [],
   "source": [
    "#let’s see what is the proportion of NaN values using a visualization library called seaborn.\n",
    "#In this heatmap, you can see in yellow (depending on the cmap you are using, but with mine it’s yellow) the NaN values in each column.\n",
    "sns.heatmap(df2.isnull(), cmap='viridis')"
   ]
  },
  {
   "cell_type": "code",
   "execution_count": null,
   "id": "fb6d5ada",
   "metadata": {},
   "outputs": [],
   "source": [
    "#We will just keep the rows with a value in the gdppc column\n",
    "df2 = df2.dropna(subset=['gdppc'])\n",
    "print(df2)"
   ]
  },
  {
   "cell_type": "markdown",
   "id": "62ec05de",
   "metadata": {},
   "source": [
    "<font color='red' size=0>8.4 Check the data</font> "
   ]
  },
  {
   "cell_type": "code",
   "execution_count": null,
   "id": "15a084ff",
   "metadata": {},
   "outputs": [],
   "source": [
    "print(df2)"
   ]
  },
  {
   "cell_type": "code",
   "execution_count": null,
   "id": "97e50301",
   "metadata": {},
   "outputs": [],
   "source": [
    "#Check whether gdppc has abnormal numbers or not\n",
    "df2.groupby(['gdppc']).mean()"
   ]
  },
  {
   "cell_type": "code",
   "execution_count": null,
   "id": "008d0b93",
   "metadata": {},
   "outputs": [],
   "source": [
    "#Check whether country has abnormal numbers or not\n",
    "df2.groupby(['country']).mean()"
   ]
  },
  {
   "cell_type": "markdown",
   "id": "f48c29fd",
   "metadata": {},
   "source": [
    "<font color='red' size=0>8.5 Delete the 0 in gdppc</font> "
   ]
  },
  {
   "cell_type": "code",
   "execution_count": null,
   "id": "5669ea3f",
   "metadata": {},
   "outputs": [],
   "source": [
    "#Deleter the 0 in gdppc\n",
    "#df2.loc[(df2!='0.0000').any(axis='colums')]\n",
    "df2= df2[df2['gdppc'] != 0]\n",
    "print(df2)"
   ]
  },
  {
   "cell_type": "code",
   "execution_count": null,
   "id": "746f80bc",
   "metadata": {},
   "outputs": [],
   "source": [
    "#Check if I delete the gdppc with 0\n",
    "df2.groupby('gdppc').mean()"
   ]
  },
  {
   "cell_type": "markdown",
   "id": "ac542bd4",
   "metadata": {},
   "source": [
    "<font color='red' size=0>8.6 Group by country</font> "
   ]
  },
  {
   "cell_type": "code",
   "execution_count": null,
   "id": "f29ce188",
   "metadata": {},
   "outputs": [],
   "source": [
    "#Group by country, and save the dataframe with name df2_cty, gdppc is the average value in these years.\n",
    "df2_cty = df2.groupby('country').mean()\n",
    "print(df2_cty)"
   ]
  },
  {
   "cell_type": "code",
   "execution_count": null,
   "id": "65a79175",
   "metadata": {},
   "outputs": [],
   "source": [
    "#Check the type for each column\n",
    "df2_cty.dtypes"
   ]
  },
  {
   "cell_type": "code",
   "execution_count": null,
   "id": "e258d39e",
   "metadata": {
    "scrolled": true
   },
   "outputs": [],
   "source": [
    "#Because I have more than 100 countries, so I choose the first 30 to check\n",
    "df2_cty.head(30)"
   ]
  },
  {
   "cell_type": "code",
   "execution_count": null,
   "id": "c323aa28",
   "metadata": {},
   "outputs": [],
   "source": [
    "#Visualize the first 30 countries by gdppc\n",
    "df2_cty.head(30).plot(kind='barh', y= 'gdppc')\n",
    "#plt.savefig('medals.svg')"
   ]
  },
  {
   "cell_type": "markdown",
   "id": "dc8c95ee",
   "metadata": {},
   "source": [
    "<font color='red' size=0>8.7 Draw a boxplot to show the gdppc for different countries</font>"
   ]
  },
  {
   "cell_type": "code",
   "execution_count": null,
   "id": "c199dffd",
   "metadata": {},
   "outputs": [],
   "source": [
    "#Show the gdppc of each country\n",
    "\n",
    "#plt.savefig('medals.svg')"
   ]
  },
  {
   "cell_type": "code",
   "execution_count": null,
   "id": "2ba2eca1",
   "metadata": {
    "scrolled": false
   },
   "outputs": [],
   "source": [
    "#Data visualization\n",
    "import numpy as np\n",
    "import pandas as pd\n",
    "import matplotlib.pyplot as plt\n",
    "import seaborn as sns\n",
    "from IPython import display\n",
    "display.set_matplotlib_formats('svg')"
   ]
  },
  {
   "cell_type": "markdown",
   "id": "1ed21e53",
   "metadata": {},
   "source": [
    "<font color='red' size=0>8.8 Draw a line to show the changes of U.S. gdppc over time</font>"
   ]
  },
  {
   "cell_type": "code",
   "execution_count": null,
   "id": "2da5b672",
   "metadata": {},
   "outputs": [],
   "source": [
    "#Choose a single country, for example, choose the subset of United States\n",
    "df2_usa = df2[df2.country == 'United States']\n",
    "print(df2_usa)"
   ]
  },
  {
   "cell_type": "code",
   "execution_count": null,
   "id": "5aeb6860",
   "metadata": {},
   "outputs": [],
   "source": [
    "#The change in per capita GDP of a country over time\n",
    "plt.figure(figsize=(10,5))\n",
    "sns.relplot(x=\"year\", y=\"gdppc\", kind=\"line\", data=df2_usa)"
   ]
  },
  {
   "cell_type": "code",
   "execution_count": null,
   "id": "685708a4",
   "metadata": {},
   "outputs": [],
   "source": [
    "# Create figure and plot space, what's wrong?\n",
    "fig, ax = plt.subplots(figsize=(10, 6))\n",
    "\n",
    "# Add x-axis and y-axis\n",
    "ax.plot(df2['year'],\n",
    "        df2['gdppc'],\n",
    "        df2['country'] == 'United States', \n",
    "        color='blue',)\n",
    "\n",
    "# Set title and labels for axes\n",
    "ax.set(xlabel=\"Year\",\n",
    "       ylabel=\"Real GDP per capita in 2011$\",\n",
    "       title=\"Gdppc in different year\")\n",
    "\n",
    "plt.show()"
   ]
  },
  {
   "cell_type": "markdown",
   "id": "4c364225",
   "metadata": {},
   "source": [
    "<font color='red' size=0>8.9 Choose the top 20 countries with more data in gdppc</font>"
   ]
  },
  {
   "cell_type": "code",
   "execution_count": null,
   "id": "dc7b2801",
   "metadata": {
    "scrolled": true
   },
   "outputs": [],
   "source": [
    "df2['country'].value_counts()[0:20]"
   ]
  },
  {
   "cell_type": "markdown",
   "id": "a2491b62",
   "metadata": {},
   "source": [
    "<font color='red' size=0>8.10 Compare the gdppc between China and United States</font>"
   ]
  },
  {
   "cell_type": "code",
   "execution_count": null,
   "id": "47dc1def",
   "metadata": {
    "scrolled": false
   },
   "outputs": [],
   "source": [
    "#Choose China and United States in country\n",
    "compare=df2['country'].isin(['China','United States'])\n",
    "#sns.displot(pd.DataFrame({'gdppc': df2[compare]['year'],'country': df2[compare]['country']}),x= 'gdppc', hue='country', kind='kde');\n",
    "\n",
    "#sns.set(style='darkgrid',)\n",
    " \n",
    "# Draw line plot of size and total_bill with parameters and hue \"day\"\n",
    "sns.lineplot(x = \"year\", y = \"gdppc\", data = df2[compare])\n",
    " \n",
    "plt.title(\"Line\", fontsize = 15)\n",
    "plt.xlabel(\"Year\", fontsize = 15)\n",
    "plt.ylabel(\"gdppc\", fontsize = 15)\n",
    "plt.show()"
   ]
  },
  {
   "cell_type": "code",
   "execution_count": null,
   "id": "f60732a4",
   "metadata": {},
   "outputs": [],
   "source": [
    "#Compare their gdppc for max, min, mean, etc\n",
    "ax = sns.boxplot (x = 'country', y = 'gdppc', data = df2[compare], fliersize=0)\n",
    "ax.set_ylim([0, 45000]);"
   ]
  },
  {
   "cell_type": "markdown",
   "id": "1c7cd593",
   "metadata": {},
   "source": [
    "<font color='blue'  size=2>Analyze data across diferent py tables</font>"
   ]
  },
  {
   "cell_type": "markdown",
   "id": "5950b7c7",
   "metadata": {},
   "source": [
    "<font color='red'  size=2>See the relationship between national leaders' gender, tenure and gdppc,TBC</font>"
   ]
  },
  {
   "cell_type": "code",
   "execution_count": null,
   "id": "fe476b30",
   "metadata": {},
   "outputs": [],
   "source": [
    "#ax = plt.subplots (figsize = (6,6))\n",
    "#columns = ['']\n",
    "#Covariance to be continued"
   ]
  },
  {
   "cell_type": "markdown",
   "id": "4c9c1051",
   "metadata": {},
   "source": [
    "<font color='red'  size=2>I wanted to use a map to show the tenure and gender of the leaders of various countries, but it didn't happen.TBC</font> "
   ]
  },
  {
   "cell_type": "code",
   "execution_count": null,
   "id": "3f0e0644",
   "metadata": {},
   "outputs": [],
   "source": [
    "import folium"
   ]
  },
  {
   "cell_type": "code",
   "execution_count": null,
   "id": "e14fe2be",
   "metadata": {},
   "outputs": [],
   "source": [
    "#unction to convert to alpah2 country codes and continents\n",
    "from pycountry_convert import country_alpha2_to_continent_code, country_name_to_country_alpha2\n",
    "def get_continent(col):\n",
    "    try:\n",
    "        cn_a2_code =  country_name_to_country_alpha2(col)\n",
    "    except:\n",
    "        cn_a2_code = 'Unknown' \n",
    "    try:\n",
    "        cn_continent = country_alpha2_to_continent_code(cn_a2_code)\n",
    "    except:\n",
    "        cn_continent = 'Unknown' \n",
    "    return (cn_a2_code, cn_continent)\n",
    "get_continent(dta2016.idacr)"
   ]
  },
  {
   "cell_type": "markdown",
   "id": "8459cd20",
   "metadata": {},
   "source": [
    "<font color='red'  size=2>Get the lantitude and longitude for each country,TBC</font>"
   ]
  },
  {
   "cell_type": "code",
   "execution_count": null,
   "id": "b16b641a",
   "metadata": {},
   "outputs": [],
   "source": [
    "#installation\n",
    "!pip install pycountry-convert\n",
    "#function to convert to alpah2 country codes and continents\n",
    "from pycountry_convert import country_alpha2_to_continent_code, country_name_to_country_alpha2\n",
    "def get_continent(col):\n",
    "    try:\n",
    "        cn_a2_code =  country_name_to_country_alpha2(df2)\n",
    "    except:\n",
    "        cn_a2_code = 'Unknown' \n",
    "    try:\n",
    "        cn_continent = country_alpha2_to_continent_code(cn_a2_code)\n",
    "    except:\n",
    "        cn_continent = 'Unknown' \n",
    "    return (cn_a2_code, cn_continent)\n"
   ]
  },
  {
   "cell_type": "code",
   "execution_count": null,
   "id": "3be8c0e2",
   "metadata": {},
   "outputs": [],
   "source": [
    "print(df2)"
   ]
  },
  {
   "cell_type": "code",
   "execution_count": null,
   "id": "8460d977",
   "metadata": {},
   "outputs": [],
   "source": [
    "!pip install geopy"
   ]
  },
  {
   "cell_type": "code",
   "execution_count": null,
   "id": "7d9c900d",
   "metadata": {},
   "outputs": [],
   "source": [
    "#function to get longitude and latitude data from country name\n",
    "from geopy.geocoders import Nominatim\n",
    "geolocator = Nominatim()\n",
    "def geolocate(country):\n",
    "    try:\n",
    "        # Geolocate the center of the country\n",
    "        loc = geolocator.geocode(country)\n",
    "        # And return latitude and longitude\n",
    "        return (loc.latitude, loc.longitude)\n",
    "    except:\n",
    "        # Return missing value\n",
    "        return np.nan\n",
    "    df2[\"Longitude\"] = longitude\n",
    "df2[\"Latitude\"] = latitude"
   ]
  },
  {
   "cell_type": "code",
   "execution_count": null,
   "id": "6e5c01fb",
   "metadata": {},
   "outputs": [],
   "source": [
    "from geopy.exc import GeocoderTimedOut\n",
    "from geopy.geocoders import Nominatim\n",
    "# declare an empty list to store\n",
    "# latitude and longitude of values \n",
    "# of cuntry column\n",
    "longitude = []\n",
    "latitude = []\n",
    "   \n",
    "# function to find the coordinate\n",
    "# of a given city \n",
    "def findGeocode(country):\n",
    "       \n",
    "    # try and catch is used to overcome\n",
    "    # the exception thrown by geolocator\n",
    "    # using geocodertimedout  \n",
    "    try:\n",
    "          \n",
    "        # Specify the user_agent as your\n",
    "        # app name it should not be none\n",
    "        geolocator = Nominatim(user_agent=\"your_app_name\")\n",
    "          \n",
    "        return geolocator.geocode(country)\n",
    "      \n",
    "    except GeocoderTimedOut:\n",
    "          \n",
    "        return findGeocode(country)    \n",
    "  \n",
    "# each value from country column\n",
    "# will be fetched and sent to\n",
    "# function find_geocode   \n",
    "for i in (df2[\"country\"]):\n",
    "      \n",
    "    if findGeocode(i) != None:\n",
    "           \n",
    "        loc = findGeocode(i)\n",
    "          \n",
    "        # coordinates returned from \n",
    "        # function is stored into\n",
    "        # two separate list\n",
    "        latitude.append(loc.latitude)\n",
    "        longitude.append(loc.longitude)\n",
    "       \n",
    "    # if coordinate for a city not\n",
    "    # found, insert \"NaN\" indicating \n",
    "    # missing value \n",
    "    else:\n",
    "        latitude.append(np.nan)\n",
    "        longitude.append(np.nan)\n",
    "       \n",
    "df2[\"Longitude\"] = longitude\n",
    "df2[\"Latitude\"] = latitude\n",
    "\n",
    "df2"
   ]
  },
  {
   "cell_type": "code",
   "execution_count": null,
   "id": "5328c434",
   "metadata": {},
   "outputs": [],
   "source": [
    "!pip install geolocator\n",
    "import geolocator\n",
    "loc = geolocator.geocode(df2.country, exactly_one=False)"
   ]
  },
  {
   "cell_type": "code",
   "execution_count": null,
   "id": "02e49fc8",
   "metadata": {},
   "outputs": [],
   "source": [
    "!pip install autogluon"
   ]
  },
  {
   "cell_type": "code",
   "execution_count": null,
   "id": "22fef086",
   "metadata": {},
   "outputs": [],
   "source": []
  },
  {
   "cell_type": "code",
   "execution_count": null,
   "id": "8c9c0c90",
   "metadata": {},
   "outputs": [],
   "source": []
  }
 ],
 "metadata": {
  "kernelspec": {
   "display_name": "Python 3 (ipykernel)",
   "language": "python",
   "name": "python3"
  },
  "language_info": {
   "codemirror_mode": {
    "name": "ipython",
    "version": 3
   },
   "file_extension": ".py",
   "mimetype": "text/x-python",
   "name": "python",
   "nbconvert_exporter": "python",
   "pygments_lexer": "ipython3",
   "version": "3.9.7"
  }
 },
 "nbformat": 4,
 "nbformat_minor": 5
}
