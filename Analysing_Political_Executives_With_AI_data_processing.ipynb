{
 "cells": [
  {
   "cell_type": "markdown",
   "id": "963d0e0f",
   "metadata": {},
   "source": [
    "# Analysing Political Executives with AI"
   ]
  },
  {
   "cell_type": "code",
   "execution_count": 68,
   "id": "66fa3c5c",
   "metadata": {},
   "outputs": [
    {
     "name": "stdout",
     "output_type": "stream",
     "text": [
      "Requirement already satisfied: seaborn in c:\\users\\my\\miniconda3\\envs\\ds\\lib\\site-packages (0.11.2)\n",
      "Requirement already satisfied: pandas in c:\\users\\my\\miniconda3\\envs\\ds\\lib\\site-packages (1.3.5)\n",
      "Requirement already satisfied: matplotlib in c:\\users\\my\\miniconda3\\envs\\ds\\lib\\site-packages (3.5.1)\n",
      "Requirement already satisfied: numpy in c:\\users\\my\\miniconda3\\envs\\ds\\lib\\site-packages (1.22.3)\n",
      "Requirement already satisfied: IPython in c:\\users\\my\\miniconda3\\envs\\ds\\lib\\site-packages (7.29.0)\n",
      "Requirement already satisfied: openpyxl in c:\\users\\my\\miniconda3\\envs\\ds\\lib\\site-packages (3.0.9)\n",
      "Requirement already satisfied: scipy>=1.0 in c:\\users\\my\\miniconda3\\envs\\ds\\lib\\site-packages (from seaborn) (1.7.3)\n",
      "Requirement already satisfied: pytz>=2017.3 in c:\\users\\my\\miniconda3\\envs\\ds\\lib\\site-packages (from pandas) (2021.3)\n",
      "Requirement already satisfied: python-dateutil>=2.7.3 in c:\\users\\my\\miniconda3\\envs\\ds\\lib\\site-packages (from pandas) (2.8.2)\n",
      "Requirement already satisfied: packaging>=20.0 in c:\\users\\my\\miniconda3\\envs\\ds\\lib\\site-packages (from matplotlib) (21.3)\n",
      "Requirement already satisfied: fonttools>=4.22.0 in c:\\users\\my\\miniconda3\\envs\\ds\\lib\\site-packages (from matplotlib) (4.33.2)\n",
      "Requirement already satisfied: pyparsing>=2.2.1 in c:\\users\\my\\miniconda3\\envs\\ds\\lib\\site-packages (from matplotlib) (3.0.4)\n",
      "Requirement already satisfied: kiwisolver>=1.0.1 in c:\\users\\my\\miniconda3\\envs\\ds\\lib\\site-packages (from matplotlib) (1.4.2)\n",
      "Requirement already satisfied: cycler>=0.10 in c:\\users\\my\\miniconda3\\envs\\ds\\lib\\site-packages (from matplotlib) (0.11.0)\n",
      "Requirement already satisfied: pillow>=6.2.0 in c:\\users\\my\\miniconda3\\envs\\ds\\lib\\site-packages (from matplotlib) (9.0.1)\n",
      "Requirement already satisfied: pygments in c:\\users\\my\\miniconda3\\envs\\ds\\lib\\site-packages (from IPython) (2.10.0)\n",
      "Requirement already satisfied: jedi>=0.16 in c:\\users\\my\\miniconda3\\envs\\ds\\lib\\site-packages (from IPython) (0.18.0)\n",
      "Requirement already satisfied: matplotlib-inline in c:\\users\\my\\miniconda3\\envs\\ds\\lib\\site-packages (from IPython) (0.1.2)\n",
      "Requirement already satisfied: backcall in c:\\users\\my\\miniconda3\\envs\\ds\\lib\\site-packages (from IPython) (0.2.0)\n",
      "Requirement already satisfied: traitlets>=4.2 in c:\\users\\my\\miniconda3\\envs\\ds\\lib\\site-packages (from IPython) (5.1.1)\n",
      "Requirement already satisfied: colorama in c:\\users\\my\\miniconda3\\envs\\ds\\lib\\site-packages (from IPython) (0.4.4)\n",
      "Requirement already satisfied: decorator in c:\\users\\my\\miniconda3\\envs\\ds\\lib\\site-packages (from IPython) (5.1.0)\n",
      "Requirement already satisfied: prompt-toolkit!=3.0.0,!=3.0.1,<3.1.0,>=2.0.0 in c:\\users\\my\\miniconda3\\envs\\ds\\lib\\site-packages (from IPython) (3.0.20)\n",
      "Requirement already satisfied: pickleshare in c:\\users\\my\\miniconda3\\envs\\ds\\lib\\site-packages (from IPython) (0.7.5)\n",
      "Requirement already satisfied: setuptools>=18.5 in c:\\users\\my\\miniconda3\\envs\\ds\\lib\\site-packages (from IPython) (59.5.0)\n",
      "Requirement already satisfied: et-xmlfile in c:\\users\\my\\miniconda3\\envs\\ds\\lib\\site-packages (from openpyxl) (1.1.0)\n",
      "Requirement already satisfied: parso<0.9.0,>=0.8.0 in c:\\users\\my\\miniconda3\\envs\\ds\\lib\\site-packages (from jedi>=0.16->IPython) (0.8.3)\n",
      "Requirement already satisfied: wcwidth in c:\\users\\my\\miniconda3\\envs\\ds\\lib\\site-packages (from prompt-toolkit!=3.0.0,!=3.0.1,<3.1.0,>=2.0.0->IPython) (0.2.5)\n",
      "Requirement already satisfied: six>=1.5 in c:\\users\\my\\miniconda3\\envs\\ds\\lib\\site-packages (from python-dateutil>=2.7.3->pandas) (1.16.0)\n"
     ]
    },
    {
     "name": "stderr",
     "output_type": "stream",
     "text": [
      "WARNING: Ignoring invalid distribution -illow (c:\\users\\my\\miniconda3\\envs\\ds\\lib\\site-packages)\n",
      "WARNING: Ignoring invalid distribution -illow (c:\\users\\my\\miniconda3\\envs\\ds\\lib\\site-packages)\n",
      "WARNING: Ignoring invalid distribution -illow (c:\\users\\my\\miniconda3\\envs\\ds\\lib\\site-packages)\n",
      "WARNING: Ignoring invalid distribution -illow (c:\\users\\my\\miniconda3\\envs\\ds\\lib\\site-packages)\n",
      "WARNING: Ignoring invalid distribution -illow (c:\\users\\my\\miniconda3\\envs\\ds\\lib\\site-packages)\n"
     ]
    }
   ],
   "source": [
    "# Install the packages for data anlysis in Python\n",
    "# Install the packages for data analysis and visualisation\n",
    "!pip3 install seaborn pandas matplotlib numpy IPython openpyxl"
   ]
  },
  {
   "cell_type": "code",
   "execution_count": 69,
   "id": "c525d831",
   "metadata": {
    "collapsed": true
   },
   "outputs": [],
   "source": [
    "import numpy as np\n",
    "import pandas as pd\n",
    "import matplotlib.pyplot as plt\n",
    "import seaborn as sns\n",
    "\n",
    "# Alternative to set svg for newer versions\n",
    "import matplotlib_inline\n",
    "matplotlib_inline.backend_inline.set_matplotlib_formats('svg')\n",
    "\n",
    "# Showing all the details of results\n",
    "from IPython.core.interactiveshell import InteractiveShell\n",
    "InteractiveShell.ast_node_interactivity = \"all\""
   ]
  },
  {
   "cell_type": "markdown",
   "id": "12988d58",
   "metadata": {},
   "source": [
    "## Built a total dataset\n",
    "\n",
    "- Merging data from other files\n",
    "- Read the data from Archigos excel document/dta data\n"
   ]
  },
  {
   "cell_type": "code",
   "execution_count": 70,
   "id": "63434b50",
   "metadata": {},
   "outputs": [
    {
     "name": "stderr",
     "output_type": "stream",
     "text": [
      "C:\\Users\\my\\miniconda3\\envs\\DS\\lib\\site-packages\\pandas\\io\\stata.py:1457: UnicodeWarning: \n",
      "One or more strings in the dta file could not be decoded using utf-8, and\n",
      "so the fallback encoding of latin-1 is being used.  This can happen when a file\n",
      "has been incorrectly encoded by Stata or some other software. You should verify\n",
      "the string values returned are correct.\n",
      "  warnings.warn(msg, UnicodeWarning)\n"
     ]
    }
   ],
   "source": [
    "# Read the original dta(Stata) data download from Archigos website.\n",
    "# load the data\n",
    "datafile = 'Archigos_4.1_stata14.dta'\n",
    "data = pd.read_stata(datafile)\n",
    "\n",
    "# Startdate is better than eindate, enddate is better than eoutdate\n",
    "# Change the data type of startdate and enddate to datatime\n",
    "data['startdate'] = data['startdate'].astype('datetime64[ns]')\n",
    "data['enddate'] = data['enddate'].astype('datetime64[ns]')\n",
    "data['yrbegin'] = pd.DatetimeIndex(data['startdate']).year\n",
    "data['yrend'] = pd.DatetimeIndex(data['enddate']).year\n",
    "\n",
    "# Import the data about countries grouped by three categories: Autocracy, Anocracy, Democracy\n",
    "data_deau = pd.read_excel('DeorAu_group.xlsx')\n",
    "\n",
    "# load another excel file mpd2020 with gdppc and pop\n",
    "data_mpd2020 = pd.read_excel('mpd2020.xlsx', 'Full data')\n",
    "\n",
    "# Combine data_deau with data_leader with key id=countries\n",
    "# Rename the Country-id to idacr in data_deau\n",
    "data_deau = data_deau.rename({'Country-id': 'idacr'}, axis='columns')\n",
    "data_leader_deau = pd.merge(data, data_deau, how ='left', on ='idacr')\n",
    "\n",
    "# Rename the countrycode to idacr in data_mpd2020\n",
    "# Rename the year in gdppc to yrend to merge data\n",
    "data_mpd2020 = data_mpd2020.rename({'countrycode': 'idacr', 'year': 'yrend'}, axis='columns')\n",
    "\n",
    "# Change the float to int\n",
    "data_leader_deau['yrend'] = data_leader_deau['yrend'].fillna(0.0).astype(int)\n",
    "data_leader_deau['yrbegin'] = data_leader_deau['yrbegin'].fillna(0.0).astype(int)\n",
    "\n",
    "# Combine data_leaders_deau with data_mpd2020 with key idacr and year\n",
    "data_leader_deau_gdp = pd.merge(data_leader_deau, data_mpd2020, how ='left', on =['idacr', 'yrend'])\n",
    "\n",
    "# Rename the gdppc to end_gdppc in data_leaders_deau_gdp\n",
    "data_leader_deau_gdp = data_leader_deau_gdp.rename({'gdppc': 'end_gdppc'}, axis='columns')\n",
    "\n",
    "data_gdp = pd.read_excel('data_gdp.xlsx')\n",
    "data_gdp = data_gdp.rename({'year': 'yrbegin'}, axis='columns')\n",
    "data_all = pd.merge(data_leader_deau_gdp, data_gdp, how ='left', on =['idacr', 'yrbegin'])\n",
    "\n",
    "# Rename the gdppc to begin_gdppc in data_all\n",
    "data_all = data_all.rename({'gdppc': 'begin_gdppc'}, axis='columns')\n",
    "\n",
    "# Calculate the leaders' age, when they first into power\n",
    "# See the characteristics of yrborn, there is something wrong in the data. \n",
    "# Because I change the data type of yrborn, from int to datetime.\n",
    "\n",
    "# age= yrbegin- yrborn\n",
    "data_all['age'] = data_all['yrbegin'] - data_all['yrborn']\n",
    "\n",
    "# See the distribution of age\n",
    "# data_all.groupby(['age']).mean()"
   ]
  },
  {
   "cell_type": "markdown",
   "id": "eed4b4fa",
   "metadata": {},
   "source": [
    "## Calculate their tenure\n",
    " \n",
    "- Calculate the tenure\n",
    "- Check the data about our data about tenure \n",
    "- Delete tenure < 1\n",
    "- Group the data by leaders and sum their tenure together ？？"
   ]
  },
  {
   "cell_type": "code",
   "execution_count": 71,
   "id": "51493fe6",
   "metadata": {},
   "outputs": [],
   "source": [
    "# tenure= enddate or eoutdate - startdate  or  eindate (Unit: years)\n",
    "# if enddate is null, it has two possibilities: \n",
    "# 1. leader is still in office, use the date now; 2. not available.  \n",
    "\n",
    "import datetime\n",
    "\n",
    "data_all['startdate'] = pd.to_datetime(data_all['startdate']).dt.date\n",
    "data_all['enddate'] = pd.to_datetime(data_all['enddate']).dt.date\n",
    "\n",
    "data_all['enddate'] = np.where(data_all['enddate'].isnull(),\n",
    "                                datetime.datetime.now().date(),\n",
    "                                data_all['enddate'])\n",
    "\n",
    "data_all['tenure'] = (data_all['enddate'] - data_all['startdate'])/np.timedelta64(1, 'Y')\n",
    "\n",
    "# data_all.groupby(['tenure']).mean()\n",
    "\n",
    "data_all.drop(data_all[data_all['tenure'] < 1].index , inplace=True)\n",
    "\n",
    "# Add tenure to the excel grouped by leaders\n",
    "# Some leaders may have more than one term\n",
    "# Tenure: merge the duplicates and sum the tenure.\n",
    "# data_all=data_all.groupby(['leader']).sum()\n",
    "\n",
    "# Check if there are any abonormal data_all.\n",
    "# data_all.groupby(['tenure']).mean()"
   ]
  },
  {
   "cell_type": "code",
   "execution_count": 72,
   "id": "b1fb259d",
   "metadata": {},
   "outputs": [],
   "source": [
    "\n",
    "# calulate the growth rate\n",
    "data_all['growth_rate'] = (data_all['end_gdppc'] / data_all['begin_gdppc'] - 1) / data_all['tenure']\n",
    "\n",
    "# data_all.describe()\n",
    "\n",
    "data_all.dropna(subset = ['growth_rate'], inplace=True)"
   ]
  },
  {
   "cell_type": "markdown",
   "id": "e983705d",
   "metadata": {},
   "source": [
    "## Data cleaning\n",
    "\n",
    "### Delete the irrelevant data with irrelevant columns"
   ]
  },
  {
   "cell_type": "code",
   "execution_count": 73,
   "id": "0a6ac00d",
   "metadata": {},
   "outputs": [
    {
     "data": {
      "text/plain": [
       "Index(['ccode', 'leader', 'entry', 'exit', 'exitcode', 'prevtimesinoffice',\n",
       "       'posttenurefate', 'gender', 'yrborn', 'yrdied', 'numentry', 'numexit',\n",
       "       'yrbegin', 'yrend', 'country', 'end_gdppc', 'pop_x', 'begin_gdppc',\n",
       "       'pop_y', 'age', 'tenure', 'growth_rate', 'fties_range'],\n",
       "      dtype='object')"
      ]
     },
     "execution_count": 73,
     "metadata": {},
     "output_type": "execute_result"
    }
   ],
   "source": [
    "# 'country_x','country_y'\n",
    "data_all.drop(columns=['obsid',\n",
    "                   'leadid',\n",
    "                   'idacr',\n",
    "                   'startdate',\n",
    "                   'eindate',\n",
    "                   'enddate',\n",
    "                   'eoutdate',\n",
    "                   'borndate',\n",
    "                   'ebirthdate',\n",
    "                   'deathdate',\n",
    "                   'edeathdate',\n",
    "                   'dbpediauri',\n",
    "                  'numexitcode',\n",
    "                  'numposttenurefate',\n",
    "                  'ftcur',\n",
    "                  'Country',\n",
    "                  'Polity datasets IV number[11][12]',\n",
    "                  'Polity datasets IV category'], inplace=True)\n",
    "\n",
    "# Deal with family ties and gender \n",
    "data_all['fties_range'] = np.where(data_all['fties'].isnull(), 0.5, 1)\n",
    "data_all['gender'] = np.where(data_all['gender']=='M', 0.5, 1)\n",
    "\n",
    "\n",
    "data_all.drop(columns=['fties',\n",
    "                       'Democracy',\n",
    "                       'Autocracy'], inplace=True)\n",
    "                       \n",
    "# Delete the columns that more than 30% is null \n",
    "# Delete the column >= 30% is null, we can see the remaining column names.\n",
    "null_sum=data_all.isnull().sum()\n",
    "data_all.columns[null_sum<len(data_all)*0.3] # columns will keep\n",
    "\n",
    "# Drop the columns that at least 30% values are null\n",
    "data_all.drop(columns=data_all.columns[null_sum > len(data_all)*0.3], inplace=True)\n",
    "\n",
    "# Check if there are any abnormal values, we need to pay attention to the negative numbers. \n",
    "# Some leaders are still alive, so the yrdied is negative number, etc.\n",
    "# print(data.describe())"
   ]
  },
  {
   "cell_type": "code",
   "execution_count": 74,
   "id": "805f6673",
   "metadata": {},
   "outputs": [],
   "source": [
    "data_all.dropna(subset = ['leader'], inplace=True)"
   ]
  },
  {
   "cell_type": "code",
   "execution_count": 75,
   "id": "918fdda1",
   "metadata": {},
   "outputs": [],
   "source": [
    "# Delete if yrbegin > yrend, age < 0\n",
    "# print(data_all[data_all['yrbegin'] > data_all['yrend']]) #age < 0\n",
    "data_all.drop(data_all[data_all['yrbegin'] > data_all['yrend']].index, inplace=True)\n",
    "\n",
    "# Delete the data_all yrbegin < 0, yrend < 0, yrborn<0, yrdied<0\n",
    "data_all.drop(data_all[data_all['yrborn']<0].index , inplace=True) \n",
    "# data_all.drop(data_all[data_all['yrdied']<0].index, inplace=True)\n",
    "data_all.drop(data_all[data_all['yrbegin']<0].index , inplace=True) \n",
    "data_all.drop(data_all[data_all['yrend']<0].index, inplace=True)\n",
    "# print(data_all.shape)\n",
    "\n",
    "# Find if yrbegin > yrdied, lifespan < 0 \n",
    "# print(data_all[data_all['yrbegin'] > data_all['yrdied']]) # begin to come into power after the leader is died.\n",
    "\n",
    "# Delete the data_all yrbegin > yrdied\n",
    "# data_all.drop(data_all[data_all['yrbegin'] > data_all['yrdied']].index, inplace=True) "
   ]
  },
  {
   "cell_type": "markdown",
   "id": "84f2057c",
   "metadata": {},
   "source": [
    "### Duplicated leader with more than one age, we pick up the first??"
   ]
  },
  {
   "cell_type": "code",
   "execution_count": 76,
   "id": "d38e62b3",
   "metadata": {},
   "outputs": [],
   "source": [
    "# # Find duplicates and sum the duplicates.\n",
    "# print(data.leader.duplicated().sum())\n",
    "\n",
    "# # Sum the non-duplicates.\n",
    "# print((~data.leader.duplicated()).sum())\n",
    "\n",
    "# # The first occurrence gets kept, and all others get identified as duplicates\n",
    "# data.leader=data.leader.drop_duplicates(keep='first')\n",
    "\n",
    "# # Save the groupby leader dataframe\n",
    "# data_leader = data.groupby(['leader'])\n",
    "# data.to_excel(r'data_all_leaders_group.xlsx', index = False)\n",
    "\n",
    "# print(data_leader.dtypes)\n",
    "\n",
    "# data_leader.describe()"
   ]
  },
  {
   "cell_type": "markdown",
   "id": "23db6b63",
   "metadata": {},
   "source": [
    "### Draw a figure about age"
   ]
  },
  {
   "cell_type": "code",
   "execution_count": 77,
   "id": "19d26f65",
   "metadata": {},
   "outputs": [],
   "source": [
    "# # See the distribution of age\n",
    "# import seaborn as sns\n",
    "# ax = sns.histplot(data.age, kde=True)\n",
    "\n",
    "# import seaborn as sns\n",
    "# sns.histplot(data.age,bins=[1, 30, 40, 50, 60, 70, 80, 90] ,color = 'orange', shrink=.9)"
   ]
  },
  {
   "cell_type": "markdown",
   "id": "1a53cbd8",
   "metadata": {},
   "source": [
    "### Group the tenure into five possible values\n",
    "\n",
    "- 1 for single term - equal to or less than 4 years; \n",
    "- 2 for two terms - between 5 and 8 years;\n",
    "- 3 for three terms -  between 9 and 12 years;\n",
    "- 4 for four terms - between 13 and 16 years;\n",
    "- 5 for five or more terms)</font> "
   ]
  },
  {
   "cell_type": "code",
   "execution_count": 78,
   "id": "f10ae2b5",
   "metadata": {
    "scrolled": true
   },
   "outputs": [],
   "source": [
    "# Divied tenure group to five groups\n",
    "# tenure_groups= pd.cut(data['tenure'], bins=[1, 4, 8, 12, 16, 20, np.inf])\n",
    "# data.groupby(tenure_groups).mean()\n",
    "\n",
    "# See the distribution of tenure\n",
    "# ax = sns.histplot(data.tenure,kde=True, shrink = 0.8, bins=20) \n",
    "\n",
    "                 #, element=\"step\", fill=False)"
   ]
  },
  {
   "cell_type": "code",
   "execution_count": 79,
   "id": "ba58738b",
   "metadata": {},
   "outputs": [],
   "source": [
    "# See the distribution of tenure\n",
    "# sns.histplot(data.tenure,bins=[0, 4, 8, 12, 16, 20, np.inf], color = 'pink', shrink=.9)"
   ]
  },
  {
   "cell_type": "code",
   "execution_count": 80,
   "id": "62b4f642",
   "metadata": {},
   "outputs": [],
   "source": [
    "# data.dtypes\n",
    "\n",
    "# Visualize the differences about leaders' gender for the whole data set\n",
    "# ax= sns.histplot(data.gender, shrink = 0.8, bins=10, color='grey') "
   ]
  },
  {
   "cell_type": "code",
   "execution_count": 81,
   "id": "f313e95d",
   "metadata": {},
   "outputs": [],
   "source": [
    "# # The correlations of all the variables used in this study sample: leaders' age, leaders' tenure\n",
    "# corr= data.corr()\n",
    "# corr\n",
    "\n",
    "# # Visualize the corelation between each column\n",
    "# fig = plt.figure(figsize =(8,8))\n",
    "# plt.matshow(corr, cmap='RdBu', fignum = fig.number)\n",
    "# plt.xticks(range(len(corr.columns)), corr.columns, rotation = 'vertical');\n",
    "# plt.yticks(range(len(corr.columns)), corr.columns);"
   ]
  },
  {
   "cell_type": "code",
   "execution_count": 82,
   "id": "bb1ae4f3",
   "metadata": {},
   "outputs": [],
   "source": [
    "# The relationship between age and tenure\n",
    "# data.plot(kind = 'scatter', x = 'age', y = 'tenure', figsize = (6,6))\n",
    "\n",
    "# Save the py file to excel\n",
    "# data.to_excel('data_all_leaders_group.xlsx', index = False)\n",
    "# Tranfert the .py file to excel"
   ]
  },
  {
   "cell_type": "code",
   "execution_count": 83,
   "id": "b579dfc7",
   "metadata": {},
   "outputs": [],
   "source": [
    "# import seaborn as sns\n",
    "# ax= sns.histplot(data_all['growth_rate'])"
   ]
  },
  {
   "cell_type": "code",
   "execution_count": 84,
   "id": "371c4518",
   "metadata": {},
   "outputs": [],
   "source": [
    "# import numpy as np\n",
    "# data['fties_range'] = np.where(data['fties'].isnull(), 0.5, 1)\n",
    "# data['gender'] = np.where(data['gender']=='M', 0.5, 1)\n",
    "#data['logarithm_gdppc'] = np.log(data['gdppc'])\n",
    "#data['normal_tenure'] = (data['tenure'] - data['tenure'].mean()) / data['tenure'].std()#normalize tenure with z-score"
   ]
  },
  {
   "cell_type": "code",
   "execution_count": 85,
   "id": "6ce4cbda",
   "metadata": {},
   "outputs": [],
   "source": [
    "# corr= data.corr()\n",
    "\n",
    "# #visualize the corelation between each column\n",
    "# fig = plt.figure(figsize =(8,8))\n",
    "# #plt.matshow(corr, cmap='RdBu', fignum = fig.number)\n",
    "# plt.xticks(range(len(corr.columns)), corr.columns, rotation = 'vertical');\n",
    "# sns.heatmap(corr, cmap='RdBu')\n",
    "# plt.yticks(range(len(corr.columns)), corr.columns)\n",
    "# fig.savefig('heatmap.png',dpi=600)"
   ]
  },
  {
   "cell_type": "markdown",
   "id": "62b95cc1",
   "metadata": {},
   "source": [
    "### Normalization"
   ]
  },
  {
   "cell_type": "code",
   "execution_count": 86,
   "id": "ebe7c578",
   "metadata": {},
   "outputs": [],
   "source": [
    "# ccode int\n",
    "min, max = data_all['ccode'].min(), data_all['ccode'].max()\n",
    "data_all['ccode'] = (data_all['ccode']-min)/(max-min)\n",
    "\n",
    "# entry, regular 1...\n",
    "data_all['entry'] = data_all['entry'].replace({'Regular': 1,'Irregular': 2, 'Foreign Imposition': 3})\n",
    "data_all['entry']=data_all['entry'].astype(float, errors='raise')\n",
    "min, max = data_all['entry'].min(), data_all['entry'].max()\n",
    "data_all['entry']= (data_all['entry']-min)/(max-min)\n",
    "\n",
    "# exit, regular 1...\n",
    "data_all['exit'] = data_all['exit'].replace({'Regular': 1, 'Irregular': 2, 'Foreign': 3,'Natural Death': 4, \n",
    "                                    'Retired Due to Ill Health': 5, 'Suicide': 6, 'Still in Office': 7}) \n",
    "                                    \n",
    "data_all['exit']=data_all['exit'].astype(float, errors='raise')\n",
    "min, max = data_all['exit'].min(), data_all['exit'].max()\n",
    "data_all['exit']= (data_all['exit']-min)/(max-min)\n",
    "\n",
    "# exitcode, regular 1...\n",
    "data_all['exitcode'] = data_all['exitcode'].replace({'Assassination by Unsupported Individual': 1,'Irregular, Other': 2,\n",
    "                                             'Popular Protest, with Foreign Support': 3, \n",
    "                                             'Popular Protest, without Foreign Support': 4,\n",
    "                                             'Regular': 5, 'Removed by Military, with Foreign Support': 6,\n",
    "                                             'Removed by Military, without Foreign Support': 7, \n",
    "                                             'Removed by Other Government Actors, with Foreign Support': 8,\n",
    "                                             'Removed by Other Government Actors, without Foreign Support': 9,\n",
    "                                             'Removed by Rebels, with Foreign Support': 10,\n",
    "                                             'Removed by Rebels, without Foreign Support': 11,\n",
    "                                             'Removed in Military Power Struggle Short of Coup': 12,\n",
    "                                             'Removed through Threat of Foreign Force': 13, 'Unknown': 14,\n",
    "                                             'Still in Office': 15}) \n",
    "data_all['exitcode']=data_all['exitcode'].astype(float, errors='raise')\n",
    "min, max = data_all['exitcode'].min(), data_all['exitcode'].max()\n",
    "data_all['exitcode']= (data_all['exitcode']-min)/(max-min)"
   ]
  },
  {
   "cell_type": "code",
   "execution_count": 87,
   "id": "121b748e",
   "metadata": {},
   "outputs": [
    {
     "data": {
      "text/plain": [
       "(922, 23)"
      ]
     },
     "execution_count": 87,
     "metadata": {},
     "output_type": "execute_result"
    }
   ],
   "source": [
    "# posttenurefate\n",
    "data_all['posttenurefate'] = data_all['posttenurefate'].replace({'Death': 1, 'Exile': 2, 'Imprisonment': 3, \n",
    "                                     'Missing: Natural Death within Six Months of Losing Office': 4, \n",
    "                                     'Missing: No Information Found': 5, 'OK': 6, 'Suicide': 7, \n",
    "                                     'Leader Still in Office': 8, 'Missing: Left Office after*': 9}, regex=True) \n",
    "data_all['posttenurefate']=data_all['posttenurefate'].astype(float, errors='raise')\n",
    "min, max = data_all['posttenurefate'].min(), data_all['posttenurefate'].max()\n",
    "data_all['posttenurefate']= (data_all['posttenurefate']-min)/(max-min)\n",
    "\n",
    "# prevtimesinoffice\n",
    "min, max = data_all['prevtimesinoffice'].min(), data_all['prevtimesinoffice'].max()\n",
    "data_all['prevtimesinoffice']= (data_all['prevtimesinoffice']-min)/(max-min)\n",
    "\n",
    "# yrborn\n",
    "min, max = data_all['yrborn'].min(), data_all['yrborn'].max()\n",
    "data_all['yrborn']= (data_all['yrborn']-min)/(max-min)\n",
    "\n",
    "# yrdied\n",
    "min, max = data_all['yrdied'].min(), data_all['yrdied'].max()\n",
    "data_all['yrdied']= (data_all['yrdied']-min)/(max-min)\n",
    "\n",
    "# numentry\n",
    "min, max = data_all['numentry'].min(), data_all['numentry'].max()\n",
    "data_all['numentry']= (data_all['numentry']-min)/(max-min)\n",
    "\n",
    "# numexit\n",
    "min, max = data_all['numexit'].min(), data_all['numexit'].max()\n",
    "data_all['numexit']= (data_all['numexit']-min)/(max-min)\n",
    "\n",
    "# yrbegin\n",
    "min, max = data_all['yrbegin'].min(), data_all['yrbegin'].max()\n",
    "data_all['yrbegin']= (data_all['yrbegin']-min)/(max-min)\n",
    "\n",
    "# yrend\n",
    "min, max = data_all['yrend'].min(), data_all['yrend'].max()\n",
    "data_all['yrend']= (data_all['yrend']-min)/(max-min)\n",
    "\n",
    "# age\n",
    "min, max = data_all['age'].min(), data_all['age'].max()\n",
    "data_all['age']= (data_all['age']-min)/(max-min)\n",
    "\n",
    "# tenure\n",
    "min, max = data_all['tenure'].min(), data_all['tenure'].max()\n",
    "data_all['tenure']= (data_all['tenure']-min)/(max-min)\n",
    "\n",
    "# end_gdppc\n",
    "min, max = data_all['end_gdppc'].min(), data_all['end_gdppc'].max()\n",
    "data_all['end_gdppc']= (data_all['end_gdppc']-min)/(max-min)\n",
    "\n",
    "# pop_x\n",
    "min, max = data_all['pop_x'].min(), data_all['pop_x'].max()\n",
    "data_all['pop_x']= (data_all['pop_x']-min)/(max-min)\n",
    "\n",
    "# begin_gdppc\n",
    "min, max = data_all['begin_gdppc'].min(), data_all['begin_gdppc'].max()\n",
    "data_all['begin_gdppc']= (data_all['begin_gdppc']-min)/(max-min)\n",
    "\n",
    "# pop_y\n",
    "min, max = data_all['pop_y'].min(), data_all['pop_y'].max()\n",
    "data_all['pop_y']= (data_all['pop_y']-min)/(max-min)\n",
    "\n",
    "data_all.dropna(subset = ['growth_rate'], inplace=True)\n",
    "data_all.shape"
   ]
  },
  {
   "cell_type": "code",
   "execution_count": 88,
   "id": "505bd2c7",
   "metadata": {},
   "outputs": [
    {
     "name": "stdout",
     "output_type": "stream",
     "text": [
      "0.020790343480873094\n",
      "0.047728329595331104\n"
     ]
    },
    {
     "data": {
      "image/svg+xml": "<?xml version=\"1.0\" encoding=\"utf-8\" standalone=\"no\"?>\n<!DOCTYPE svg PUBLIC \"-//W3C//DTD SVG 1.1//EN\"\n  \"http://www.w3.org/Graphics/SVG/1.1/DTD/svg11.dtd\">\n<svg xmlns:xlink=\"http://www.w3.org/1999/xlink\" width=\"388.965625pt\" height=\"262.474375pt\" viewBox=\"0 0 388.965625 262.474375\" xmlns=\"http://www.w3.org/2000/svg\" version=\"1.1\">\n <metadata>\n  <rdf:RDF xmlns:dc=\"http://purl.org/dc/elements/1.1/\" xmlns:cc=\"http://creativecommons.org/ns#\" xmlns:rdf=\"http://www.w3.org/1999/02/22-rdf-syntax-ns#\">\n   <cc:Work>\n    <dc:type rdf:resource=\"http://purl.org/dc/dcmitype/StillImage\"/>\n    <dc:date>2022-04-29T15:09:19.424985</dc:date>\n    <dc:format>image/svg+xml</dc:format>\n    <dc:creator>\n     <cc:Agent>\n      <dc:title>Matplotlib v3.5.1, https://matplotlib.org/</dc:title>\n     </cc:Agent>\n    </dc:creator>\n   </cc:Work>\n  </rdf:RDF>\n </metadata>\n <defs>\n  <style type=\"text/css\">*{stroke-linejoin: round; stroke-linecap: butt}</style>\n </defs>\n <g id=\"figure_1\">\n  <g id=\"patch_1\">\n   <path d=\"M 0 262.474375 \nL 388.965625 262.474375 \nL 388.965625 0 \nL 0 0 \nL 0 262.474375 \nz\n\" style=\"fill: none\"/>\n  </g>\n  <g id=\"axes_1\">\n   <g id=\"patch_2\">\n    <path d=\"M 46.965625 224.64 \nL 381.765625 224.64 \nL 381.765625 7.2 \nL 46.965625 7.2 \nz\n\" style=\"fill: #ffffff\"/>\n   </g>\n   <g id=\"patch_3\">\n    <path d=\"M 62.183807 224.64 \nL 64.830447 224.64 \nL 64.830447 222.704619 \nL 62.183807 222.704619 \nz\n\" clip-path=\"url(#p18f7cde82a)\" style=\"fill: #1f77b4; fill-opacity: 0.75; stroke: #000000; stroke-width: 0.264664; stroke-linejoin: miter\"/>\n   </g>\n   <g id=\"patch_4\">\n    <path d=\"M 64.830447 224.64 \nL 67.477087 224.64 \nL 67.477087 224.64 \nL 64.830447 224.64 \nz\n\" clip-path=\"url(#p18f7cde82a)\" style=\"fill: #1f77b4; fill-opacity: 0.75; stroke: #000000; stroke-width: 0.264664; stroke-linejoin: miter\"/>\n   </g>\n   <g id=\"patch_5\">\n    <path d=\"M 67.477087 224.64 \nL 70.123728 224.64 \nL 70.123728 224.64 \nL 67.477087 224.64 \nz\n\" clip-path=\"url(#p18f7cde82a)\" style=\"fill: #1f77b4; fill-opacity: 0.75; stroke: #000000; stroke-width: 0.264664; stroke-linejoin: miter\"/>\n   </g>\n   <g id=\"patch_6\">\n    <path d=\"M 70.123728 224.64 \nL 72.770368 224.64 \nL 72.770368 224.64 \nL 70.123728 224.64 \nz\n\" clip-path=\"url(#p18f7cde82a)\" style=\"fill: #1f77b4; fill-opacity: 0.75; stroke: #000000; stroke-width: 0.264664; stroke-linejoin: miter\"/>\n   </g>\n   <g id=\"patch_7\">\n    <path d=\"M 72.770368 224.64 \nL 75.417008 224.64 \nL 75.417008 224.64 \nL 72.770368 224.64 \nz\n\" clip-path=\"url(#p18f7cde82a)\" style=\"fill: #1f77b4; fill-opacity: 0.75; stroke: #000000; stroke-width: 0.264664; stroke-linejoin: miter\"/>\n   </g>\n   <g id=\"patch_8\">\n    <path d=\"M 75.417008 224.64 \nL 78.063649 224.64 \nL 78.063649 224.64 \nL 75.417008 224.64 \nz\n\" clip-path=\"url(#p18f7cde82a)\" style=\"fill: #1f77b4; fill-opacity: 0.75; stroke: #000000; stroke-width: 0.264664; stroke-linejoin: miter\"/>\n   </g>\n   <g id=\"patch_9\">\n    <path d=\"M 78.063649 224.64 \nL 80.710289 224.64 \nL 80.710289 224.64 \nL 78.063649 224.64 \nz\n\" clip-path=\"url(#p18f7cde82a)\" style=\"fill: #1f77b4; fill-opacity: 0.75; stroke: #000000; stroke-width: 0.264664; stroke-linejoin: miter\"/>\n   </g>\n   <g id=\"patch_10\">\n    <path d=\"M 80.710289 224.64 \nL 83.356929 224.64 \nL 83.356929 224.64 \nL 80.710289 224.64 \nz\n\" clip-path=\"url(#p18f7cde82a)\" style=\"fill: #1f77b4; fill-opacity: 0.75; stroke: #000000; stroke-width: 0.264664; stroke-linejoin: miter\"/>\n   </g>\n   <g id=\"patch_11\">\n    <path d=\"M 83.356929 224.64 \nL 86.00357 224.64 \nL 86.00357 224.64 \nL 83.356929 224.64 \nz\n\" clip-path=\"url(#p18f7cde82a)\" style=\"fill: #1f77b4; fill-opacity: 0.75; stroke: #000000; stroke-width: 0.264664; stroke-linejoin: miter\"/>\n   </g>\n   <g id=\"patch_12\">\n    <path d=\"M 86.00357 224.64 \nL 88.65021 224.64 \nL 88.65021 224.64 \nL 86.00357 224.64 \nz\n\" clip-path=\"url(#p18f7cde82a)\" style=\"fill: #1f77b4; fill-opacity: 0.75; stroke: #000000; stroke-width: 0.264664; stroke-linejoin: miter\"/>\n   </g>\n   <g id=\"patch_13\">\n    <path d=\"M 88.65021 224.64 \nL 91.29685 224.64 \nL 91.29685 224.64 \nL 88.65021 224.64 \nz\n\" clip-path=\"url(#p18f7cde82a)\" style=\"fill: #1f77b4; fill-opacity: 0.75; stroke: #000000; stroke-width: 0.264664; stroke-linejoin: miter\"/>\n   </g>\n   <g id=\"patch_14\">\n    <path d=\"M 91.29685 224.64 \nL 93.943491 224.64 \nL 93.943491 222.704619 \nL 91.29685 222.704619 \nz\n\" clip-path=\"url(#p18f7cde82a)\" style=\"fill: #1f77b4; fill-opacity: 0.75; stroke: #000000; stroke-width: 0.264664; stroke-linejoin: miter\"/>\n   </g>\n   <g id=\"patch_15\">\n    <path d=\"M 93.943491 224.64 \nL 96.590131 224.64 \nL 96.590131 222.704619 \nL 93.943491 222.704619 \nz\n\" clip-path=\"url(#p18f7cde82a)\" style=\"fill: #1f77b4; fill-opacity: 0.75; stroke: #000000; stroke-width: 0.264664; stroke-linejoin: miter\"/>\n   </g>\n   <g id=\"patch_16\">\n    <path d=\"M 96.590131 224.64 \nL 99.236771 224.64 \nL 99.236771 224.64 \nL 96.590131 224.64 \nz\n\" clip-path=\"url(#p18f7cde82a)\" style=\"fill: #1f77b4; fill-opacity: 0.75; stroke: #000000; stroke-width: 0.264664; stroke-linejoin: miter\"/>\n   </g>\n   <g id=\"patch_17\">\n    <path d=\"M 99.236771 224.64 \nL 101.883412 224.64 \nL 101.883412 224.64 \nL 99.236771 224.64 \nz\n\" clip-path=\"url(#p18f7cde82a)\" style=\"fill: #1f77b4; fill-opacity: 0.75; stroke: #000000; stroke-width: 0.264664; stroke-linejoin: miter\"/>\n   </g>\n   <g id=\"patch_18\">\n    <path d=\"M 101.883412 224.64 \nL 104.530052 224.64 \nL 104.530052 224.64 \nL 101.883412 224.64 \nz\n\" clip-path=\"url(#p18f7cde82a)\" style=\"fill: #1f77b4; fill-opacity: 0.75; stroke: #000000; stroke-width: 0.264664; stroke-linejoin: miter\"/>\n   </g>\n   <g id=\"patch_19\">\n    <path d=\"M 104.530052 224.64 \nL 107.176692 224.64 \nL 107.176692 224.64 \nL 104.530052 224.64 \nz\n\" clip-path=\"url(#p18f7cde82a)\" style=\"fill: #1f77b4; fill-opacity: 0.75; stroke: #000000; stroke-width: 0.264664; stroke-linejoin: miter\"/>\n   </g>\n   <g id=\"patch_20\">\n    <path d=\"M 107.176692 224.64 \nL 109.823333 224.64 \nL 109.823333 224.64 \nL 107.176692 224.64 \nz\n\" clip-path=\"url(#p18f7cde82a)\" style=\"fill: #1f77b4; fill-opacity: 0.75; stroke: #000000; stroke-width: 0.264664; stroke-linejoin: miter\"/>\n   </g>\n   <g id=\"patch_21\">\n    <path d=\"M 109.823333 224.64 \nL 112.469973 224.64 \nL 112.469973 224.64 \nL 109.823333 224.64 \nz\n\" clip-path=\"url(#p18f7cde82a)\" style=\"fill: #1f77b4; fill-opacity: 0.75; stroke: #000000; stroke-width: 0.264664; stroke-linejoin: miter\"/>\n   </g>\n   <g id=\"patch_22\">\n    <path d=\"M 112.469973 224.64 \nL 115.116613 224.64 \nL 115.116613 224.64 \nL 112.469973 224.64 \nz\n\" clip-path=\"url(#p18f7cde82a)\" style=\"fill: #1f77b4; fill-opacity: 0.75; stroke: #000000; stroke-width: 0.264664; stroke-linejoin: miter\"/>\n   </g>\n   <g id=\"patch_23\">\n    <path d=\"M 115.116613 224.64 \nL 117.763253 224.64 \nL 117.763253 224.64 \nL 115.116613 224.64 \nz\n\" clip-path=\"url(#p18f7cde82a)\" style=\"fill: #1f77b4; fill-opacity: 0.75; stroke: #000000; stroke-width: 0.264664; stroke-linejoin: miter\"/>\n   </g>\n   <g id=\"patch_24\">\n    <path d=\"M 117.763253 224.64 \nL 120.409894 224.64 \nL 120.409894 224.64 \nL 117.763253 224.64 \nz\n\" clip-path=\"url(#p18f7cde82a)\" style=\"fill: #1f77b4; fill-opacity: 0.75; stroke: #000000; stroke-width: 0.264664; stroke-linejoin: miter\"/>\n   </g>\n   <g id=\"patch_25\">\n    <path d=\"M 120.409894 224.64 \nL 123.056534 224.64 \nL 123.056534 224.64 \nL 120.409894 224.64 \nz\n\" clip-path=\"url(#p18f7cde82a)\" style=\"fill: #1f77b4; fill-opacity: 0.75; stroke: #000000; stroke-width: 0.264664; stroke-linejoin: miter\"/>\n   </g>\n   <g id=\"patch_26\">\n    <path d=\"M 123.056534 224.64 \nL 125.703174 224.64 \nL 125.703174 224.64 \nL 123.056534 224.64 \nz\n\" clip-path=\"url(#p18f7cde82a)\" style=\"fill: #1f77b4; fill-opacity: 0.75; stroke: #000000; stroke-width: 0.264664; stroke-linejoin: miter\"/>\n   </g>\n   <g id=\"patch_27\">\n    <path d=\"M 125.703174 224.64 \nL 128.349815 224.64 \nL 128.349815 222.704619 \nL 125.703174 222.704619 \nz\n\" clip-path=\"url(#p18f7cde82a)\" style=\"fill: #1f77b4; fill-opacity: 0.75; stroke: #000000; stroke-width: 0.264664; stroke-linejoin: miter\"/>\n   </g>\n   <g id=\"patch_28\">\n    <path d=\"M 128.349815 224.64 \nL 130.996455 224.64 \nL 130.996455 222.704619 \nL 128.349815 222.704619 \nz\n\" clip-path=\"url(#p18f7cde82a)\" style=\"fill: #1f77b4; fill-opacity: 0.75; stroke: #000000; stroke-width: 0.264664; stroke-linejoin: miter\"/>\n   </g>\n   <g id=\"patch_29\">\n    <path d=\"M 130.996455 224.64 \nL 133.643095 224.64 \nL 133.643095 220.769239 \nL 130.996455 220.769239 \nz\n\" clip-path=\"url(#p18f7cde82a)\" style=\"fill: #1f77b4; fill-opacity: 0.75; stroke: #000000; stroke-width: 0.264664; stroke-linejoin: miter\"/>\n   </g>\n   <g id=\"patch_30\">\n    <path d=\"M 133.643095 224.64 \nL 136.289736 224.64 \nL 136.289736 222.704619 \nL 133.643095 222.704619 \nz\n\" clip-path=\"url(#p18f7cde82a)\" style=\"fill: #1f77b4; fill-opacity: 0.75; stroke: #000000; stroke-width: 0.264664; stroke-linejoin: miter\"/>\n   </g>\n   <g id=\"patch_31\">\n    <path d=\"M 136.289736 224.64 \nL 138.936376 224.64 \nL 138.936376 220.769239 \nL 136.289736 220.769239 \nz\n\" clip-path=\"url(#p18f7cde82a)\" style=\"fill: #1f77b4; fill-opacity: 0.75; stroke: #000000; stroke-width: 0.264664; stroke-linejoin: miter\"/>\n   </g>\n   <g id=\"patch_32\">\n    <path d=\"M 138.936376 224.64 \nL 141.583016 224.64 \nL 141.583016 218.833858 \nL 138.936376 218.833858 \nz\n\" clip-path=\"url(#p18f7cde82a)\" style=\"fill: #1f77b4; fill-opacity: 0.75; stroke: #000000; stroke-width: 0.264664; stroke-linejoin: miter\"/>\n   </g>\n   <g id=\"patch_33\">\n    <path d=\"M 141.583016 224.64 \nL 144.229657 224.64 \nL 144.229657 216.898478 \nL 141.583016 216.898478 \nz\n\" clip-path=\"url(#p18f7cde82a)\" style=\"fill: #1f77b4; fill-opacity: 0.75; stroke: #000000; stroke-width: 0.264664; stroke-linejoin: miter\"/>\n   </g>\n   <g id=\"patch_34\">\n    <path d=\"M 144.229657 224.64 \nL 146.876297 224.64 \nL 146.876297 218.833858 \nL 144.229657 218.833858 \nz\n\" clip-path=\"url(#p18f7cde82a)\" style=\"fill: #1f77b4; fill-opacity: 0.75; stroke: #000000; stroke-width: 0.264664; stroke-linejoin: miter\"/>\n   </g>\n   <g id=\"patch_35\">\n    <path d=\"M 146.876297 224.64 \nL 149.522937 224.64 \nL 149.522937 214.963097 \nL 146.876297 214.963097 \nz\n\" clip-path=\"url(#p18f7cde82a)\" style=\"fill: #1f77b4; fill-opacity: 0.75; stroke: #000000; stroke-width: 0.264664; stroke-linejoin: miter\"/>\n   </g>\n   <g id=\"patch_36\">\n    <path d=\"M 149.522937 224.64 \nL 152.169578 224.64 \nL 152.169578 224.64 \nL 149.522937 224.64 \nz\n\" clip-path=\"url(#p18f7cde82a)\" style=\"fill: #1f77b4; fill-opacity: 0.75; stroke: #000000; stroke-width: 0.264664; stroke-linejoin: miter\"/>\n   </g>\n   <g id=\"patch_37\">\n    <path d=\"M 152.169578 224.64 \nL 154.816218 224.64 \nL 154.816218 209.156956 \nL 152.169578 209.156956 \nz\n\" clip-path=\"url(#p18f7cde82a)\" style=\"fill: #1f77b4; fill-opacity: 0.75; stroke: #000000; stroke-width: 0.264664; stroke-linejoin: miter\"/>\n   </g>\n   <g id=\"patch_38\">\n    <path d=\"M 154.816218 224.64 \nL 157.462858 224.64 \nL 157.462858 207.221575 \nL 154.816218 207.221575 \nz\n\" clip-path=\"url(#p18f7cde82a)\" style=\"fill: #1f77b4; fill-opacity: 0.75; stroke: #000000; stroke-width: 0.264664; stroke-linejoin: miter\"/>\n   </g>\n   <g id=\"patch_39\">\n    <path d=\"M 157.462858 224.64 \nL 160.109499 224.64 \nL 160.109499 213.027717 \nL 157.462858 213.027717 \nz\n\" clip-path=\"url(#p18f7cde82a)\" style=\"fill: #1f77b4; fill-opacity: 0.75; stroke: #000000; stroke-width: 0.264664; stroke-linejoin: miter\"/>\n   </g>\n   <g id=\"patch_40\">\n    <path d=\"M 160.109499 224.64 \nL 162.756139 224.64 \nL 162.756139 207.221575 \nL 160.109499 207.221575 \nz\n\" clip-path=\"url(#p18f7cde82a)\" style=\"fill: #1f77b4; fill-opacity: 0.75; stroke: #000000; stroke-width: 0.264664; stroke-linejoin: miter\"/>\n   </g>\n   <g id=\"patch_41\">\n    <path d=\"M 162.756139 224.64 \nL 165.402779 224.64 \nL 165.402779 195.609292 \nL 162.756139 195.609292 \nz\n\" clip-path=\"url(#p18f7cde82a)\" style=\"fill: #1f77b4; fill-opacity: 0.75; stroke: #000000; stroke-width: 0.264664; stroke-linejoin: miter\"/>\n   </g>\n   <g id=\"patch_42\">\n    <path d=\"M 165.402779 224.64 \nL 168.049419 224.64 \nL 168.049419 185.93239 \nL 165.402779 185.93239 \nz\n\" clip-path=\"url(#p18f7cde82a)\" style=\"fill: #1f77b4; fill-opacity: 0.75; stroke: #000000; stroke-width: 0.264664; stroke-linejoin: miter\"/>\n   </g>\n   <g id=\"patch_43\">\n    <path d=\"M 168.049419 224.64 \nL 170.69606 224.64 \nL 170.69606 199.480053 \nL 168.049419 199.480053 \nz\n\" clip-path=\"url(#p18f7cde82a)\" style=\"fill: #1f77b4; fill-opacity: 0.75; stroke: #000000; stroke-width: 0.264664; stroke-linejoin: miter\"/>\n   </g>\n   <g id=\"patch_44\">\n    <path d=\"M 170.69606 224.64 \nL 173.3427 224.64 \nL 173.3427 182.061629 \nL 170.69606 182.061629 \nz\n\" clip-path=\"url(#p18f7cde82a)\" style=\"fill: #1f77b4; fill-opacity: 0.75; stroke: #000000; stroke-width: 0.264664; stroke-linejoin: miter\"/>\n   </g>\n   <g id=\"patch_45\">\n    <path d=\"M 173.3427 224.64 \nL 175.98934 224.64 \nL 175.98934 116.258692 \nL 173.3427 116.258692 \nz\n\" clip-path=\"url(#p18f7cde82a)\" style=\"fill: #1f77b4; fill-opacity: 0.75; stroke: #000000; stroke-width: 0.264664; stroke-linejoin: miter\"/>\n   </g>\n   <g id=\"patch_46\">\n    <path d=\"M 175.98934 224.64 \nL 178.635981 224.64 \nL 178.635981 71.74494 \nL 175.98934 71.74494 \nz\n\" clip-path=\"url(#p18f7cde82a)\" style=\"fill: #1f77b4; fill-opacity: 0.75; stroke: #000000; stroke-width: 0.264664; stroke-linejoin: miter\"/>\n   </g>\n   <g id=\"patch_47\">\n    <path d=\"M 178.635981 224.64 \nL 181.282621 224.64 \nL 181.282621 17.554286 \nL 178.635981 17.554286 \nz\n\" clip-path=\"url(#p18f7cde82a)\" style=\"fill: #1f77b4; fill-opacity: 0.75; stroke: #000000; stroke-width: 0.264664; stroke-linejoin: miter\"/>\n   </g>\n   <g id=\"patch_48\">\n    <path d=\"M 181.282621 224.64 \nL 183.929261 224.64 \nL 183.929261 21.425047 \nL 181.282621 21.425047 \nz\n\" clip-path=\"url(#p18f7cde82a)\" style=\"fill: #1f77b4; fill-opacity: 0.75; stroke: #000000; stroke-width: 0.264664; stroke-linejoin: miter\"/>\n   </g>\n   <g id=\"patch_49\">\n    <path d=\"M 183.929261 224.64 \nL 186.575902 224.64 \nL 186.575902 58.197276 \nL 183.929261 58.197276 \nz\n\" clip-path=\"url(#p18f7cde82a)\" style=\"fill: #1f77b4; fill-opacity: 0.75; stroke: #000000; stroke-width: 0.264664; stroke-linejoin: miter\"/>\n   </g>\n   <g id=\"patch_50\">\n    <path d=\"M 186.575902 224.64 \nL 189.222542 224.64 \nL 189.222542 58.197276 \nL 186.575902 58.197276 \nz\n\" clip-path=\"url(#p18f7cde82a)\" style=\"fill: #1f77b4; fill-opacity: 0.75; stroke: #000000; stroke-width: 0.264664; stroke-linejoin: miter\"/>\n   </g>\n   <g id=\"patch_51\">\n    <path d=\"M 189.222542 224.64 \nL 191.869182 224.64 \nL 191.869182 83.357223 \nL 189.222542 83.357223 \nz\n\" clip-path=\"url(#p18f7cde82a)\" style=\"fill: #1f77b4; fill-opacity: 0.75; stroke: #000000; stroke-width: 0.264664; stroke-linejoin: miter\"/>\n   </g>\n   <g id=\"patch_52\">\n    <path d=\"M 191.869182 224.64 \nL 194.515823 224.64 \nL 194.515823 112.387931 \nL 191.869182 112.387931 \nz\n\" clip-path=\"url(#p18f7cde82a)\" style=\"fill: #1f77b4; fill-opacity: 0.75; stroke: #000000; stroke-width: 0.264664; stroke-linejoin: miter\"/>\n   </g>\n   <g id=\"patch_53\">\n    <path d=\"M 194.515823 224.64 \nL 197.162463 224.64 \nL 197.162463 164.643204 \nL 194.515823 164.643204 \nz\n\" clip-path=\"url(#p18f7cde82a)\" style=\"fill: #1f77b4; fill-opacity: 0.75; stroke: #000000; stroke-width: 0.264664; stroke-linejoin: miter\"/>\n   </g>\n   <g id=\"patch_54\">\n    <path d=\"M 197.162463 224.64 \nL 199.809103 224.64 \nL 199.809103 178.190868 \nL 197.162463 178.190868 \nz\n\" clip-path=\"url(#p18f7cde82a)\" style=\"fill: #1f77b4; fill-opacity: 0.75; stroke: #000000; stroke-width: 0.264664; stroke-linejoin: miter\"/>\n   </g>\n   <g id=\"patch_55\">\n    <path d=\"M 199.809103 224.64 \nL 202.455744 224.64 \nL 202.455744 178.190868 \nL 199.809103 178.190868 \nz\n\" clip-path=\"url(#p18f7cde82a)\" style=\"fill: #1f77b4; fill-opacity: 0.75; stroke: #000000; stroke-width: 0.264664; stroke-linejoin: miter\"/>\n   </g>\n   <g id=\"patch_56\">\n    <path d=\"M 202.455744 224.64 \nL 205.102384 224.64 \nL 205.102384 183.997009 \nL 202.455744 183.997009 \nz\n\" clip-path=\"url(#p18f7cde82a)\" style=\"fill: #1f77b4; fill-opacity: 0.75; stroke: #000000; stroke-width: 0.264664; stroke-linejoin: miter\"/>\n   </g>\n   <g id=\"patch_57\">\n    <path d=\"M 205.102384 224.64 \nL 207.749024 224.64 \nL 207.749024 205.286195 \nL 205.102384 205.286195 \nz\n\" clip-path=\"url(#p18f7cde82a)\" style=\"fill: #1f77b4; fill-opacity: 0.75; stroke: #000000; stroke-width: 0.264664; stroke-linejoin: miter\"/>\n   </g>\n   <g id=\"patch_58\">\n    <path d=\"M 207.749024 224.64 \nL 210.395665 224.64 \nL 210.395665 211.092336 \nL 207.749024 211.092336 \nz\n\" clip-path=\"url(#p18f7cde82a)\" style=\"fill: #1f77b4; fill-opacity: 0.75; stroke: #000000; stroke-width: 0.264664; stroke-linejoin: miter\"/>\n   </g>\n   <g id=\"patch_59\">\n    <path d=\"M 210.395665 224.64 \nL 213.042305 224.64 \nL 213.042305 211.092336 \nL 210.395665 211.092336 \nz\n\" clip-path=\"url(#p18f7cde82a)\" style=\"fill: #1f77b4; fill-opacity: 0.75; stroke: #000000; stroke-width: 0.264664; stroke-linejoin: miter\"/>\n   </g>\n   <g id=\"patch_60\">\n    <path d=\"M 213.042305 224.64 \nL 215.688945 224.64 \nL 215.688945 222.704619 \nL 213.042305 222.704619 \nz\n\" clip-path=\"url(#p18f7cde82a)\" style=\"fill: #1f77b4; fill-opacity: 0.75; stroke: #000000; stroke-width: 0.264664; stroke-linejoin: miter\"/>\n   </g>\n   <g id=\"patch_61\">\n    <path d=\"M 215.688945 224.64 \nL 218.335585 224.64 \nL 218.335585 214.963097 \nL 215.688945 214.963097 \nz\n\" clip-path=\"url(#p18f7cde82a)\" style=\"fill: #1f77b4; fill-opacity: 0.75; stroke: #000000; stroke-width: 0.264664; stroke-linejoin: miter\"/>\n   </g>\n   <g id=\"patch_62\">\n    <path d=\"M 218.335585 224.64 \nL 220.982226 224.64 \nL 220.982226 222.704619 \nL 218.335585 222.704619 \nz\n\" clip-path=\"url(#p18f7cde82a)\" style=\"fill: #1f77b4; fill-opacity: 0.75; stroke: #000000; stroke-width: 0.264664; stroke-linejoin: miter\"/>\n   </g>\n   <g id=\"patch_63\">\n    <path d=\"M 220.982226 224.64 \nL 223.628866 224.64 \nL 223.628866 222.704619 \nL 220.982226 222.704619 \nz\n\" clip-path=\"url(#p18f7cde82a)\" style=\"fill: #1f77b4; fill-opacity: 0.75; stroke: #000000; stroke-width: 0.264664; stroke-linejoin: miter\"/>\n   </g>\n   <g id=\"patch_64\">\n    <path d=\"M 223.628866 224.64 \nL 226.275506 224.64 \nL 226.275506 222.704619 \nL 223.628866 222.704619 \nz\n\" clip-path=\"url(#p18f7cde82a)\" style=\"fill: #1f77b4; fill-opacity: 0.75; stroke: #000000; stroke-width: 0.264664; stroke-linejoin: miter\"/>\n   </g>\n   <g id=\"patch_65\">\n    <path d=\"M 226.275506 224.64 \nL 228.922147 224.64 \nL 228.922147 218.833858 \nL 226.275506 218.833858 \nz\n\" clip-path=\"url(#p18f7cde82a)\" style=\"fill: #1f77b4; fill-opacity: 0.75; stroke: #000000; stroke-width: 0.264664; stroke-linejoin: miter\"/>\n   </g>\n   <g id=\"patch_66\">\n    <path d=\"M 228.922147 224.64 \nL 231.568787 224.64 \nL 231.568787 224.64 \nL 228.922147 224.64 \nz\n\" clip-path=\"url(#p18f7cde82a)\" style=\"fill: #1f77b4; fill-opacity: 0.75; stroke: #000000; stroke-width: 0.264664; stroke-linejoin: miter\"/>\n   </g>\n   <g id=\"patch_67\">\n    <path d=\"M 231.568787 224.64 \nL 234.215427 224.64 \nL 234.215427 224.64 \nL 231.568787 224.64 \nz\n\" clip-path=\"url(#p18f7cde82a)\" style=\"fill: #1f77b4; fill-opacity: 0.75; stroke: #000000; stroke-width: 0.264664; stroke-linejoin: miter\"/>\n   </g>\n   <g id=\"patch_68\">\n    <path d=\"M 234.215427 224.64 \nL 236.862068 224.64 \nL 236.862068 224.64 \nL 234.215427 224.64 \nz\n\" clip-path=\"url(#p18f7cde82a)\" style=\"fill: #1f77b4; fill-opacity: 0.75; stroke: #000000; stroke-width: 0.264664; stroke-linejoin: miter\"/>\n   </g>\n   <g id=\"patch_69\">\n    <path d=\"M 236.862068 224.64 \nL 239.508708 224.64 \nL 239.508708 224.64 \nL 236.862068 224.64 \nz\n\" clip-path=\"url(#p18f7cde82a)\" style=\"fill: #1f77b4; fill-opacity: 0.75; stroke: #000000; stroke-width: 0.264664; stroke-linejoin: miter\"/>\n   </g>\n   <g id=\"patch_70\">\n    <path d=\"M 239.508708 224.64 \nL 242.155348 224.64 \nL 242.155348 220.769239 \nL 239.508708 220.769239 \nz\n\" clip-path=\"url(#p18f7cde82a)\" style=\"fill: #1f77b4; fill-opacity: 0.75; stroke: #000000; stroke-width: 0.264664; stroke-linejoin: miter\"/>\n   </g>\n   <g id=\"patch_71\">\n    <path d=\"M 242.155348 224.64 \nL 244.801989 224.64 \nL 244.801989 222.704619 \nL 242.155348 222.704619 \nz\n\" clip-path=\"url(#p18f7cde82a)\" style=\"fill: #1f77b4; fill-opacity: 0.75; stroke: #000000; stroke-width: 0.264664; stroke-linejoin: miter\"/>\n   </g>\n   <g id=\"patch_72\">\n    <path d=\"M 244.801989 224.64 \nL 247.448629 224.64 \nL 247.448629 222.704619 \nL 244.801989 222.704619 \nz\n\" clip-path=\"url(#p18f7cde82a)\" style=\"fill: #1f77b4; fill-opacity: 0.75; stroke: #000000; stroke-width: 0.264664; stroke-linejoin: miter\"/>\n   </g>\n   <g id=\"patch_73\">\n    <path d=\"M 247.448629 224.64 \nL 250.095269 224.64 \nL 250.095269 222.704619 \nL 247.448629 222.704619 \nz\n\" clip-path=\"url(#p18f7cde82a)\" style=\"fill: #1f77b4; fill-opacity: 0.75; stroke: #000000; stroke-width: 0.264664; stroke-linejoin: miter\"/>\n   </g>\n   <g id=\"patch_74\">\n    <path d=\"M 250.095269 224.64 \nL 252.74191 224.64 \nL 252.74191 222.704619 \nL 250.095269 222.704619 \nz\n\" clip-path=\"url(#p18f7cde82a)\" style=\"fill: #1f77b4; fill-opacity: 0.75; stroke: #000000; stroke-width: 0.264664; stroke-linejoin: miter\"/>\n   </g>\n   <g id=\"patch_75\">\n    <path d=\"M 252.74191 224.64 \nL 255.38855 224.64 \nL 255.38855 224.64 \nL 252.74191 224.64 \nz\n\" clip-path=\"url(#p18f7cde82a)\" style=\"fill: #1f77b4; fill-opacity: 0.75; stroke: #000000; stroke-width: 0.264664; stroke-linejoin: miter\"/>\n   </g>\n   <g id=\"patch_76\">\n    <path d=\"M 255.38855 224.64 \nL 258.03519 224.64 \nL 258.03519 224.64 \nL 255.38855 224.64 \nz\n\" clip-path=\"url(#p18f7cde82a)\" style=\"fill: #1f77b4; fill-opacity: 0.75; stroke: #000000; stroke-width: 0.264664; stroke-linejoin: miter\"/>\n   </g>\n   <g id=\"patch_77\">\n    <path d=\"M 258.03519 224.64 \nL 260.681831 224.64 \nL 260.681831 224.64 \nL 258.03519 224.64 \nz\n\" clip-path=\"url(#p18f7cde82a)\" style=\"fill: #1f77b4; fill-opacity: 0.75; stroke: #000000; stroke-width: 0.264664; stroke-linejoin: miter\"/>\n   </g>\n   <g id=\"patch_78\">\n    <path d=\"M 260.681831 224.64 \nL 263.328471 224.64 \nL 263.328471 224.64 \nL 260.681831 224.64 \nz\n\" clip-path=\"url(#p18f7cde82a)\" style=\"fill: #1f77b4; fill-opacity: 0.75; stroke: #000000; stroke-width: 0.264664; stroke-linejoin: miter\"/>\n   </g>\n   <g id=\"patch_79\">\n    <path d=\"M 263.328471 224.64 \nL 265.975111 224.64 \nL 265.975111 222.704619 \nL 263.328471 222.704619 \nz\n\" clip-path=\"url(#p18f7cde82a)\" style=\"fill: #1f77b4; fill-opacity: 0.75; stroke: #000000; stroke-width: 0.264664; stroke-linejoin: miter\"/>\n   </g>\n   <g id=\"patch_80\">\n    <path d=\"M 265.975111 224.64 \nL 268.621751 224.64 \nL 268.621751 224.64 \nL 265.975111 224.64 \nz\n\" clip-path=\"url(#p18f7cde82a)\" style=\"fill: #1f77b4; fill-opacity: 0.75; stroke: #000000; stroke-width: 0.264664; stroke-linejoin: miter\"/>\n   </g>\n   <g id=\"patch_81\">\n    <path d=\"M 268.621751 224.64 \nL 271.268392 224.64 \nL 271.268392 224.64 \nL 268.621751 224.64 \nz\n\" clip-path=\"url(#p18f7cde82a)\" style=\"fill: #1f77b4; fill-opacity: 0.75; stroke: #000000; stroke-width: 0.264664; stroke-linejoin: miter\"/>\n   </g>\n   <g id=\"patch_82\">\n    <path d=\"M 271.268392 224.64 \nL 273.915032 224.64 \nL 273.915032 224.64 \nL 271.268392 224.64 \nz\n\" clip-path=\"url(#p18f7cde82a)\" style=\"fill: #1f77b4; fill-opacity: 0.75; stroke: #000000; stroke-width: 0.264664; stroke-linejoin: miter\"/>\n   </g>\n   <g id=\"patch_83\">\n    <path d=\"M 273.915032 224.64 \nL 276.561672 224.64 \nL 276.561672 224.64 \nL 273.915032 224.64 \nz\n\" clip-path=\"url(#p18f7cde82a)\" style=\"fill: #1f77b4; fill-opacity: 0.75; stroke: #000000; stroke-width: 0.264664; stroke-linejoin: miter\"/>\n   </g>\n   <g id=\"patch_84\">\n    <path d=\"M 276.561672 224.64 \nL 279.208313 224.64 \nL 279.208313 224.64 \nL 276.561672 224.64 \nz\n\" clip-path=\"url(#p18f7cde82a)\" style=\"fill: #1f77b4; fill-opacity: 0.75; stroke: #000000; stroke-width: 0.264664; stroke-linejoin: miter\"/>\n   </g>\n   <g id=\"patch_85\">\n    <path d=\"M 279.208313 224.64 \nL 281.854953 224.64 \nL 281.854953 224.64 \nL 279.208313 224.64 \nz\n\" clip-path=\"url(#p18f7cde82a)\" style=\"fill: #1f77b4; fill-opacity: 0.75; stroke: #000000; stroke-width: 0.264664; stroke-linejoin: miter\"/>\n   </g>\n   <g id=\"patch_86\">\n    <path d=\"M 281.854953 224.64 \nL 284.501593 224.64 \nL 284.501593 224.64 \nL 281.854953 224.64 \nz\n\" clip-path=\"url(#p18f7cde82a)\" style=\"fill: #1f77b4; fill-opacity: 0.75; stroke: #000000; stroke-width: 0.264664; stroke-linejoin: miter\"/>\n   </g>\n   <g id=\"patch_87\">\n    <path d=\"M 284.501593 224.64 \nL 287.148234 224.64 \nL 287.148234 224.64 \nL 284.501593 224.64 \nz\n\" clip-path=\"url(#p18f7cde82a)\" style=\"fill: #1f77b4; fill-opacity: 0.75; stroke: #000000; stroke-width: 0.264664; stroke-linejoin: miter\"/>\n   </g>\n   <g id=\"patch_88\">\n    <path d=\"M 287.148234 224.64 \nL 289.794874 224.64 \nL 289.794874 224.64 \nL 287.148234 224.64 \nz\n\" clip-path=\"url(#p18f7cde82a)\" style=\"fill: #1f77b4; fill-opacity: 0.75; stroke: #000000; stroke-width: 0.264664; stroke-linejoin: miter\"/>\n   </g>\n   <g id=\"patch_89\">\n    <path d=\"M 289.794874 224.64 \nL 292.441514 224.64 \nL 292.441514 224.64 \nL 289.794874 224.64 \nz\n\" clip-path=\"url(#p18f7cde82a)\" style=\"fill: #1f77b4; fill-opacity: 0.75; stroke: #000000; stroke-width: 0.264664; stroke-linejoin: miter\"/>\n   </g>\n   <g id=\"patch_90\">\n    <path d=\"M 292.441514 224.64 \nL 295.088155 224.64 \nL 295.088155 224.64 \nL 292.441514 224.64 \nz\n\" clip-path=\"url(#p18f7cde82a)\" style=\"fill: #1f77b4; fill-opacity: 0.75; stroke: #000000; stroke-width: 0.264664; stroke-linejoin: miter\"/>\n   </g>\n   <g id=\"patch_91\">\n    <path d=\"M 295.088155 224.64 \nL 297.734795 224.64 \nL 297.734795 224.64 \nL 295.088155 224.64 \nz\n\" clip-path=\"url(#p18f7cde82a)\" style=\"fill: #1f77b4; fill-opacity: 0.75; stroke: #000000; stroke-width: 0.264664; stroke-linejoin: miter\"/>\n   </g>\n   <g id=\"patch_92\">\n    <path d=\"M 297.734795 224.64 \nL 300.381435 224.64 \nL 300.381435 224.64 \nL 297.734795 224.64 \nz\n\" clip-path=\"url(#p18f7cde82a)\" style=\"fill: #1f77b4; fill-opacity: 0.75; stroke: #000000; stroke-width: 0.264664; stroke-linejoin: miter\"/>\n   </g>\n   <g id=\"patch_93\">\n    <path d=\"M 300.381435 224.64 \nL 303.028076 224.64 \nL 303.028076 224.64 \nL 300.381435 224.64 \nz\n\" clip-path=\"url(#p18f7cde82a)\" style=\"fill: #1f77b4; fill-opacity: 0.75; stroke: #000000; stroke-width: 0.264664; stroke-linejoin: miter\"/>\n   </g>\n   <g id=\"patch_94\">\n    <path d=\"M 303.028076 224.64 \nL 305.674716 224.64 \nL 305.674716 224.64 \nL 303.028076 224.64 \nz\n\" clip-path=\"url(#p18f7cde82a)\" style=\"fill: #1f77b4; fill-opacity: 0.75; stroke: #000000; stroke-width: 0.264664; stroke-linejoin: miter\"/>\n   </g>\n   <g id=\"patch_95\">\n    <path d=\"M 305.674716 224.64 \nL 308.321356 224.64 \nL 308.321356 224.64 \nL 305.674716 224.64 \nz\n\" clip-path=\"url(#p18f7cde82a)\" style=\"fill: #1f77b4; fill-opacity: 0.75; stroke: #000000; stroke-width: 0.264664; stroke-linejoin: miter\"/>\n   </g>\n   <g id=\"patch_96\">\n    <path d=\"M 308.321356 224.64 \nL 310.967997 224.64 \nL 310.967997 222.704619 \nL 308.321356 222.704619 \nz\n\" clip-path=\"url(#p18f7cde82a)\" style=\"fill: #1f77b4; fill-opacity: 0.75; stroke: #000000; stroke-width: 0.264664; stroke-linejoin: miter\"/>\n   </g>\n   <g id=\"patch_97\">\n    <path d=\"M 310.967997 224.64 \nL 313.614637 224.64 \nL 313.614637 224.64 \nL 310.967997 224.64 \nz\n\" clip-path=\"url(#p18f7cde82a)\" style=\"fill: #1f77b4; fill-opacity: 0.75; stroke: #000000; stroke-width: 0.264664; stroke-linejoin: miter\"/>\n   </g>\n   <g id=\"patch_98\">\n    <path d=\"M 313.614637 224.64 \nL 316.261277 224.64 \nL 316.261277 224.64 \nL 313.614637 224.64 \nz\n\" clip-path=\"url(#p18f7cde82a)\" style=\"fill: #1f77b4; fill-opacity: 0.75; stroke: #000000; stroke-width: 0.264664; stroke-linejoin: miter\"/>\n   </g>\n   <g id=\"patch_99\">\n    <path d=\"M 316.261277 224.64 \nL 318.907917 224.64 \nL 318.907917 224.64 \nL 316.261277 224.64 \nz\n\" clip-path=\"url(#p18f7cde82a)\" style=\"fill: #1f77b4; fill-opacity: 0.75; stroke: #000000; stroke-width: 0.264664; stroke-linejoin: miter\"/>\n   </g>\n   <g id=\"patch_100\">\n    <path d=\"M 318.907917 224.64 \nL 321.554558 224.64 \nL 321.554558 224.64 \nL 318.907917 224.64 \nz\n\" clip-path=\"url(#p18f7cde82a)\" style=\"fill: #1f77b4; fill-opacity: 0.75; stroke: #000000; stroke-width: 0.264664; stroke-linejoin: miter\"/>\n   </g>\n   <g id=\"patch_101\">\n    <path d=\"M 321.554558 224.64 \nL 324.201198 224.64 \nL 324.201198 224.64 \nL 321.554558 224.64 \nz\n\" clip-path=\"url(#p18f7cde82a)\" style=\"fill: #1f77b4; fill-opacity: 0.75; stroke: #000000; stroke-width: 0.264664; stroke-linejoin: miter\"/>\n   </g>\n   <g id=\"patch_102\">\n    <path d=\"M 324.201198 224.64 \nL 326.847838 224.64 \nL 326.847838 224.64 \nL 324.201198 224.64 \nz\n\" clip-path=\"url(#p18f7cde82a)\" style=\"fill: #1f77b4; fill-opacity: 0.75; stroke: #000000; stroke-width: 0.264664; stroke-linejoin: miter\"/>\n   </g>\n   <g id=\"patch_103\">\n    <path d=\"M 326.847838 224.64 \nL 329.494479 224.64 \nL 329.494479 224.64 \nL 326.847838 224.64 \nz\n\" clip-path=\"url(#p18f7cde82a)\" style=\"fill: #1f77b4; fill-opacity: 0.75; stroke: #000000; stroke-width: 0.264664; stroke-linejoin: miter\"/>\n   </g>\n   <g id=\"patch_104\">\n    <path d=\"M 329.494479 224.64 \nL 332.141119 224.64 \nL 332.141119 224.64 \nL 329.494479 224.64 \nz\n\" clip-path=\"url(#p18f7cde82a)\" style=\"fill: #1f77b4; fill-opacity: 0.75; stroke: #000000; stroke-width: 0.264664; stroke-linejoin: miter\"/>\n   </g>\n   <g id=\"patch_105\">\n    <path d=\"M 332.141119 224.64 \nL 334.787759 224.64 \nL 334.787759 224.64 \nL 332.141119 224.64 \nz\n\" clip-path=\"url(#p18f7cde82a)\" style=\"fill: #1f77b4; fill-opacity: 0.75; stroke: #000000; stroke-width: 0.264664; stroke-linejoin: miter\"/>\n   </g>\n   <g id=\"patch_106\">\n    <path d=\"M 334.787759 224.64 \nL 337.4344 224.64 \nL 337.4344 224.64 \nL 334.787759 224.64 \nz\n\" clip-path=\"url(#p18f7cde82a)\" style=\"fill: #1f77b4; fill-opacity: 0.75; stroke: #000000; stroke-width: 0.264664; stroke-linejoin: miter\"/>\n   </g>\n   <g id=\"patch_107\">\n    <path d=\"M 337.4344 224.64 \nL 340.08104 224.64 \nL 340.08104 224.64 \nL 337.4344 224.64 \nz\n\" clip-path=\"url(#p18f7cde82a)\" style=\"fill: #1f77b4; fill-opacity: 0.75; stroke: #000000; stroke-width: 0.264664; stroke-linejoin: miter\"/>\n   </g>\n   <g id=\"patch_108\">\n    <path d=\"M 340.08104 224.64 \nL 342.72768 224.64 \nL 342.72768 224.64 \nL 340.08104 224.64 \nz\n\" clip-path=\"url(#p18f7cde82a)\" style=\"fill: #1f77b4; fill-opacity: 0.75; stroke: #000000; stroke-width: 0.264664; stroke-linejoin: miter\"/>\n   </g>\n   <g id=\"patch_109\">\n    <path d=\"M 342.72768 224.64 \nL 345.374321 224.64 \nL 345.374321 224.64 \nL 342.72768 224.64 \nz\n\" clip-path=\"url(#p18f7cde82a)\" style=\"fill: #1f77b4; fill-opacity: 0.75; stroke: #000000; stroke-width: 0.264664; stroke-linejoin: miter\"/>\n   </g>\n   <g id=\"patch_110\">\n    <path d=\"M 345.374321 224.64 \nL 348.020961 224.64 \nL 348.020961 224.64 \nL 345.374321 224.64 \nz\n\" clip-path=\"url(#p18f7cde82a)\" style=\"fill: #1f77b4; fill-opacity: 0.75; stroke: #000000; stroke-width: 0.264664; stroke-linejoin: miter\"/>\n   </g>\n   <g id=\"patch_111\">\n    <path d=\"M 348.020961 224.64 \nL 350.667601 224.64 \nL 350.667601 224.64 \nL 348.020961 224.64 \nz\n\" clip-path=\"url(#p18f7cde82a)\" style=\"fill: #1f77b4; fill-opacity: 0.75; stroke: #000000; stroke-width: 0.264664; stroke-linejoin: miter\"/>\n   </g>\n   <g id=\"patch_112\">\n    <path d=\"M 350.667601 224.64 \nL 353.314242 224.64 \nL 353.314242 224.64 \nL 350.667601 224.64 \nz\n\" clip-path=\"url(#p18f7cde82a)\" style=\"fill: #1f77b4; fill-opacity: 0.75; stroke: #000000; stroke-width: 0.264664; stroke-linejoin: miter\"/>\n   </g>\n   <g id=\"patch_113\">\n    <path d=\"M 353.314242 224.64 \nL 355.960882 224.64 \nL 355.960882 224.64 \nL 353.314242 224.64 \nz\n\" clip-path=\"url(#p18f7cde82a)\" style=\"fill: #1f77b4; fill-opacity: 0.75; stroke: #000000; stroke-width: 0.264664; stroke-linejoin: miter\"/>\n   </g>\n   <g id=\"patch_114\">\n    <path d=\"M 355.960882 224.64 \nL 358.607522 224.64 \nL 358.607522 224.64 \nL 355.960882 224.64 \nz\n\" clip-path=\"url(#p18f7cde82a)\" style=\"fill: #1f77b4; fill-opacity: 0.75; stroke: #000000; stroke-width: 0.264664; stroke-linejoin: miter\"/>\n   </g>\n   <g id=\"patch_115\">\n    <path d=\"M 358.607522 224.64 \nL 361.254163 224.64 \nL 361.254163 224.64 \nL 358.607522 224.64 \nz\n\" clip-path=\"url(#p18f7cde82a)\" style=\"fill: #1f77b4; fill-opacity: 0.75; stroke: #000000; stroke-width: 0.264664; stroke-linejoin: miter\"/>\n   </g>\n   <g id=\"patch_116\">\n    <path d=\"M 361.254163 224.64 \nL 363.900803 224.64 \nL 363.900803 224.64 \nL 361.254163 224.64 \nz\n\" clip-path=\"url(#p18f7cde82a)\" style=\"fill: #1f77b4; fill-opacity: 0.75; stroke: #000000; stroke-width: 0.264664; stroke-linejoin: miter\"/>\n   </g>\n   <g id=\"patch_117\">\n    <path d=\"M 363.900803 224.64 \nL 366.547443 224.64 \nL 366.547443 222.704619 \nL 363.900803 222.704619 \nz\n\" clip-path=\"url(#p18f7cde82a)\" style=\"fill: #1f77b4; fill-opacity: 0.75; stroke: #000000; stroke-width: 0.264664; stroke-linejoin: miter\"/>\n   </g>\n   <g id=\"matplotlib.axis_1\">\n    <g id=\"xtick_1\">\n     <g id=\"line2d_1\">\n      <defs>\n       <path id=\"mcbd565d8c9\" d=\"M 0 0 \nL 0 3.5 \n\" style=\"stroke: #000000; stroke-width: 0.8\"/>\n      </defs>\n      <g>\n       <use xlink:href=\"#mcbd565d8c9\" x=\"105.241908\" y=\"224.64\" style=\"stroke: #000000; stroke-width: 0.8\"/>\n      </g>\n     </g>\n     <g id=\"text_1\">\n      <!-- −0.2 -->\n      <g transform=\"translate(93.100502 239.238438)scale(0.1 -0.1)\">\n       <defs>\n        <path id=\"DejaVuSans-2212\" d=\"M 678 2272 \nL 4684 2272 \nL 4684 1741 \nL 678 1741 \nL 678 2272 \nz\n\" transform=\"scale(0.015625)\"/>\n        <path id=\"DejaVuSans-30\" d=\"M 2034 4250 \nQ 1547 4250 1301 3770 \nQ 1056 3291 1056 2328 \nQ 1056 1369 1301 889 \nQ 1547 409 2034 409 \nQ 2525 409 2770 889 \nQ 3016 1369 3016 2328 \nQ 3016 3291 2770 3770 \nQ 2525 4250 2034 4250 \nz\nM 2034 4750 \nQ 2819 4750 3233 4129 \nQ 3647 3509 3647 2328 \nQ 3647 1150 3233 529 \nQ 2819 -91 2034 -91 \nQ 1250 -91 836 529 \nQ 422 1150 422 2328 \nQ 422 3509 836 4129 \nQ 1250 4750 2034 4750 \nz\n\" transform=\"scale(0.015625)\"/>\n        <path id=\"DejaVuSans-2e\" d=\"M 684 794 \nL 1344 794 \nL 1344 0 \nL 684 0 \nL 684 794 \nz\n\" transform=\"scale(0.015625)\"/>\n        <path id=\"DejaVuSans-32\" d=\"M 1228 531 \nL 3431 531 \nL 3431 0 \nL 469 0 \nL 469 531 \nQ 828 903 1448 1529 \nQ 2069 2156 2228 2338 \nQ 2531 2678 2651 2914 \nQ 2772 3150 2772 3378 \nQ 2772 3750 2511 3984 \nQ 2250 4219 1831 4219 \nQ 1534 4219 1204 4116 \nQ 875 4013 500 3803 \nL 500 4441 \nQ 881 4594 1212 4672 \nQ 1544 4750 1819 4750 \nQ 2544 4750 2975 4387 \nQ 3406 4025 3406 3419 \nQ 3406 3131 3298 2873 \nQ 3191 2616 2906 2266 \nQ 2828 2175 2409 1742 \nQ 1991 1309 1228 531 \nz\n\" transform=\"scale(0.015625)\"/>\n       </defs>\n       <use xlink:href=\"#DejaVuSans-2212\"/>\n       <use xlink:href=\"#DejaVuSans-30\" x=\"83.789062\"/>\n       <use xlink:href=\"#DejaVuSans-2e\" x=\"147.412109\"/>\n       <use xlink:href=\"#DejaVuSans-32\" x=\"179.199219\"/>\n      </g>\n     </g>\n    </g>\n    <g id=\"xtick_2\">\n     <g id=\"line2d_2\">\n      <g>\n       <use xlink:href=\"#mcbd565d8c9\" x=\"176.552079\" y=\"224.64\" style=\"stroke: #000000; stroke-width: 0.8\"/>\n      </g>\n     </g>\n     <g id=\"text_2\">\n      <!-- 0.0 -->\n      <g transform=\"translate(168.600517 239.238438)scale(0.1 -0.1)\">\n       <use xlink:href=\"#DejaVuSans-30\"/>\n       <use xlink:href=\"#DejaVuSans-2e\" x=\"63.623047\"/>\n       <use xlink:href=\"#DejaVuSans-30\" x=\"95.410156\"/>\n      </g>\n     </g>\n    </g>\n    <g id=\"xtick_3\">\n     <g id=\"line2d_3\">\n      <g>\n       <use xlink:href=\"#mcbd565d8c9\" x=\"247.86225\" y=\"224.64\" style=\"stroke: #000000; stroke-width: 0.8\"/>\n      </g>\n     </g>\n     <g id=\"text_3\">\n      <!-- 0.2 -->\n      <g transform=\"translate(239.910687 239.238438)scale(0.1 -0.1)\">\n       <use xlink:href=\"#DejaVuSans-30\"/>\n       <use xlink:href=\"#DejaVuSans-2e\" x=\"63.623047\"/>\n       <use xlink:href=\"#DejaVuSans-32\" x=\"95.410156\"/>\n      </g>\n     </g>\n    </g>\n    <g id=\"xtick_4\">\n     <g id=\"line2d_4\">\n      <g>\n       <use xlink:href=\"#mcbd565d8c9\" x=\"319.172421\" y=\"224.64\" style=\"stroke: #000000; stroke-width: 0.8\"/>\n      </g>\n     </g>\n     <g id=\"text_4\">\n      <!-- 0.4 -->\n      <g transform=\"translate(311.220858 239.238438)scale(0.1 -0.1)\">\n       <defs>\n        <path id=\"DejaVuSans-34\" d=\"M 2419 4116 \nL 825 1625 \nL 2419 1625 \nL 2419 4116 \nz\nM 2253 4666 \nL 3047 4666 \nL 3047 1625 \nL 3713 1625 \nL 3713 1100 \nL 3047 1100 \nL 3047 0 \nL 2419 0 \nL 2419 1100 \nL 313 1100 \nL 313 1709 \nL 2253 4666 \nz\n\" transform=\"scale(0.015625)\"/>\n       </defs>\n       <use xlink:href=\"#DejaVuSans-30\"/>\n       <use xlink:href=\"#DejaVuSans-2e\" x=\"63.623047\"/>\n       <use xlink:href=\"#DejaVuSans-34\" x=\"95.410156\"/>\n      </g>\n     </g>\n    </g>\n    <g id=\"text_5\">\n     <!-- growth_rate -->\n     <g transform=\"translate(184.314844 252.916562)scale(0.1 -0.1)\">\n      <defs>\n       <path id=\"DejaVuSans-67\" d=\"M 2906 1791 \nQ 2906 2416 2648 2759 \nQ 2391 3103 1925 3103 \nQ 1463 3103 1205 2759 \nQ 947 2416 947 1791 \nQ 947 1169 1205 825 \nQ 1463 481 1925 481 \nQ 2391 481 2648 825 \nQ 2906 1169 2906 1791 \nz\nM 3481 434 \nQ 3481 -459 3084 -895 \nQ 2688 -1331 1869 -1331 \nQ 1566 -1331 1297 -1286 \nQ 1028 -1241 775 -1147 \nL 775 -588 \nQ 1028 -725 1275 -790 \nQ 1522 -856 1778 -856 \nQ 2344 -856 2625 -561 \nQ 2906 -266 2906 331 \nL 2906 616 \nQ 2728 306 2450 153 \nQ 2172 0 1784 0 \nQ 1141 0 747 490 \nQ 353 981 353 1791 \nQ 353 2603 747 3093 \nQ 1141 3584 1784 3584 \nQ 2172 3584 2450 3431 \nQ 2728 3278 2906 2969 \nL 2906 3500 \nL 3481 3500 \nL 3481 434 \nz\n\" transform=\"scale(0.015625)\"/>\n       <path id=\"DejaVuSans-72\" d=\"M 2631 2963 \nQ 2534 3019 2420 3045 \nQ 2306 3072 2169 3072 \nQ 1681 3072 1420 2755 \nQ 1159 2438 1159 1844 \nL 1159 0 \nL 581 0 \nL 581 3500 \nL 1159 3500 \nL 1159 2956 \nQ 1341 3275 1631 3429 \nQ 1922 3584 2338 3584 \nQ 2397 3584 2469 3576 \nQ 2541 3569 2628 3553 \nL 2631 2963 \nz\n\" transform=\"scale(0.015625)\"/>\n       <path id=\"DejaVuSans-6f\" d=\"M 1959 3097 \nQ 1497 3097 1228 2736 \nQ 959 2375 959 1747 \nQ 959 1119 1226 758 \nQ 1494 397 1959 397 \nQ 2419 397 2687 759 \nQ 2956 1122 2956 1747 \nQ 2956 2369 2687 2733 \nQ 2419 3097 1959 3097 \nz\nM 1959 3584 \nQ 2709 3584 3137 3096 \nQ 3566 2609 3566 1747 \nQ 3566 888 3137 398 \nQ 2709 -91 1959 -91 \nQ 1206 -91 779 398 \nQ 353 888 353 1747 \nQ 353 2609 779 3096 \nQ 1206 3584 1959 3584 \nz\n\" transform=\"scale(0.015625)\"/>\n       <path id=\"DejaVuSans-77\" d=\"M 269 3500 \nL 844 3500 \nL 1563 769 \nL 2278 3500 \nL 2956 3500 \nL 3675 769 \nL 4391 3500 \nL 4966 3500 \nL 4050 0 \nL 3372 0 \nL 2619 2869 \nL 1863 0 \nL 1184 0 \nL 269 3500 \nz\n\" transform=\"scale(0.015625)\"/>\n       <path id=\"DejaVuSans-74\" d=\"M 1172 4494 \nL 1172 3500 \nL 2356 3500 \nL 2356 3053 \nL 1172 3053 \nL 1172 1153 \nQ 1172 725 1289 603 \nQ 1406 481 1766 481 \nL 2356 481 \nL 2356 0 \nL 1766 0 \nQ 1100 0 847 248 \nQ 594 497 594 1153 \nL 594 3053 \nL 172 3053 \nL 172 3500 \nL 594 3500 \nL 594 4494 \nL 1172 4494 \nz\n\" transform=\"scale(0.015625)\"/>\n       <path id=\"DejaVuSans-68\" d=\"M 3513 2113 \nL 3513 0 \nL 2938 0 \nL 2938 2094 \nQ 2938 2591 2744 2837 \nQ 2550 3084 2163 3084 \nQ 1697 3084 1428 2787 \nQ 1159 2491 1159 1978 \nL 1159 0 \nL 581 0 \nL 581 4863 \nL 1159 4863 \nL 1159 2956 \nQ 1366 3272 1645 3428 \nQ 1925 3584 2291 3584 \nQ 2894 3584 3203 3211 \nQ 3513 2838 3513 2113 \nz\n\" transform=\"scale(0.015625)\"/>\n       <path id=\"DejaVuSans-5f\" d=\"M 3263 -1063 \nL 3263 -1509 \nL -63 -1509 \nL -63 -1063 \nL 3263 -1063 \nz\n\" transform=\"scale(0.015625)\"/>\n       <path id=\"DejaVuSans-61\" d=\"M 2194 1759 \nQ 1497 1759 1228 1600 \nQ 959 1441 959 1056 \nQ 959 750 1161 570 \nQ 1363 391 1709 391 \nQ 2188 391 2477 730 \nQ 2766 1069 2766 1631 \nL 2766 1759 \nL 2194 1759 \nz\nM 3341 1997 \nL 3341 0 \nL 2766 0 \nL 2766 531 \nQ 2569 213 2275 61 \nQ 1981 -91 1556 -91 \nQ 1019 -91 701 211 \nQ 384 513 384 1019 \nQ 384 1609 779 1909 \nQ 1175 2209 1959 2209 \nL 2766 2209 \nL 2766 2266 \nQ 2766 2663 2505 2880 \nQ 2244 3097 1772 3097 \nQ 1472 3097 1187 3025 \nQ 903 2953 641 2809 \nL 641 3341 \nQ 956 3463 1253 3523 \nQ 1550 3584 1831 3584 \nQ 2591 3584 2966 3190 \nQ 3341 2797 3341 1997 \nz\n\" transform=\"scale(0.015625)\"/>\n       <path id=\"DejaVuSans-65\" d=\"M 3597 1894 \nL 3597 1613 \nL 953 1613 \nQ 991 1019 1311 708 \nQ 1631 397 2203 397 \nQ 2534 397 2845 478 \nQ 3156 559 3463 722 \nL 3463 178 \nQ 3153 47 2828 -22 \nQ 2503 -91 2169 -91 \nQ 1331 -91 842 396 \nQ 353 884 353 1716 \nQ 353 2575 817 3079 \nQ 1281 3584 2069 3584 \nQ 2775 3584 3186 3129 \nQ 3597 2675 3597 1894 \nz\nM 3022 2063 \nQ 3016 2534 2758 2815 \nQ 2500 3097 2075 3097 \nQ 1594 3097 1305 2825 \nQ 1016 2553 972 2059 \nL 3022 2063 \nz\n\" transform=\"scale(0.015625)\"/>\n      </defs>\n      <use xlink:href=\"#DejaVuSans-67\"/>\n      <use xlink:href=\"#DejaVuSans-72\" x=\"63.476562\"/>\n      <use xlink:href=\"#DejaVuSans-6f\" x=\"102.339844\"/>\n      <use xlink:href=\"#DejaVuSans-77\" x=\"163.521484\"/>\n      <use xlink:href=\"#DejaVuSans-74\" x=\"245.308594\"/>\n      <use xlink:href=\"#DejaVuSans-68\" x=\"284.517578\"/>\n      <use xlink:href=\"#DejaVuSans-5f\" x=\"347.896484\"/>\n      <use xlink:href=\"#DejaVuSans-72\" x=\"397.896484\"/>\n      <use xlink:href=\"#DejaVuSans-61\" x=\"439.009766\"/>\n      <use xlink:href=\"#DejaVuSans-74\" x=\"500.289062\"/>\n      <use xlink:href=\"#DejaVuSans-65\" x=\"539.498047\"/>\n     </g>\n    </g>\n   </g>\n   <g id=\"matplotlib.axis_2\">\n    <g id=\"ytick_1\">\n     <g id=\"line2d_5\">\n      <defs>\n       <path id=\"me65120be4b\" d=\"M 0 0 \nL -3.5 0 \n\" style=\"stroke: #000000; stroke-width: 0.8\"/>\n      </defs>\n      <g>\n       <use xlink:href=\"#me65120be4b\" x=\"46.965625\" y=\"224.64\" style=\"stroke: #000000; stroke-width: 0.8\"/>\n      </g>\n     </g>\n     <g id=\"text_6\">\n      <!-- 0 -->\n      <g transform=\"translate(33.603125 228.439219)scale(0.1 -0.1)\">\n       <use xlink:href=\"#DejaVuSans-30\"/>\n      </g>\n     </g>\n    </g>\n    <g id=\"ytick_2\">\n     <g id=\"line2d_6\">\n      <g>\n       <use xlink:href=\"#me65120be4b\" x=\"46.965625\" y=\"185.93239\" style=\"stroke: #000000; stroke-width: 0.8\"/>\n      </g>\n     </g>\n     <g id=\"text_7\">\n      <!-- 20 -->\n      <g transform=\"translate(27.240625 189.731609)scale(0.1 -0.1)\">\n       <use xlink:href=\"#DejaVuSans-32\"/>\n       <use xlink:href=\"#DejaVuSans-30\" x=\"63.623047\"/>\n      </g>\n     </g>\n    </g>\n    <g id=\"ytick_3\">\n     <g id=\"line2d_7\">\n      <g>\n       <use xlink:href=\"#me65120be4b\" x=\"46.965625\" y=\"147.22478\" style=\"stroke: #000000; stroke-width: 0.8\"/>\n      </g>\n     </g>\n     <g id=\"text_8\">\n      <!-- 40 -->\n      <g transform=\"translate(27.240625 151.023998)scale(0.1 -0.1)\">\n       <use xlink:href=\"#DejaVuSans-34\"/>\n       <use xlink:href=\"#DejaVuSans-30\" x=\"63.623047\"/>\n      </g>\n     </g>\n    </g>\n    <g id=\"ytick_4\">\n     <g id=\"line2d_8\">\n      <g>\n       <use xlink:href=\"#me65120be4b\" x=\"46.965625\" y=\"108.51717\" style=\"stroke: #000000; stroke-width: 0.8\"/>\n      </g>\n     </g>\n     <g id=\"text_9\">\n      <!-- 60 -->\n      <g transform=\"translate(27.240625 112.316388)scale(0.1 -0.1)\">\n       <defs>\n        <path id=\"DejaVuSans-36\" d=\"M 2113 2584 \nQ 1688 2584 1439 2293 \nQ 1191 2003 1191 1497 \nQ 1191 994 1439 701 \nQ 1688 409 2113 409 \nQ 2538 409 2786 701 \nQ 3034 994 3034 1497 \nQ 3034 2003 2786 2293 \nQ 2538 2584 2113 2584 \nz\nM 3366 4563 \nL 3366 3988 \nQ 3128 4100 2886 4159 \nQ 2644 4219 2406 4219 \nQ 1781 4219 1451 3797 \nQ 1122 3375 1075 2522 \nQ 1259 2794 1537 2939 \nQ 1816 3084 2150 3084 \nQ 2853 3084 3261 2657 \nQ 3669 2231 3669 1497 \nQ 3669 778 3244 343 \nQ 2819 -91 2113 -91 \nQ 1303 -91 875 529 \nQ 447 1150 447 2328 \nQ 447 3434 972 4092 \nQ 1497 4750 2381 4750 \nQ 2619 4750 2861 4703 \nQ 3103 4656 3366 4563 \nz\n\" transform=\"scale(0.015625)\"/>\n       </defs>\n       <use xlink:href=\"#DejaVuSans-36\"/>\n       <use xlink:href=\"#DejaVuSans-30\" x=\"63.623047\"/>\n      </g>\n     </g>\n    </g>\n    <g id=\"ytick_5\">\n     <g id=\"line2d_9\">\n      <g>\n       <use xlink:href=\"#me65120be4b\" x=\"46.965625\" y=\"69.809559\" style=\"stroke: #000000; stroke-width: 0.8\"/>\n      </g>\n     </g>\n     <g id=\"text_10\">\n      <!-- 80 -->\n      <g transform=\"translate(27.240625 73.608778)scale(0.1 -0.1)\">\n       <defs>\n        <path id=\"DejaVuSans-38\" d=\"M 2034 2216 \nQ 1584 2216 1326 1975 \nQ 1069 1734 1069 1313 \nQ 1069 891 1326 650 \nQ 1584 409 2034 409 \nQ 2484 409 2743 651 \nQ 3003 894 3003 1313 \nQ 3003 1734 2745 1975 \nQ 2488 2216 2034 2216 \nz\nM 1403 2484 \nQ 997 2584 770 2862 \nQ 544 3141 544 3541 \nQ 544 4100 942 4425 \nQ 1341 4750 2034 4750 \nQ 2731 4750 3128 4425 \nQ 3525 4100 3525 3541 \nQ 3525 3141 3298 2862 \nQ 3072 2584 2669 2484 \nQ 3125 2378 3379 2068 \nQ 3634 1759 3634 1313 \nQ 3634 634 3220 271 \nQ 2806 -91 2034 -91 \nQ 1263 -91 848 271 \nQ 434 634 434 1313 \nQ 434 1759 690 2068 \nQ 947 2378 1403 2484 \nz\nM 1172 3481 \nQ 1172 3119 1398 2916 \nQ 1625 2713 2034 2713 \nQ 2441 2713 2670 2916 \nQ 2900 3119 2900 3481 \nQ 2900 3844 2670 4047 \nQ 2441 4250 2034 4250 \nQ 1625 4250 1398 4047 \nQ 1172 3844 1172 3481 \nz\n\" transform=\"scale(0.015625)\"/>\n       </defs>\n       <use xlink:href=\"#DejaVuSans-38\"/>\n       <use xlink:href=\"#DejaVuSans-30\" x=\"63.623047\"/>\n      </g>\n     </g>\n    </g>\n    <g id=\"ytick_6\">\n     <g id=\"line2d_10\">\n      <g>\n       <use xlink:href=\"#me65120be4b\" x=\"46.965625\" y=\"31.101949\" style=\"stroke: #000000; stroke-width: 0.8\"/>\n      </g>\n     </g>\n     <g id=\"text_11\">\n      <!-- 100 -->\n      <g transform=\"translate(20.878125 34.901168)scale(0.1 -0.1)\">\n       <defs>\n        <path id=\"DejaVuSans-31\" d=\"M 794 531 \nL 1825 531 \nL 1825 4091 \nL 703 3866 \nL 703 4441 \nL 1819 4666 \nL 2450 4666 \nL 2450 531 \nL 3481 531 \nL 3481 0 \nL 794 0 \nL 794 531 \nz\n\" transform=\"scale(0.015625)\"/>\n       </defs>\n       <use xlink:href=\"#DejaVuSans-31\"/>\n       <use xlink:href=\"#DejaVuSans-30\" x=\"63.623047\"/>\n       <use xlink:href=\"#DejaVuSans-30\" x=\"127.246094\"/>\n      </g>\n     </g>\n    </g>\n    <g id=\"text_12\">\n     <!-- Count -->\n     <g transform=\"translate(14.798438 130.768438)rotate(-90)scale(0.1 -0.1)\">\n      <defs>\n       <path id=\"DejaVuSans-43\" d=\"M 4122 4306 \nL 4122 3641 \nQ 3803 3938 3442 4084 \nQ 3081 4231 2675 4231 \nQ 1875 4231 1450 3742 \nQ 1025 3253 1025 2328 \nQ 1025 1406 1450 917 \nQ 1875 428 2675 428 \nQ 3081 428 3442 575 \nQ 3803 722 4122 1019 \nL 4122 359 \nQ 3791 134 3420 21 \nQ 3050 -91 2638 -91 \nQ 1578 -91 968 557 \nQ 359 1206 359 2328 \nQ 359 3453 968 4101 \nQ 1578 4750 2638 4750 \nQ 3056 4750 3426 4639 \nQ 3797 4528 4122 4306 \nz\n\" transform=\"scale(0.015625)\"/>\n       <path id=\"DejaVuSans-75\" d=\"M 544 1381 \nL 544 3500 \nL 1119 3500 \nL 1119 1403 \nQ 1119 906 1312 657 \nQ 1506 409 1894 409 \nQ 2359 409 2629 706 \nQ 2900 1003 2900 1516 \nL 2900 3500 \nL 3475 3500 \nL 3475 0 \nL 2900 0 \nL 2900 538 \nQ 2691 219 2414 64 \nQ 2138 -91 1772 -91 \nQ 1169 -91 856 284 \nQ 544 659 544 1381 \nz\nM 1991 3584 \nL 1991 3584 \nz\n\" transform=\"scale(0.015625)\"/>\n       <path id=\"DejaVuSans-6e\" d=\"M 3513 2113 \nL 3513 0 \nL 2938 0 \nL 2938 2094 \nQ 2938 2591 2744 2837 \nQ 2550 3084 2163 3084 \nQ 1697 3084 1428 2787 \nQ 1159 2491 1159 1978 \nL 1159 0 \nL 581 0 \nL 581 3500 \nL 1159 3500 \nL 1159 2956 \nQ 1366 3272 1645 3428 \nQ 1925 3584 2291 3584 \nQ 2894 3584 3203 3211 \nQ 3513 2838 3513 2113 \nz\n\" transform=\"scale(0.015625)\"/>\n      </defs>\n      <use xlink:href=\"#DejaVuSans-43\"/>\n      <use xlink:href=\"#DejaVuSans-6f\" x=\"69.824219\"/>\n      <use xlink:href=\"#DejaVuSans-75\" x=\"131.005859\"/>\n      <use xlink:href=\"#DejaVuSans-6e\" x=\"194.384766\"/>\n      <use xlink:href=\"#DejaVuSans-74\" x=\"257.763672\"/>\n     </g>\n    </g>\n   </g>\n   <g id=\"patch_118\">\n    <path d=\"M 46.965625 224.64 \nL 46.965625 7.2 \n\" style=\"fill: none; stroke: #000000; stroke-width: 0.8; stroke-linejoin: miter; stroke-linecap: square\"/>\n   </g>\n   <g id=\"patch_119\">\n    <path d=\"M 381.765625 224.64 \nL 381.765625 7.2 \n\" style=\"fill: none; stroke: #000000; stroke-width: 0.8; stroke-linejoin: miter; stroke-linecap: square\"/>\n   </g>\n   <g id=\"patch_120\">\n    <path d=\"M 46.965625 224.64 \nL 381.765625 224.64 \n\" style=\"fill: none; stroke: #000000; stroke-width: 0.8; stroke-linejoin: miter; stroke-linecap: square\"/>\n   </g>\n   <g id=\"patch_121\">\n    <path d=\"M 46.965625 7.2 \nL 381.765625 7.2 \n\" style=\"fill: none; stroke: #000000; stroke-width: 0.8; stroke-linejoin: miter; stroke-linecap: square\"/>\n   </g>\n  </g>\n </g>\n <defs>\n  <clipPath id=\"p18f7cde82a\">\n   <rect x=\"46.965625\" y=\"7.2\" width=\"334.8\" height=\"217.44\"/>\n  </clipPath>\n </defs>\n</svg>\n",
      "text/plain": [
       "<Figure size 432x288 with 1 Axes>"
      ]
     },
     "metadata": {
      "needs_background": "light"
     },
     "output_type": "display_data"
    }
   ],
   "source": [
    "# Look at the distribution of the data_all put into the model\n",
    "ax = sns.histplot(data_all['growth_rate'])\n",
    "\n",
    "mean = data_all['growth_rate'].mean()\n",
    "std = data_all['growth_rate'].std()\n",
    "print(mean)\n",
    "print(std)"
   ]
  },
  {
   "cell_type": "code",
   "execution_count": 89,
   "id": "18a00bd5",
   "metadata": {},
   "outputs": [
    {
     "name": "stdout",
     "output_type": "stream",
     "text": [
      "0       0.003934\n",
      "1       0.059757\n",
      "3       0.004888\n",
      "4       0.010956\n",
      "5       0.004793\n",
      "          ...   \n",
      "3245    0.021145\n",
      "3246    0.033296\n",
      "3247    0.059328\n",
      "3248    0.049746\n",
      "3249    0.096142\n",
      "Name: growth_rate, Length: 922, dtype: float64\n",
      "(array([  1,   2,  27, 444, 427,  15,   4,   0,   1,   1], dtype=int64), array([-0.32076286, -0.23539954, -0.15003623, -0.06467291,  0.02069041,\n",
      "        0.10605372,  0.19141704,  0.27678036,  0.36214368,  0.44750699,\n",
      "        0.53287031]))\n"
     ]
    },
    {
     "data": {
      "text/plain": [
       "(array([ 0.12705677,  0.        ,  0.        ,  0.        ,  0.        ,\n",
       "         0.        ,  0.        ,  0.        ,  0.        ,  0.        ,\n",
       "         0.25411353,  0.        ,  0.        ,  0.        ,  0.        ,\n",
       "         0.        ,  0.        ,  0.        ,  0.        ,  0.        ,\n",
       "         0.        ,  0.12705677,  0.12705677,  0.3811703 ,  0.25411353,\n",
       "         0.3811703 ,  0.50822706,  0.50822706,  0.50822706,  0.63528383,\n",
       "         1.27056766,  1.01645413,  1.01645413,  2.15996502,  3.04936238,\n",
       "         1.77879472,  5.97166799,  9.78337096, 13.97624423, 16.39032278,\n",
       "        12.32450627, 12.45156304, 10.03748449,  5.84461122,  4.19287327,\n",
       "         3.17641914,  3.30347591,  1.27056766,  1.14351089,  0.50822706,\n",
       "         0.50822706,  0.3811703 ,  0.12705677,  0.12705677,  0.3811703 ,\n",
       "         0.        ,  0.        ,  0.        ,  0.12705677,  0.25411353,\n",
       "         0.12705677,  0.25411353,  0.        ,  0.        ,  0.        ,\n",
       "         0.        ,  0.12705677,  0.        ,  0.        ,  0.        ,\n",
       "         0.        ,  0.        ,  0.        ,  0.        ,  0.        ,\n",
       "         0.        ,  0.        ,  0.        ,  0.        ,  0.        ,\n",
       "         0.        ,  0.12705677,  0.        ,  0.        ,  0.        ,\n",
       "         0.        ,  0.        ,  0.        ,  0.        ,  0.        ,\n",
       "         0.        ,  0.        ,  0.        ,  0.        ,  0.        ,\n",
       "         0.        ,  0.        ,  0.        ,  0.        ,  0.12705677]),\n",
       " array([-0.32076286, -0.31222653, -0.3036902 , -0.29515387, -0.28661753,\n",
       "        -0.2780812 , -0.26954487, -0.26100854, -0.25247221, -0.24393588,\n",
       "        -0.23539954, -0.22686321, -0.21832688, -0.20979055, -0.20125422,\n",
       "        -0.19271789, -0.18418155, -0.17564522, -0.16710889, -0.15857256,\n",
       "        -0.15003623, -0.1414999 , -0.13296356, -0.12442723, -0.1158909 ,\n",
       "        -0.10735457, -0.09881824, -0.09028191, -0.08174557, -0.07320924,\n",
       "        -0.06467291, -0.05613658, -0.04760025, -0.03906392, -0.03052758,\n",
       "        -0.02199125, -0.01345492, -0.00491859,  0.00361774,  0.01215408,\n",
       "         0.02069041,  0.02922674,  0.03776307,  0.0462994 ,  0.05483573,\n",
       "         0.06337207,  0.0719084 ,  0.08044473,  0.08898106,  0.09751739,\n",
       "         0.10605372,  0.11459006,  0.12312639,  0.13166272,  0.14019905,\n",
       "         0.14873538,  0.15727171,  0.16580805,  0.17434438,  0.18288071,\n",
       "         0.19141704,  0.19995337,  0.2084897 ,  0.21702604,  0.22556237,\n",
       "         0.2340987 ,  0.24263503,  0.25117136,  0.25970769,  0.26824403,\n",
       "         0.27678036,  0.28531669,  0.29385302,  0.30238935,  0.31092569,\n",
       "         0.31946202,  0.32799835,  0.33653468,  0.34507101,  0.35360734,\n",
       "         0.36214368,  0.37068001,  0.37921634,  0.38775267,  0.396289  ,\n",
       "         0.40482533,  0.41336167,  0.421898  ,  0.43043433,  0.43897066,\n",
       "         0.44750699,  0.45604332,  0.46457966,  0.47311599,  0.48165232,\n",
       "         0.49018865,  0.49872498,  0.50726131,  0.51579765,  0.52433398,\n",
       "         0.53287031]),\n",
       " [<matplotlib.patches.Polygon at 0x1fe96d5ccd0>])"
      ]
     },
     "execution_count": 89,
     "metadata": {},
     "output_type": "execute_result"
    },
    {
     "data": {
      "image/svg+xml": "<?xml version=\"1.0\" encoding=\"utf-8\" standalone=\"no\"?>\n<!DOCTYPE svg PUBLIC \"-//W3C//DTD SVG 1.1//EN\"\n  \"http://www.w3.org/Graphics/SVG/1.1/DTD/svg11.dtd\">\n<svg xmlns:xlink=\"http://www.w3.org/1999/xlink\" width=\"368.925pt\" height=\"248.518125pt\" viewBox=\"0 0 368.925 248.518125\" xmlns=\"http://www.w3.org/2000/svg\" version=\"1.1\">\n <metadata>\n  <rdf:RDF xmlns:dc=\"http://purl.org/dc/elements/1.1/\" xmlns:cc=\"http://creativecommons.org/ns#\" xmlns:rdf=\"http://www.w3.org/1999/02/22-rdf-syntax-ns#\">\n   <cc:Work>\n    <dc:type rdf:resource=\"http://purl.org/dc/dcmitype/StillImage\"/>\n    <dc:date>2022-04-29T15:09:19.591987</dc:date>\n    <dc:format>image/svg+xml</dc:format>\n    <dc:creator>\n     <cc:Agent>\n      <dc:title>Matplotlib v3.5.1, https://matplotlib.org/</dc:title>\n     </cc:Agent>\n    </dc:creator>\n   </cc:Work>\n  </rdf:RDF>\n </metadata>\n <defs>\n  <style type=\"text/css\">*{stroke-linejoin: round; stroke-linecap: butt}</style>\n </defs>\n <g id=\"figure_1\">\n  <g id=\"patch_1\">\n   <path d=\"M -0 248.518125 \nL 368.925 248.518125 \nL 368.925 0 \nL -0 0 \nL -0 248.518125 \nz\n\" style=\"fill: none\"/>\n  </g>\n  <g id=\"axes_1\">\n   <g id=\"patch_2\">\n    <path d=\"M 26.925 224.64 \nL 361.725 224.64 \nL 361.725 7.2 \nL 26.925 7.2 \nz\n\" style=\"fill: #ffffff\"/>\n   </g>\n   <g id=\"patch_3\">\n    <path d=\"M 42.143182 224.64 \nL 42.143182 223.034684 \nL 45.186818 223.034684 \nL 45.186818 224.64 \nL 48.230455 224.64 \nL 48.230455 224.64 \nL 51.274091 224.64 \nL 51.274091 224.64 \nL 54.317727 224.64 \nL 54.317727 224.64 \nL 57.361364 224.64 \nL 57.361364 224.64 \nL 60.405 224.64 \nL 60.405 224.64 \nL 63.448636 224.64 \nL 63.448636 224.64 \nL 66.492273 224.64 \nL 66.492273 224.64 \nL 69.535909 224.64 \nL 69.535909 224.64 \nL 72.579545 224.64 \nL 72.579545 221.429369 \nL 75.623182 221.429369 \nL 75.623182 224.64 \nL 78.666818 224.64 \nL 78.666818 224.64 \nL 81.710455 224.64 \nL 81.710455 224.64 \nL 84.754091 224.64 \nL 84.754091 224.64 \nL 87.797727 224.64 \nL 87.797727 224.64 \nL 90.841364 224.64 \nL 90.841364 224.64 \nL 93.885 224.64 \nL 93.885 224.64 \nL 96.928636 224.64 \nL 96.928636 224.64 \nL 99.972273 224.64 \nL 99.972273 224.64 \nL 103.015909 224.64 \nL 103.015909 224.64 \nL 106.059545 224.64 \nL 106.059545 223.034684 \nL 109.103182 223.034684 \nL 109.103182 223.034684 \nL 112.146818 223.034684 \nL 112.146818 219.824053 \nL 115.190455 219.824053 \nL 115.190455 221.429369 \nL 118.234091 221.429369 \nL 118.234091 219.824053 \nL 121.277727 219.824053 \nL 121.277727 218.218738 \nL 124.321364 218.218738 \nL 124.321364 218.218738 \nL 127.365 218.218738 \nL 127.365 218.218738 \nL 130.408636 218.218738 \nL 130.408636 216.613422 \nL 133.452273 216.613422 \nL 133.452273 208.586844 \nL 136.495909 208.586844 \nL 136.495909 211.797475 \nL 139.539545 211.797475 \nL 139.539545 211.797475 \nL 142.583182 211.797475 \nL 142.583182 197.349635 \nL 145.626818 197.349635 \nL 145.626818 186.112425 \nL 148.670455 186.112425 \nL 148.670455 202.165581 \nL 151.714091 202.165581 \nL 151.714091 149.190166 \nL 154.757727 149.190166 \nL 154.757727 101.030698 \nL 157.801364 101.030698 \nL 157.801364 48.055282 \nL 160.845 48.055282 \nL 160.845 17.554286 \nL 163.888636 17.554286 \nL 163.888636 68.924385 \nL 166.932273 68.924385 \nL 166.932273 67.31907 \nL 169.975909 67.31907 \nL 169.975909 97.820066 \nL 173.019545 97.820066 \nL 173.019545 150.795482 \nL 176.063182 150.795482 \nL 176.063182 171.664585 \nL 179.106818 171.664585 \nL 179.106818 184.50711 \nL 182.150455 184.50711 \nL 182.150455 182.901794 \nL 185.194091 182.901794 \nL 185.194091 208.586844 \nL 188.237727 208.586844 \nL 188.237727 210.192159 \nL 191.281364 210.192159 \nL 191.281364 218.218738 \nL 194.325 218.218738 \nL 194.325 218.218738 \nL 197.368636 218.218738 \nL 197.368636 219.824053 \nL 200.412273 219.824053 \nL 200.412273 223.034684 \nL 203.455909 223.034684 \nL 203.455909 223.034684 \nL 206.499545 223.034684 \nL 206.499545 219.824053 \nL 209.543182 219.824053 \nL 209.543182 224.64 \nL 212.586818 224.64 \nL 212.586818 224.64 \nL 215.630455 224.64 \nL 215.630455 224.64 \nL 218.674091 224.64 \nL 218.674091 223.034684 \nL 221.717727 223.034684 \nL 221.717727 221.429369 \nL 224.761364 221.429369 \nL 224.761364 223.034684 \nL 227.805 223.034684 \nL 227.805 221.429369 \nL 230.848636 221.429369 \nL 230.848636 224.64 \nL 233.892273 224.64 \nL 233.892273 224.64 \nL 236.935909 224.64 \nL 236.935909 224.64 \nL 239.979545 224.64 \nL 239.979545 224.64 \nL 243.023182 224.64 \nL 243.023182 223.034684 \nL 246.066818 223.034684 \nL 246.066818 224.64 \nL 249.110455 224.64 \nL 249.110455 224.64 \nL 252.154091 224.64 \nL 252.154091 224.64 \nL 255.197727 224.64 \nL 255.197727 224.64 \nL 258.241364 224.64 \nL 258.241364 224.64 \nL 261.285 224.64 \nL 261.285 224.64 \nL 264.328636 224.64 \nL 264.328636 224.64 \nL 267.372273 224.64 \nL 267.372273 224.64 \nL 270.415909 224.64 \nL 270.415909 224.64 \nL 273.459545 224.64 \nL 273.459545 224.64 \nL 276.503182 224.64 \nL 276.503182 224.64 \nL 279.546818 224.64 \nL 279.546818 224.64 \nL 282.590455 224.64 \nL 282.590455 224.64 \nL 285.634091 224.64 \nL 285.634091 224.64 \nL 288.677727 224.64 \nL 288.677727 223.034684 \nL 291.721364 223.034684 \nL 291.721364 224.64 \nL 294.765 224.64 \nL 294.765 224.64 \nL 297.808636 224.64 \nL 297.808636 224.64 \nL 300.852273 224.64 \nL 300.852273 224.64 \nL 303.895909 224.64 \nL 303.895909 224.64 \nL 306.939545 224.64 \nL 306.939545 224.64 \nL 309.983182 224.64 \nL 309.983182 224.64 \nL 313.026818 224.64 \nL 313.026818 224.64 \nL 316.070455 224.64 \nL 316.070455 224.64 \nL 319.114091 224.64 \nL 319.114091 224.64 \nL 322.157727 224.64 \nL 322.157727 224.64 \nL 325.201364 224.64 \nL 325.201364 224.64 \nL 328.245 224.64 \nL 328.245 224.64 \nL 331.288636 224.64 \nL 331.288636 224.64 \nL 334.332273 224.64 \nL 334.332273 224.64 \nL 337.375909 224.64 \nL 337.375909 224.64 \nL 340.419545 224.64 \nL 340.419545 224.64 \nL 343.463182 224.64 \nL 343.463182 223.034684 \nL 346.506818 223.034684 \nL 346.506818 224.64 \nL 343.463182 224.64 \nL 343.463182 224.64 \nL 340.419545 224.64 \nL 340.419545 224.64 \nL 337.375909 224.64 \nL 337.375909 224.64 \nL 334.332273 224.64 \nL 334.332273 224.64 \nL 331.288636 224.64 \nL 331.288636 224.64 \nL 328.245 224.64 \nL 328.245 224.64 \nL 325.201364 224.64 \nL 325.201364 224.64 \nL 322.157727 224.64 \nL 322.157727 224.64 \nL 319.114091 224.64 \nL 319.114091 224.64 \nL 316.070455 224.64 \nL 316.070455 224.64 \nL 313.026818 224.64 \nL 313.026818 224.64 \nL 309.983182 224.64 \nL 309.983182 224.64 \nL 306.939545 224.64 \nL 306.939545 224.64 \nL 303.895909 224.64 \nL 303.895909 224.64 \nL 300.852273 224.64 \nL 300.852273 224.64 \nL 297.808636 224.64 \nL 297.808636 224.64 \nL 294.765 224.64 \nL 294.765 224.64 \nL 291.721364 224.64 \nL 291.721364 224.64 \nL 288.677727 224.64 \nL 288.677727 224.64 \nL 285.634091 224.64 \nL 285.634091 224.64 \nL 282.590455 224.64 \nL 282.590455 224.64 \nL 279.546818 224.64 \nL 279.546818 224.64 \nL 276.503182 224.64 \nL 276.503182 224.64 \nL 273.459545 224.64 \nL 273.459545 224.64 \nL 270.415909 224.64 \nL 270.415909 224.64 \nL 267.372273 224.64 \nL 267.372273 224.64 \nL 264.328636 224.64 \nL 264.328636 224.64 \nL 261.285 224.64 \nL 261.285 224.64 \nL 258.241364 224.64 \nL 258.241364 224.64 \nL 255.197727 224.64 \nL 255.197727 224.64 \nL 252.154091 224.64 \nL 252.154091 224.64 \nL 249.110455 224.64 \nL 249.110455 224.64 \nL 246.066818 224.64 \nL 246.066818 224.64 \nL 243.023182 224.64 \nL 243.023182 224.64 \nL 239.979545 224.64 \nL 239.979545 224.64 \nL 236.935909 224.64 \nL 236.935909 224.64 \nL 233.892273 224.64 \nL 233.892273 224.64 \nL 230.848636 224.64 \nL 230.848636 224.64 \nL 227.805 224.64 \nL 227.805 224.64 \nL 224.761364 224.64 \nL 224.761364 224.64 \nL 221.717727 224.64 \nL 221.717727 224.64 \nL 218.674091 224.64 \nL 218.674091 224.64 \nL 215.630455 224.64 \nL 215.630455 224.64 \nL 212.586818 224.64 \nL 212.586818 224.64 \nL 209.543182 224.64 \nL 209.543182 224.64 \nL 206.499545 224.64 \nL 206.499545 224.64 \nL 203.455909 224.64 \nL 203.455909 224.64 \nL 200.412273 224.64 \nL 200.412273 224.64 \nL 197.368636 224.64 \nL 197.368636 224.64 \nL 194.325 224.64 \nL 194.325 224.64 \nL 191.281364 224.64 \nL 191.281364 224.64 \nL 188.237727 224.64 \nL 188.237727 224.64 \nL 185.194091 224.64 \nL 185.194091 224.64 \nL 182.150455 224.64 \nL 182.150455 224.64 \nL 179.106818 224.64 \nL 179.106818 224.64 \nL 176.063182 224.64 \nL 176.063182 224.64 \nL 173.019545 224.64 \nL 173.019545 224.64 \nL 169.975909 224.64 \nL 169.975909 224.64 \nL 166.932273 224.64 \nL 166.932273 224.64 \nL 163.888636 224.64 \nL 163.888636 224.64 \nL 160.845 224.64 \nL 160.845 224.64 \nL 157.801364 224.64 \nL 157.801364 224.64 \nL 154.757727 224.64 \nL 154.757727 224.64 \nL 151.714091 224.64 \nL 151.714091 224.64 \nL 148.670455 224.64 \nL 148.670455 224.64 \nL 145.626818 224.64 \nL 145.626818 224.64 \nL 142.583182 224.64 \nL 142.583182 224.64 \nL 139.539545 224.64 \nL 139.539545 224.64 \nL 136.495909 224.64 \nL 136.495909 224.64 \nL 133.452273 224.64 \nL 133.452273 224.64 \nL 130.408636 224.64 \nL 130.408636 224.64 \nL 127.365 224.64 \nL 127.365 224.64 \nL 124.321364 224.64 \nL 124.321364 224.64 \nL 121.277727 224.64 \nL 121.277727 224.64 \nL 118.234091 224.64 \nL 118.234091 224.64 \nL 115.190455 224.64 \nL 115.190455 224.64 \nL 112.146818 224.64 \nL 112.146818 224.64 \nL 109.103182 224.64 \nL 109.103182 224.64 \nL 106.059545 224.64 \nL 106.059545 224.64 \nL 103.015909 224.64 \nL 103.015909 224.64 \nL 99.972273 224.64 \nL 99.972273 224.64 \nL 96.928636 224.64 \nL 96.928636 224.64 \nL 93.885 224.64 \nL 93.885 224.64 \nL 90.841364 224.64 \nL 90.841364 224.64 \nL 87.797727 224.64 \nL 87.797727 224.64 \nL 84.754091 224.64 \nL 84.754091 224.64 \nL 81.710455 224.64 \nL 81.710455 224.64 \nL 78.666818 224.64 \nL 78.666818 224.64 \nL 75.623182 224.64 \nL 75.623182 224.64 \nL 72.579545 224.64 \nL 72.579545 224.64 \nL 69.535909 224.64 \nL 69.535909 224.64 \nL 66.492273 224.64 \nL 66.492273 224.64 \nL 63.448636 224.64 \nL 63.448636 224.64 \nL 60.405 224.64 \nL 60.405 224.64 \nL 57.361364 224.64 \nL 57.361364 224.64 \nL 54.317727 224.64 \nL 54.317727 224.64 \nL 51.274091 224.64 \nL 51.274091 224.64 \nL 48.230455 224.64 \nL 48.230455 224.64 \nL 45.186818 224.64 \nL 45.186818 224.64 \nz\n\" clip-path=\"url(#pc5f99f84ba)\" style=\"fill: #1f77b4; opacity: 0.5\"/>\n   </g>\n   <g id=\"matplotlib.axis_1\">\n    <g id=\"xtick_1\">\n     <g id=\"line2d_1\">\n      <defs>\n       <path id=\"m4a1bb08a97\" d=\"M 0 0 \nL 0 3.5 \n\" style=\"stroke: #000000; stroke-width: 0.8\"/>\n      </defs>\n      <g>\n       <use xlink:href=\"#m4a1bb08a97\" x=\"85.201283\" y=\"224.64\" style=\"stroke: #000000; stroke-width: 0.8\"/>\n      </g>\n     </g>\n     <g id=\"text_1\">\n      <!-- −0.2 -->\n      <g transform=\"translate(73.059877 239.238437)scale(0.1 -0.1)\">\n       <defs>\n        <path id=\"DejaVuSans-2212\" d=\"M 678 2272 \nL 4684 2272 \nL 4684 1741 \nL 678 1741 \nL 678 2272 \nz\n\" transform=\"scale(0.015625)\"/>\n        <path id=\"DejaVuSans-30\" d=\"M 2034 4250 \nQ 1547 4250 1301 3770 \nQ 1056 3291 1056 2328 \nQ 1056 1369 1301 889 \nQ 1547 409 2034 409 \nQ 2525 409 2770 889 \nQ 3016 1369 3016 2328 \nQ 3016 3291 2770 3770 \nQ 2525 4250 2034 4250 \nz\nM 2034 4750 \nQ 2819 4750 3233 4129 \nQ 3647 3509 3647 2328 \nQ 3647 1150 3233 529 \nQ 2819 -91 2034 -91 \nQ 1250 -91 836 529 \nQ 422 1150 422 2328 \nQ 422 3509 836 4129 \nQ 1250 4750 2034 4750 \nz\n\" transform=\"scale(0.015625)\"/>\n        <path id=\"DejaVuSans-2e\" d=\"M 684 794 \nL 1344 794 \nL 1344 0 \nL 684 0 \nL 684 794 \nz\n\" transform=\"scale(0.015625)\"/>\n        <path id=\"DejaVuSans-32\" d=\"M 1228 531 \nL 3431 531 \nL 3431 0 \nL 469 0 \nL 469 531 \nQ 828 903 1448 1529 \nQ 2069 2156 2228 2338 \nQ 2531 2678 2651 2914 \nQ 2772 3150 2772 3378 \nQ 2772 3750 2511 3984 \nQ 2250 4219 1831 4219 \nQ 1534 4219 1204 4116 \nQ 875 4013 500 3803 \nL 500 4441 \nQ 881 4594 1212 4672 \nQ 1544 4750 1819 4750 \nQ 2544 4750 2975 4387 \nQ 3406 4025 3406 3419 \nQ 3406 3131 3298 2873 \nQ 3191 2616 2906 2266 \nQ 2828 2175 2409 1742 \nQ 1991 1309 1228 531 \nz\n\" transform=\"scale(0.015625)\"/>\n       </defs>\n       <use xlink:href=\"#DejaVuSans-2212\"/>\n       <use xlink:href=\"#DejaVuSans-30\" x=\"83.789062\"/>\n       <use xlink:href=\"#DejaVuSans-2e\" x=\"147.412109\"/>\n       <use xlink:href=\"#DejaVuSans-32\" x=\"179.199219\"/>\n      </g>\n     </g>\n    </g>\n    <g id=\"xtick_2\">\n     <g id=\"line2d_2\">\n      <g>\n       <use xlink:href=\"#m4a1bb08a97\" x=\"156.511454\" y=\"224.64\" style=\"stroke: #000000; stroke-width: 0.8\"/>\n      </g>\n     </g>\n     <g id=\"text_2\">\n      <!-- 0.0 -->\n      <g transform=\"translate(148.559892 239.238437)scale(0.1 -0.1)\">\n       <use xlink:href=\"#DejaVuSans-30\"/>\n       <use xlink:href=\"#DejaVuSans-2e\" x=\"63.623047\"/>\n       <use xlink:href=\"#DejaVuSans-30\" x=\"95.410156\"/>\n      </g>\n     </g>\n    </g>\n    <g id=\"xtick_3\">\n     <g id=\"line2d_3\">\n      <g>\n       <use xlink:href=\"#m4a1bb08a97\" x=\"227.821625\" y=\"224.64\" style=\"stroke: #000000; stroke-width: 0.8\"/>\n      </g>\n     </g>\n     <g id=\"text_3\">\n      <!-- 0.2 -->\n      <g transform=\"translate(219.870062 239.238437)scale(0.1 -0.1)\">\n       <use xlink:href=\"#DejaVuSans-30\"/>\n       <use xlink:href=\"#DejaVuSans-2e\" x=\"63.623047\"/>\n       <use xlink:href=\"#DejaVuSans-32\" x=\"95.410156\"/>\n      </g>\n     </g>\n    </g>\n    <g id=\"xtick_4\">\n     <g id=\"line2d_4\">\n      <g>\n       <use xlink:href=\"#m4a1bb08a97\" x=\"299.131796\" y=\"224.64\" style=\"stroke: #000000; stroke-width: 0.8\"/>\n      </g>\n     </g>\n     <g id=\"text_4\">\n      <!-- 0.4 -->\n      <g transform=\"translate(291.180233 239.238437)scale(0.1 -0.1)\">\n       <defs>\n        <path id=\"DejaVuSans-34\" d=\"M 2419 4116 \nL 825 1625 \nL 2419 1625 \nL 2419 4116 \nz\nM 2253 4666 \nL 3047 4666 \nL 3047 1625 \nL 3713 1625 \nL 3713 1100 \nL 3047 1100 \nL 3047 0 \nL 2419 0 \nL 2419 1100 \nL 313 1100 \nL 313 1709 \nL 2253 4666 \nz\n\" transform=\"scale(0.015625)\"/>\n       </defs>\n       <use xlink:href=\"#DejaVuSans-30\"/>\n       <use xlink:href=\"#DejaVuSans-2e\" x=\"63.623047\"/>\n       <use xlink:href=\"#DejaVuSans-34\" x=\"95.410156\"/>\n      </g>\n     </g>\n    </g>\n   </g>\n   <g id=\"matplotlib.axis_2\">\n    <g id=\"ytick_1\">\n     <g id=\"line2d_5\">\n      <defs>\n       <path id=\"m996524fa68\" d=\"M 0 0 \nL -3.5 0 \n\" style=\"stroke: #000000; stroke-width: 0.8\"/>\n      </defs>\n      <g>\n       <use xlink:href=\"#m996524fa68\" x=\"26.925\" y=\"224.64\" style=\"stroke: #000000; stroke-width: 0.8\"/>\n      </g>\n     </g>\n     <g id=\"text_5\">\n      <!-- 0 -->\n      <g transform=\"translate(13.5625 228.439219)scale(0.1 -0.1)\">\n       <use xlink:href=\"#DejaVuSans-30\"/>\n      </g>\n     </g>\n    </g>\n    <g id=\"ytick_2\">\n     <g id=\"line2d_6\">\n      <g>\n       <use xlink:href=\"#m996524fa68\" x=\"26.925\" y=\"199.370734\" style=\"stroke: #000000; stroke-width: 0.8\"/>\n      </g>\n     </g>\n     <g id=\"text_6\">\n      <!-- 2 -->\n      <g transform=\"translate(13.5625 203.169953)scale(0.1 -0.1)\">\n       <use xlink:href=\"#DejaVuSans-32\"/>\n      </g>\n     </g>\n    </g>\n    <g id=\"ytick_3\">\n     <g id=\"line2d_7\">\n      <g>\n       <use xlink:href=\"#m996524fa68\" x=\"26.925\" y=\"174.101468\" style=\"stroke: #000000; stroke-width: 0.8\"/>\n      </g>\n     </g>\n     <g id=\"text_7\">\n      <!-- 4 -->\n      <g transform=\"translate(13.5625 177.900686)scale(0.1 -0.1)\">\n       <use xlink:href=\"#DejaVuSans-34\"/>\n      </g>\n     </g>\n    </g>\n    <g id=\"ytick_4\">\n     <g id=\"line2d_8\">\n      <g>\n       <use xlink:href=\"#m996524fa68\" x=\"26.925\" y=\"148.832202\" style=\"stroke: #000000; stroke-width: 0.8\"/>\n      </g>\n     </g>\n     <g id=\"text_8\">\n      <!-- 6 -->\n      <g transform=\"translate(13.5625 152.63142)scale(0.1 -0.1)\">\n       <defs>\n        <path id=\"DejaVuSans-36\" d=\"M 2113 2584 \nQ 1688 2584 1439 2293 \nQ 1191 2003 1191 1497 \nQ 1191 994 1439 701 \nQ 1688 409 2113 409 \nQ 2538 409 2786 701 \nQ 3034 994 3034 1497 \nQ 3034 2003 2786 2293 \nQ 2538 2584 2113 2584 \nz\nM 3366 4563 \nL 3366 3988 \nQ 3128 4100 2886 4159 \nQ 2644 4219 2406 4219 \nQ 1781 4219 1451 3797 \nQ 1122 3375 1075 2522 \nQ 1259 2794 1537 2939 \nQ 1816 3084 2150 3084 \nQ 2853 3084 3261 2657 \nQ 3669 2231 3669 1497 \nQ 3669 778 3244 343 \nQ 2819 -91 2113 -91 \nQ 1303 -91 875 529 \nQ 447 1150 447 2328 \nQ 447 3434 972 4092 \nQ 1497 4750 2381 4750 \nQ 2619 4750 2861 4703 \nQ 3103 4656 3366 4563 \nz\n\" transform=\"scale(0.015625)\"/>\n       </defs>\n       <use xlink:href=\"#DejaVuSans-36\"/>\n      </g>\n     </g>\n    </g>\n    <g id=\"ytick_5\">\n     <g id=\"line2d_9\">\n      <g>\n       <use xlink:href=\"#m996524fa68\" x=\"26.925\" y=\"123.562935\" style=\"stroke: #000000; stroke-width: 0.8\"/>\n      </g>\n     </g>\n     <g id=\"text_9\">\n      <!-- 8 -->\n      <g transform=\"translate(13.5625 127.362154)scale(0.1 -0.1)\">\n       <defs>\n        <path id=\"DejaVuSans-38\" d=\"M 2034 2216 \nQ 1584 2216 1326 1975 \nQ 1069 1734 1069 1313 \nQ 1069 891 1326 650 \nQ 1584 409 2034 409 \nQ 2484 409 2743 651 \nQ 3003 894 3003 1313 \nQ 3003 1734 2745 1975 \nQ 2488 2216 2034 2216 \nz\nM 1403 2484 \nQ 997 2584 770 2862 \nQ 544 3141 544 3541 \nQ 544 4100 942 4425 \nQ 1341 4750 2034 4750 \nQ 2731 4750 3128 4425 \nQ 3525 4100 3525 3541 \nQ 3525 3141 3298 2862 \nQ 3072 2584 2669 2484 \nQ 3125 2378 3379 2068 \nQ 3634 1759 3634 1313 \nQ 3634 634 3220 271 \nQ 2806 -91 2034 -91 \nQ 1263 -91 848 271 \nQ 434 634 434 1313 \nQ 434 1759 690 2068 \nQ 947 2378 1403 2484 \nz\nM 1172 3481 \nQ 1172 3119 1398 2916 \nQ 1625 2713 2034 2713 \nQ 2441 2713 2670 2916 \nQ 2900 3119 2900 3481 \nQ 2900 3844 2670 4047 \nQ 2441 4250 2034 4250 \nQ 1625 4250 1398 4047 \nQ 1172 3844 1172 3481 \nz\n\" transform=\"scale(0.015625)\"/>\n       </defs>\n       <use xlink:href=\"#DejaVuSans-38\"/>\n      </g>\n     </g>\n    </g>\n    <g id=\"ytick_6\">\n     <g id=\"line2d_10\">\n      <g>\n       <use xlink:href=\"#m996524fa68\" x=\"26.925\" y=\"98.293669\" style=\"stroke: #000000; stroke-width: 0.8\"/>\n      </g>\n     </g>\n     <g id=\"text_10\">\n      <!-- 10 -->\n      <g transform=\"translate(7.2 102.092888)scale(0.1 -0.1)\">\n       <defs>\n        <path id=\"DejaVuSans-31\" d=\"M 794 531 \nL 1825 531 \nL 1825 4091 \nL 703 3866 \nL 703 4441 \nL 1819 4666 \nL 2450 4666 \nL 2450 531 \nL 3481 531 \nL 3481 0 \nL 794 0 \nL 794 531 \nz\n\" transform=\"scale(0.015625)\"/>\n       </defs>\n       <use xlink:href=\"#DejaVuSans-31\"/>\n       <use xlink:href=\"#DejaVuSans-30\" x=\"63.623047\"/>\n      </g>\n     </g>\n    </g>\n    <g id=\"ytick_7\">\n     <g id=\"line2d_11\">\n      <g>\n       <use xlink:href=\"#m996524fa68\" x=\"26.925\" y=\"73.024403\" style=\"stroke: #000000; stroke-width: 0.8\"/>\n      </g>\n     </g>\n     <g id=\"text_11\">\n      <!-- 12 -->\n      <g transform=\"translate(7.2 76.823622)scale(0.1 -0.1)\">\n       <use xlink:href=\"#DejaVuSans-31\"/>\n       <use xlink:href=\"#DejaVuSans-32\" x=\"63.623047\"/>\n      </g>\n     </g>\n    </g>\n    <g id=\"ytick_8\">\n     <g id=\"line2d_12\">\n      <g>\n       <use xlink:href=\"#m996524fa68\" x=\"26.925\" y=\"47.755137\" style=\"stroke: #000000; stroke-width: 0.8\"/>\n      </g>\n     </g>\n     <g id=\"text_12\">\n      <!-- 14 -->\n      <g transform=\"translate(7.2 51.554356)scale(0.1 -0.1)\">\n       <use xlink:href=\"#DejaVuSans-31\"/>\n       <use xlink:href=\"#DejaVuSans-34\" x=\"63.623047\"/>\n      </g>\n     </g>\n    </g>\n    <g id=\"ytick_9\">\n     <g id=\"line2d_13\">\n      <g>\n       <use xlink:href=\"#m996524fa68\" x=\"26.925\" y=\"22.485871\" style=\"stroke: #000000; stroke-width: 0.8\"/>\n      </g>\n     </g>\n     <g id=\"text_13\">\n      <!-- 16 -->\n      <g transform=\"translate(7.2 26.28509)scale(0.1 -0.1)\">\n       <use xlink:href=\"#DejaVuSans-31\"/>\n       <use xlink:href=\"#DejaVuSans-36\" x=\"63.623047\"/>\n      </g>\n     </g>\n    </g>\n   </g>\n   <g id=\"patch_4\">\n    <path d=\"M 26.925 224.64 \nL 26.925 7.2 \n\" style=\"fill: none; stroke: #000000; stroke-width: 0.8; stroke-linejoin: miter; stroke-linecap: square\"/>\n   </g>\n   <g id=\"patch_5\">\n    <path d=\"M 361.725 224.64 \nL 361.725 7.2 \n\" style=\"fill: none; stroke: #000000; stroke-width: 0.8; stroke-linejoin: miter; stroke-linecap: square\"/>\n   </g>\n   <g id=\"patch_6\">\n    <path d=\"M 26.925 224.64 \nL 361.725 224.64 \n\" style=\"fill: none; stroke: #000000; stroke-width: 0.8; stroke-linejoin: miter; stroke-linecap: square\"/>\n   </g>\n   <g id=\"patch_7\">\n    <path d=\"M 26.925 7.2 \nL 361.725 7.2 \n\" style=\"fill: none; stroke: #000000; stroke-width: 0.8; stroke-linejoin: miter; stroke-linecap: square\"/>\n   </g>\n  </g>\n </g>\n <defs>\n  <clipPath id=\"pc5f99f84ba\">\n   <rect x=\"26.925\" y=\"7.2\" width=\"334.8\" height=\"217.44\"/>\n  </clipPath>\n </defs>\n</svg>\n",
      "text/plain": [
       "<Figure size 432x288 with 1 Axes>"
      ]
     },
     "metadata": {
      "needs_background": "light"
     },
     "output_type": "display_data"
    }
   ],
   "source": [
    "x = data_all['growth_rate']\n",
    "y = np.histogram(data_all['growth_rate'])\n",
    "print(x)\n",
    "print(y)\n",
    "\n",
    "plt.hist(data_all['growth_rate'], bins=100, density=True, alpha=0.5, histtype='stepfilled' )"
   ]
  },
  {
   "cell_type": "code",
   "execution_count": 90,
   "id": "867eeda2",
   "metadata": {},
   "outputs": [],
   "source": [
    "from scipy.stats import norm\n",
    "\n",
    "# Group growth_rate into seven groups according to the central limit theorem\n",
    "mu, std = norm.fit(data_all['growth_rate'])\n",
    "conditions = [\n",
    "    (data_all['growth_rate'] < -mu-3*std),\n",
    "    (data_all['growth_rate'] >= -mu-3*std) & (data_all['growth_rate'] < -mu-2*std),\n",
    "    (data_all['growth_rate'] >= -mu-2*std) & (data_all['growth_rate'] < -mu-std),\n",
    "    (data_all['growth_rate'] >= -mu-std) & (data_all['growth_rate'] < mu+std),\n",
    "    (data_all['growth_rate'] >= mu+std) & (data_all['growth_rate'] < mu+2*std),\n",
    "    (data_all['growth_rate'] >= mu+2*std) & (data_all['growth_rate'] < mu+3*std),\n",
    "    (data_all['growth_rate'] >= mu+3*std)\n",
    "]\n",
    "\n",
    "values = [7, 6, 5, 4, 3, 2, 1]\n",
    "\n",
    "data_all['growth_rate_normgroup'] = np.select(conditions, values)"
   ]
  },
  {
   "cell_type": "code",
   "execution_count": 91,
   "id": "d0d8d0ec",
   "metadata": {},
   "outputs": [],
   "source": [
    "# Group growth_rate into seven groups according to min and max\n",
    "min, max = data_all['growth_rate'].min(), data_all['growth_rate'].max()\n",
    "conditions = [\n",
    "    (data_all['growth_rate'] < min+1/7*(max-min)),\n",
    "    (data_all['growth_rate'] >= min+1/7*(max-min)) & (data_all['growth_rate'] < min+2/7*(max-min)),\n",
    "    (data_all['growth_rate'] >= min+2/7*(max-min)) & (data_all['growth_rate'] < min+3/7*(max-min)),\n",
    "    (data_all['growth_rate'] >= min+3/7*(max-min)) & (data_all['growth_rate'] < min+4/7*(max-min)),\n",
    "    (data_all['growth_rate'] >= min+4/7*(max-min)) & (data_all['growth_rate'] < min+5/7*(max-min)),\n",
    "    (data_all['growth_rate'] >= min+5/7*(max-min)) & (data_all['growth_rate'] < min+6/7*(max-min)),\n",
    "    (data_all['growth_rate'] >= min+6/7*(max-min))\n",
    "]\n",
    "    \n",
    "values = [7, 6, 5, 4, 3, 2, 1]\n",
    "\n",
    "data_all['growth_rate_avggrp'] = np.select(conditions, values)"
   ]
  },
  {
   "cell_type": "code",
   "execution_count": 92,
   "id": "81f479e2",
   "metadata": {},
   "outputs": [],
   "source": [
    "# Save dataset to CSV file for AutoGluon\n",
    "data_all.to_csv(r'data_AutoGluon.csv', index = False)"
   ]
  },
  {
   "cell_type": "code",
   "execution_count": null,
   "id": "6dacddc1",
   "metadata": {},
   "outputs": [],
   "source": [
    "import numpy as np\n",
    "from scipy.stats import norm\n",
    "import matplotlib.pyplot as plt\n",
    "\n",
    "# Generate some data_all for this\n",
    "# demonstration.\n",
    "dta = data_all['growth_rate']\n",
    "\n",
    "# Fit a normal distribution to\n",
    "# the data_all:\n",
    "# mean and standard deviation\n",
    "mu, std = norm.fit(dta)\n",
    "\n",
    "# Plot the histogram.\n",
    "plt.hist(dta, bins=100, density=True, alpha=0.6)\n",
    "\n",
    "# Plot the PDF.\n",
    "xmin, xmax = plt.xlim()\n",
    "x = np.linspace(xmin, xmax, 100)\n",
    "p = norm.pdf(x, mu, std)\n",
    "\n",
    "plt.plot(x, p, 'k', linewidth=2)\n",
    "# title = \"Fit Values: {:.2f} and {:.2f}\".format(mu, std)\n",
    "# plt.title(title)\n",
    "\n",
    "plt.show()\n"
   ]
  },
  {
   "cell_type": "code",
   "execution_count": null,
   "id": "3110dce5",
   "metadata": {},
   "outputs": [],
   "source": [
    "# group growth_rate in desc\n",
    "sorted_data = data.sort_values(\"growth_rate\", ascending=False)"
   ]
  },
  {
   "cell_type": "code",
   "execution_count": null,
   "id": "d42fd3a3",
   "metadata": {},
   "outputs": [],
   "source": [
    "# Group leaders into seven groups each group with approximately same leaders, the rest is placed in the last group\n",
    "groups = range(1,8)\n",
    "data['growth_rate_avggrp'] = np.concatenate(\n",
    "                [np.repeat(groups,int(len(data)/7)), \n",
    "                 np.repeat([7],int(len(data)%7))])"
   ]
  },
  {
   "cell_type": "code",
   "execution_count": null,
   "id": "0aed2c5b",
   "metadata": {},
   "outputs": [],
   "source": [
    "ax = sns.histplot(data['growth_rate_avggrp'])"
   ]
  },
  {
   "cell_type": "code",
   "execution_count": null,
   "id": "456d5d11",
   "metadata": {},
   "outputs": [],
   "source": [
    "ax = sns.histplot(data['age'])"
   ]
  },
  {
   "cell_type": "code",
   "execution_count": null,
   "id": "6886b4c2",
   "metadata": {},
   "outputs": [],
   "source": [
    "ax = sns.histplot(data['tenure'])"
   ]
  },
  {
   "cell_type": "code",
   "execution_count": null,
   "id": "4f5f29b5",
   "metadata": {},
   "outputs": [],
   "source": [
    "ax = sns.histplot(data_com3['gender'])"
   ]
  },
  {
   "cell_type": "code",
   "execution_count": null,
   "id": "670edc8e",
   "metadata": {},
   "outputs": [],
   "source": [
    "ax = sns.histplot(data['normal_tenure'])"
   ]
  },
  {
   "cell_type": "code",
   "execution_count": null,
   "id": "2b7428f5",
   "metadata": {
    "scrolled": true
   },
   "outputs": [],
   "source": [
    "#drop growth_rate\n",
    "data.drop(['growth_rate'], axis=1, inplace=True)"
   ]
  },
  {
   "cell_type": "code",
   "execution_count": null,
   "id": "797475b7",
   "metadata": {},
   "outputs": [],
   "source": [
    "#delete growth_rate\n",
    "data.drop([  \n",
    "'growth_rate'\n",
    "], axis=1, inplace=True)"
   ]
  }
 ],
 "metadata": {
  "kernelspec": {
   "display_name": "Python 3 (ipykernel)",
   "language": "python",
   "name": "python3"
  },
  "language_info": {
   "codemirror_mode": {
    "name": "ipython",
    "version": 3
   },
   "file_extension": ".py",
   "mimetype": "text/x-python",
   "name": "python",
   "nbconvert_exporter": "python",
   "pygments_lexer": "ipython3",
   "version": "3.9.7"
  }
 },
 "nbformat": 4,
 "nbformat_minor": 5
}
