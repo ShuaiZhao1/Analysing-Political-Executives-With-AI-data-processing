{
 "cells": [
  {
   "cell_type": "markdown",
   "id": "963d0e0f",
   "metadata": {},
   "source": [
    "# Analysing Political Executives with AI"
   ]
  },
  {
   "cell_type": "code",
   "execution_count": 107,
   "id": "66fa3c5c",
   "metadata": {},
   "outputs": [
    {
     "name": "stdout",
     "output_type": "stream",
     "text": [
      "Requirement already satisfied: seaborn in c:\\users\\my\\miniconda3\\envs\\ds\\lib\\site-packages (0.11.2)\n",
      "Requirement already satisfied: pandas in c:\\users\\my\\miniconda3\\envs\\ds\\lib\\site-packages (1.3.5)\n",
      "Requirement already satisfied: matplotlib in c:\\users\\my\\miniconda3\\envs\\ds\\lib\\site-packages (3.5.1)\n",
      "Requirement already satisfied: numpy in c:\\users\\my\\miniconda3\\envs\\ds\\lib\\site-packages (1.22.3)\n",
      "Requirement already satisfied: IPython in c:\\users\\my\\miniconda3\\envs\\ds\\lib\\site-packages (7.29.0)\n",
      "Requirement already satisfied: openpyxl in c:\\users\\my\\miniconda3\\envs\\ds\\lib\\site-packages (3.0.9)\n",
      "Requirement already satisfied: scipy>=1.0 in c:\\users\\my\\miniconda3\\envs\\ds\\lib\\site-packages (from seaborn) (1.7.3)\n",
      "Requirement already satisfied: python-dateutil>=2.7.3 in c:\\users\\my\\miniconda3\\envs\\ds\\lib\\site-packages (from pandas) (2.8.2)\n",
      "Requirement already satisfied: pytz>=2017.3 in c:\\users\\my\\miniconda3\\envs\\ds\\lib\\site-packages (from pandas) (2021.3)\n",
      "Requirement already satisfied: cycler>=0.10 in c:\\users\\my\\miniconda3\\envs\\ds\\lib\\site-packages (from matplotlib) (0.11.0)\n",
      "Requirement already satisfied: fonttools>=4.22.0 in c:\\users\\my\\miniconda3\\envs\\ds\\lib\\site-packages (from matplotlib) (4.33.2)\n",
      "Requirement already satisfied: pyparsing>=2.2.1 in c:\\users\\my\\miniconda3\\envs\\ds\\lib\\site-packages (from matplotlib) (3.0.4)\n",
      "Requirement already satisfied: pillow>=6.2.0 in c:\\users\\my\\miniconda3\\envs\\ds\\lib\\site-packages (from matplotlib) (9.0.1)\n",
      "Requirement already satisfied: kiwisolver>=1.0.1 in c:\\users\\my\\miniconda3\\envs\\ds\\lib\\site-packages (from matplotlib) (1.4.2)\n",
      "Requirement already satisfied: packaging>=20.0 in c:\\users\\my\\miniconda3\\envs\\ds\\lib\\site-packages (from matplotlib) (21.3)\n",
      "Requirement already satisfied: decorator in c:\\users\\my\\miniconda3\\envs\\ds\\lib\\site-packages (from IPython) (5.1.0)\n",
      "Requirement already satisfied: pygments in c:\\users\\my\\miniconda3\\envs\\ds\\lib\\site-packages (from IPython) (2.10.0)\n",
      "Requirement already satisfied: backcall in c:\\users\\my\\miniconda3\\envs\\ds\\lib\\site-packages (from IPython) (0.2.0)\n",
      "Requirement already satisfied: jedi>=0.16 in c:\\users\\my\\miniconda3\\envs\\ds\\lib\\site-packages (from IPython) (0.18.0)\n",
      "Requirement already satisfied: setuptools>=18.5 in c:\\users\\my\\miniconda3\\envs\\ds\\lib\\site-packages (from IPython) (59.5.0)\n",
      "Requirement already satisfied: pickleshare in c:\\users\\my\\miniconda3\\envs\\ds\\lib\\site-packages (from IPython) (0.7.5)\n",
      "Requirement already satisfied: traitlets>=4.2 in c:\\users\\my\\miniconda3\\envs\\ds\\lib\\site-packages (from IPython) (5.1.1)\n",
      "Requirement already satisfied: prompt-toolkit!=3.0.0,!=3.0.1,<3.1.0,>=2.0.0 in c:\\users\\my\\miniconda3\\envs\\ds\\lib\\site-packages (from IPython) (3.0.20)\n",
      "Requirement already satisfied: matplotlib-inline in c:\\users\\my\\miniconda3\\envs\\ds\\lib\\site-packages (from IPython) (0.1.2)\n",
      "Requirement already satisfied: colorama in c:\\users\\my\\miniconda3\\envs\\ds\\lib\\site-packages (from IPython) (0.4.4)\n",
      "Requirement already satisfied: et-xmlfile in c:\\users\\my\\miniconda3\\envs\\ds\\lib\\site-packages (from openpyxl) (1.1.0)\n",
      "Requirement already satisfied: parso<0.9.0,>=0.8.0 in c:\\users\\my\\miniconda3\\envs\\ds\\lib\\site-packages (from jedi>=0.16->IPython) (0.8.3)\n",
      "Requirement already satisfied: wcwidth in c:\\users\\my\\miniconda3\\envs\\ds\\lib\\site-packages (from prompt-toolkit!=3.0.0,!=3.0.1,<3.1.0,>=2.0.0->IPython) (0.2.5)\n",
      "Requirement already satisfied: six>=1.5 in c:\\users\\my\\miniconda3\\envs\\ds\\lib\\site-packages (from python-dateutil>=2.7.3->pandas) (1.16.0)\n"
     ]
    },
    {
     "name": "stderr",
     "output_type": "stream",
     "text": [
      "WARNING: Ignoring invalid distribution -illow (c:\\users\\my\\miniconda3\\envs\\ds\\lib\\site-packages)\n",
      "WARNING: Ignoring invalid distribution -illow (c:\\users\\my\\miniconda3\\envs\\ds\\lib\\site-packages)\n",
      "WARNING: Ignoring invalid distribution -illow (c:\\users\\my\\miniconda3\\envs\\ds\\lib\\site-packages)\n",
      "WARNING: Ignoring invalid distribution -illow (c:\\users\\my\\miniconda3\\envs\\ds\\lib\\site-packages)\n",
      "WARNING: Ignoring invalid distribution -illow (c:\\users\\my\\miniconda3\\envs\\ds\\lib\\site-packages)\n"
     ]
    }
   ],
   "source": [
    "# Install the packages for data anlysis in Python\n",
    "# Install the packages for data analysis and visualisation\n",
    "!pip3 install seaborn pandas matplotlib numpy IPython openpyxl"
   ]
  },
  {
   "cell_type": "code",
   "execution_count": 108,
   "id": "c525d831",
   "metadata": {
    "collapsed": true
   },
   "outputs": [],
   "source": [
    "import numpy as np\n",
    "import pandas as pd\n",
    "import matplotlib.pyplot as plt\n",
    "import seaborn as sns\n",
    "\n",
    "# Alternative to set svg for newer versions\n",
    "import matplotlib_inline\n",
    "matplotlib_inline.backend_inline.set_matplotlib_formats('svg')\n",
    "\n",
    "# Showing all the details of results\n",
    "from IPython.core.interactiveshell import InteractiveShell\n",
    "InteractiveShell.ast_node_interactivity = \"all\""
   ]
  },
  {
   "cell_type": "markdown",
   "id": "12988d58",
   "metadata": {},
   "source": [
    "## Built a total dataset\n",
    "\n",
    "- Merging data from other files\n",
    "- Read the data from Archigos excel document/dta data\n"
   ]
  },
  {
   "cell_type": "code",
   "execution_count": 109,
   "id": "63434b50",
   "metadata": {},
   "outputs": [
    {
     "name": "stderr",
     "output_type": "stream",
     "text": [
      "C:\\Users\\my\\miniconda3\\envs\\DS\\lib\\site-packages\\pandas\\io\\stata.py:1457: UnicodeWarning: \n",
      "One or more strings in the dta file could not be decoded using utf-8, and\n",
      "so the fallback encoding of latin-1 is being used.  This can happen when a file\n",
      "has been incorrectly encoded by Stata or some other software. You should verify\n",
      "the string values returned are correct.\n",
      "  warnings.warn(msg, UnicodeWarning)\n"
     ]
    }
   ],
   "source": [
    "# Read the original dta(Stata) data download from Archigos website.\n",
    "# load the data\n",
    "datafile = 'Archigos_4.1_stata14.dta'\n",
    "data = pd.read_stata(datafile)\n",
    "\n",
    "# Startdate is better than eindate, enddate is better than eoutdate\n",
    "# Change the data type of startdate and enddate to datatime\n",
    "data['startdate'] = data['startdate'].astype('datetime64[ns]')\n",
    "data['enddate'] = data['enddate'].astype('datetime64[ns]')\n",
    "data['yrbegin'] = pd.DatetimeIndex(data['startdate']).year\n",
    "data['yrend'] = pd.DatetimeIndex(data['enddate']).year\n",
    "\n",
    "# Import the data about countries grouped by three categories: Autocracy, Anocracy, Democracy\n",
    "data_deau = pd.read_excel('DeorAu_group.xlsx')\n",
    "\n",
    "# load another excel file mpd2020 with gdppc and pop\n",
    "data_mpd2020 = pd.read_excel('mpd2020.xlsx', 'Full data')\n",
    "\n",
    "# Combine data_deau with data_leader with key id=countries\n",
    "# Rename the Country-id to idacr in data_deau\n",
    "data_deau = data_deau.rename({'Country-id': 'idacr'}, axis='columns')\n",
    "data_leader_deau = pd.merge(data, data_deau, how ='left', on ='idacr')\n",
    "\n",
    "# Rename the countrycode to idacr in data_mpd2020\n",
    "# Rename the year in gdppc to yrend to merge data\n",
    "data_mpd2020 = data_mpd2020.rename({'countrycode': 'idacr', 'year': 'yrend'}, axis='columns')\n",
    "\n",
    "# Change the float to int\n",
    "data_leader_deau['yrend'] = data_leader_deau['yrend'].fillna(0.0).astype(int)\n",
    "data_leader_deau['yrbegin'] = data_leader_deau['yrbegin'].fillna(0.0).astype(int)\n",
    "\n",
    "# Combine data_leaders_deau with data_mpd2020 with key idacr and year\n",
    "data_leader_deau_gdp = pd.merge(data_leader_deau, data_mpd2020, how ='left', on =['idacr', 'yrend'])\n",
    "\n",
    "# Rename the gdppc to end_gdppc in data_leaders_deau_gdp\n",
    "data_leader_deau_gdp = data_leader_deau_gdp.rename({'gdppc': 'end_gdppc'}, axis='columns')\n",
    "\n",
    "data_gdp = pd.read_excel('data_gdp.xlsx')\n",
    "data_gdp = data_gdp.rename({'year': 'yrbegin'}, axis='columns')\n",
    "data_all = pd.merge(data_leader_deau_gdp, data_gdp, how ='left', on =['idacr', 'yrbegin'])\n",
    "\n",
    "# Rename the gdppc to begin_gdppc in data_all\n",
    "data_all = data_all.rename({'gdppc': 'begin_gdppc'}, axis='columns')\n",
    "\n",
    "# Calculate the leaders' age, when they first into power\n",
    "# See the characteristics of yrborn, there is something wrong in the data. \n",
    "# Because I change the data type of yrborn, from int to datetime.\n",
    "\n",
    "# age= yrbegin- yrborn\n",
    "data_all['age'] = data_all['yrbegin'] - data_all['yrborn']\n",
    "\n",
    "# See the distribution of age\n",
    "# data_all.groupby(['age']).mean()"
   ]
  },
  {
   "cell_type": "markdown",
   "id": "eed4b4fa",
   "metadata": {},
   "source": [
    "## Calculate their tenure\n",
    " \n",
    "- Calculate the tenure\n",
    "- Check the data about our data about tenure \n",
    "- Delete tenure < 1\n",
    "- Group the data by leaders and sum their tenure together ？？"
   ]
  },
  {
   "cell_type": "code",
   "execution_count": 110,
   "id": "51493fe6",
   "metadata": {},
   "outputs": [],
   "source": [
    "# tenure= enddate or eoutdate - startdate  or  eindate (Unit: years)\n",
    "# if enddate is null, it has two possibilities: \n",
    "# 1. leader is still in office, use the date now; 2. not available.  \n",
    "\n",
    "import datetime\n",
    "\n",
    "data_all['startdate'] = pd.to_datetime(data_all['startdate']).dt.date\n",
    "data_all['enddate'] = pd.to_datetime(data_all['enddate']).dt.date\n",
    "\n",
    "data_all['enddate'] = np.where(data_all['enddate'].isnull(),\n",
    "                                datetime.datetime.now().date(),\n",
    "                                data_all['enddate'])\n",
    "\n",
    "data_all['tenure'] = (data_all['enddate'] - data_all['startdate'])/np.timedelta64(1, 'Y')\n",
    "\n",
    "# data_all.groupby(['tenure']).mean()\n",
    "\n",
    "data_all.drop(data_all[data_all['tenure'] < 1].index , inplace=True)\n",
    "\n",
    "# Add tenure to the excel grouped by leaders\n",
    "# Some leaders may have more than one term\n",
    "# Tenure: merge the duplicates and sum the tenure.\n",
    "# data_all=data_all.groupby(['leader']).sum()\n",
    "\n",
    "# Check if there are any abonormal data_all.\n",
    "# data_all.groupby(['tenure']).mean()"
   ]
  },
  {
   "cell_type": "code",
   "execution_count": 111,
   "id": "b1fb259d",
   "metadata": {},
   "outputs": [],
   "source": [
    "\n",
    "# calulate the growth rate\n",
    "data_all['growth_rate'] = (data_all['end_gdppc'] / data_all['begin_gdppc'] - 1) / data_all['tenure']\n",
    "\n",
    "# data_all.describe()\n",
    "\n",
    "data_all.dropna(subset = ['growth_rate'], inplace=True)"
   ]
  },
  {
   "cell_type": "markdown",
   "id": "e983705d",
   "metadata": {},
   "source": [
    "## Data cleaning\n",
    "\n",
    "### Delete the irrelevant data with irrelevant columns"
   ]
  },
  {
   "cell_type": "code",
   "execution_count": 112,
   "id": "0a6ac00d",
   "metadata": {},
   "outputs": [
    {
     "data": {
      "text/plain": [
       "Index(['ccode', 'leader', 'entry', 'exit', 'exitcode', 'prevtimesinoffice',\n",
       "       'posttenurefate', 'gender', 'yrborn', 'yrdied', 'numentry', 'numexit',\n",
       "       'yrbegin', 'yrend', 'country', 'end_gdppc', 'pop_x', 'begin_gdppc',\n",
       "       'pop_y', 'age', 'tenure', 'growth_rate', 'fties_range'],\n",
       "      dtype='object')"
      ]
     },
     "execution_count": 112,
     "metadata": {},
     "output_type": "execute_result"
    }
   ],
   "source": [
    "# 'country_x','country_y'\n",
    "data_all.drop(columns=['obsid',\n",
    "                   'leadid',\n",
    "                   'idacr',\n",
    "                   'startdate',\n",
    "                   'eindate',\n",
    "                   'enddate',\n",
    "                   'eoutdate',\n",
    "                   'borndate',\n",
    "                   'ebirthdate',\n",
    "                   'deathdate',\n",
    "                   'edeathdate',\n",
    "                   'dbpediauri',\n",
    "                  'numexitcode',\n",
    "                  'numposttenurefate',\n",
    "                  'ftcur',\n",
    "                  'Country',\n",
    "                  'Polity datasets IV number[11][12]',\n",
    "                  'Polity datasets IV category'], inplace=True)\n",
    "\n",
    "# Deal with family ties and gender \n",
    "data_all['fties_range'] = np.where(data_all['fties'].isnull(), 0.5, 1)\n",
    "data_all['gender'] = np.where(data_all['gender']=='M', 0.5, 1)\n",
    "\n",
    "\n",
    "data_all.drop(columns=['fties',\n",
    "                       'Democracy',\n",
    "                       'Autocracy'], inplace=True)\n",
    "                       \n",
    "# Delete the columns that more than 30% is null \n",
    "# Delete the column >= 30% is null, we can see the remaining column names.\n",
    "null_sum=data_all.isnull().sum()\n",
    "data_all.columns[null_sum<len(data_all)*0.3] # columns will keep\n",
    "\n",
    "# Drop the columns that at least 30% values are null\n",
    "data_all.drop(columns=data_all.columns[null_sum > len(data_all)*0.3], inplace=True)\n",
    "\n",
    "# Check if there are any abnormal values, we need to pay attention to the negative numbers. \n",
    "# Some leaders are still alive, so the yrdied is negative number, etc.\n",
    "# print(data.describe())"
   ]
  },
  {
   "cell_type": "code",
   "execution_count": 113,
   "id": "805f6673",
   "metadata": {},
   "outputs": [],
   "source": [
    "data_all.dropna(subset = ['leader'], inplace=True)"
   ]
  },
  {
   "cell_type": "code",
   "execution_count": 114,
   "id": "42fa2d7f",
   "metadata": {},
   "outputs": [],
   "source": [
    "# First we see the characteristics of entry, there are four different kinds of types.\n",
    "# data.groupby(['entry']).mean()\n",
    "\n",
    "# Group the leaders by entry, see the compare between each group.\n",
    "# ax= sns.histplot(data['entry'])\n",
    "\n",
    "# Second we see the characteristics of exit, there are eight different kinds of types.\n",
    "# data.groupby(['exit']).mean()\n",
    "\n",
    "# Group the leaders by exit, see the compare between each group.\n",
    "# sns.countplot(y='exit',data=data)"
   ]
  },
  {
   "cell_type": "code",
   "execution_count": 115,
   "id": "918fdda1",
   "metadata": {},
   "outputs": [],
   "source": [
    "# Delete if yrbegin > yrend, age < 0\n",
    "# print(data_all[data_all['yrbegin'] > data_all['yrend']]) #age < 0\n",
    "data_all.drop(data_all[data_all['yrbegin'] > data_all['yrend']].index, inplace=True)\n",
    "\n",
    "# Delete the data_all yrbegin < 0, yrend < 0, yrborn<0, yrdied<0\n",
    "data_all.drop(data_all[data_all['yrborn']<0].index , inplace=True) \n",
    "# data_all.drop(data_all[data_all['yrdied']<0].index, inplace=True)\n",
    "data_all.drop(data_all[data_all['yrbegin']<0].index , inplace=True) \n",
    "data_all.drop(data_all[data_all['yrend']<0].index, inplace=True)\n",
    "# print(data_all.shape)\n",
    "\n",
    "# Find if yrbegin > yrdied, lifespan < 0 \n",
    "# print(data_all[data_all['yrbegin'] > data_all['yrdied']]) # begin to come into power after the leader is died.\n",
    "\n",
    "# Delete the data_all yrbegin > yrdied\n",
    "# data_all.drop(data_all[data_all['yrbegin'] > data_all['yrdied']].index, inplace=True) "
   ]
  },
  {
   "cell_type": "markdown",
   "id": "84f2057c",
   "metadata": {},
   "source": [
    "### Duplicated leader with more than one age, we pick up the first??"
   ]
  },
  {
   "cell_type": "code",
   "execution_count": 116,
   "id": "d38e62b3",
   "metadata": {},
   "outputs": [],
   "source": [
    "# # Find duplicates and sum the duplicates.\n",
    "# print(data.leader.duplicated().sum())\n",
    "\n",
    "# # Sum the non-duplicates.\n",
    "# print((~data.leader.duplicated()).sum())\n",
    "\n",
    "# # The first occurrence gets kept, and all others get identified as duplicates\n",
    "# data.leader=data.leader.drop_duplicates(keep='first')\n",
    "\n",
    "# # Save the groupby leader dataframe\n",
    "# data_leader = data.groupby(['leader'])\n",
    "# data.to_excel(r'data_all_leaders_group.xlsx', index = False)\n",
    "\n",
    "# print(data_leader.dtypes)\n",
    "\n",
    "# data_leader.describe()"
   ]
  },
  {
   "cell_type": "markdown",
   "id": "23db6b63",
   "metadata": {},
   "source": [
    "### Draw a figure about age"
   ]
  },
  {
   "cell_type": "code",
   "execution_count": 117,
   "id": "19d26f65",
   "metadata": {},
   "outputs": [],
   "source": [
    "# # See the distribution of age\n",
    "# import seaborn as sns\n",
    "# ax = sns.histplot(data.age, kde=True)\n",
    "\n",
    "# import seaborn as sns\n",
    "# sns.histplot(data.age,bins=[1, 30, 40, 50, 60, 70, 80, 90] ,color = 'orange', shrink=.9)"
   ]
  },
  {
   "cell_type": "markdown",
   "id": "1a53cbd8",
   "metadata": {},
   "source": [
    "### Group the tenure into five possible values\n",
    "\n",
    "- 1 for single term - equal to or less than 4 years; \n",
    "- 2 for two terms - between 5 and 8 years;\n",
    "- 3 for three terms -  between 9 and 12 years;\n",
    "- 4 for four terms - between 13 and 16 years;\n",
    "- 5 for five or more terms)</font> "
   ]
  },
  {
   "cell_type": "code",
   "execution_count": 118,
   "id": "f10ae2b5",
   "metadata": {
    "scrolled": true
   },
   "outputs": [],
   "source": [
    "# Divied tenure group to five groups\n",
    "# tenure_groups= pd.cut(data['tenure'], bins=[1, 4, 8, 12, 16, 20, np.inf])\n",
    "# data.groupby(tenure_groups).mean()\n",
    "\n",
    "# See the distribution of tenure\n",
    "# ax = sns.histplot(data.tenure,kde=True, shrink = 0.8, bins=20) \n",
    "\n",
    "                 #, element=\"step\", fill=False)"
   ]
  },
  {
   "cell_type": "code",
   "execution_count": 119,
   "id": "ba58738b",
   "metadata": {},
   "outputs": [],
   "source": [
    "# See the distribution of tenure\n",
    "# sns.histplot(data.tenure,bins=[0, 4, 8, 12, 16, 20, np.inf], color = 'pink', shrink=.9)"
   ]
  },
  {
   "cell_type": "code",
   "execution_count": 120,
   "id": "62b4f642",
   "metadata": {},
   "outputs": [],
   "source": [
    "# data.dtypes\n",
    "\n",
    "# Visualize the differences about leaders' gender for the whole data set\n",
    "# ax= sns.histplot(data.gender, shrink = 0.8, bins=10, color='grey') "
   ]
  },
  {
   "cell_type": "code",
   "execution_count": 121,
   "id": "f313e95d",
   "metadata": {},
   "outputs": [],
   "source": [
    "# # The correlations of all the variables used in this study sample: leaders' age, leaders' tenure\n",
    "# corr= data.corr()\n",
    "# corr\n",
    "\n",
    "# # Visualize the corelation between each column\n",
    "# fig = plt.figure(figsize =(8,8))\n",
    "# plt.matshow(corr, cmap='RdBu', fignum = fig.number)\n",
    "# plt.xticks(range(len(corr.columns)), corr.columns, rotation = 'vertical');\n",
    "# plt.yticks(range(len(corr.columns)), corr.columns);"
   ]
  },
  {
   "cell_type": "code",
   "execution_count": 122,
   "id": "bb1ae4f3",
   "metadata": {},
   "outputs": [],
   "source": [
    "# The relationship between age and tenure\n",
    "# data.plot(kind = 'scatter', x = 'age', y = 'tenure', figsize = (6,6))\n",
    "\n",
    "# Save the py file to excel\n",
    "# data.to_excel('data_all_leaders_group.xlsx', index = False)\n",
    "# Tranfert the .py file to excel"
   ]
  },
  {
   "cell_type": "code",
   "execution_count": 123,
   "id": "b579dfc7",
   "metadata": {},
   "outputs": [],
   "source": [
    "# import seaborn as sns\n",
    "# ax= sns.histplot(data_all['growth_rate'])"
   ]
  },
  {
   "cell_type": "code",
   "execution_count": 124,
   "id": "371c4518",
   "metadata": {},
   "outputs": [],
   "source": [
    "# import numpy as np\n",
    "# data['fties_range'] = np.where(data['fties'].isnull(), 0.5, 1)\n",
    "# data['gender'] = np.where(data['gender']=='M', 0.5, 1)\n",
    "#data['logarithm_gdppc'] = np.log(data['gdppc'])\n",
    "#data['normal_tenure'] = (data['tenure'] - data['tenure'].mean()) / data['tenure'].std()#normalize tenure with z-score"
   ]
  },
  {
   "cell_type": "code",
   "execution_count": 125,
   "id": "6ce4cbda",
   "metadata": {},
   "outputs": [],
   "source": [
    "# corr= data.corr()\n",
    "\n",
    "# #visualize the corelation between each column\n",
    "# fig = plt.figure(figsize =(8,8))\n",
    "# #plt.matshow(corr, cmap='RdBu', fignum = fig.number)\n",
    "# plt.xticks(range(len(corr.columns)), corr.columns, rotation = 'vertical');\n",
    "# sns.heatmap(corr, cmap='RdBu')\n",
    "# plt.yticks(range(len(corr.columns)), corr.columns)\n",
    "# fig.savefig('heatmap.png',dpi=600)"
   ]
  },
  {
   "cell_type": "markdown",
   "id": "62b95cc1",
   "metadata": {},
   "source": [
    "### Normalization"
   ]
  },
  {
   "cell_type": "code",
   "execution_count": 126,
   "id": "ebe7c578",
   "metadata": {},
   "outputs": [
    {
     "ename": "ValueError",
     "evalue": "could not convert string to float: 'Still in Office'",
     "output_type": "error",
     "traceback": [
      "\u001b[1;31m---------------------------------------------------------------------------\u001b[0m",
      "\u001b[1;31mValueError\u001b[0m                                Traceback (most recent call last)",
      "\u001b[1;32m~\\AppData\\Local\\Temp/ipykernel_9616/1176572902.py\u001b[0m in \u001b[0;36m<module>\u001b[1;34m\u001b[0m\n\u001b[0;32m     12\u001b[0m data_all['exit'] = data_all['exit'].replace({'Regular': 1, 'Irregular': 2, 'Foreign': 3,'Natural Death': 4, \n\u001b[0;32m     13\u001b[0m                                     'Retired Due to Ill Health': 5, 'Suicide': 6}) \n\u001b[1;32m---> 14\u001b[1;33m \u001b[0mdata_all\u001b[0m\u001b[1;33m[\u001b[0m\u001b[1;34m'exit'\u001b[0m\u001b[1;33m]\u001b[0m\u001b[1;33m=\u001b[0m\u001b[0mdata_all\u001b[0m\u001b[1;33m[\u001b[0m\u001b[1;34m'exit'\u001b[0m\u001b[1;33m]\u001b[0m\u001b[1;33m.\u001b[0m\u001b[0mastype\u001b[0m\u001b[1;33m(\u001b[0m\u001b[0mfloat\u001b[0m\u001b[1;33m,\u001b[0m \u001b[0merrors\u001b[0m\u001b[1;33m=\u001b[0m\u001b[1;34m'raise'\u001b[0m\u001b[1;33m)\u001b[0m\u001b[1;33m\u001b[0m\u001b[1;33m\u001b[0m\u001b[0m\n\u001b[0m\u001b[0;32m     15\u001b[0m \u001b[0mmin\u001b[0m\u001b[1;33m,\u001b[0m \u001b[0mmax\u001b[0m \u001b[1;33m=\u001b[0m \u001b[0mdata_all\u001b[0m\u001b[1;33m[\u001b[0m\u001b[1;34m'exit'\u001b[0m\u001b[1;33m]\u001b[0m\u001b[1;33m.\u001b[0m\u001b[0mmin\u001b[0m\u001b[1;33m(\u001b[0m\u001b[1;33m)\u001b[0m\u001b[1;33m,\u001b[0m \u001b[0mdata_all\u001b[0m\u001b[1;33m[\u001b[0m\u001b[1;34m'exit'\u001b[0m\u001b[1;33m]\u001b[0m\u001b[1;33m.\u001b[0m\u001b[0mmax\u001b[0m\u001b[1;33m(\u001b[0m\u001b[1;33m)\u001b[0m\u001b[1;33m\u001b[0m\u001b[1;33m\u001b[0m\u001b[0m\n\u001b[0;32m     16\u001b[0m \u001b[0mdata_all\u001b[0m\u001b[1;33m[\u001b[0m\u001b[1;34m'exit'\u001b[0m\u001b[1;33m]\u001b[0m\u001b[1;33m=\u001b[0m \u001b[1;33m(\u001b[0m\u001b[0mdata_all\u001b[0m\u001b[1;33m[\u001b[0m\u001b[1;34m'exit'\u001b[0m\u001b[1;33m]\u001b[0m\u001b[1;33m-\u001b[0m\u001b[0mmin\u001b[0m\u001b[1;33m)\u001b[0m\u001b[1;33m/\u001b[0m\u001b[1;33m(\u001b[0m\u001b[0mmax\u001b[0m\u001b[1;33m-\u001b[0m\u001b[0mmin\u001b[0m\u001b[1;33m)\u001b[0m\u001b[1;33m\u001b[0m\u001b[1;33m\u001b[0m\u001b[0m\n",
      "\u001b[1;32m~\\miniconda3\\envs\\DS\\lib\\site-packages\\pandas\\core\\generic.py\u001b[0m in \u001b[0;36mastype\u001b[1;34m(self, dtype, copy, errors)\u001b[0m\n\u001b[0;32m   5813\u001b[0m         \u001b[1;32melse\u001b[0m\u001b[1;33m:\u001b[0m\u001b[1;33m\u001b[0m\u001b[1;33m\u001b[0m\u001b[0m\n\u001b[0;32m   5814\u001b[0m             \u001b[1;31m# else, only a single dtype is given\u001b[0m\u001b[1;33m\u001b[0m\u001b[1;33m\u001b[0m\u001b[0m\n\u001b[1;32m-> 5815\u001b[1;33m             \u001b[0mnew_data\u001b[0m \u001b[1;33m=\u001b[0m \u001b[0mself\u001b[0m\u001b[1;33m.\u001b[0m\u001b[0m_mgr\u001b[0m\u001b[1;33m.\u001b[0m\u001b[0mastype\u001b[0m\u001b[1;33m(\u001b[0m\u001b[0mdtype\u001b[0m\u001b[1;33m=\u001b[0m\u001b[0mdtype\u001b[0m\u001b[1;33m,\u001b[0m \u001b[0mcopy\u001b[0m\u001b[1;33m=\u001b[0m\u001b[0mcopy\u001b[0m\u001b[1;33m,\u001b[0m \u001b[0merrors\u001b[0m\u001b[1;33m=\u001b[0m\u001b[0merrors\u001b[0m\u001b[1;33m)\u001b[0m\u001b[1;33m\u001b[0m\u001b[1;33m\u001b[0m\u001b[0m\n\u001b[0m\u001b[0;32m   5816\u001b[0m             \u001b[1;32mreturn\u001b[0m \u001b[0mself\u001b[0m\u001b[1;33m.\u001b[0m\u001b[0m_constructor\u001b[0m\u001b[1;33m(\u001b[0m\u001b[0mnew_data\u001b[0m\u001b[1;33m)\u001b[0m\u001b[1;33m.\u001b[0m\u001b[0m__finalize__\u001b[0m\u001b[1;33m(\u001b[0m\u001b[0mself\u001b[0m\u001b[1;33m,\u001b[0m \u001b[0mmethod\u001b[0m\u001b[1;33m=\u001b[0m\u001b[1;34m\"astype\"\u001b[0m\u001b[1;33m)\u001b[0m\u001b[1;33m\u001b[0m\u001b[1;33m\u001b[0m\u001b[0m\n\u001b[0;32m   5817\u001b[0m \u001b[1;33m\u001b[0m\u001b[0m\n",
      "\u001b[1;32m~\\miniconda3\\envs\\DS\\lib\\site-packages\\pandas\\core\\internals\\managers.py\u001b[0m in \u001b[0;36mastype\u001b[1;34m(self, dtype, copy, errors)\u001b[0m\n\u001b[0;32m    416\u001b[0m \u001b[1;33m\u001b[0m\u001b[0m\n\u001b[0;32m    417\u001b[0m     \u001b[1;32mdef\u001b[0m \u001b[0mastype\u001b[0m\u001b[1;33m(\u001b[0m\u001b[0mself\u001b[0m\u001b[1;33m:\u001b[0m \u001b[0mT\u001b[0m\u001b[1;33m,\u001b[0m \u001b[0mdtype\u001b[0m\u001b[1;33m,\u001b[0m \u001b[0mcopy\u001b[0m\u001b[1;33m:\u001b[0m \u001b[0mbool\u001b[0m \u001b[1;33m=\u001b[0m \u001b[1;32mFalse\u001b[0m\u001b[1;33m,\u001b[0m \u001b[0merrors\u001b[0m\u001b[1;33m:\u001b[0m \u001b[0mstr\u001b[0m \u001b[1;33m=\u001b[0m \u001b[1;34m\"raise\"\u001b[0m\u001b[1;33m)\u001b[0m \u001b[1;33m->\u001b[0m \u001b[0mT\u001b[0m\u001b[1;33m:\u001b[0m\u001b[1;33m\u001b[0m\u001b[1;33m\u001b[0m\u001b[0m\n\u001b[1;32m--> 418\u001b[1;33m         \u001b[1;32mreturn\u001b[0m \u001b[0mself\u001b[0m\u001b[1;33m.\u001b[0m\u001b[0mapply\u001b[0m\u001b[1;33m(\u001b[0m\u001b[1;34m\"astype\"\u001b[0m\u001b[1;33m,\u001b[0m \u001b[0mdtype\u001b[0m\u001b[1;33m=\u001b[0m\u001b[0mdtype\u001b[0m\u001b[1;33m,\u001b[0m \u001b[0mcopy\u001b[0m\u001b[1;33m=\u001b[0m\u001b[0mcopy\u001b[0m\u001b[1;33m,\u001b[0m \u001b[0merrors\u001b[0m\u001b[1;33m=\u001b[0m\u001b[0merrors\u001b[0m\u001b[1;33m)\u001b[0m\u001b[1;33m\u001b[0m\u001b[1;33m\u001b[0m\u001b[0m\n\u001b[0m\u001b[0;32m    419\u001b[0m \u001b[1;33m\u001b[0m\u001b[0m\n\u001b[0;32m    420\u001b[0m     def convert(\n",
      "\u001b[1;32m~\\miniconda3\\envs\\DS\\lib\\site-packages\\pandas\\core\\internals\\managers.py\u001b[0m in \u001b[0;36mapply\u001b[1;34m(self, f, align_keys, ignore_failures, **kwargs)\u001b[0m\n\u001b[0;32m    325\u001b[0m                     \u001b[0mapplied\u001b[0m \u001b[1;33m=\u001b[0m \u001b[0mb\u001b[0m\u001b[1;33m.\u001b[0m\u001b[0mapply\u001b[0m\u001b[1;33m(\u001b[0m\u001b[0mf\u001b[0m\u001b[1;33m,\u001b[0m \u001b[1;33m**\u001b[0m\u001b[0mkwargs\u001b[0m\u001b[1;33m)\u001b[0m\u001b[1;33m\u001b[0m\u001b[1;33m\u001b[0m\u001b[0m\n\u001b[0;32m    326\u001b[0m                 \u001b[1;32melse\u001b[0m\u001b[1;33m:\u001b[0m\u001b[1;33m\u001b[0m\u001b[1;33m\u001b[0m\u001b[0m\n\u001b[1;32m--> 327\u001b[1;33m                     \u001b[0mapplied\u001b[0m \u001b[1;33m=\u001b[0m \u001b[0mgetattr\u001b[0m\u001b[1;33m(\u001b[0m\u001b[0mb\u001b[0m\u001b[1;33m,\u001b[0m \u001b[0mf\u001b[0m\u001b[1;33m)\u001b[0m\u001b[1;33m(\u001b[0m\u001b[1;33m**\u001b[0m\u001b[0mkwargs\u001b[0m\u001b[1;33m)\u001b[0m\u001b[1;33m\u001b[0m\u001b[1;33m\u001b[0m\u001b[0m\n\u001b[0m\u001b[0;32m    328\u001b[0m             \u001b[1;32mexcept\u001b[0m \u001b[1;33m(\u001b[0m\u001b[0mTypeError\u001b[0m\u001b[1;33m,\u001b[0m \u001b[0mNotImplementedError\u001b[0m\u001b[1;33m)\u001b[0m\u001b[1;33m:\u001b[0m\u001b[1;33m\u001b[0m\u001b[1;33m\u001b[0m\u001b[0m\n\u001b[0;32m    329\u001b[0m                 \u001b[1;32mif\u001b[0m \u001b[1;32mnot\u001b[0m \u001b[0mignore_failures\u001b[0m\u001b[1;33m:\u001b[0m\u001b[1;33m\u001b[0m\u001b[1;33m\u001b[0m\u001b[0m\n",
      "\u001b[1;32m~\\miniconda3\\envs\\DS\\lib\\site-packages\\pandas\\core\\internals\\blocks.py\u001b[0m in \u001b[0;36mastype\u001b[1;34m(self, dtype, copy, errors)\u001b[0m\n\u001b[0;32m    589\u001b[0m         \u001b[0mvalues\u001b[0m \u001b[1;33m=\u001b[0m \u001b[0mself\u001b[0m\u001b[1;33m.\u001b[0m\u001b[0mvalues\u001b[0m\u001b[1;33m\u001b[0m\u001b[1;33m\u001b[0m\u001b[0m\n\u001b[0;32m    590\u001b[0m \u001b[1;33m\u001b[0m\u001b[0m\n\u001b[1;32m--> 591\u001b[1;33m         \u001b[0mnew_values\u001b[0m \u001b[1;33m=\u001b[0m \u001b[0mastype_array_safe\u001b[0m\u001b[1;33m(\u001b[0m\u001b[0mvalues\u001b[0m\u001b[1;33m,\u001b[0m \u001b[0mdtype\u001b[0m\u001b[1;33m,\u001b[0m \u001b[0mcopy\u001b[0m\u001b[1;33m=\u001b[0m\u001b[0mcopy\u001b[0m\u001b[1;33m,\u001b[0m \u001b[0merrors\u001b[0m\u001b[1;33m=\u001b[0m\u001b[0merrors\u001b[0m\u001b[1;33m)\u001b[0m\u001b[1;33m\u001b[0m\u001b[1;33m\u001b[0m\u001b[0m\n\u001b[0m\u001b[0;32m    592\u001b[0m \u001b[1;33m\u001b[0m\u001b[0m\n\u001b[0;32m    593\u001b[0m         \u001b[0mnew_values\u001b[0m \u001b[1;33m=\u001b[0m \u001b[0mmaybe_coerce_values\u001b[0m\u001b[1;33m(\u001b[0m\u001b[0mnew_values\u001b[0m\u001b[1;33m)\u001b[0m\u001b[1;33m\u001b[0m\u001b[1;33m\u001b[0m\u001b[0m\n",
      "\u001b[1;32m~\\miniconda3\\envs\\DS\\lib\\site-packages\\pandas\\core\\dtypes\\cast.py\u001b[0m in \u001b[0;36mastype_array_safe\u001b[1;34m(values, dtype, copy, errors)\u001b[0m\n\u001b[0;32m   1307\u001b[0m \u001b[1;33m\u001b[0m\u001b[0m\n\u001b[0;32m   1308\u001b[0m     \u001b[1;32mtry\u001b[0m\u001b[1;33m:\u001b[0m\u001b[1;33m\u001b[0m\u001b[1;33m\u001b[0m\u001b[0m\n\u001b[1;32m-> 1309\u001b[1;33m         \u001b[0mnew_values\u001b[0m \u001b[1;33m=\u001b[0m \u001b[0mastype_array\u001b[0m\u001b[1;33m(\u001b[0m\u001b[0mvalues\u001b[0m\u001b[1;33m,\u001b[0m \u001b[0mdtype\u001b[0m\u001b[1;33m,\u001b[0m \u001b[0mcopy\u001b[0m\u001b[1;33m=\u001b[0m\u001b[0mcopy\u001b[0m\u001b[1;33m)\u001b[0m\u001b[1;33m\u001b[0m\u001b[1;33m\u001b[0m\u001b[0m\n\u001b[0m\u001b[0;32m   1310\u001b[0m     \u001b[1;32mexcept\u001b[0m \u001b[1;33m(\u001b[0m\u001b[0mValueError\u001b[0m\u001b[1;33m,\u001b[0m \u001b[0mTypeError\u001b[0m\u001b[1;33m)\u001b[0m\u001b[1;33m:\u001b[0m\u001b[1;33m\u001b[0m\u001b[1;33m\u001b[0m\u001b[0m\n\u001b[0;32m   1311\u001b[0m         \u001b[1;31m# e.g. astype_nansafe can fail on object-dtype of strings\u001b[0m\u001b[1;33m\u001b[0m\u001b[1;33m\u001b[0m\u001b[0m\n",
      "\u001b[1;32m~\\miniconda3\\envs\\DS\\lib\\site-packages\\pandas\\core\\dtypes\\cast.py\u001b[0m in \u001b[0;36mastype_array\u001b[1;34m(values, dtype, copy)\u001b[0m\n\u001b[0;32m   1255\u001b[0m \u001b[1;33m\u001b[0m\u001b[0m\n\u001b[0;32m   1256\u001b[0m     \u001b[1;32melse\u001b[0m\u001b[1;33m:\u001b[0m\u001b[1;33m\u001b[0m\u001b[1;33m\u001b[0m\u001b[0m\n\u001b[1;32m-> 1257\u001b[1;33m         \u001b[0mvalues\u001b[0m \u001b[1;33m=\u001b[0m \u001b[0mastype_nansafe\u001b[0m\u001b[1;33m(\u001b[0m\u001b[0mvalues\u001b[0m\u001b[1;33m,\u001b[0m \u001b[0mdtype\u001b[0m\u001b[1;33m,\u001b[0m \u001b[0mcopy\u001b[0m\u001b[1;33m=\u001b[0m\u001b[0mcopy\u001b[0m\u001b[1;33m)\u001b[0m\u001b[1;33m\u001b[0m\u001b[1;33m\u001b[0m\u001b[0m\n\u001b[0m\u001b[0;32m   1258\u001b[0m \u001b[1;33m\u001b[0m\u001b[0m\n\u001b[0;32m   1259\u001b[0m     \u001b[1;31m# in pandas we don't store numpy str dtypes, so convert to object\u001b[0m\u001b[1;33m\u001b[0m\u001b[1;33m\u001b[0m\u001b[0m\n",
      "\u001b[1;32m~\\miniconda3\\envs\\DS\\lib\\site-packages\\pandas\\core\\dtypes\\cast.py\u001b[0m in \u001b[0;36mastype_nansafe\u001b[1;34m(arr, dtype, copy, skipna)\u001b[0m\n\u001b[0;32m   1199\u001b[0m     \u001b[1;32mif\u001b[0m \u001b[0mcopy\u001b[0m \u001b[1;32mor\u001b[0m \u001b[0mis_object_dtype\u001b[0m\u001b[1;33m(\u001b[0m\u001b[0marr\u001b[0m\u001b[1;33m.\u001b[0m\u001b[0mdtype\u001b[0m\u001b[1;33m)\u001b[0m \u001b[1;32mor\u001b[0m \u001b[0mis_object_dtype\u001b[0m\u001b[1;33m(\u001b[0m\u001b[0mdtype\u001b[0m\u001b[1;33m)\u001b[0m\u001b[1;33m:\u001b[0m\u001b[1;33m\u001b[0m\u001b[1;33m\u001b[0m\u001b[0m\n\u001b[0;32m   1200\u001b[0m         \u001b[1;31m# Explicit copy, or required since NumPy can't view from / to object.\u001b[0m\u001b[1;33m\u001b[0m\u001b[1;33m\u001b[0m\u001b[0m\n\u001b[1;32m-> 1201\u001b[1;33m         \u001b[1;32mreturn\u001b[0m \u001b[0marr\u001b[0m\u001b[1;33m.\u001b[0m\u001b[0mastype\u001b[0m\u001b[1;33m(\u001b[0m\u001b[0mdtype\u001b[0m\u001b[1;33m,\u001b[0m \u001b[0mcopy\u001b[0m\u001b[1;33m=\u001b[0m\u001b[1;32mTrue\u001b[0m\u001b[1;33m)\u001b[0m\u001b[1;33m\u001b[0m\u001b[1;33m\u001b[0m\u001b[0m\n\u001b[0m\u001b[0;32m   1202\u001b[0m \u001b[1;33m\u001b[0m\u001b[0m\n\u001b[0;32m   1203\u001b[0m     \u001b[1;32mreturn\u001b[0m \u001b[0marr\u001b[0m\u001b[1;33m.\u001b[0m\u001b[0mastype\u001b[0m\u001b[1;33m(\u001b[0m\u001b[0mdtype\u001b[0m\u001b[1;33m,\u001b[0m \u001b[0mcopy\u001b[0m\u001b[1;33m=\u001b[0m\u001b[0mcopy\u001b[0m\u001b[1;33m)\u001b[0m\u001b[1;33m\u001b[0m\u001b[1;33m\u001b[0m\u001b[0m\n",
      "\u001b[1;31mValueError\u001b[0m: could not convert string to float: 'Still in Office'"
     ]
    }
   ],
   "source": [
    "# ccode int\n",
    "min, max = data_all['ccode'].min(), data_all['ccode'].max()\n",
    "data_all['ccode'] = (data_all['ccode']-min)/(max-min)\n",
    "\n",
    "# entry, regular 1...\n",
    "data_all['entry'] = data_all['entry'].replace({'Regular': 1,'Irregular': 2, 'Foreign Imposition': 3})\n",
    "data_all['entry']=data_all['entry'].astype(float, errors='raise')\n",
    "min, max = data_all['entry'].min(), data_all['entry'].max()\n",
    "data_all['entry']= (data_all['entry']-min)/(max-min)\n",
    "\n",
    "# exit, regular 1...\n",
    "data_all['exit'] = data_all['exit'].replace({'Regular': 1, 'Irregular': 2, 'Foreign': 3,'Natural Death': 4, \n",
    "                                    'Retired Due to Ill Health': 5, 'Suicide': 6}) \n",
    "                                    \n",
    "data_all['exit']=data_all['exit'].astype(float, errors='raise')\n",
    "min, max = data_all['exit'].min(), data_all['exit'].max()\n",
    "data_all['exit']= (data_all['exit']-min)/(max-min)\n",
    "\n",
    "# exitcode, regular 1...\n",
    "data_all['exitcode'] = data_all['exitcode'].replace({'Assassination by Unsupported Individual': 1,'Irregular, Other': 2,\n",
    "                                             'Popular Protest, with Foreign Support': 3, \n",
    "                                             'Popular Protest, without Foreign Support': 4,\n",
    "                                             'Regular': 5, 'Removed by Military, with Foreign Support': 6,\n",
    "                                             'Removed by Military, without Foreign Support': 7, \n",
    "                                             'Removed by Other Government Actors, with Foreign Support': 8,\n",
    "                                             'Removed by Other Government Actors, without Foreign Support': 9,\n",
    "                                             'Removed by Rebels, with Foreign Support': 10,\n",
    "                                             'Removed by Rebels, without Foreign Support': 11,\n",
    "                                             'Removed in Military Power Struggle Short of Coup': 12,\n",
    "                                             'Removed through Threat of Foreign Force': 13, 'Unknown':14}) \n",
    "data_all['exitcode']=data_all['exitcode'].astype(float, errors='raise')\n",
    "min, max = data_all['exitcode'].min(), data_all['exitcode'].max()\n",
    "data_all['exitcode']= (data_all['exitcode']-min)/(max-min)"
   ]
  },
  {
   "cell_type": "code",
   "execution_count": null,
   "id": "121b748e",
   "metadata": {},
   "outputs": [
    {
     "data": {
      "text/plain": [
       "(613, 23)"
      ]
     },
     "execution_count": 62,
     "metadata": {},
     "output_type": "execute_result"
    },
    {
     "name": "stdout",
     "output_type": "stream",
     "text": [
      "0.017681165402229724\n",
      "0.04440134066224207\n"
     ]
    },
    {
     "data": {
      "image/svg+xml": "<?xml version=\"1.0\" encoding=\"utf-8\" standalone=\"no\"?>\n<!DOCTYPE svg PUBLIC \"-//W3C//DTD SVG 1.1//EN\"\n  \"http://www.w3.org/Graphics/SVG/1.1/DTD/svg11.dtd\">\n<svg xmlns:xlink=\"http://www.w3.org/1999/xlink\" width=\"382.603125pt\" height=\"262.474375pt\" viewBox=\"0 0 382.603125 262.474375\" xmlns=\"http://www.w3.org/2000/svg\" version=\"1.1\">\n <metadata>\n  <rdf:RDF xmlns:dc=\"http://purl.org/dc/elements/1.1/\" xmlns:cc=\"http://creativecommons.org/ns#\" xmlns:rdf=\"http://www.w3.org/1999/02/22-rdf-syntax-ns#\">\n   <cc:Work>\n    <dc:type rdf:resource=\"http://purl.org/dc/dcmitype/StillImage\"/>\n    <dc:date>2022-04-28T19:01:00.599797</dc:date>\n    <dc:format>image/svg+xml</dc:format>\n    <dc:creator>\n     <cc:Agent>\n      <dc:title>Matplotlib v3.5.1, https://matplotlib.org/</dc:title>\n     </cc:Agent>\n    </dc:creator>\n   </cc:Work>\n  </rdf:RDF>\n </metadata>\n <defs>\n  <style type=\"text/css\">*{stroke-linejoin: round; stroke-linecap: butt}</style>\n </defs>\n <g id=\"figure_1\">\n  <g id=\"patch_1\">\n   <path d=\"M 0 262.474375 \nL 382.603125 262.474375 \nL 382.603125 0 \nL 0 0 \nL 0 262.474375 \nz\n\" style=\"fill: none\"/>\n  </g>\n  <g id=\"axes_1\">\n   <g id=\"patch_2\">\n    <path d=\"M 40.603125 224.64 \nL 375.403125 224.64 \nL 375.403125 7.2 \nL 40.603125 7.2 \nz\n\" style=\"fill: #ffffff\"/>\n   </g>\n   <g id=\"patch_3\">\n    <path d=\"M 55.821307 224.64 \nL 61.068956 224.64 \nL 61.068956 222.232027 \nL 55.821307 222.232027 \nz\n\" clip-path=\"url(#pc71a3b658f)\" style=\"fill: #1f77b4; fill-opacity: 0.75; stroke: #000000; stroke-width: 0.524765; stroke-linejoin: miter\"/>\n   </g>\n   <g id=\"patch_4\">\n    <path d=\"M 61.068956 224.64 \nL 66.316605 224.64 \nL 66.316605 224.64 \nL 61.068956 224.64 \nz\n\" clip-path=\"url(#pc71a3b658f)\" style=\"fill: #1f77b4; fill-opacity: 0.75; stroke: #000000; stroke-width: 0.524765; stroke-linejoin: miter\"/>\n   </g>\n   <g id=\"patch_5\">\n    <path d=\"M 66.316605 224.64 \nL 71.564254 224.64 \nL 71.564254 224.64 \nL 66.316605 224.64 \nz\n\" clip-path=\"url(#pc71a3b658f)\" style=\"fill: #1f77b4; fill-opacity: 0.75; stroke: #000000; stroke-width: 0.524765; stroke-linejoin: miter\"/>\n   </g>\n   <g id=\"patch_6\">\n    <path d=\"M 71.564254 224.64 \nL 76.811902 224.64 \nL 76.811902 224.64 \nL 71.564254 224.64 \nz\n\" clip-path=\"url(#pc71a3b658f)\" style=\"fill: #1f77b4; fill-opacity: 0.75; stroke: #000000; stroke-width: 0.524765; stroke-linejoin: miter\"/>\n   </g>\n   <g id=\"patch_7\">\n    <path d=\"M 76.811902 224.64 \nL 82.059551 224.64 \nL 82.059551 224.64 \nL 76.811902 224.64 \nz\n\" clip-path=\"url(#pc71a3b658f)\" style=\"fill: #1f77b4; fill-opacity: 0.75; stroke: #000000; stroke-width: 0.524765; stroke-linejoin: miter\"/>\n   </g>\n   <g id=\"patch_8\">\n    <path d=\"M 82.059551 224.64 \nL 87.3072 224.64 \nL 87.3072 224.64 \nL 82.059551 224.64 \nz\n\" clip-path=\"url(#pc71a3b658f)\" style=\"fill: #1f77b4; fill-opacity: 0.75; stroke: #000000; stroke-width: 0.524765; stroke-linejoin: miter\"/>\n   </g>\n   <g id=\"patch_9\">\n    <path d=\"M 87.3072 224.64 \nL 92.554849 224.64 \nL 92.554849 224.64 \nL 87.3072 224.64 \nz\n\" clip-path=\"url(#pc71a3b658f)\" style=\"fill: #1f77b4; fill-opacity: 0.75; stroke: #000000; stroke-width: 0.524765; stroke-linejoin: miter\"/>\n   </g>\n   <g id=\"patch_10\">\n    <path d=\"M 92.554849 224.64 \nL 97.802498 224.64 \nL 97.802498 224.64 \nL 92.554849 224.64 \nz\n\" clip-path=\"url(#pc71a3b658f)\" style=\"fill: #1f77b4; fill-opacity: 0.75; stroke: #000000; stroke-width: 0.524765; stroke-linejoin: miter\"/>\n   </g>\n   <g id=\"patch_11\">\n    <path d=\"M 97.802498 224.64 \nL 103.050147 224.64 \nL 103.050147 224.64 \nL 97.802498 224.64 \nz\n\" clip-path=\"url(#pc71a3b658f)\" style=\"fill: #1f77b4; fill-opacity: 0.75; stroke: #000000; stroke-width: 0.524765; stroke-linejoin: miter\"/>\n   </g>\n   <g id=\"patch_12\">\n    <path d=\"M 103.050147 224.64 \nL 108.297796 224.64 \nL 108.297796 222.232027 \nL 103.050147 222.232027 \nz\n\" clip-path=\"url(#pc71a3b658f)\" style=\"fill: #1f77b4; fill-opacity: 0.75; stroke: #000000; stroke-width: 0.524765; stroke-linejoin: miter\"/>\n   </g>\n   <g id=\"patch_13\">\n    <path d=\"M 108.297796 224.64 \nL 113.545445 224.64 \nL 113.545445 224.64 \nL 108.297796 224.64 \nz\n\" clip-path=\"url(#pc71a3b658f)\" style=\"fill: #1f77b4; fill-opacity: 0.75; stroke: #000000; stroke-width: 0.524765; stroke-linejoin: miter\"/>\n   </g>\n   <g id=\"patch_14\">\n    <path d=\"M 113.545445 224.64 \nL 118.793094 224.64 \nL 118.793094 224.64 \nL 113.545445 224.64 \nz\n\" clip-path=\"url(#pc71a3b658f)\" style=\"fill: #1f77b4; fill-opacity: 0.75; stroke: #000000; stroke-width: 0.524765; stroke-linejoin: miter\"/>\n   </g>\n   <g id=\"patch_15\">\n    <path d=\"M 118.793094 224.64 \nL 124.040743 224.64 \nL 124.040743 224.64 \nL 118.793094 224.64 \nz\n\" clip-path=\"url(#pc71a3b658f)\" style=\"fill: #1f77b4; fill-opacity: 0.75; stroke: #000000; stroke-width: 0.524765; stroke-linejoin: miter\"/>\n   </g>\n   <g id=\"patch_16\">\n    <path d=\"M 124.040743 224.64 \nL 129.288391 224.64 \nL 129.288391 224.64 \nL 124.040743 224.64 \nz\n\" clip-path=\"url(#pc71a3b658f)\" style=\"fill: #1f77b4; fill-opacity: 0.75; stroke: #000000; stroke-width: 0.524765; stroke-linejoin: miter\"/>\n   </g>\n   <g id=\"patch_17\">\n    <path d=\"M 129.288391 224.64 \nL 134.53604 224.64 \nL 134.53604 224.64 \nL 129.288391 224.64 \nz\n\" clip-path=\"url(#pc71a3b658f)\" style=\"fill: #1f77b4; fill-opacity: 0.75; stroke: #000000; stroke-width: 0.524765; stroke-linejoin: miter\"/>\n   </g>\n   <g id=\"patch_18\">\n    <path d=\"M 134.53604 224.64 \nL 139.783689 224.64 \nL 139.783689 224.64 \nL 134.53604 224.64 \nz\n\" clip-path=\"url(#pc71a3b658f)\" style=\"fill: #1f77b4; fill-opacity: 0.75; stroke: #000000; stroke-width: 0.524765; stroke-linejoin: miter\"/>\n   </g>\n   <g id=\"patch_19\">\n    <path d=\"M 139.783689 224.64 \nL 145.031338 224.64 \nL 145.031338 224.64 \nL 139.783689 224.64 \nz\n\" clip-path=\"url(#pc71a3b658f)\" style=\"fill: #1f77b4; fill-opacity: 0.75; stroke: #000000; stroke-width: 0.524765; stroke-linejoin: miter\"/>\n   </g>\n   <g id=\"patch_20\">\n    <path d=\"M 145.031338 224.64 \nL 150.278987 224.64 \nL 150.278987 224.64 \nL 145.031338 224.64 \nz\n\" clip-path=\"url(#pc71a3b658f)\" style=\"fill: #1f77b4; fill-opacity: 0.75; stroke: #000000; stroke-width: 0.524765; stroke-linejoin: miter\"/>\n   </g>\n   <g id=\"patch_21\">\n    <path d=\"M 150.278987 224.64 \nL 155.526636 224.64 \nL 155.526636 224.64 \nL 150.278987 224.64 \nz\n\" clip-path=\"url(#pc71a3b658f)\" style=\"fill: #1f77b4; fill-opacity: 0.75; stroke: #000000; stroke-width: 0.524765; stroke-linejoin: miter\"/>\n   </g>\n   <g id=\"patch_22\">\n    <path d=\"M 155.526636 224.64 \nL 160.774285 224.64 \nL 160.774285 224.64 \nL 155.526636 224.64 \nz\n\" clip-path=\"url(#pc71a3b658f)\" style=\"fill: #1f77b4; fill-opacity: 0.75; stroke: #000000; stroke-width: 0.524765; stroke-linejoin: miter\"/>\n   </g>\n   <g id=\"patch_23\">\n    <path d=\"M 160.774285 224.64 \nL 166.021934 224.64 \nL 166.021934 222.232027 \nL 160.774285 222.232027 \nz\n\" clip-path=\"url(#pc71a3b658f)\" style=\"fill: #1f77b4; fill-opacity: 0.75; stroke: #000000; stroke-width: 0.524765; stroke-linejoin: miter\"/>\n   </g>\n   <g id=\"patch_24\">\n    <path d=\"M 166.021934 224.64 \nL 171.269583 224.64 \nL 171.269583 219.824053 \nL 166.021934 219.824053 \nz\n\" clip-path=\"url(#pc71a3b658f)\" style=\"fill: #1f77b4; fill-opacity: 0.75; stroke: #000000; stroke-width: 0.524765; stroke-linejoin: miter\"/>\n   </g>\n   <g id=\"patch_25\">\n    <path d=\"M 171.269583 224.64 \nL 176.517232 224.64 \nL 176.517232 222.232027 \nL 171.269583 222.232027 \nz\n\" clip-path=\"url(#pc71a3b658f)\" style=\"fill: #1f77b4; fill-opacity: 0.75; stroke: #000000; stroke-width: 0.524765; stroke-linejoin: miter\"/>\n   </g>\n   <g id=\"patch_26\">\n    <path d=\"M 176.517232 224.64 \nL 181.76488 224.64 \nL 181.76488 219.824053 \nL 176.517232 219.824053 \nz\n\" clip-path=\"url(#pc71a3b658f)\" style=\"fill: #1f77b4; fill-opacity: 0.75; stroke: #000000; stroke-width: 0.524765; stroke-linejoin: miter\"/>\n   </g>\n   <g id=\"patch_27\">\n    <path d=\"M 181.76488 224.64 \nL 187.012529 224.64 \nL 187.012529 217.41608 \nL 181.76488 217.41608 \nz\n\" clip-path=\"url(#pc71a3b658f)\" style=\"fill: #1f77b4; fill-opacity: 0.75; stroke: #000000; stroke-width: 0.524765; stroke-linejoin: miter\"/>\n   </g>\n   <g id=\"patch_28\">\n    <path d=\"M 187.012529 224.64 \nL 192.260178 224.64 \nL 192.260178 210.192159 \nL 187.012529 210.192159 \nz\n\" clip-path=\"url(#pc71a3b658f)\" style=\"fill: #1f77b4; fill-opacity: 0.75; stroke: #000000; stroke-width: 0.524765; stroke-linejoin: miter\"/>\n   </g>\n   <g id=\"patch_29\">\n    <path d=\"M 192.260178 224.64 \nL 197.507827 224.64 \nL 197.507827 215.008106 \nL 192.260178 215.008106 \nz\n\" clip-path=\"url(#pc71a3b658f)\" style=\"fill: #1f77b4; fill-opacity: 0.75; stroke: #000000; stroke-width: 0.524765; stroke-linejoin: miter\"/>\n   </g>\n   <g id=\"patch_30\">\n    <path d=\"M 197.507827 224.64 \nL 202.755476 224.64 \nL 202.755476 219.824053 \nL 197.507827 219.824053 \nz\n\" clip-path=\"url(#pc71a3b658f)\" style=\"fill: #1f77b4; fill-opacity: 0.75; stroke: #000000; stroke-width: 0.524765; stroke-linejoin: miter\"/>\n   </g>\n   <g id=\"patch_31\">\n    <path d=\"M 202.755476 224.64 \nL 208.003125 224.64 \nL 208.003125 207.784186 \nL 202.755476 207.784186 \nz\n\" clip-path=\"url(#pc71a3b658f)\" style=\"fill: #1f77b4; fill-opacity: 0.75; stroke: #000000; stroke-width: 0.524765; stroke-linejoin: miter\"/>\n   </g>\n   <g id=\"patch_32\">\n    <path d=\"M 208.003125 224.64 \nL 213.250774 224.64 \nL 213.250774 207.784186 \nL 208.003125 207.784186 \nz\n\" clip-path=\"url(#pc71a3b658f)\" style=\"fill: #1f77b4; fill-opacity: 0.75; stroke: #000000; stroke-width: 0.524765; stroke-linejoin: miter\"/>\n   </g>\n   <g id=\"patch_33\">\n    <path d=\"M 213.250774 224.64 \nL 218.498423 224.64 \nL 218.498423 210.192159 \nL 213.250774 210.192159 \nz\n\" clip-path=\"url(#pc71a3b658f)\" style=\"fill: #1f77b4; fill-opacity: 0.75; stroke: #000000; stroke-width: 0.524765; stroke-linejoin: miter\"/>\n   </g>\n   <g id=\"patch_34\">\n    <path d=\"M 218.498423 224.64 \nL 223.746072 224.64 \nL 223.746072 200.560266 \nL 218.498423 200.560266 \nz\n\" clip-path=\"url(#pc71a3b658f)\" style=\"fill: #1f77b4; fill-opacity: 0.75; stroke: #000000; stroke-width: 0.524765; stroke-linejoin: miter\"/>\n   </g>\n   <g id=\"patch_35\">\n    <path d=\"M 223.746072 224.64 \nL 228.993721 224.64 \nL 228.993721 178.888505 \nL 223.746072 178.888505 \nz\n\" clip-path=\"url(#pc71a3b658f)\" style=\"fill: #1f77b4; fill-opacity: 0.75; stroke: #000000; stroke-width: 0.524765; stroke-linejoin: miter\"/>\n   </g>\n   <g id=\"patch_36\">\n    <path d=\"M 228.993721 224.64 \nL 234.24137 224.64 \nL 234.24137 181.296478 \nL 228.993721 181.296478 \nz\n\" clip-path=\"url(#pc71a3b658f)\" style=\"fill: #1f77b4; fill-opacity: 0.75; stroke: #000000; stroke-width: 0.524765; stroke-linejoin: miter\"/>\n   </g>\n   <g id=\"patch_37\">\n    <path d=\"M 234.24137 224.64 \nL 239.489018 224.64 \nL 239.489018 125.91309 \nL 234.24137 125.91309 \nz\n\" clip-path=\"url(#pc71a3b658f)\" style=\"fill: #1f77b4; fill-opacity: 0.75; stroke: #000000; stroke-width: 0.524765; stroke-linejoin: miter\"/>\n   </g>\n   <g id=\"patch_38\">\n    <path d=\"M 239.489018 224.64 \nL 244.736667 224.64 \nL 244.736667 68.121728 \nL 239.489018 68.121728 \nz\n\" clip-path=\"url(#pc71a3b658f)\" style=\"fill: #1f77b4; fill-opacity: 0.75; stroke: #000000; stroke-width: 0.524765; stroke-linejoin: miter\"/>\n   </g>\n   <g id=\"patch_39\">\n    <path d=\"M 244.736667 224.64 \nL 249.984316 224.64 \nL 249.984316 17.554286 \nL 244.736667 17.554286 \nz\n\" clip-path=\"url(#pc71a3b658f)\" style=\"fill: #1f77b4; fill-opacity: 0.75; stroke: #000000; stroke-width: 0.524765; stroke-linejoin: miter\"/>\n   </g>\n   <g id=\"patch_40\">\n    <path d=\"M 249.984316 224.64 \nL 255.231965 224.64 \nL 255.231965 63.305781 \nL 249.984316 63.305781 \nz\n\" clip-path=\"url(#pc71a3b658f)\" style=\"fill: #1f77b4; fill-opacity: 0.75; stroke: #000000; stroke-width: 0.524765; stroke-linejoin: miter\"/>\n   </g>\n   <g id=\"patch_41\">\n    <path d=\"M 255.231965 224.64 \nL 260.479614 224.64 \nL 260.479614 36.818073 \nL 255.231965 36.818073 \nz\n\" clip-path=\"url(#pc71a3b658f)\" style=\"fill: #1f77b4; fill-opacity: 0.75; stroke: #000000; stroke-width: 0.524765; stroke-linejoin: miter\"/>\n   </g>\n   <g id=\"patch_42\">\n    <path d=\"M 260.479614 224.64 \nL 265.727263 224.64 \nL 265.727263 77.753621 \nL 260.479614 77.753621 \nz\n\" clip-path=\"url(#pc71a3b658f)\" style=\"fill: #1f77b4; fill-opacity: 0.75; stroke: #000000; stroke-width: 0.524765; stroke-linejoin: miter\"/>\n   </g>\n   <g id=\"patch_43\">\n    <path d=\"M 265.727263 224.64 \nL 270.974912 224.64 \nL 270.974912 125.91309 \nL 265.727263 125.91309 \nz\n\" clip-path=\"url(#pc71a3b658f)\" style=\"fill: #1f77b4; fill-opacity: 0.75; stroke: #000000; stroke-width: 0.524765; stroke-linejoin: miter\"/>\n   </g>\n   <g id=\"patch_44\">\n    <path d=\"M 270.974912 224.64 \nL 276.222561 224.64 \nL 276.222561 164.440664 \nL 270.974912 164.440664 \nz\n\" clip-path=\"url(#pc71a3b658f)\" style=\"fill: #1f77b4; fill-opacity: 0.75; stroke: #000000; stroke-width: 0.524765; stroke-linejoin: miter\"/>\n   </g>\n   <g id=\"patch_45\">\n    <path d=\"M 276.222561 224.64 \nL 281.47021 224.64 \nL 281.47021 188.520399 \nL 276.222561 188.520399 \nz\n\" clip-path=\"url(#pc71a3b658f)\" style=\"fill: #1f77b4; fill-opacity: 0.75; stroke: #000000; stroke-width: 0.524765; stroke-linejoin: miter\"/>\n   </g>\n   <g id=\"patch_46\">\n    <path d=\"M 281.47021 224.64 \nL 286.717859 224.64 \nL 286.717859 195.744319 \nL 281.47021 195.744319 \nz\n\" clip-path=\"url(#pc71a3b658f)\" style=\"fill: #1f77b4; fill-opacity: 0.75; stroke: #000000; stroke-width: 0.524765; stroke-linejoin: miter\"/>\n   </g>\n   <g id=\"patch_47\">\n    <path d=\"M 286.717859 224.64 \nL 291.965507 224.64 \nL 291.965507 195.744319 \nL 286.717859 195.744319 \nz\n\" clip-path=\"url(#pc71a3b658f)\" style=\"fill: #1f77b4; fill-opacity: 0.75; stroke: #000000; stroke-width: 0.524765; stroke-linejoin: miter\"/>\n   </g>\n   <g id=\"patch_48\">\n    <path d=\"M 291.965507 224.64 \nL 297.213156 224.64 \nL 297.213156 212.600133 \nL 291.965507 212.600133 \nz\n\" clip-path=\"url(#pc71a3b658f)\" style=\"fill: #1f77b4; fill-opacity: 0.75; stroke: #000000; stroke-width: 0.524765; stroke-linejoin: miter\"/>\n   </g>\n   <g id=\"patch_49\">\n    <path d=\"M 297.213156 224.64 \nL 302.460805 224.64 \nL 302.460805 219.824053 \nL 297.213156 219.824053 \nz\n\" clip-path=\"url(#pc71a3b658f)\" style=\"fill: #1f77b4; fill-opacity: 0.75; stroke: #000000; stroke-width: 0.524765; stroke-linejoin: miter\"/>\n   </g>\n   <g id=\"patch_50\">\n    <path d=\"M 302.460805 224.64 \nL 307.708454 224.64 \nL 307.708454 219.824053 \nL 302.460805 219.824053 \nz\n\" clip-path=\"url(#pc71a3b658f)\" style=\"fill: #1f77b4; fill-opacity: 0.75; stroke: #000000; stroke-width: 0.524765; stroke-linejoin: miter\"/>\n   </g>\n   <g id=\"patch_51\">\n    <path d=\"M 307.708454 224.64 \nL 312.956103 224.64 \nL 312.956103 217.41608 \nL 307.708454 217.41608 \nz\n\" clip-path=\"url(#pc71a3b658f)\" style=\"fill: #1f77b4; fill-opacity: 0.75; stroke: #000000; stroke-width: 0.524765; stroke-linejoin: miter\"/>\n   </g>\n   <g id=\"patch_52\">\n    <path d=\"M 312.956103 224.64 \nL 318.203752 224.64 \nL 318.203752 222.232027 \nL 312.956103 222.232027 \nz\n\" clip-path=\"url(#pc71a3b658f)\" style=\"fill: #1f77b4; fill-opacity: 0.75; stroke: #000000; stroke-width: 0.524765; stroke-linejoin: miter\"/>\n   </g>\n   <g id=\"patch_53\">\n    <path d=\"M 318.203752 224.64 \nL 323.451401 224.64 \nL 323.451401 222.232027 \nL 318.203752 222.232027 \nz\n\" clip-path=\"url(#pc71a3b658f)\" style=\"fill: #1f77b4; fill-opacity: 0.75; stroke: #000000; stroke-width: 0.524765; stroke-linejoin: miter\"/>\n   </g>\n   <g id=\"patch_54\">\n    <path d=\"M 323.451401 224.64 \nL 328.69905 224.64 \nL 328.69905 222.232027 \nL 323.451401 222.232027 \nz\n\" clip-path=\"url(#pc71a3b658f)\" style=\"fill: #1f77b4; fill-opacity: 0.75; stroke: #000000; stroke-width: 0.524765; stroke-linejoin: miter\"/>\n   </g>\n   <g id=\"patch_55\">\n    <path d=\"M 328.69905 224.64 \nL 333.946699 224.64 \nL 333.946699 224.64 \nL 328.69905 224.64 \nz\n\" clip-path=\"url(#pc71a3b658f)\" style=\"fill: #1f77b4; fill-opacity: 0.75; stroke: #000000; stroke-width: 0.524765; stroke-linejoin: miter\"/>\n   </g>\n   <g id=\"patch_56\">\n    <path d=\"M 333.946699 224.64 \nL 339.194348 224.64 \nL 339.194348 224.64 \nL 333.946699 224.64 \nz\n\" clip-path=\"url(#pc71a3b658f)\" style=\"fill: #1f77b4; fill-opacity: 0.75; stroke: #000000; stroke-width: 0.524765; stroke-linejoin: miter\"/>\n   </g>\n   <g id=\"patch_57\">\n    <path d=\"M 339.194348 224.64 \nL 344.441996 224.64 \nL 344.441996 224.64 \nL 339.194348 224.64 \nz\n\" clip-path=\"url(#pc71a3b658f)\" style=\"fill: #1f77b4; fill-opacity: 0.75; stroke: #000000; stroke-width: 0.524765; stroke-linejoin: miter\"/>\n   </g>\n   <g id=\"patch_58\">\n    <path d=\"M 344.441996 224.64 \nL 349.689645 224.64 \nL 349.689645 219.824053 \nL 344.441996 219.824053 \nz\n\" clip-path=\"url(#pc71a3b658f)\" style=\"fill: #1f77b4; fill-opacity: 0.75; stroke: #000000; stroke-width: 0.524765; stroke-linejoin: miter\"/>\n   </g>\n   <g id=\"patch_59\">\n    <path d=\"M 349.689645 224.64 \nL 354.937294 224.64 \nL 354.937294 224.64 \nL 349.689645 224.64 \nz\n\" clip-path=\"url(#pc71a3b658f)\" style=\"fill: #1f77b4; fill-opacity: 0.75; stroke: #000000; stroke-width: 0.524765; stroke-linejoin: miter\"/>\n   </g>\n   <g id=\"patch_60\">\n    <path d=\"M 354.937294 224.64 \nL 360.184943 224.64 \nL 360.184943 217.41608 \nL 354.937294 217.41608 \nz\n\" clip-path=\"url(#pc71a3b658f)\" style=\"fill: #1f77b4; fill-opacity: 0.75; stroke: #000000; stroke-width: 0.524765; stroke-linejoin: miter\"/>\n   </g>\n   <g id=\"matplotlib.axis_1\">\n    <g id=\"xtick_1\">\n     <g id=\"line2d_1\">\n      <defs>\n       <path id=\"m6796073788\" d=\"M 0 0 \nL 0 3.5 \n\" style=\"stroke: #000000; stroke-width: 0.8\"/>\n      </defs>\n      <g>\n       <use xlink:href=\"#m6796073788\" x=\"67.811247\" y=\"224.64\" style=\"stroke: #000000; stroke-width: 0.8\"/>\n      </g>\n     </g>\n     <g id=\"text_1\">\n      <!-- −0.3 -->\n      <g transform=\"translate(55.669841 239.238438)scale(0.1 -0.1)\">\n       <defs>\n        <path id=\"DejaVuSans-2212\" d=\"M 678 2272 \nL 4684 2272 \nL 4684 1741 \nL 678 1741 \nL 678 2272 \nz\n\" transform=\"scale(0.015625)\"/>\n        <path id=\"DejaVuSans-30\" d=\"M 2034 4250 \nQ 1547 4250 1301 3770 \nQ 1056 3291 1056 2328 \nQ 1056 1369 1301 889 \nQ 1547 409 2034 409 \nQ 2525 409 2770 889 \nQ 3016 1369 3016 2328 \nQ 3016 3291 2770 3770 \nQ 2525 4250 2034 4250 \nz\nM 2034 4750 \nQ 2819 4750 3233 4129 \nQ 3647 3509 3647 2328 \nQ 3647 1150 3233 529 \nQ 2819 -91 2034 -91 \nQ 1250 -91 836 529 \nQ 422 1150 422 2328 \nQ 422 3509 836 4129 \nQ 1250 4750 2034 4750 \nz\n\" transform=\"scale(0.015625)\"/>\n        <path id=\"DejaVuSans-2e\" d=\"M 684 794 \nL 1344 794 \nL 1344 0 \nL 684 0 \nL 684 794 \nz\n\" transform=\"scale(0.015625)\"/>\n        <path id=\"DejaVuSans-33\" d=\"M 2597 2516 \nQ 3050 2419 3304 2112 \nQ 3559 1806 3559 1356 \nQ 3559 666 3084 287 \nQ 2609 -91 1734 -91 \nQ 1441 -91 1130 -33 \nQ 819 25 488 141 \nL 488 750 \nQ 750 597 1062 519 \nQ 1375 441 1716 441 \nQ 2309 441 2620 675 \nQ 2931 909 2931 1356 \nQ 2931 1769 2642 2001 \nQ 2353 2234 1838 2234 \nL 1294 2234 \nL 1294 2753 \nL 1863 2753 \nQ 2328 2753 2575 2939 \nQ 2822 3125 2822 3475 \nQ 2822 3834 2567 4026 \nQ 2313 4219 1838 4219 \nQ 1578 4219 1281 4162 \nQ 984 4106 628 3988 \nL 628 4550 \nQ 988 4650 1302 4700 \nQ 1616 4750 1894 4750 \nQ 2613 4750 3031 4423 \nQ 3450 4097 3450 3541 \nQ 3450 3153 3228 2886 \nQ 3006 2619 2597 2516 \nz\n\" transform=\"scale(0.015625)\"/>\n       </defs>\n       <use xlink:href=\"#DejaVuSans-2212\"/>\n       <use xlink:href=\"#DejaVuSans-30\" x=\"83.789062\"/>\n       <use xlink:href=\"#DejaVuSans-2e\" x=\"147.412109\"/>\n       <use xlink:href=\"#DejaVuSans-33\" x=\"179.199219\"/>\n      </g>\n     </g>\n    </g>\n    <g id=\"xtick_2\">\n     <g id=\"line2d_2\">\n      <g>\n       <use xlink:href=\"#m6796073788\" x=\"125.558297\" y=\"224.64\" style=\"stroke: #000000; stroke-width: 0.8\"/>\n      </g>\n     </g>\n     <g id=\"text_2\">\n      <!-- −0.2 -->\n      <g transform=\"translate(113.416891 239.238438)scale(0.1 -0.1)\">\n       <defs>\n        <path id=\"DejaVuSans-32\" d=\"M 1228 531 \nL 3431 531 \nL 3431 0 \nL 469 0 \nL 469 531 \nQ 828 903 1448 1529 \nQ 2069 2156 2228 2338 \nQ 2531 2678 2651 2914 \nQ 2772 3150 2772 3378 \nQ 2772 3750 2511 3984 \nQ 2250 4219 1831 4219 \nQ 1534 4219 1204 4116 \nQ 875 4013 500 3803 \nL 500 4441 \nQ 881 4594 1212 4672 \nQ 1544 4750 1819 4750 \nQ 2544 4750 2975 4387 \nQ 3406 4025 3406 3419 \nQ 3406 3131 3298 2873 \nQ 3191 2616 2906 2266 \nQ 2828 2175 2409 1742 \nQ 1991 1309 1228 531 \nz\n\" transform=\"scale(0.015625)\"/>\n       </defs>\n       <use xlink:href=\"#DejaVuSans-2212\"/>\n       <use xlink:href=\"#DejaVuSans-30\" x=\"83.789062\"/>\n       <use xlink:href=\"#DejaVuSans-2e\" x=\"147.412109\"/>\n       <use xlink:href=\"#DejaVuSans-32\" x=\"179.199219\"/>\n      </g>\n     </g>\n    </g>\n    <g id=\"xtick_3\">\n     <g id=\"line2d_3\">\n      <g>\n       <use xlink:href=\"#m6796073788\" x=\"183.305347\" y=\"224.64\" style=\"stroke: #000000; stroke-width: 0.8\"/>\n      </g>\n     </g>\n     <g id=\"text_3\">\n      <!-- −0.1 -->\n      <g transform=\"translate(171.163941 239.238438)scale(0.1 -0.1)\">\n       <defs>\n        <path id=\"DejaVuSans-31\" d=\"M 794 531 \nL 1825 531 \nL 1825 4091 \nL 703 3866 \nL 703 4441 \nL 1819 4666 \nL 2450 4666 \nL 2450 531 \nL 3481 531 \nL 3481 0 \nL 794 0 \nL 794 531 \nz\n\" transform=\"scale(0.015625)\"/>\n       </defs>\n       <use xlink:href=\"#DejaVuSans-2212\"/>\n       <use xlink:href=\"#DejaVuSans-30\" x=\"83.789062\"/>\n       <use xlink:href=\"#DejaVuSans-2e\" x=\"147.412109\"/>\n       <use xlink:href=\"#DejaVuSans-31\" x=\"179.199219\"/>\n      </g>\n     </g>\n    </g>\n    <g id=\"xtick_4\">\n     <g id=\"line2d_4\">\n      <g>\n       <use xlink:href=\"#m6796073788\" x=\"241.052398\" y=\"224.64\" style=\"stroke: #000000; stroke-width: 0.8\"/>\n      </g>\n     </g>\n     <g id=\"text_4\">\n      <!-- 0.0 -->\n      <g transform=\"translate(233.100835 239.238438)scale(0.1 -0.1)\">\n       <use xlink:href=\"#DejaVuSans-30\"/>\n       <use xlink:href=\"#DejaVuSans-2e\" x=\"63.623047\"/>\n       <use xlink:href=\"#DejaVuSans-30\" x=\"95.410156\"/>\n      </g>\n     </g>\n    </g>\n    <g id=\"xtick_5\">\n     <g id=\"line2d_5\">\n      <g>\n       <use xlink:href=\"#m6796073788\" x=\"298.799448\" y=\"224.64\" style=\"stroke: #000000; stroke-width: 0.8\"/>\n      </g>\n     </g>\n     <g id=\"text_5\">\n      <!-- 0.1 -->\n      <g transform=\"translate(290.847885 239.238438)scale(0.1 -0.1)\">\n       <use xlink:href=\"#DejaVuSans-30\"/>\n       <use xlink:href=\"#DejaVuSans-2e\" x=\"63.623047\"/>\n       <use xlink:href=\"#DejaVuSans-31\" x=\"95.410156\"/>\n      </g>\n     </g>\n    </g>\n    <g id=\"xtick_6\">\n     <g id=\"line2d_6\">\n      <g>\n       <use xlink:href=\"#m6796073788\" x=\"356.546498\" y=\"224.64\" style=\"stroke: #000000; stroke-width: 0.8\"/>\n      </g>\n     </g>\n     <g id=\"text_6\">\n      <!-- 0.2 -->\n      <g transform=\"translate(348.594936 239.238438)scale(0.1 -0.1)\">\n       <use xlink:href=\"#DejaVuSans-30\"/>\n       <use xlink:href=\"#DejaVuSans-2e\" x=\"63.623047\"/>\n       <use xlink:href=\"#DejaVuSans-32\" x=\"95.410156\"/>\n      </g>\n     </g>\n    </g>\n    <g id=\"text_7\">\n     <!-- growth_rate -->\n     <g transform=\"translate(177.952344 252.916562)scale(0.1 -0.1)\">\n      <defs>\n       <path id=\"DejaVuSans-67\" d=\"M 2906 1791 \nQ 2906 2416 2648 2759 \nQ 2391 3103 1925 3103 \nQ 1463 3103 1205 2759 \nQ 947 2416 947 1791 \nQ 947 1169 1205 825 \nQ 1463 481 1925 481 \nQ 2391 481 2648 825 \nQ 2906 1169 2906 1791 \nz\nM 3481 434 \nQ 3481 -459 3084 -895 \nQ 2688 -1331 1869 -1331 \nQ 1566 -1331 1297 -1286 \nQ 1028 -1241 775 -1147 \nL 775 -588 \nQ 1028 -725 1275 -790 \nQ 1522 -856 1778 -856 \nQ 2344 -856 2625 -561 \nQ 2906 -266 2906 331 \nL 2906 616 \nQ 2728 306 2450 153 \nQ 2172 0 1784 0 \nQ 1141 0 747 490 \nQ 353 981 353 1791 \nQ 353 2603 747 3093 \nQ 1141 3584 1784 3584 \nQ 2172 3584 2450 3431 \nQ 2728 3278 2906 2969 \nL 2906 3500 \nL 3481 3500 \nL 3481 434 \nz\n\" transform=\"scale(0.015625)\"/>\n       <path id=\"DejaVuSans-72\" d=\"M 2631 2963 \nQ 2534 3019 2420 3045 \nQ 2306 3072 2169 3072 \nQ 1681 3072 1420 2755 \nQ 1159 2438 1159 1844 \nL 1159 0 \nL 581 0 \nL 581 3500 \nL 1159 3500 \nL 1159 2956 \nQ 1341 3275 1631 3429 \nQ 1922 3584 2338 3584 \nQ 2397 3584 2469 3576 \nQ 2541 3569 2628 3553 \nL 2631 2963 \nz\n\" transform=\"scale(0.015625)\"/>\n       <path id=\"DejaVuSans-6f\" d=\"M 1959 3097 \nQ 1497 3097 1228 2736 \nQ 959 2375 959 1747 \nQ 959 1119 1226 758 \nQ 1494 397 1959 397 \nQ 2419 397 2687 759 \nQ 2956 1122 2956 1747 \nQ 2956 2369 2687 2733 \nQ 2419 3097 1959 3097 \nz\nM 1959 3584 \nQ 2709 3584 3137 3096 \nQ 3566 2609 3566 1747 \nQ 3566 888 3137 398 \nQ 2709 -91 1959 -91 \nQ 1206 -91 779 398 \nQ 353 888 353 1747 \nQ 353 2609 779 3096 \nQ 1206 3584 1959 3584 \nz\n\" transform=\"scale(0.015625)\"/>\n       <path id=\"DejaVuSans-77\" d=\"M 269 3500 \nL 844 3500 \nL 1563 769 \nL 2278 3500 \nL 2956 3500 \nL 3675 769 \nL 4391 3500 \nL 4966 3500 \nL 4050 0 \nL 3372 0 \nL 2619 2869 \nL 1863 0 \nL 1184 0 \nL 269 3500 \nz\n\" transform=\"scale(0.015625)\"/>\n       <path id=\"DejaVuSans-74\" d=\"M 1172 4494 \nL 1172 3500 \nL 2356 3500 \nL 2356 3053 \nL 1172 3053 \nL 1172 1153 \nQ 1172 725 1289 603 \nQ 1406 481 1766 481 \nL 2356 481 \nL 2356 0 \nL 1766 0 \nQ 1100 0 847 248 \nQ 594 497 594 1153 \nL 594 3053 \nL 172 3053 \nL 172 3500 \nL 594 3500 \nL 594 4494 \nL 1172 4494 \nz\n\" transform=\"scale(0.015625)\"/>\n       <path id=\"DejaVuSans-68\" d=\"M 3513 2113 \nL 3513 0 \nL 2938 0 \nL 2938 2094 \nQ 2938 2591 2744 2837 \nQ 2550 3084 2163 3084 \nQ 1697 3084 1428 2787 \nQ 1159 2491 1159 1978 \nL 1159 0 \nL 581 0 \nL 581 4863 \nL 1159 4863 \nL 1159 2956 \nQ 1366 3272 1645 3428 \nQ 1925 3584 2291 3584 \nQ 2894 3584 3203 3211 \nQ 3513 2838 3513 2113 \nz\n\" transform=\"scale(0.015625)\"/>\n       <path id=\"DejaVuSans-5f\" d=\"M 3263 -1063 \nL 3263 -1509 \nL -63 -1509 \nL -63 -1063 \nL 3263 -1063 \nz\n\" transform=\"scale(0.015625)\"/>\n       <path id=\"DejaVuSans-61\" d=\"M 2194 1759 \nQ 1497 1759 1228 1600 \nQ 959 1441 959 1056 \nQ 959 750 1161 570 \nQ 1363 391 1709 391 \nQ 2188 391 2477 730 \nQ 2766 1069 2766 1631 \nL 2766 1759 \nL 2194 1759 \nz\nM 3341 1997 \nL 3341 0 \nL 2766 0 \nL 2766 531 \nQ 2569 213 2275 61 \nQ 1981 -91 1556 -91 \nQ 1019 -91 701 211 \nQ 384 513 384 1019 \nQ 384 1609 779 1909 \nQ 1175 2209 1959 2209 \nL 2766 2209 \nL 2766 2266 \nQ 2766 2663 2505 2880 \nQ 2244 3097 1772 3097 \nQ 1472 3097 1187 3025 \nQ 903 2953 641 2809 \nL 641 3341 \nQ 956 3463 1253 3523 \nQ 1550 3584 1831 3584 \nQ 2591 3584 2966 3190 \nQ 3341 2797 3341 1997 \nz\n\" transform=\"scale(0.015625)\"/>\n       <path id=\"DejaVuSans-65\" d=\"M 3597 1894 \nL 3597 1613 \nL 953 1613 \nQ 991 1019 1311 708 \nQ 1631 397 2203 397 \nQ 2534 397 2845 478 \nQ 3156 559 3463 722 \nL 3463 178 \nQ 3153 47 2828 -22 \nQ 2503 -91 2169 -91 \nQ 1331 -91 842 396 \nQ 353 884 353 1716 \nQ 353 2575 817 3079 \nQ 1281 3584 2069 3584 \nQ 2775 3584 3186 3129 \nQ 3597 2675 3597 1894 \nz\nM 3022 2063 \nQ 3016 2534 2758 2815 \nQ 2500 3097 2075 3097 \nQ 1594 3097 1305 2825 \nQ 1016 2553 972 2059 \nL 3022 2063 \nz\n\" transform=\"scale(0.015625)\"/>\n      </defs>\n      <use xlink:href=\"#DejaVuSans-67\"/>\n      <use xlink:href=\"#DejaVuSans-72\" x=\"63.476562\"/>\n      <use xlink:href=\"#DejaVuSans-6f\" x=\"102.339844\"/>\n      <use xlink:href=\"#DejaVuSans-77\" x=\"163.521484\"/>\n      <use xlink:href=\"#DejaVuSans-74\" x=\"245.308594\"/>\n      <use xlink:href=\"#DejaVuSans-68\" x=\"284.517578\"/>\n      <use xlink:href=\"#DejaVuSans-5f\" x=\"347.896484\"/>\n      <use xlink:href=\"#DejaVuSans-72\" x=\"397.896484\"/>\n      <use xlink:href=\"#DejaVuSans-61\" x=\"439.009766\"/>\n      <use xlink:href=\"#DejaVuSans-74\" x=\"500.289062\"/>\n      <use xlink:href=\"#DejaVuSans-65\" x=\"539.498047\"/>\n     </g>\n    </g>\n   </g>\n   <g id=\"matplotlib.axis_2\">\n    <g id=\"ytick_1\">\n     <g id=\"line2d_7\">\n      <defs>\n       <path id=\"m41cf629c88\" d=\"M 0 0 \nL -3.5 0 \n\" style=\"stroke: #000000; stroke-width: 0.8\"/>\n      </defs>\n      <g>\n       <use xlink:href=\"#m41cf629c88\" x=\"40.603125\" y=\"224.64\" style=\"stroke: #000000; stroke-width: 0.8\"/>\n      </g>\n     </g>\n     <g id=\"text_8\">\n      <!-- 0 -->\n      <g transform=\"translate(27.240625 228.439219)scale(0.1 -0.1)\">\n       <use xlink:href=\"#DejaVuSans-30\"/>\n      </g>\n     </g>\n    </g>\n    <g id=\"ytick_2\">\n     <g id=\"line2d_8\">\n      <g>\n       <use xlink:href=\"#m41cf629c88\" x=\"40.603125\" y=\"176.480532\" style=\"stroke: #000000; stroke-width: 0.8\"/>\n      </g>\n     </g>\n     <g id=\"text_9\">\n      <!-- 20 -->\n      <g transform=\"translate(20.878125 180.27975)scale(0.1 -0.1)\">\n       <use xlink:href=\"#DejaVuSans-32\"/>\n       <use xlink:href=\"#DejaVuSans-30\" x=\"63.623047\"/>\n      </g>\n     </g>\n    </g>\n    <g id=\"ytick_3\">\n     <g id=\"line2d_9\">\n      <g>\n       <use xlink:href=\"#m41cf629c88\" x=\"40.603125\" y=\"128.321063\" style=\"stroke: #000000; stroke-width: 0.8\"/>\n      </g>\n     </g>\n     <g id=\"text_10\">\n      <!-- 40 -->\n      <g transform=\"translate(20.878125 132.120282)scale(0.1 -0.1)\">\n       <defs>\n        <path id=\"DejaVuSans-34\" d=\"M 2419 4116 \nL 825 1625 \nL 2419 1625 \nL 2419 4116 \nz\nM 2253 4666 \nL 3047 4666 \nL 3047 1625 \nL 3713 1625 \nL 3713 1100 \nL 3047 1100 \nL 3047 0 \nL 2419 0 \nL 2419 1100 \nL 313 1100 \nL 313 1709 \nL 2253 4666 \nz\n\" transform=\"scale(0.015625)\"/>\n       </defs>\n       <use xlink:href=\"#DejaVuSans-34\"/>\n       <use xlink:href=\"#DejaVuSans-30\" x=\"63.623047\"/>\n      </g>\n     </g>\n    </g>\n    <g id=\"ytick_4\">\n     <g id=\"line2d_10\">\n      <g>\n       <use xlink:href=\"#m41cf629c88\" x=\"40.603125\" y=\"80.161595\" style=\"stroke: #000000; stroke-width: 0.8\"/>\n      </g>\n     </g>\n     <g id=\"text_11\">\n      <!-- 60 -->\n      <g transform=\"translate(20.878125 83.960813)scale(0.1 -0.1)\">\n       <defs>\n        <path id=\"DejaVuSans-36\" d=\"M 2113 2584 \nQ 1688 2584 1439 2293 \nQ 1191 2003 1191 1497 \nQ 1191 994 1439 701 \nQ 1688 409 2113 409 \nQ 2538 409 2786 701 \nQ 3034 994 3034 1497 \nQ 3034 2003 2786 2293 \nQ 2538 2584 2113 2584 \nz\nM 3366 4563 \nL 3366 3988 \nQ 3128 4100 2886 4159 \nQ 2644 4219 2406 4219 \nQ 1781 4219 1451 3797 \nQ 1122 3375 1075 2522 \nQ 1259 2794 1537 2939 \nQ 1816 3084 2150 3084 \nQ 2853 3084 3261 2657 \nQ 3669 2231 3669 1497 \nQ 3669 778 3244 343 \nQ 2819 -91 2113 -91 \nQ 1303 -91 875 529 \nQ 447 1150 447 2328 \nQ 447 3434 972 4092 \nQ 1497 4750 2381 4750 \nQ 2619 4750 2861 4703 \nQ 3103 4656 3366 4563 \nz\n\" transform=\"scale(0.015625)\"/>\n       </defs>\n       <use xlink:href=\"#DejaVuSans-36\"/>\n       <use xlink:href=\"#DejaVuSans-30\" x=\"63.623047\"/>\n      </g>\n     </g>\n    </g>\n    <g id=\"ytick_5\">\n     <g id=\"line2d_11\">\n      <g>\n       <use xlink:href=\"#m41cf629c88\" x=\"40.603125\" y=\"32.002126\" style=\"stroke: #000000; stroke-width: 0.8\"/>\n      </g>\n     </g>\n     <g id=\"text_12\">\n      <!-- 80 -->\n      <g transform=\"translate(20.878125 35.801345)scale(0.1 -0.1)\">\n       <defs>\n        <path id=\"DejaVuSans-38\" d=\"M 2034 2216 \nQ 1584 2216 1326 1975 \nQ 1069 1734 1069 1313 \nQ 1069 891 1326 650 \nQ 1584 409 2034 409 \nQ 2484 409 2743 651 \nQ 3003 894 3003 1313 \nQ 3003 1734 2745 1975 \nQ 2488 2216 2034 2216 \nz\nM 1403 2484 \nQ 997 2584 770 2862 \nQ 544 3141 544 3541 \nQ 544 4100 942 4425 \nQ 1341 4750 2034 4750 \nQ 2731 4750 3128 4425 \nQ 3525 4100 3525 3541 \nQ 3525 3141 3298 2862 \nQ 3072 2584 2669 2484 \nQ 3125 2378 3379 2068 \nQ 3634 1759 3634 1313 \nQ 3634 634 3220 271 \nQ 2806 -91 2034 -91 \nQ 1263 -91 848 271 \nQ 434 634 434 1313 \nQ 434 1759 690 2068 \nQ 947 2378 1403 2484 \nz\nM 1172 3481 \nQ 1172 3119 1398 2916 \nQ 1625 2713 2034 2713 \nQ 2441 2713 2670 2916 \nQ 2900 3119 2900 3481 \nQ 2900 3844 2670 4047 \nQ 2441 4250 2034 4250 \nQ 1625 4250 1398 4047 \nQ 1172 3844 1172 3481 \nz\n\" transform=\"scale(0.015625)\"/>\n       </defs>\n       <use xlink:href=\"#DejaVuSans-38\"/>\n       <use xlink:href=\"#DejaVuSans-30\" x=\"63.623047\"/>\n      </g>\n     </g>\n    </g>\n    <g id=\"text_13\">\n     <!-- Count -->\n     <g transform=\"translate(14.798438 130.768438)rotate(-90)scale(0.1 -0.1)\">\n      <defs>\n       <path id=\"DejaVuSans-43\" d=\"M 4122 4306 \nL 4122 3641 \nQ 3803 3938 3442 4084 \nQ 3081 4231 2675 4231 \nQ 1875 4231 1450 3742 \nQ 1025 3253 1025 2328 \nQ 1025 1406 1450 917 \nQ 1875 428 2675 428 \nQ 3081 428 3442 575 \nQ 3803 722 4122 1019 \nL 4122 359 \nQ 3791 134 3420 21 \nQ 3050 -91 2638 -91 \nQ 1578 -91 968 557 \nQ 359 1206 359 2328 \nQ 359 3453 968 4101 \nQ 1578 4750 2638 4750 \nQ 3056 4750 3426 4639 \nQ 3797 4528 4122 4306 \nz\n\" transform=\"scale(0.015625)\"/>\n       <path id=\"DejaVuSans-75\" d=\"M 544 1381 \nL 544 3500 \nL 1119 3500 \nL 1119 1403 \nQ 1119 906 1312 657 \nQ 1506 409 1894 409 \nQ 2359 409 2629 706 \nQ 2900 1003 2900 1516 \nL 2900 3500 \nL 3475 3500 \nL 3475 0 \nL 2900 0 \nL 2900 538 \nQ 2691 219 2414 64 \nQ 2138 -91 1772 -91 \nQ 1169 -91 856 284 \nQ 544 659 544 1381 \nz\nM 1991 3584 \nL 1991 3584 \nz\n\" transform=\"scale(0.015625)\"/>\n       <path id=\"DejaVuSans-6e\" d=\"M 3513 2113 \nL 3513 0 \nL 2938 0 \nL 2938 2094 \nQ 2938 2591 2744 2837 \nQ 2550 3084 2163 3084 \nQ 1697 3084 1428 2787 \nQ 1159 2491 1159 1978 \nL 1159 0 \nL 581 0 \nL 581 3500 \nL 1159 3500 \nL 1159 2956 \nQ 1366 3272 1645 3428 \nQ 1925 3584 2291 3584 \nQ 2894 3584 3203 3211 \nQ 3513 2838 3513 2113 \nz\n\" transform=\"scale(0.015625)\"/>\n      </defs>\n      <use xlink:href=\"#DejaVuSans-43\"/>\n      <use xlink:href=\"#DejaVuSans-6f\" x=\"69.824219\"/>\n      <use xlink:href=\"#DejaVuSans-75\" x=\"131.005859\"/>\n      <use xlink:href=\"#DejaVuSans-6e\" x=\"194.384766\"/>\n      <use xlink:href=\"#DejaVuSans-74\" x=\"257.763672\"/>\n     </g>\n    </g>\n   </g>\n   <g id=\"patch_61\">\n    <path d=\"M 40.603125 224.64 \nL 40.603125 7.2 \n\" style=\"fill: none; stroke: #000000; stroke-width: 0.8; stroke-linejoin: miter; stroke-linecap: square\"/>\n   </g>\n   <g id=\"patch_62\">\n    <path d=\"M 375.403125 224.64 \nL 375.403125 7.2 \n\" style=\"fill: none; stroke: #000000; stroke-width: 0.8; stroke-linejoin: miter; stroke-linecap: square\"/>\n   </g>\n   <g id=\"patch_63\">\n    <path d=\"M 40.603125 224.64 \nL 375.403125 224.64 \n\" style=\"fill: none; stroke: #000000; stroke-width: 0.8; stroke-linejoin: miter; stroke-linecap: square\"/>\n   </g>\n   <g id=\"patch_64\">\n    <path d=\"M 40.603125 7.2 \nL 375.403125 7.2 \n\" style=\"fill: none; stroke: #000000; stroke-width: 0.8; stroke-linejoin: miter; stroke-linecap: square\"/>\n   </g>\n  </g>\n </g>\n <defs>\n  <clipPath id=\"pc71a3b658f\">\n   <rect x=\"40.603125\" y=\"7.2\" width=\"334.8\" height=\"217.44\"/>\n  </clipPath>\n </defs>\n</svg>\n",
      "text/plain": [
       "<Figure size 432x288 with 1 Axes>"
      ]
     },
     "metadata": {
      "needs_background": "light"
     },
     "output_type": "display_data"
    }
   ],
   "source": [
    "# posttenurefate\n",
    "data_all['posttenurefate'] = data_all['posttenurefate'].replace({'Death': 1, 'Exile': 2, 'Imprisonment': 3, \n",
    "                                     'Missing: Natural Death within Six Months of Losing Office': 4,\n",
    "                                     'Missing: No Information Found': 5, 'OK': 6, 'Suicide': 7}) \n",
    "data_all['posttenurefate']=data_all['posttenurefate'].astype(float, errors='raise')\n",
    "min, max = data_all['posttenurefate'].min(), data_all['posttenurefate'].max()\n",
    "data_all['posttenurefate']= (data_all['posttenurefate']-min)/(max-min)\n",
    "\n",
    "# prevtimesinoffice\n",
    "min, max = data_all['prevtimesinoffice'].min(), data_all['prevtimesinoffice'].max()\n",
    "data_all['prevtimesinoffice']= (data_all['prevtimesinoffice']-min)/(max-min)\n",
    "\n",
    "# yrborn\n",
    "min, max = data_all['yrborn'].min(), data_all['yrborn'].max()\n",
    "data_all['yrborn']= (data_all['yrborn']-min)/(max-min)\n",
    "\n",
    "# yrdied\n",
    "min, max = data_all['yrdied'].min(), data_all['yrdied'].max()\n",
    "data_all['yrdied']= (data_all['yrdied']-min)/(max-min)\n",
    "\n",
    "# numentry\n",
    "min, max = data_all['numentry'].min(), data_all['numentry'].max()\n",
    "data_all['numentry']= (data_all['numentry']-min)/(max-min)\n",
    "\n",
    "# numexit\n",
    "min, max = data_all['numexit'].min(), data_all['numexit'].max()\n",
    "data_all['numexit']= (data_all['numexit']-min)/(max-min)\n",
    "\n",
    "# yrbegin\n",
    "min, max = data_all['yrbegin'].min(), data_all['yrbegin'].max()\n",
    "data_all['yrbegin']= (data_all['yrbegin']-min)/(max-min)\n",
    "\n",
    "# yrend\n",
    "min, max = data_all['yrend'].min(), data_all['yrend'].max()\n",
    "data_all['yrend']= (data_all['yrend']-min)/(max-min)\n",
    "\n",
    "# age\n",
    "min, max = data_all['age'].min(), data_all['age'].max()\n",
    "data_all['age']= (data_all['age']-min)/(max-min)\n",
    "\n",
    "# tenure\n",
    "min, max = data_all['tenure'].min(), data_all['tenure'].max()\n",
    "data_all['tenure']= (data_all['tenure']-min)/(max-min)\n",
    "\n",
    "# end_gdppc\n",
    "min, max = data_all['end_gdppc'].min(), data_all['end_gdppc'].max()\n",
    "data_all['end_gdppc']= (data_all['end_gdppc']-min)/(max-min)\n",
    "\n",
    "# pop_x\n",
    "min, max = data_all['pop_x'].min(), data_all['pop_x'].max()\n",
    "data_all['pop_x']= (data_all['pop_x']-min)/(max-min)\n",
    "\n",
    "# begin_gdppc\n",
    "min, max = data_all['begin_gdppc'].min(), data_all['begin_gdppc'].max()\n",
    "data_all['begin_gdppc']= (data_all['begin_gdppc']-min)/(max-min)\n",
    "\n",
    "# pop_y\n",
    "min, max = data_all['pop_y'].min(), data_all['pop_y'].max()\n",
    "data_all['pop_y']= (data_all['pop_y']-min)/(max-min)\n",
    "\n",
    "data_all.dropna(subset = ['growth_rate'], inplace=True)\n",
    "data_all.shape\n",
    "\n",
    "# Look at the distribution of the data_all put into the model\n",
    "ax = sns.histplot(data_all['growth_rate'])\n",
    "\n",
    "mean = data_all['growth_rate'].mean()\n",
    "std = data_all['growth_rate'].std()\n",
    "print(mean)\n",
    "print(std)"
   ]
  },
  {
   "cell_type": "code",
   "execution_count": null,
   "id": "18a00bd5",
   "metadata": {},
   "outputs": [
    {
     "name": "stdout",
     "output_type": "stream",
     "text": [
      "0       0.003934\n",
      "1       0.059757\n",
      "3       0.004888\n",
      "4       0.010956\n",
      "5       0.004793\n",
      "          ...   \n",
      "3242    0.013632\n",
      "3243    0.010468\n",
      "3245    0.021145\n",
      "3246    0.033296\n",
      "3247    0.059328\n",
      "Name: growth_rate, Length: 613, dtype: float64\n",
      "(array([  1,   1,   0,   4,  24,  90, 403,  77,   8,   5], dtype=int64), array([-0.32076286, -0.26805651, -0.21535016, -0.16264381, -0.10993745,\n",
      "       -0.0572311 , -0.00452475,  0.0481816 ,  0.10088796,  0.15359431,\n",
      "        0.20630066]))\n"
     ]
    },
    {
     "data": {
      "text/plain": [
       "(array([ 0.30951134,  0.        ,  0.        ,  0.        ,  0.        ,\n",
       "         0.        ,  0.        ,  0.        ,  0.        ,  0.        ,\n",
       "         0.        ,  0.        ,  0.        ,  0.        ,  0.        ,\n",
       "         0.        ,  0.30951134,  0.        ,  0.        ,  0.        ,\n",
       "         0.        ,  0.        ,  0.        ,  0.        ,  0.        ,\n",
       "         0.        ,  0.        ,  0.        ,  0.        ,  0.        ,\n",
       "         0.        ,  0.        ,  0.        ,  0.        ,  0.30951134,\n",
       "         0.        ,  0.30951134,  0.30951134,  0.30951134,  0.        ,\n",
       "         0.61902268,  0.30951134,  0.30951134,  1.23804536,  0.92853402,\n",
       "         0.92853402,  0.30951134,  0.30951134,  1.23804536,  1.23804536,\n",
       "         1.85706804,  0.61902268,  0.92853402,  1.5475567 ,  1.85706804,\n",
       "         3.09511341,  3.09511341,  2.78560207,  3.71413609,  8.3568062 ,\n",
       "        10.52338558, 12.38045363, 13.92801033, 16.7136124 , 12.99947631,\n",
       "        12.38045363, 12.68996497, 11.14240827, 11.14240827, 10.83289692,\n",
       "         3.40462475,  4.33315877,  3.71413609,  2.16657938,  2.47609073,\n",
       "         2.16657938,  3.09511341,  0.61902268,  0.92853402,  0.92853402,\n",
       "         0.        ,  0.30951134,  0.30951134,  0.92853402,  0.        ,\n",
       "         0.30951134,  0.        ,  0.61902268,  0.        ,  0.        ,\n",
       "         0.        ,  0.        ,  0.        ,  0.        ,  0.        ,\n",
       "         0.61902268,  0.        ,  0.        ,  0.30951134,  0.61902268]),\n",
       " array([-0.32076286, -0.31549223, -0.31022159, -0.30495096, -0.29968032,\n",
       "        -0.29440969, -0.28913905, -0.28386842, -0.27859778, -0.27332714,\n",
       "        -0.26805651, -0.26278587, -0.25751524, -0.2522446 , -0.24697397,\n",
       "        -0.24170333, -0.2364327 , -0.23116206, -0.22589143, -0.22062079,\n",
       "        -0.21535016, -0.21007952, -0.20480889, -0.19953825, -0.19426762,\n",
       "        -0.18899698, -0.18372635, -0.17845571, -0.17318508, -0.16791444,\n",
       "        -0.16264381, -0.15737317, -0.15210253, -0.1468319 , -0.14156126,\n",
       "        -0.13629063, -0.13101999, -0.12574936, -0.12047872, -0.11520809,\n",
       "        -0.10993745, -0.10466682, -0.09939618, -0.09412555, -0.08885491,\n",
       "        -0.08358428, -0.07831364, -0.07304301, -0.06777237, -0.06250174,\n",
       "        -0.0572311 , -0.05196047, -0.04668983, -0.0414192 , -0.03614856,\n",
       "        -0.03087793, -0.02560729, -0.02033665, -0.01506602, -0.00979538,\n",
       "        -0.00452475,  0.00074589,  0.00601652,  0.01128716,  0.01655779,\n",
       "         0.02182843,  0.02709906,  0.0323697 ,  0.03764033,  0.04291097,\n",
       "         0.0481816 ,  0.05345224,  0.05872287,  0.06399351,  0.06926414,\n",
       "         0.07453478,  0.07980541,  0.08507605,  0.09034668,  0.09561732,\n",
       "         0.10088796,  0.10615859,  0.11142923,  0.11669986,  0.1219705 ,\n",
       "         0.12724113,  0.13251177,  0.1377824 ,  0.14305304,  0.14832367,\n",
       "         0.15359431,  0.15886494,  0.16413558,  0.16940621,  0.17467685,\n",
       "         0.17994748,  0.18521812,  0.19048875,  0.19575939,  0.20103002,\n",
       "         0.20630066]),\n",
       " [<matplotlib.patches.Polygon at 0x291a913c610>])"
      ]
     },
     "execution_count": 63,
     "metadata": {},
     "output_type": "execute_result"
    },
    {
     "data": {
      "image/svg+xml": "<?xml version=\"1.0\" encoding=\"utf-8\" standalone=\"no\"?>\n<!DOCTYPE svg PUBLIC \"-//W3C//DTD SVG 1.1//EN\"\n  \"http://www.w3.org/Graphics/SVG/1.1/DTD/svg11.dtd\">\n<svg xmlns:xlink=\"http://www.w3.org/1999/xlink\" width=\"368.925pt\" height=\"248.518125pt\" viewBox=\"0 0 368.925 248.518125\" xmlns=\"http://www.w3.org/2000/svg\" version=\"1.1\">\n <metadata>\n  <rdf:RDF xmlns:dc=\"http://purl.org/dc/elements/1.1/\" xmlns:cc=\"http://creativecommons.org/ns#\" xmlns:rdf=\"http://www.w3.org/1999/02/22-rdf-syntax-ns#\">\n   <cc:Work>\n    <dc:type rdf:resource=\"http://purl.org/dc/dcmitype/StillImage\"/>\n    <dc:date>2022-04-28T19:01:00.894798</dc:date>\n    <dc:format>image/svg+xml</dc:format>\n    <dc:creator>\n     <cc:Agent>\n      <dc:title>Matplotlib v3.5.1, https://matplotlib.org/</dc:title>\n     </cc:Agent>\n    </dc:creator>\n   </cc:Work>\n  </rdf:RDF>\n </metadata>\n <defs>\n  <style type=\"text/css\">*{stroke-linejoin: round; stroke-linecap: butt}</style>\n </defs>\n <g id=\"figure_1\">\n  <g id=\"patch_1\">\n   <path d=\"M -0 248.518125 \nL 368.925 248.518125 \nL 368.925 0 \nL -0 0 \nL -0 248.518125 \nz\n\" style=\"fill: none\"/>\n  </g>\n  <g id=\"axes_1\">\n   <g id=\"patch_2\">\n    <path d=\"M 26.925 224.64 \nL 361.725 224.64 \nL 361.725 7.2 \nL 26.925 7.2 \nz\n\" style=\"fill: #ffffff\"/>\n   </g>\n   <g id=\"patch_3\">\n    <path d=\"M 42.143182 224.64 \nL 42.143182 220.805079 \nL 45.186818 220.805079 \nL 45.186818 224.64 \nL 48.230455 224.64 \nL 48.230455 224.64 \nL 51.274091 224.64 \nL 51.274091 224.64 \nL 54.317727 224.64 \nL 54.317727 224.64 \nL 57.361364 224.64 \nL 57.361364 224.64 \nL 60.405 224.64 \nL 60.405 224.64 \nL 63.448636 224.64 \nL 63.448636 224.64 \nL 66.492273 224.64 \nL 66.492273 224.64 \nL 69.535909 224.64 \nL 69.535909 224.64 \nL 72.579545 224.64 \nL 72.579545 224.64 \nL 75.623182 224.64 \nL 75.623182 224.64 \nL 78.666818 224.64 \nL 78.666818 224.64 \nL 81.710455 224.64 \nL 81.710455 224.64 \nL 84.754091 224.64 \nL 84.754091 224.64 \nL 87.797727 224.64 \nL 87.797727 224.64 \nL 90.841364 224.64 \nL 90.841364 220.805079 \nL 93.885 220.805079 \nL 93.885 224.64 \nL 96.928636 224.64 \nL 96.928636 224.64 \nL 99.972273 224.64 \nL 99.972273 224.64 \nL 103.015909 224.64 \nL 103.015909 224.64 \nL 106.059545 224.64 \nL 106.059545 224.64 \nL 109.103182 224.64 \nL 109.103182 224.64 \nL 112.146818 224.64 \nL 112.146818 224.64 \nL 115.190455 224.64 \nL 115.190455 224.64 \nL 118.234091 224.64 \nL 118.234091 224.64 \nL 121.277727 224.64 \nL 121.277727 224.64 \nL 124.321364 224.64 \nL 124.321364 224.64 \nL 127.365 224.64 \nL 127.365 224.64 \nL 130.408636 224.64 \nL 130.408636 224.64 \nL 133.452273 224.64 \nL 133.452273 224.64 \nL 136.495909 224.64 \nL 136.495909 224.64 \nL 139.539545 224.64 \nL 139.539545 224.64 \nL 142.583182 224.64 \nL 142.583182 224.64 \nL 145.626818 224.64 \nL 145.626818 220.805079 \nL 148.670455 220.805079 \nL 148.670455 224.64 \nL 151.714091 224.64 \nL 151.714091 220.805079 \nL 154.757727 220.805079 \nL 154.757727 220.805079 \nL 157.801364 220.805079 \nL 157.801364 220.805079 \nL 160.845 220.805079 \nL 160.845 224.64 \nL 163.888636 224.64 \nL 163.888636 216.970159 \nL 166.932273 216.970159 \nL 166.932273 220.805079 \nL 169.975909 220.805079 \nL 169.975909 220.805079 \nL 173.019545 220.805079 \nL 173.019545 209.300317 \nL 176.063182 209.300317 \nL 176.063182 213.135238 \nL 179.106818 213.135238 \nL 179.106818 213.135238 \nL 182.150455 213.135238 \nL 182.150455 220.805079 \nL 185.194091 220.805079 \nL 185.194091 220.805079 \nL 188.237727 220.805079 \nL 188.237727 209.300317 \nL 191.281364 209.300317 \nL 191.281364 209.300317 \nL 194.325 209.300317 \nL 194.325 201.630476 \nL 197.368636 201.630476 \nL 197.368636 216.970159 \nL 200.412273 216.970159 \nL 200.412273 213.135238 \nL 203.455909 213.135238 \nL 203.455909 205.465397 \nL 206.499545 205.465397 \nL 206.499545 201.630476 \nL 209.543182 201.630476 \nL 209.543182 186.290794 \nL 212.586818 186.290794 \nL 212.586818 186.290794 \nL 215.630455 186.290794 \nL 215.630455 190.125714 \nL 218.674091 190.125714 \nL 218.674091 178.620952 \nL 221.717727 178.620952 \nL 221.717727 121.097143 \nL 224.761364 121.097143 \nL 224.761364 94.252698 \nL 227.805 94.252698 \nL 227.805 71.243175 \nL 230.848636 71.243175 \nL 230.848636 52.068571 \nL 233.892273 52.068571 \nL 233.892273 17.554286 \nL 236.935909 17.554286 \nL 236.935909 63.573333 \nL 239.979545 63.573333 \nL 239.979545 71.243175 \nL 243.023182 71.243175 \nL 243.023182 67.408254 \nL 246.066818 67.408254 \nL 246.066818 86.582857 \nL 249.110455 86.582857 \nL 249.110455 86.582857 \nL 252.154091 86.582857 \nL 252.154091 90.417778 \nL 255.197727 90.417778 \nL 255.197727 182.455873 \nL 258.241364 182.455873 \nL 258.241364 170.951111 \nL 261.285 170.951111 \nL 261.285 178.620952 \nL 264.328636 178.620952 \nL 264.328636 197.795556 \nL 267.372273 197.795556 \nL 267.372273 193.960635 \nL 270.415909 193.960635 \nL 270.415909 197.795556 \nL 273.459545 197.795556 \nL 273.459545 186.290794 \nL 276.503182 186.290794 \nL 276.503182 216.970159 \nL 279.546818 216.970159 \nL 279.546818 213.135238 \nL 282.590455 213.135238 \nL 282.590455 213.135238 \nL 285.634091 213.135238 \nL 285.634091 224.64 \nL 288.677727 224.64 \nL 288.677727 220.805079 \nL 291.721364 220.805079 \nL 291.721364 220.805079 \nL 294.765 220.805079 \nL 294.765 213.135238 \nL 297.808636 213.135238 \nL 297.808636 224.64 \nL 300.852273 224.64 \nL 300.852273 220.805079 \nL 303.895909 220.805079 \nL 303.895909 224.64 \nL 306.939545 224.64 \nL 306.939545 216.970159 \nL 309.983182 216.970159 \nL 309.983182 224.64 \nL 313.026818 224.64 \nL 313.026818 224.64 \nL 316.070455 224.64 \nL 316.070455 224.64 \nL 319.114091 224.64 \nL 319.114091 224.64 \nL 322.157727 224.64 \nL 322.157727 224.64 \nL 325.201364 224.64 \nL 325.201364 224.64 \nL 328.245 224.64 \nL 328.245 224.64 \nL 331.288636 224.64 \nL 331.288636 216.970159 \nL 334.332273 216.970159 \nL 334.332273 224.64 \nL 337.375909 224.64 \nL 337.375909 224.64 \nL 340.419545 224.64 \nL 340.419545 220.805079 \nL 343.463182 220.805079 \nL 343.463182 216.970159 \nL 346.506818 216.970159 \nL 346.506818 224.64 \nL 343.463182 224.64 \nL 343.463182 224.64 \nL 340.419545 224.64 \nL 340.419545 224.64 \nL 337.375909 224.64 \nL 337.375909 224.64 \nL 334.332273 224.64 \nL 334.332273 224.64 \nL 331.288636 224.64 \nL 331.288636 224.64 \nL 328.245 224.64 \nL 328.245 224.64 \nL 325.201364 224.64 \nL 325.201364 224.64 \nL 322.157727 224.64 \nL 322.157727 224.64 \nL 319.114091 224.64 \nL 319.114091 224.64 \nL 316.070455 224.64 \nL 316.070455 224.64 \nL 313.026818 224.64 \nL 313.026818 224.64 \nL 309.983182 224.64 \nL 309.983182 224.64 \nL 306.939545 224.64 \nL 306.939545 224.64 \nL 303.895909 224.64 \nL 303.895909 224.64 \nL 300.852273 224.64 \nL 300.852273 224.64 \nL 297.808636 224.64 \nL 297.808636 224.64 \nL 294.765 224.64 \nL 294.765 224.64 \nL 291.721364 224.64 \nL 291.721364 224.64 \nL 288.677727 224.64 \nL 288.677727 224.64 \nL 285.634091 224.64 \nL 285.634091 224.64 \nL 282.590455 224.64 \nL 282.590455 224.64 \nL 279.546818 224.64 \nL 279.546818 224.64 \nL 276.503182 224.64 \nL 276.503182 224.64 \nL 273.459545 224.64 \nL 273.459545 224.64 \nL 270.415909 224.64 \nL 270.415909 224.64 \nL 267.372273 224.64 \nL 267.372273 224.64 \nL 264.328636 224.64 \nL 264.328636 224.64 \nL 261.285 224.64 \nL 261.285 224.64 \nL 258.241364 224.64 \nL 258.241364 224.64 \nL 255.197727 224.64 \nL 255.197727 224.64 \nL 252.154091 224.64 \nL 252.154091 224.64 \nL 249.110455 224.64 \nL 249.110455 224.64 \nL 246.066818 224.64 \nL 246.066818 224.64 \nL 243.023182 224.64 \nL 243.023182 224.64 \nL 239.979545 224.64 \nL 239.979545 224.64 \nL 236.935909 224.64 \nL 236.935909 224.64 \nL 233.892273 224.64 \nL 233.892273 224.64 \nL 230.848636 224.64 \nL 230.848636 224.64 \nL 227.805 224.64 \nL 227.805 224.64 \nL 224.761364 224.64 \nL 224.761364 224.64 \nL 221.717727 224.64 \nL 221.717727 224.64 \nL 218.674091 224.64 \nL 218.674091 224.64 \nL 215.630455 224.64 \nL 215.630455 224.64 \nL 212.586818 224.64 \nL 212.586818 224.64 \nL 209.543182 224.64 \nL 209.543182 224.64 \nL 206.499545 224.64 \nL 206.499545 224.64 \nL 203.455909 224.64 \nL 203.455909 224.64 \nL 200.412273 224.64 \nL 200.412273 224.64 \nL 197.368636 224.64 \nL 197.368636 224.64 \nL 194.325 224.64 \nL 194.325 224.64 \nL 191.281364 224.64 \nL 191.281364 224.64 \nL 188.237727 224.64 \nL 188.237727 224.64 \nL 185.194091 224.64 \nL 185.194091 224.64 \nL 182.150455 224.64 \nL 182.150455 224.64 \nL 179.106818 224.64 \nL 179.106818 224.64 \nL 176.063182 224.64 \nL 176.063182 224.64 \nL 173.019545 224.64 \nL 173.019545 224.64 \nL 169.975909 224.64 \nL 169.975909 224.64 \nL 166.932273 224.64 \nL 166.932273 224.64 \nL 163.888636 224.64 \nL 163.888636 224.64 \nL 160.845 224.64 \nL 160.845 224.64 \nL 157.801364 224.64 \nL 157.801364 224.64 \nL 154.757727 224.64 \nL 154.757727 224.64 \nL 151.714091 224.64 \nL 151.714091 224.64 \nL 148.670455 224.64 \nL 148.670455 224.64 \nL 145.626818 224.64 \nL 145.626818 224.64 \nL 142.583182 224.64 \nL 142.583182 224.64 \nL 139.539545 224.64 \nL 139.539545 224.64 \nL 136.495909 224.64 \nL 136.495909 224.64 \nL 133.452273 224.64 \nL 133.452273 224.64 \nL 130.408636 224.64 \nL 130.408636 224.64 \nL 127.365 224.64 \nL 127.365 224.64 \nL 124.321364 224.64 \nL 124.321364 224.64 \nL 121.277727 224.64 \nL 121.277727 224.64 \nL 118.234091 224.64 \nL 118.234091 224.64 \nL 115.190455 224.64 \nL 115.190455 224.64 \nL 112.146818 224.64 \nL 112.146818 224.64 \nL 109.103182 224.64 \nL 109.103182 224.64 \nL 106.059545 224.64 \nL 106.059545 224.64 \nL 103.015909 224.64 \nL 103.015909 224.64 \nL 99.972273 224.64 \nL 99.972273 224.64 \nL 96.928636 224.64 \nL 96.928636 224.64 \nL 93.885 224.64 \nL 93.885 224.64 \nL 90.841364 224.64 \nL 90.841364 224.64 \nL 87.797727 224.64 \nL 87.797727 224.64 \nL 84.754091 224.64 \nL 84.754091 224.64 \nL 81.710455 224.64 \nL 81.710455 224.64 \nL 78.666818 224.64 \nL 78.666818 224.64 \nL 75.623182 224.64 \nL 75.623182 224.64 \nL 72.579545 224.64 \nL 72.579545 224.64 \nL 69.535909 224.64 \nL 69.535909 224.64 \nL 66.492273 224.64 \nL 66.492273 224.64 \nL 63.448636 224.64 \nL 63.448636 224.64 \nL 60.405 224.64 \nL 60.405 224.64 \nL 57.361364 224.64 \nL 57.361364 224.64 \nL 54.317727 224.64 \nL 54.317727 224.64 \nL 51.274091 224.64 \nL 51.274091 224.64 \nL 48.230455 224.64 \nL 48.230455 224.64 \nL 45.186818 224.64 \nL 45.186818 224.64 \nz\n\" clip-path=\"url(#pc7c5ab20a9)\" style=\"fill: #1f77b4; opacity: 0.5\"/>\n   </g>\n   <g id=\"matplotlib.axis_1\">\n    <g id=\"xtick_1\">\n     <g id=\"line2d_1\">\n      <defs>\n       <path id=\"me335dc853b\" d=\"M 0 0 \nL 0 3.5 \n\" style=\"stroke: #000000; stroke-width: 0.8\"/>\n      </defs>\n      <g>\n       <use xlink:href=\"#me335dc853b\" x=\"54.133122\" y=\"224.64\" style=\"stroke: #000000; stroke-width: 0.8\"/>\n      </g>\n     </g>\n     <g id=\"text_1\">\n      <!-- −0.3 -->\n      <g transform=\"translate(41.991716 239.238437)scale(0.1 -0.1)\">\n       <defs>\n        <path id=\"DejaVuSans-2212\" d=\"M 678 2272 \nL 4684 2272 \nL 4684 1741 \nL 678 1741 \nL 678 2272 \nz\n\" transform=\"scale(0.015625)\"/>\n        <path id=\"DejaVuSans-30\" d=\"M 2034 4250 \nQ 1547 4250 1301 3770 \nQ 1056 3291 1056 2328 \nQ 1056 1369 1301 889 \nQ 1547 409 2034 409 \nQ 2525 409 2770 889 \nQ 3016 1369 3016 2328 \nQ 3016 3291 2770 3770 \nQ 2525 4250 2034 4250 \nz\nM 2034 4750 \nQ 2819 4750 3233 4129 \nQ 3647 3509 3647 2328 \nQ 3647 1150 3233 529 \nQ 2819 -91 2034 -91 \nQ 1250 -91 836 529 \nQ 422 1150 422 2328 \nQ 422 3509 836 4129 \nQ 1250 4750 2034 4750 \nz\n\" transform=\"scale(0.015625)\"/>\n        <path id=\"DejaVuSans-2e\" d=\"M 684 794 \nL 1344 794 \nL 1344 0 \nL 684 0 \nL 684 794 \nz\n\" transform=\"scale(0.015625)\"/>\n        <path id=\"DejaVuSans-33\" d=\"M 2597 2516 \nQ 3050 2419 3304 2112 \nQ 3559 1806 3559 1356 \nQ 3559 666 3084 287 \nQ 2609 -91 1734 -91 \nQ 1441 -91 1130 -33 \nQ 819 25 488 141 \nL 488 750 \nQ 750 597 1062 519 \nQ 1375 441 1716 441 \nQ 2309 441 2620 675 \nQ 2931 909 2931 1356 \nQ 2931 1769 2642 2001 \nQ 2353 2234 1838 2234 \nL 1294 2234 \nL 1294 2753 \nL 1863 2753 \nQ 2328 2753 2575 2939 \nQ 2822 3125 2822 3475 \nQ 2822 3834 2567 4026 \nQ 2313 4219 1838 4219 \nQ 1578 4219 1281 4162 \nQ 984 4106 628 3988 \nL 628 4550 \nQ 988 4650 1302 4700 \nQ 1616 4750 1894 4750 \nQ 2613 4750 3031 4423 \nQ 3450 4097 3450 3541 \nQ 3450 3153 3228 2886 \nQ 3006 2619 2597 2516 \nz\n\" transform=\"scale(0.015625)\"/>\n       </defs>\n       <use xlink:href=\"#DejaVuSans-2212\"/>\n       <use xlink:href=\"#DejaVuSans-30\" x=\"83.789062\"/>\n       <use xlink:href=\"#DejaVuSans-2e\" x=\"147.412109\"/>\n       <use xlink:href=\"#DejaVuSans-33\" x=\"179.199219\"/>\n      </g>\n     </g>\n    </g>\n    <g id=\"xtick_2\">\n     <g id=\"line2d_2\">\n      <g>\n       <use xlink:href=\"#me335dc853b\" x=\"111.880172\" y=\"224.64\" style=\"stroke: #000000; stroke-width: 0.8\"/>\n      </g>\n     </g>\n     <g id=\"text_2\">\n      <!-- −0.2 -->\n      <g transform=\"translate(99.738766 239.238437)scale(0.1 -0.1)\">\n       <defs>\n        <path id=\"DejaVuSans-32\" d=\"M 1228 531 \nL 3431 531 \nL 3431 0 \nL 469 0 \nL 469 531 \nQ 828 903 1448 1529 \nQ 2069 2156 2228 2338 \nQ 2531 2678 2651 2914 \nQ 2772 3150 2772 3378 \nQ 2772 3750 2511 3984 \nQ 2250 4219 1831 4219 \nQ 1534 4219 1204 4116 \nQ 875 4013 500 3803 \nL 500 4441 \nQ 881 4594 1212 4672 \nQ 1544 4750 1819 4750 \nQ 2544 4750 2975 4387 \nQ 3406 4025 3406 3419 \nQ 3406 3131 3298 2873 \nQ 3191 2616 2906 2266 \nQ 2828 2175 2409 1742 \nQ 1991 1309 1228 531 \nz\n\" transform=\"scale(0.015625)\"/>\n       </defs>\n       <use xlink:href=\"#DejaVuSans-2212\"/>\n       <use xlink:href=\"#DejaVuSans-30\" x=\"83.789062\"/>\n       <use xlink:href=\"#DejaVuSans-2e\" x=\"147.412109\"/>\n       <use xlink:href=\"#DejaVuSans-32\" x=\"179.199219\"/>\n      </g>\n     </g>\n    </g>\n    <g id=\"xtick_3\">\n     <g id=\"line2d_3\">\n      <g>\n       <use xlink:href=\"#me335dc853b\" x=\"169.627222\" y=\"224.64\" style=\"stroke: #000000; stroke-width: 0.8\"/>\n      </g>\n     </g>\n     <g id=\"text_3\">\n      <!-- −0.1 -->\n      <g transform=\"translate(157.485816 239.238437)scale(0.1 -0.1)\">\n       <defs>\n        <path id=\"DejaVuSans-31\" d=\"M 794 531 \nL 1825 531 \nL 1825 4091 \nL 703 3866 \nL 703 4441 \nL 1819 4666 \nL 2450 4666 \nL 2450 531 \nL 3481 531 \nL 3481 0 \nL 794 0 \nL 794 531 \nz\n\" transform=\"scale(0.015625)\"/>\n       </defs>\n       <use xlink:href=\"#DejaVuSans-2212\"/>\n       <use xlink:href=\"#DejaVuSans-30\" x=\"83.789062\"/>\n       <use xlink:href=\"#DejaVuSans-2e\" x=\"147.412109\"/>\n       <use xlink:href=\"#DejaVuSans-31\" x=\"179.199219\"/>\n      </g>\n     </g>\n    </g>\n    <g id=\"xtick_4\">\n     <g id=\"line2d_4\">\n      <g>\n       <use xlink:href=\"#me335dc853b\" x=\"227.374273\" y=\"224.64\" style=\"stroke: #000000; stroke-width: 0.8\"/>\n      </g>\n     </g>\n     <g id=\"text_4\">\n      <!-- 0.0 -->\n      <g transform=\"translate(219.42271 239.238437)scale(0.1 -0.1)\">\n       <use xlink:href=\"#DejaVuSans-30\"/>\n       <use xlink:href=\"#DejaVuSans-2e\" x=\"63.623047\"/>\n       <use xlink:href=\"#DejaVuSans-30\" x=\"95.410156\"/>\n      </g>\n     </g>\n    </g>\n    <g id=\"xtick_5\">\n     <g id=\"line2d_5\">\n      <g>\n       <use xlink:href=\"#me335dc853b\" x=\"285.121323\" y=\"224.64\" style=\"stroke: #000000; stroke-width: 0.8\"/>\n      </g>\n     </g>\n     <g id=\"text_5\">\n      <!-- 0.1 -->\n      <g transform=\"translate(277.16976 239.238437)scale(0.1 -0.1)\">\n       <use xlink:href=\"#DejaVuSans-30\"/>\n       <use xlink:href=\"#DejaVuSans-2e\" x=\"63.623047\"/>\n       <use xlink:href=\"#DejaVuSans-31\" x=\"95.410156\"/>\n      </g>\n     </g>\n    </g>\n    <g id=\"xtick_6\">\n     <g id=\"line2d_6\">\n      <g>\n       <use xlink:href=\"#me335dc853b\" x=\"342.868373\" y=\"224.64\" style=\"stroke: #000000; stroke-width: 0.8\"/>\n      </g>\n     </g>\n     <g id=\"text_6\">\n      <!-- 0.2 -->\n      <g transform=\"translate(334.916811 239.238437)scale(0.1 -0.1)\">\n       <use xlink:href=\"#DejaVuSans-30\"/>\n       <use xlink:href=\"#DejaVuSans-2e\" x=\"63.623047\"/>\n       <use xlink:href=\"#DejaVuSans-32\" x=\"95.410156\"/>\n      </g>\n     </g>\n    </g>\n   </g>\n   <g id=\"matplotlib.axis_2\">\n    <g id=\"ytick_1\">\n     <g id=\"line2d_7\">\n      <defs>\n       <path id=\"m2bd9816a98\" d=\"M 0 0 \nL -3.5 0 \n\" style=\"stroke: #000000; stroke-width: 0.8\"/>\n      </defs>\n      <g>\n       <use xlink:href=\"#m2bd9816a98\" x=\"26.925\" y=\"224.64\" style=\"stroke: #000000; stroke-width: 0.8\"/>\n      </g>\n     </g>\n     <g id=\"text_7\">\n      <!-- 0 -->\n      <g transform=\"translate(13.5625 228.439219)scale(0.1 -0.1)\">\n       <use xlink:href=\"#DejaVuSans-30\"/>\n      </g>\n     </g>\n    </g>\n    <g id=\"ytick_2\">\n     <g id=\"line2d_8\">\n      <g>\n       <use xlink:href=\"#m2bd9816a98\" x=\"26.925\" y=\"199.859515\" style=\"stroke: #000000; stroke-width: 0.8\"/>\n      </g>\n     </g>\n     <g id=\"text_8\">\n      <!-- 2 -->\n      <g transform=\"translate(13.5625 203.658733)scale(0.1 -0.1)\">\n       <use xlink:href=\"#DejaVuSans-32\"/>\n      </g>\n     </g>\n    </g>\n    <g id=\"ytick_3\">\n     <g id=\"line2d_9\">\n      <g>\n       <use xlink:href=\"#m2bd9816a98\" x=\"26.925\" y=\"175.079029\" style=\"stroke: #000000; stroke-width: 0.8\"/>\n      </g>\n     </g>\n     <g id=\"text_9\">\n      <!-- 4 -->\n      <g transform=\"translate(13.5625 178.878248)scale(0.1 -0.1)\">\n       <defs>\n        <path id=\"DejaVuSans-34\" d=\"M 2419 4116 \nL 825 1625 \nL 2419 1625 \nL 2419 4116 \nz\nM 2253 4666 \nL 3047 4666 \nL 3047 1625 \nL 3713 1625 \nL 3713 1100 \nL 3047 1100 \nL 3047 0 \nL 2419 0 \nL 2419 1100 \nL 313 1100 \nL 313 1709 \nL 2253 4666 \nz\n\" transform=\"scale(0.015625)\"/>\n       </defs>\n       <use xlink:href=\"#DejaVuSans-34\"/>\n      </g>\n     </g>\n    </g>\n    <g id=\"ytick_4\">\n     <g id=\"line2d_10\">\n      <g>\n       <use xlink:href=\"#m2bd9816a98\" x=\"26.925\" y=\"150.298544\" style=\"stroke: #000000; stroke-width: 0.8\"/>\n      </g>\n     </g>\n     <g id=\"text_10\">\n      <!-- 6 -->\n      <g transform=\"translate(13.5625 154.097762)scale(0.1 -0.1)\">\n       <defs>\n        <path id=\"DejaVuSans-36\" d=\"M 2113 2584 \nQ 1688 2584 1439 2293 \nQ 1191 2003 1191 1497 \nQ 1191 994 1439 701 \nQ 1688 409 2113 409 \nQ 2538 409 2786 701 \nQ 3034 994 3034 1497 \nQ 3034 2003 2786 2293 \nQ 2538 2584 2113 2584 \nz\nM 3366 4563 \nL 3366 3988 \nQ 3128 4100 2886 4159 \nQ 2644 4219 2406 4219 \nQ 1781 4219 1451 3797 \nQ 1122 3375 1075 2522 \nQ 1259 2794 1537 2939 \nQ 1816 3084 2150 3084 \nQ 2853 3084 3261 2657 \nQ 3669 2231 3669 1497 \nQ 3669 778 3244 343 \nQ 2819 -91 2113 -91 \nQ 1303 -91 875 529 \nQ 447 1150 447 2328 \nQ 447 3434 972 4092 \nQ 1497 4750 2381 4750 \nQ 2619 4750 2861 4703 \nQ 3103 4656 3366 4563 \nz\n\" transform=\"scale(0.015625)\"/>\n       </defs>\n       <use xlink:href=\"#DejaVuSans-36\"/>\n      </g>\n     </g>\n    </g>\n    <g id=\"ytick_5\">\n     <g id=\"line2d_11\">\n      <g>\n       <use xlink:href=\"#m2bd9816a98\" x=\"26.925\" y=\"125.518058\" style=\"stroke: #000000; stroke-width: 0.8\"/>\n      </g>\n     </g>\n     <g id=\"text_11\">\n      <!-- 8 -->\n      <g transform=\"translate(13.5625 129.317277)scale(0.1 -0.1)\">\n       <defs>\n        <path id=\"DejaVuSans-38\" d=\"M 2034 2216 \nQ 1584 2216 1326 1975 \nQ 1069 1734 1069 1313 \nQ 1069 891 1326 650 \nQ 1584 409 2034 409 \nQ 2484 409 2743 651 \nQ 3003 894 3003 1313 \nQ 3003 1734 2745 1975 \nQ 2488 2216 2034 2216 \nz\nM 1403 2484 \nQ 997 2584 770 2862 \nQ 544 3141 544 3541 \nQ 544 4100 942 4425 \nQ 1341 4750 2034 4750 \nQ 2731 4750 3128 4425 \nQ 3525 4100 3525 3541 \nQ 3525 3141 3298 2862 \nQ 3072 2584 2669 2484 \nQ 3125 2378 3379 2068 \nQ 3634 1759 3634 1313 \nQ 3634 634 3220 271 \nQ 2806 -91 2034 -91 \nQ 1263 -91 848 271 \nQ 434 634 434 1313 \nQ 434 1759 690 2068 \nQ 947 2378 1403 2484 \nz\nM 1172 3481 \nQ 1172 3119 1398 2916 \nQ 1625 2713 2034 2713 \nQ 2441 2713 2670 2916 \nQ 2900 3119 2900 3481 \nQ 2900 3844 2670 4047 \nQ 2441 4250 2034 4250 \nQ 1625 4250 1398 4047 \nQ 1172 3844 1172 3481 \nz\n\" transform=\"scale(0.015625)\"/>\n       </defs>\n       <use xlink:href=\"#DejaVuSans-38\"/>\n      </g>\n     </g>\n    </g>\n    <g id=\"ytick_6\">\n     <g id=\"line2d_12\">\n      <g>\n       <use xlink:href=\"#m2bd9816a98\" x=\"26.925\" y=\"100.737573\" style=\"stroke: #000000; stroke-width: 0.8\"/>\n      </g>\n     </g>\n     <g id=\"text_12\">\n      <!-- 10 -->\n      <g transform=\"translate(7.2 104.536792)scale(0.1 -0.1)\">\n       <use xlink:href=\"#DejaVuSans-31\"/>\n       <use xlink:href=\"#DejaVuSans-30\" x=\"63.623047\"/>\n      </g>\n     </g>\n    </g>\n    <g id=\"ytick_7\">\n     <g id=\"line2d_13\">\n      <g>\n       <use xlink:href=\"#m2bd9816a98\" x=\"26.925\" y=\"75.957087\" style=\"stroke: #000000; stroke-width: 0.8\"/>\n      </g>\n     </g>\n     <g id=\"text_13\">\n      <!-- 12 -->\n      <g transform=\"translate(7.2 79.756306)scale(0.1 -0.1)\">\n       <use xlink:href=\"#DejaVuSans-31\"/>\n       <use xlink:href=\"#DejaVuSans-32\" x=\"63.623047\"/>\n      </g>\n     </g>\n    </g>\n    <g id=\"ytick_8\">\n     <g id=\"line2d_14\">\n      <g>\n       <use xlink:href=\"#m2bd9816a98\" x=\"26.925\" y=\"51.176602\" style=\"stroke: #000000; stroke-width: 0.8\"/>\n      </g>\n     </g>\n     <g id=\"text_14\">\n      <!-- 14 -->\n      <g transform=\"translate(7.2 54.975821)scale(0.1 -0.1)\">\n       <use xlink:href=\"#DejaVuSans-31\"/>\n       <use xlink:href=\"#DejaVuSans-34\" x=\"63.623047\"/>\n      </g>\n     </g>\n    </g>\n    <g id=\"ytick_9\">\n     <g id=\"line2d_15\">\n      <g>\n       <use xlink:href=\"#m2bd9816a98\" x=\"26.925\" y=\"26.396117\" style=\"stroke: #000000; stroke-width: 0.8\"/>\n      </g>\n     </g>\n     <g id=\"text_15\">\n      <!-- 16 -->\n      <g transform=\"translate(7.2 30.195335)scale(0.1 -0.1)\">\n       <use xlink:href=\"#DejaVuSans-31\"/>\n       <use xlink:href=\"#DejaVuSans-36\" x=\"63.623047\"/>\n      </g>\n     </g>\n    </g>\n   </g>\n   <g id=\"patch_4\">\n    <path d=\"M 26.925 224.64 \nL 26.925 7.2 \n\" style=\"fill: none; stroke: #000000; stroke-width: 0.8; stroke-linejoin: miter; stroke-linecap: square\"/>\n   </g>\n   <g id=\"patch_5\">\n    <path d=\"M 361.725 224.64 \nL 361.725 7.2 \n\" style=\"fill: none; stroke: #000000; stroke-width: 0.8; stroke-linejoin: miter; stroke-linecap: square\"/>\n   </g>\n   <g id=\"patch_6\">\n    <path d=\"M 26.925 224.64 \nL 361.725 224.64 \n\" style=\"fill: none; stroke: #000000; stroke-width: 0.8; stroke-linejoin: miter; stroke-linecap: square\"/>\n   </g>\n   <g id=\"patch_7\">\n    <path d=\"M 26.925 7.2 \nL 361.725 7.2 \n\" style=\"fill: none; stroke: #000000; stroke-width: 0.8; stroke-linejoin: miter; stroke-linecap: square\"/>\n   </g>\n  </g>\n </g>\n <defs>\n  <clipPath id=\"pc7c5ab20a9\">\n   <rect x=\"26.925\" y=\"7.2\" width=\"334.8\" height=\"217.44\"/>\n  </clipPath>\n </defs>\n</svg>\n",
      "text/plain": [
       "<Figure size 432x288 with 1 Axes>"
      ]
     },
     "metadata": {
      "needs_background": "light"
     },
     "output_type": "display_data"
    }
   ],
   "source": [
    "x = data_all['growth_rate']\n",
    "y = np.histogram(data_all['growth_rate'])\n",
    "print(x)\n",
    "print(y)\n",
    "\n",
    "plt.hist(data_all['growth_rate'], bins=100, density=True, alpha=0.5, histtype='stepfilled' )"
   ]
  },
  {
   "cell_type": "code",
   "execution_count": null,
   "id": "867eeda2",
   "metadata": {},
   "outputs": [],
   "source": [
    "from scipy.stats import norm\n",
    "\n",
    "# Group growth_rate into seven groups according to the central limit theorem\n",
    "mu, std = norm.fit(data_all['growth_rate'])\n",
    "conditions = [\n",
    "    (data_all['growth_rate'] < -mu-3*std),\n",
    "    (data_all['growth_rate'] >= -mu-3*std) & (data_all['growth_rate'] < -mu-2*std),\n",
    "    (data_all['growth_rate'] >= -mu-2*std) & (data_all['growth_rate'] < -mu-std),\n",
    "    (data_all['growth_rate'] >= -mu-std) & (data_all['growth_rate'] < mu+std),\n",
    "    (data_all['growth_rate'] >= mu+std) & (data_all['growth_rate'] < mu+2*std),\n",
    "    (data_all['growth_rate'] >= mu+2*std) & (data_all['growth_rate'] < mu+3*std),\n",
    "    (data_all['growth_rate'] >= mu+3*std)\n",
    "]\n",
    "\n",
    "values = [7, 6, 5, 4, 3, 2, 1]\n",
    "\n",
    "data_all['growth_rate_normgroup'] = np.select(conditions, values)"
   ]
  },
  {
   "cell_type": "code",
   "execution_count": null,
   "id": "d0d8d0ec",
   "metadata": {},
   "outputs": [],
   "source": [
    "# Group growth_rate into seven groups according to min and max\n",
    "min, max = data_all['growth_rate'].min(), data_all['growth_rate'].max()\n",
    "conditions = [\n",
    "    (data_all['growth_rate'] < min+1/7*(max-min)),\n",
    "    (data_all['growth_rate'] >= min+1/7*(max-min)) & (data_all['growth_rate'] < min+2/7*(max-min)),\n",
    "    (data_all['growth_rate'] >= min+2/7*(max-min)) & (data_all['growth_rate'] < min+3/7*(max-min)),\n",
    "    (data_all['growth_rate'] >= min+3/7*(max-min)) & (data_all['growth_rate'] < min+4/7*(max-min)),\n",
    "    (data_all['growth_rate'] >= min+4/7*(max-min)) & (data_all['growth_rate'] < min+5/7*(max-min)),\n",
    "    (data_all['growth_rate'] >= min+5/7*(max-min)) & (data_all['growth_rate'] < min+6/7*(max-min)),\n",
    "    (data_all['growth_rate'] >= min+6/7*(max-min))\n",
    "]\n",
    "    \n",
    "values = [7, 6, 5, 4, 3, 2, 1]\n",
    "\n",
    "data_all['growth_rate_avggrp'] = np.select(conditions, values)"
   ]
  },
  {
   "cell_type": "code",
   "execution_count": 66,
   "id": "81f479e2",
   "metadata": {},
   "outputs": [],
   "source": [
    "# Save dataset to CSV file for AutoGluon\n",
    "data_all.to_csv(r'data_AutoGluon.csv', index = False)"
   ]
  },
  {
   "cell_type": "code",
   "execution_count": null,
   "id": "6dacddc1",
   "metadata": {},
   "outputs": [],
   "source": [
    "import numpy as np\n",
    "from scipy.stats import norm\n",
    "import matplotlib.pyplot as plt\n",
    "\n",
    "# Generate some data_all for this\n",
    "# demonstration.\n",
    "dta = data_all['growth_rate']\n",
    "\n",
    "# Fit a normal distribution to\n",
    "# the data_all:\n",
    "# mean and standard deviation\n",
    "mu, std = norm.fit(dta)\n",
    "\n",
    "# Plot the histogram.\n",
    "plt.hist(dta, bins=100, density=True, alpha=0.6)\n",
    "\n",
    "# Plot the PDF.\n",
    "xmin, xmax = plt.xlim()\n",
    "x = np.linspace(xmin, xmax, 100)\n",
    "p = norm.pdf(x, mu, std)\n",
    "\n",
    "plt.plot(x, p, 'k', linewidth=2)\n",
    "# title = \"Fit Values: {:.2f} and {:.2f}\".format(mu, std)\n",
    "# plt.title(title)\n",
    "\n",
    "plt.show()\n"
   ]
  },
  {
   "cell_type": "code",
   "execution_count": null,
   "id": "3110dce5",
   "metadata": {},
   "outputs": [],
   "source": [
    "# group growth_rate in desc\n",
    "sorted_data = data.sort_values(\"growth_rate\", ascending=False)"
   ]
  },
  {
   "cell_type": "code",
   "execution_count": null,
   "id": "d42fd3a3",
   "metadata": {},
   "outputs": [],
   "source": [
    "# Group leaders into seven groups each group with approximately same leaders, the rest is placed in the last group\n",
    "groups = range(1,8)\n",
    "data['growth_rate_avggrp'] = np.concatenate(\n",
    "                [np.repeat(groups,int(len(data)/7)), \n",
    "                 np.repeat([7],int(len(data)%7))])"
   ]
  },
  {
   "cell_type": "code",
   "execution_count": null,
   "id": "0aed2c5b",
   "metadata": {},
   "outputs": [],
   "source": [
    "ax = sns.histplot(data['growth_rate_avggrp'])"
   ]
  },
  {
   "cell_type": "code",
   "execution_count": null,
   "id": "456d5d11",
   "metadata": {},
   "outputs": [],
   "source": [
    "ax = sns.histplot(data['age'])"
   ]
  },
  {
   "cell_type": "code",
   "execution_count": null,
   "id": "6886b4c2",
   "metadata": {},
   "outputs": [],
   "source": [
    "ax = sns.histplot(data['tenure'])"
   ]
  },
  {
   "cell_type": "code",
   "execution_count": null,
   "id": "4f5f29b5",
   "metadata": {},
   "outputs": [],
   "source": [
    "ax = sns.histplot(data_com3['gender'])"
   ]
  },
  {
   "cell_type": "code",
   "execution_count": null,
   "id": "670edc8e",
   "metadata": {},
   "outputs": [],
   "source": [
    "ax = sns.histplot(data['normal_tenure'])"
   ]
  },
  {
   "cell_type": "code",
   "execution_count": null,
   "id": "2b7428f5",
   "metadata": {
    "scrolled": true
   },
   "outputs": [],
   "source": [
    "#drop growth_rate\n",
    "data.drop(['growth_rate'], axis=1, inplace=True)"
   ]
  },
  {
   "cell_type": "code",
   "execution_count": null,
   "id": "797475b7",
   "metadata": {},
   "outputs": [],
   "source": [
    "#delete growth_rate\n",
    "data.drop([  \n",
    "'growth_rate'\n",
    "], axis=1, inplace=True)"
   ]
  }
 ],
 "metadata": {
  "kernelspec": {
   "display_name": "Python 3 (ipykernel)",
   "language": "python",
   "name": "python3"
  },
  "language_info": {
   "codemirror_mode": {
    "name": "ipython",
    "version": 3
   },
   "file_extension": ".py",
   "mimetype": "text/x-python",
   "name": "python",
   "nbconvert_exporter": "python",
   "pygments_lexer": "ipython3",
   "version": "3.9.7"
  }
 },
 "nbformat": 4,
 "nbformat_minor": 5
}
